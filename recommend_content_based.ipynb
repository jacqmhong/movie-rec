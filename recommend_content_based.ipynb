{
  "nbformat": 4,
  "nbformat_minor": 0,
  "metadata": {
    "colab": {
      "name": "recommend_content-based.ipynb",
      "provenance": [],
      "collapsed_sections": []
    },
    "kernelspec": {
      "display_name": "Python 3",
      "language": "python",
      "name": "python3"
    },
    "language_info": {
      "codemirror_mode": {
        "name": "ipython",
        "version": 3
      },
      "file_extension": ".py",
      "mimetype": "text/x-python",
      "name": "python",
      "nbconvert_exporter": "python",
      "pygments_lexer": "ipython3",
      "version": "3.6.10"
    }
  },
  "cells": [
    {
      "cell_type": "markdown",
      "metadata": {
        "id": "30rk2A07qN7A"
      },
      "source": [
        "# Content-Based Movie Recommendation System: Using Sentence-Transformers\n",
        "* **Content-based recommendation:** Find movies that are similar to those the user has liked in the past.\n",
        "* Using sentence-transformers to find similar movies. The sentences that are going to be transformed into word vectors are the movie descriptions, which were found in an IMDb dataset: https://www.kaggle.com/stefanoleone992/imdb-extensive-dataset"
      ]
    },
    {
      "cell_type": "code",
      "metadata": {
        "colab": {
          "base_uri": "https://localhost:8080/"
        },
        "id": "qs39Nz5FqN6_",
        "outputId": "3dd21c51-bf22-483d-b690-2836a02a95cf"
      },
      "source": [
        "import numpy as np\n",
        "import pandas as pd\n",
        "import matplotlib.pyplot as plt\n",
        "from google.colab import drive\n",
        "drive.mount('/content/gdrive')"
      ],
      "execution_count": null,
      "outputs": [
        {
          "output_type": "stream",
          "text": [
            "Mounted at /content/gdrive\n"
          ],
          "name": "stdout"
        }
      ]
    },
    {
      "cell_type": "markdown",
      "metadata": {
        "id": "g7gSJpsHfSPo"
      },
      "source": [
        "## Netflix Prize Dataset"
      ]
    },
    {
      "cell_type": "code",
      "metadata": {
        "colab": {
          "base_uri": "https://localhost:8080/",
          "height": 204
        },
        "id": "Kvl_w58nbeFn",
        "outputId": "1039520b-f93a-4a55-a437-9f0d2a8c0809"
      },
      "source": [
        "# Netflix Prize dataset ratings file\n",
        "original_ratings = pd.read_csv('gdrive/My Drive/combined_data_1.txt', header=None, names=['userId', 'rating'], usecols=[0,1])\n",
        "original_ratings.head()"
      ],
      "execution_count": null,
      "outputs": [
        {
          "output_type": "execute_result",
          "data": {
            "text/html": [
              "<div>\n",
              "<style scoped>\n",
              "    .dataframe tbody tr th:only-of-type {\n",
              "        vertical-align: middle;\n",
              "    }\n",
              "\n",
              "    .dataframe tbody tr th {\n",
              "        vertical-align: top;\n",
              "    }\n",
              "\n",
              "    .dataframe thead th {\n",
              "        text-align: right;\n",
              "    }\n",
              "</style>\n",
              "<table border=\"1\" class=\"dataframe\">\n",
              "  <thead>\n",
              "    <tr style=\"text-align: right;\">\n",
              "      <th></th>\n",
              "      <th>userId</th>\n",
              "      <th>rating</th>\n",
              "    </tr>\n",
              "  </thead>\n",
              "  <tbody>\n",
              "    <tr>\n",
              "      <th>0</th>\n",
              "      <td>1:</td>\n",
              "      <td>NaN</td>\n",
              "    </tr>\n",
              "    <tr>\n",
              "      <th>1</th>\n",
              "      <td>1488844</td>\n",
              "      <td>3.0</td>\n",
              "    </tr>\n",
              "    <tr>\n",
              "      <th>2</th>\n",
              "      <td>822109</td>\n",
              "      <td>5.0</td>\n",
              "    </tr>\n",
              "    <tr>\n",
              "      <th>3</th>\n",
              "      <td>885013</td>\n",
              "      <td>4.0</td>\n",
              "    </tr>\n",
              "    <tr>\n",
              "      <th>4</th>\n",
              "      <td>30878</td>\n",
              "      <td>4.0</td>\n",
              "    </tr>\n",
              "  </tbody>\n",
              "</table>\n",
              "</div>"
            ],
            "text/plain": [
              "    userId  rating\n",
              "0       1:     NaN\n",
              "1  1488844     3.0\n",
              "2   822109     5.0\n",
              "3   885013     4.0\n",
              "4    30878     4.0"
            ]
          },
          "metadata": {
            "tags": []
          },
          "execution_count": 2
        }
      ]
    },
    {
      "cell_type": "code",
      "metadata": {
        "colab": {
          "base_uri": "https://localhost:8080/"
        },
        "id": "uvowaqBoboWU",
        "outputId": "9e7e23cf-372a-49b2-e54a-399dbc907db6"
      },
      "source": [
        "movie_ids = original_ratings[original_ratings['userId'].str.contains(':')][['userId']]\n",
        "movie_ids = movie_ids['userId'].str.replace(\":\", \"\").astype(int)\n",
        "movie_ids"
      ],
      "execution_count": null,
      "outputs": [
        {
          "output_type": "execute_result",
          "data": {
            "text/plain": [
              "0              1\n",
              "548            2\n",
              "694            3\n",
              "2707           4\n",
              "2850           5\n",
              "            ... \n",
              "24046714    4495\n",
              "24047329    4496\n",
              "24056849    4497\n",
              "24057564    4498\n",
              "24057834    4499\n",
              "Name: userId, Length: 4499, dtype: int64"
            ]
          },
          "metadata": {
            "tags": []
          },
          "execution_count": 3
        }
      ]
    },
    {
      "cell_type": "code",
      "metadata": {
        "id": "jTKZaekfbp__"
      },
      "source": [
        "def to_append(before_index, current_index, movie_id):\n",
        "    return np.ones(current_index - before_index) * movie_id\n",
        "\n",
        "# faster with preallocation but simpler approach\n",
        "start_movie_ids = []\n",
        "for i in range(1, len(movie_ids)):\n",
        "    array = to_append(movie_ids.index[i-1], movie_ids.index[i], movie_ids.values[i-1])\n",
        "    start_movie_ids = np.concatenate((start_movie_ids, array), axis=None)\n",
        "\n",
        "# adding last movie id\n",
        "start_movie_ids = np.concatenate((start_movie_ids, np.ones(429) * 4499), axis=None)"
      ],
      "execution_count": null,
      "outputs": []
    },
    {
      "cell_type": "code",
      "metadata": {
        "colab": {
          "base_uri": "https://localhost:8080/",
          "height": 204
        },
        "id": "EDP2Mp6Yb-5P",
        "outputId": "1e964ade-0716-4f15-9083-6c1e72385ee9"
      },
      "source": [
        "original_ratings['movieId'] = start_movie_ids\n",
        "original_ratings = original_ratings[['userId', 'movieId', 'rating']]\n",
        "original_ratings.head()"
      ],
      "execution_count": null,
      "outputs": [
        {
          "output_type": "execute_result",
          "data": {
            "text/html": [
              "<div>\n",
              "<style scoped>\n",
              "    .dataframe tbody tr th:only-of-type {\n",
              "        vertical-align: middle;\n",
              "    }\n",
              "\n",
              "    .dataframe tbody tr th {\n",
              "        vertical-align: top;\n",
              "    }\n",
              "\n",
              "    .dataframe thead th {\n",
              "        text-align: right;\n",
              "    }\n",
              "</style>\n",
              "<table border=\"1\" class=\"dataframe\">\n",
              "  <thead>\n",
              "    <tr style=\"text-align: right;\">\n",
              "      <th></th>\n",
              "      <th>userId</th>\n",
              "      <th>movieId</th>\n",
              "      <th>rating</th>\n",
              "    </tr>\n",
              "  </thead>\n",
              "  <tbody>\n",
              "    <tr>\n",
              "      <th>0</th>\n",
              "      <td>1:</td>\n",
              "      <td>1.0</td>\n",
              "      <td>NaN</td>\n",
              "    </tr>\n",
              "    <tr>\n",
              "      <th>1</th>\n",
              "      <td>1488844</td>\n",
              "      <td>1.0</td>\n",
              "      <td>3.0</td>\n",
              "    </tr>\n",
              "    <tr>\n",
              "      <th>2</th>\n",
              "      <td>822109</td>\n",
              "      <td>1.0</td>\n",
              "      <td>5.0</td>\n",
              "    </tr>\n",
              "    <tr>\n",
              "      <th>3</th>\n",
              "      <td>885013</td>\n",
              "      <td>1.0</td>\n",
              "      <td>4.0</td>\n",
              "    </tr>\n",
              "    <tr>\n",
              "      <th>4</th>\n",
              "      <td>30878</td>\n",
              "      <td>1.0</td>\n",
              "      <td>4.0</td>\n",
              "    </tr>\n",
              "  </tbody>\n",
              "</table>\n",
              "</div>"
            ],
            "text/plain": [
              "    userId  movieId  rating\n",
              "0       1:      1.0     NaN\n",
              "1  1488844      1.0     3.0\n",
              "2   822109      1.0     5.0\n",
              "3   885013      1.0     4.0\n",
              "4    30878      1.0     4.0"
            ]
          },
          "metadata": {
            "tags": []
          },
          "execution_count": 6
        }
      ]
    },
    {
      "cell_type": "code",
      "metadata": {
        "colab": {
          "base_uri": "https://localhost:8080/"
        },
        "id": "JbtXZOZ6cBQx",
        "outputId": "c74f10b4-822e-4654-ecb5-e48f3fe42f20"
      },
      "source": [
        "for col in original_ratings.columns:\n",
        "    print(col, \"NA values:\", sum(original_ratings[col].isna()))"
      ],
      "execution_count": null,
      "outputs": [
        {
          "output_type": "stream",
          "text": [
            "userId NA values: 0\n",
            "movieId NA values: 0\n",
            "rating NA values: 4499\n"
          ],
          "name": "stdout"
        }
      ]
    },
    {
      "cell_type": "markdown",
      "metadata": {
        "id": "-TtJl3pTcENs"
      },
      "source": [
        "* There are 4499 movie ids incorrectly within the userId column. Movie ids do not have ratings and so the rating of those rows should be NA. Otherwise, there are no null values. The final dataframe will be completed after dropping where 'rating' is NA, aka the rows where the userId column contains a movieId."
      ]
    },
    {
      "cell_type": "code",
      "metadata": {
        "colab": {
          "base_uri": "https://localhost:8080/",
          "height": 408
        },
        "id": "UepWG7XKcOKV",
        "outputId": "0c009e53-d8e2-4729-f9e9-0951e6d01f5a"
      },
      "source": [
        "# Final dataframe\n",
        "ratings = original_ratings.dropna()\n",
        "ratings['movieId'] = ratings['movieId'].apply(round) # movieIds showed as floats, rounding for cleanliness\n",
        "ratings['userId'] = ratings['userId'].astype(int) # Now that the movieIds (\"1:\") are gone, can make userId nums into ints\n",
        "ratings.head()"
      ],
      "execution_count": null,
      "outputs": [
        {
          "output_type": "stream",
          "text": [
            "/usr/local/lib/python3.6/dist-packages/ipykernel_launcher.py:3: SettingWithCopyWarning: \n",
            "A value is trying to be set on a copy of a slice from a DataFrame.\n",
            "Try using .loc[row_indexer,col_indexer] = value instead\n",
            "\n",
            "See the caveats in the documentation: https://pandas.pydata.org/pandas-docs/stable/user_guide/indexing.html#returning-a-view-versus-a-copy\n",
            "  This is separate from the ipykernel package so we can avoid doing imports until\n",
            "/usr/local/lib/python3.6/dist-packages/ipykernel_launcher.py:4: SettingWithCopyWarning: \n",
            "A value is trying to be set on a copy of a slice from a DataFrame.\n",
            "Try using .loc[row_indexer,col_indexer] = value instead\n",
            "\n",
            "See the caveats in the documentation: https://pandas.pydata.org/pandas-docs/stable/user_guide/indexing.html#returning-a-view-versus-a-copy\n",
            "  after removing the cwd from sys.path.\n"
          ],
          "name": "stderr"
        },
        {
          "output_type": "execute_result",
          "data": {
            "text/html": [
              "<div>\n",
              "<style scoped>\n",
              "    .dataframe tbody tr th:only-of-type {\n",
              "        vertical-align: middle;\n",
              "    }\n",
              "\n",
              "    .dataframe tbody tr th {\n",
              "        vertical-align: top;\n",
              "    }\n",
              "\n",
              "    .dataframe thead th {\n",
              "        text-align: right;\n",
              "    }\n",
              "</style>\n",
              "<table border=\"1\" class=\"dataframe\">\n",
              "  <thead>\n",
              "    <tr style=\"text-align: right;\">\n",
              "      <th></th>\n",
              "      <th>userId</th>\n",
              "      <th>movieId</th>\n",
              "      <th>rating</th>\n",
              "    </tr>\n",
              "  </thead>\n",
              "  <tbody>\n",
              "    <tr>\n",
              "      <th>1</th>\n",
              "      <td>1488844</td>\n",
              "      <td>1</td>\n",
              "      <td>3.0</td>\n",
              "    </tr>\n",
              "    <tr>\n",
              "      <th>2</th>\n",
              "      <td>822109</td>\n",
              "      <td>1</td>\n",
              "      <td>5.0</td>\n",
              "    </tr>\n",
              "    <tr>\n",
              "      <th>3</th>\n",
              "      <td>885013</td>\n",
              "      <td>1</td>\n",
              "      <td>4.0</td>\n",
              "    </tr>\n",
              "    <tr>\n",
              "      <th>4</th>\n",
              "      <td>30878</td>\n",
              "      <td>1</td>\n",
              "      <td>4.0</td>\n",
              "    </tr>\n",
              "    <tr>\n",
              "      <th>5</th>\n",
              "      <td>823519</td>\n",
              "      <td>1</td>\n",
              "      <td>3.0</td>\n",
              "    </tr>\n",
              "  </tbody>\n",
              "</table>\n",
              "</div>"
            ],
            "text/plain": [
              "    userId  movieId  rating\n",
              "1  1488844        1     3.0\n",
              "2   822109        1     5.0\n",
              "3   885013        1     4.0\n",
              "4    30878        1     4.0\n",
              "5   823519        1     3.0"
            ]
          },
          "metadata": {
            "tags": []
          },
          "execution_count": 8
        }
      ]
    },
    {
      "cell_type": "code",
      "metadata": {
        "colab": {
          "base_uri": "https://localhost:8080/"
        },
        "id": "hGNK-_AEcpIE",
        "outputId": "b6e79c8c-d909-43a8-aa3d-934d83d1f7c0"
      },
      "source": [
        "print(\"Num movies:\", len(np.unique(ratings['movieId'])))\n",
        "print(\"Num users:\", len(np.unique(ratings['userId'])))\n",
        "print(\"Num ratings:\", ratings.shape[0])"
      ],
      "execution_count": null,
      "outputs": [
        {
          "output_type": "stream",
          "text": [
            "Num movies: 4499\n",
            "Num users: 470758\n",
            "Num ratings: 24053764\n"
          ],
          "name": "stdout"
        }
      ]
    },
    {
      "cell_type": "code",
      "metadata": {
        "colab": {
          "base_uri": "https://localhost:8080/",
          "height": 204
        },
        "id": "MMhPGP7dqN7C",
        "outputId": "ac18f34c-127d-4ae0-df13-7d65f11b0814"
      },
      "source": [
        "# Netfix Prize dataset movies file\n",
        "movies = pd.read_csv('gdrive/My Drive/movie_titles.csv', encoding='latin1')[['movieId', 'year', 'title']]\n",
        "movies.head()"
      ],
      "execution_count": null,
      "outputs": [
        {
          "output_type": "execute_result",
          "data": {
            "text/html": [
              "<div>\n",
              "<style scoped>\n",
              "    .dataframe tbody tr th:only-of-type {\n",
              "        vertical-align: middle;\n",
              "    }\n",
              "\n",
              "    .dataframe tbody tr th {\n",
              "        vertical-align: top;\n",
              "    }\n",
              "\n",
              "    .dataframe thead th {\n",
              "        text-align: right;\n",
              "    }\n",
              "</style>\n",
              "<table border=\"1\" class=\"dataframe\">\n",
              "  <thead>\n",
              "    <tr style=\"text-align: right;\">\n",
              "      <th></th>\n",
              "      <th>movieId</th>\n",
              "      <th>year</th>\n",
              "      <th>title</th>\n",
              "    </tr>\n",
              "  </thead>\n",
              "  <tbody>\n",
              "    <tr>\n",
              "      <th>0</th>\n",
              "      <td>1</td>\n",
              "      <td>2003.0</td>\n",
              "      <td>Dinosaur Planet</td>\n",
              "    </tr>\n",
              "    <tr>\n",
              "      <th>1</th>\n",
              "      <td>2</td>\n",
              "      <td>2004.0</td>\n",
              "      <td>Isle of Man TT 2004 Review</td>\n",
              "    </tr>\n",
              "    <tr>\n",
              "      <th>2</th>\n",
              "      <td>3</td>\n",
              "      <td>1997.0</td>\n",
              "      <td>Character</td>\n",
              "    </tr>\n",
              "    <tr>\n",
              "      <th>3</th>\n",
              "      <td>4</td>\n",
              "      <td>1994.0</td>\n",
              "      <td>Paula Abdul's Get Up &amp; Dance</td>\n",
              "    </tr>\n",
              "    <tr>\n",
              "      <th>4</th>\n",
              "      <td>5</td>\n",
              "      <td>2004.0</td>\n",
              "      <td>The Rise and Fall of ECW</td>\n",
              "    </tr>\n",
              "  </tbody>\n",
              "</table>\n",
              "</div>"
            ],
            "text/plain": [
              "   movieId    year                         title\n",
              "0        1  2003.0               Dinosaur Planet\n",
              "1        2  2004.0    Isle of Man TT 2004 Review\n",
              "2        3  1997.0                     Character\n",
              "3        4  1994.0  Paula Abdul's Get Up & Dance\n",
              "4        5  2004.0      The Rise and Fall of ECW"
            ]
          },
          "metadata": {
            "tags": []
          },
          "execution_count": 9
        }
      ]
    },
    {
      "cell_type": "markdown",
      "metadata": {
        "id": "rO4r71v0c183"
      },
      "source": [
        "## Dataset Cleaning\n",
        "* The same cleaning was done in the user-based recommender. Moving that cleaning here."
      ]
    },
    {
      "cell_type": "markdown",
      "metadata": {
        "id": "ykm9Qu9CdR-A"
      },
      "source": [
        "Unpopular movies will be removed to reduce dimensionality, take up less RAM, and improve computation (since they hold the same weight as popular movies in the matrix)."
      ]
    },
    {
      "cell_type": "code",
      "metadata": {
        "colab": {
          "base_uri": "https://localhost:8080/"
        },
        "id": "v8wiujyrc1b0",
        "outputId": "33ab442f-3985-4dcc-ed1f-a74bca4853f9"
      },
      "source": [
        "# Getting the top 30% most rated movies\n",
        "movie_size = ratings.groupby('movieId').size()\n",
        "row_num = len(movie_size) * .70\n",
        "min_size = movie_size.sort_values()[round(row_num):].values.item(0)\n",
        "most_rated_movies = movie_size[movie_size > min_size].index\n",
        "\n",
        "# Removing 70% of the amount of movies, not 70% of ratings (those that were rated the least)\n",
        "low_rates_removed = ratings.copy()\n",
        "low_rates_removed = low_rates_removed[low_rates_removed['movieId'].isin(most_rated_movies)]\n",
        "low_rates_removed.shape"
      ],
      "execution_count": null,
      "outputs": [
        {
          "output_type": "execute_result",
          "data": {
            "text/plain": [
              "(22626287, 3)"
            ]
          },
          "metadata": {
            "tags": []
          },
          "execution_count": 12
        }
      ]
    },
    {
      "cell_type": "markdown",
      "metadata": {
        "id": "oP2KXaDrdmn6"
      },
      "source": [
        "In addition, inactive users will be removed for the same reasons as there are still about 22.6 million rows. Inactive users will be defined by the amount of times they have rated movies."
      ]
    },
    {
      "cell_type": "code",
      "metadata": {
        "colab": {
          "base_uri": "https://localhost:8080/"
        },
        "id": "-yKnMHYudnbT",
        "outputId": "88f7a2df-2a5d-4c31-d3d7-352a57ba6b1e"
      },
      "source": [
        "# Getting the top 30% most active users\n",
        "user_size = ratings.groupby('userId').size()\n",
        "row_num = len(user_size) * .70\n",
        "min_size = user_size.sort_values()[round(row_num):].values.item(0)\n",
        "most_active_users = user_size[user_size > min_size].index\n",
        "\n",
        "# Removing 70% of users due to inactivity\n",
        "inactive_users_removed = ratings.copy()\n",
        "inactive_users_removed = inactive_users_removed[inactive_users_removed['userId'].isin(most_active_users)]\n",
        "\n",
        "# Renaming for clarity\n",
        "cleaned_ratings = inactive_users_removed.copy()\n",
        "cleaned_ratings.shape"
      ],
      "execution_count": null,
      "outputs": [
        {
          "output_type": "execute_result",
          "data": {
            "text/plain": [
              "(18335431, 3)"
            ]
          },
          "metadata": {
            "tags": []
          },
          "execution_count": 13
        }
      ]
    },
    {
      "cell_type": "markdown",
      "metadata": {
        "id": "8Wq0UYUAdvRr"
      },
      "source": [
        "* When removing the least active 70% of users, 4.3 million ratings have been removed, leaving the dataframe at 18.3 million ratings."
      ]
    },
    {
      "cell_type": "code",
      "metadata": {
        "colab": {
          "base_uri": "https://localhost:8080/",
          "height": 204
        },
        "id": "jR7xSljRf0oH",
        "outputId": "56024124-a0c3-4ee9-c6b2-703c33ee1da9"
      },
      "source": [
        "rates_with_titles = cleaned_ratings.merge(movies, left_on='movieId', right_on='movieId')\n",
        "rates_with_titles.head()"
      ],
      "execution_count": null,
      "outputs": [
        {
          "output_type": "execute_result",
          "data": {
            "text/html": [
              "<div>\n",
              "<style scoped>\n",
              "    .dataframe tbody tr th:only-of-type {\n",
              "        vertical-align: middle;\n",
              "    }\n",
              "\n",
              "    .dataframe tbody tr th {\n",
              "        vertical-align: top;\n",
              "    }\n",
              "\n",
              "    .dataframe thead th {\n",
              "        text-align: right;\n",
              "    }\n",
              "</style>\n",
              "<table border=\"1\" class=\"dataframe\">\n",
              "  <thead>\n",
              "    <tr style=\"text-align: right;\">\n",
              "      <th></th>\n",
              "      <th>userId</th>\n",
              "      <th>movieId</th>\n",
              "      <th>rating</th>\n",
              "      <th>year</th>\n",
              "      <th>title</th>\n",
              "    </tr>\n",
              "  </thead>\n",
              "  <tbody>\n",
              "    <tr>\n",
              "      <th>0</th>\n",
              "      <td>1488844</td>\n",
              "      <td>1</td>\n",
              "      <td>3.0</td>\n",
              "      <td>2003.0</td>\n",
              "      <td>Dinosaur Planet</td>\n",
              "    </tr>\n",
              "    <tr>\n",
              "      <th>1</th>\n",
              "      <td>885013</td>\n",
              "      <td>1</td>\n",
              "      <td>4.0</td>\n",
              "      <td>2003.0</td>\n",
              "      <td>Dinosaur Planet</td>\n",
              "    </tr>\n",
              "    <tr>\n",
              "      <th>2</th>\n",
              "      <td>30878</td>\n",
              "      <td>1</td>\n",
              "      <td>4.0</td>\n",
              "      <td>2003.0</td>\n",
              "      <td>Dinosaur Planet</td>\n",
              "    </tr>\n",
              "    <tr>\n",
              "      <th>3</th>\n",
              "      <td>823519</td>\n",
              "      <td>1</td>\n",
              "      <td>3.0</td>\n",
              "      <td>2003.0</td>\n",
              "      <td>Dinosaur Planet</td>\n",
              "    </tr>\n",
              "    <tr>\n",
              "      <th>4</th>\n",
              "      <td>893988</td>\n",
              "      <td>1</td>\n",
              "      <td>3.0</td>\n",
              "      <td>2003.0</td>\n",
              "      <td>Dinosaur Planet</td>\n",
              "    </tr>\n",
              "  </tbody>\n",
              "</table>\n",
              "</div>"
            ],
            "text/plain": [
              "    userId  movieId  rating    year            title\n",
              "0  1488844        1     3.0  2003.0  Dinosaur Planet\n",
              "1   885013        1     4.0  2003.0  Dinosaur Planet\n",
              "2    30878        1     4.0  2003.0  Dinosaur Planet\n",
              "3   823519        1     3.0  2003.0  Dinosaur Planet\n",
              "4   893988        1     3.0  2003.0  Dinosaur Planet"
            ]
          },
          "metadata": {
            "tags": []
          },
          "execution_count": 26
        }
      ]
    },
    {
      "cell_type": "markdown",
      "metadata": {
        "id": "vVVwxRPmqN7D"
      },
      "source": [
        "## Incorporating IMDb Movie Descriptions"
      ]
    },
    {
      "cell_type": "code",
      "metadata": {
        "id": "KbEmxqD4qN7D",
        "colab": {
          "base_uri": "https://localhost:8080/",
          "height": 258
        },
        "outputId": "d9217593-d1eb-4ca9-f15a-d44016e8203b"
      },
      "source": [
        "imdb = pd.read_csv('gdrive/My Drive/imdb_movies.csv')\n",
        "imdb = imdb[['title', 'original_title', 'year', 'genre', 'description']]\n",
        "imdb.head()"
      ],
      "execution_count": null,
      "outputs": [
        {
          "output_type": "stream",
          "text": [
            "/usr/local/lib/python3.6/dist-packages/IPython/core/interactiveshell.py:2718: DtypeWarning: Columns (3) have mixed types.Specify dtype option on import or set low_memory=False.\n",
            "  interactivity=interactivity, compiler=compiler, result=result)\n"
          ],
          "name": "stderr"
        },
        {
          "output_type": "execute_result",
          "data": {
            "text/html": [
              "<div>\n",
              "<style scoped>\n",
              "    .dataframe tbody tr th:only-of-type {\n",
              "        vertical-align: middle;\n",
              "    }\n",
              "\n",
              "    .dataframe tbody tr th {\n",
              "        vertical-align: top;\n",
              "    }\n",
              "\n",
              "    .dataframe thead th {\n",
              "        text-align: right;\n",
              "    }\n",
              "</style>\n",
              "<table border=\"1\" class=\"dataframe\">\n",
              "  <thead>\n",
              "    <tr style=\"text-align: right;\">\n",
              "      <th></th>\n",
              "      <th>title</th>\n",
              "      <th>original_title</th>\n",
              "      <th>year</th>\n",
              "      <th>genre</th>\n",
              "      <th>description</th>\n",
              "    </tr>\n",
              "  </thead>\n",
              "  <tbody>\n",
              "    <tr>\n",
              "      <th>0</th>\n",
              "      <td>Miss Jerry</td>\n",
              "      <td>Miss Jerry</td>\n",
              "      <td>1894</td>\n",
              "      <td>Romance</td>\n",
              "      <td>The adventures of a female reporter in the 1890s.</td>\n",
              "    </tr>\n",
              "    <tr>\n",
              "      <th>1</th>\n",
              "      <td>The Story of the Kelly Gang</td>\n",
              "      <td>The Story of the Kelly Gang</td>\n",
              "      <td>1906</td>\n",
              "      <td>Biography, Crime, Drama</td>\n",
              "      <td>True story of notorious Australian outlaw Ned ...</td>\n",
              "    </tr>\n",
              "    <tr>\n",
              "      <th>2</th>\n",
              "      <td>Den sorte drøm</td>\n",
              "      <td>Den sorte drøm</td>\n",
              "      <td>1911</td>\n",
              "      <td>Drama</td>\n",
              "      <td>Two men of high rank are both wooing the beaut...</td>\n",
              "    </tr>\n",
              "    <tr>\n",
              "      <th>3</th>\n",
              "      <td>Cleopatra</td>\n",
              "      <td>Cleopatra</td>\n",
              "      <td>1912</td>\n",
              "      <td>Drama, History</td>\n",
              "      <td>The fabled queen of Egypt's affair with Roman ...</td>\n",
              "    </tr>\n",
              "    <tr>\n",
              "      <th>4</th>\n",
              "      <td>L'Inferno</td>\n",
              "      <td>L'Inferno</td>\n",
              "      <td>1911</td>\n",
              "      <td>Adventure, Drama, Fantasy</td>\n",
              "      <td>Loosely adapted from Dante's Divine Comedy and...</td>\n",
              "    </tr>\n",
              "  </tbody>\n",
              "</table>\n",
              "</div>"
            ],
            "text/plain": [
              "                         title  ...                                        description\n",
              "0                   Miss Jerry  ...  The adventures of a female reporter in the 1890s.\n",
              "1  The Story of the Kelly Gang  ...  True story of notorious Australian outlaw Ned ...\n",
              "2               Den sorte drøm  ...  Two men of high rank are both wooing the beaut...\n",
              "3                    Cleopatra  ...  The fabled queen of Egypt's affair with Roman ...\n",
              "4                    L'Inferno  ...  Loosely adapted from Dante's Divine Comedy and...\n",
              "\n",
              "[5 rows x 5 columns]"
            ]
          },
          "metadata": {
            "tags": []
          },
          "execution_count": 18
        }
      ]
    },
    {
      "cell_type": "code",
      "metadata": {
        "id": "otyxeJ3qqN7D",
        "colab": {
          "base_uri": "https://localhost:8080/"
        },
        "outputId": "534f5271-caf2-456a-84c9-b4bb5997f429"
      },
      "source": [
        "imdb.shape"
      ],
      "execution_count": null,
      "outputs": [
        {
          "output_type": "execute_result",
          "data": {
            "text/plain": [
              "(85855, 5)"
            ]
          },
          "metadata": {
            "tags": []
          },
          "execution_count": 19
        }
      ]
    },
    {
      "cell_type": "code",
      "metadata": {
        "id": "OhMovYyTqN7D",
        "colab": {
          "base_uri": "https://localhost:8080/"
        },
        "outputId": "52df8eb7-2a2e-4a00-bbc6-adec1f080267"
      },
      "source": [
        "sum(~(imdb['title'] == imdb['original_title']))"
      ],
      "execution_count": null,
      "outputs": [
        {
          "output_type": "execute_result",
          "data": {
            "text/plain": [
              "23372"
            ]
          },
          "metadata": {
            "tags": []
          },
          "execution_count": 20
        }
      ]
    },
    {
      "cell_type": "markdown",
      "metadata": {
        "id": "Xm_YmrBnqN7D"
      },
      "source": [
        "* Use 'title' or 'original_title'? There are 23,372 movies where the title and original title do not match out of 85,855 movies."
      ]
    },
    {
      "cell_type": "code",
      "metadata": {
        "id": "qOBeBzMTqN7D",
        "colab": {
          "base_uri": "https://localhost:8080/"
        },
        "outputId": "60607206-07d2-4ac4-8c3b-8f914daea75c"
      },
      "source": [
        "len(movies['title'].values), len(imdb['title'].values)"
      ],
      "execution_count": null,
      "outputs": [
        {
          "output_type": "execute_result",
          "data": {
            "text/plain": [
              "(17770, 85855)"
            ]
          },
          "metadata": {
            "tags": []
          },
          "execution_count": 21
        }
      ]
    },
    {
      "cell_type": "code",
      "metadata": {
        "colab": {
          "base_uri": "https://localhost:8080/"
        },
        "id": "omq2EcVYgBnE",
        "outputId": "7a44ca19-4dce-4ca6-da99-b45eeb6d8904"
      },
      "source": [
        "len(np.unique(rates_with_titles['title'].values)), len(imdb['title'].values)"
      ],
      "execution_count": null,
      "outputs": [
        {
          "output_type": "execute_result",
          "data": {
            "text/plain": [
              "(4471, 85855)"
            ]
          },
          "metadata": {
            "tags": []
          },
          "execution_count": 28
        }
      ]
    },
    {
      "cell_type": "markdown",
      "metadata": {
        "id": "4jQHHlXPfYTZ"
      },
      "source": [
        "* There are 4471 different movies in the cleaned Netflix dataset and 85,855 in the IMDb dataset."
      ]
    },
    {
      "cell_type": "code",
      "metadata": {
        "id": "vUEGvlEkqN7D",
        "colab": {
          "base_uri": "https://localhost:8080/"
        },
        "outputId": "d9a5a466-b10c-48da-8cb7-a33d8fea49d2"
      },
      "source": [
        "# Number of overlapping titles between cleaned Netflix and IMDb using column 'title'\n",
        "count = 0\n",
        "for movie in np.unique(rates_with_titles['title'].values):\n",
        "    if movie in imdb['title'].values:\n",
        "        count += 1\n",
        "count"
      ],
      "execution_count": null,
      "outputs": [
        {
          "output_type": "execute_result",
          "data": {
            "text/plain": [
              "906"
            ]
          },
          "metadata": {
            "tags": []
          },
          "execution_count": 33
        }
      ]
    },
    {
      "cell_type": "code",
      "metadata": {
        "id": "uV7bO0QsqN7D",
        "colab": {
          "base_uri": "https://localhost:8080/"
        },
        "outputId": "e0d2fc88-0e1a-4032-d851-e8cae614d64b"
      },
      "source": [
        "# Number of overlapping titles between cleaned Netflix and IMDb using column 'original_title'\n",
        "count = 0\n",
        "for movie in np.unique(rates_with_titles['title'].values):\n",
        "    if movie in imdb['original_title'].values:\n",
        "        count += 1\n",
        "count"
      ],
      "execution_count": null,
      "outputs": [
        {
          "output_type": "execute_result",
          "data": {
            "text/plain": [
              "1943"
            ]
          },
          "metadata": {
            "tags": []
          },
          "execution_count": 34
        }
      ]
    },
    {
      "cell_type": "markdown",
      "metadata": {
        "id": "aHArNDD4gpTy"
      },
      "source": [
        "Since there is a fairly small count of overlapping movies when using the cleaned dataset and because the Surprise library is not being used anymore (no need for more RAM), the original dataset will be used."
      ]
    },
    {
      "cell_type": "code",
      "metadata": {
        "colab": {
          "base_uri": "https://localhost:8080/"
        },
        "id": "nMeynLaQhBVO",
        "outputId": "c31d637e-d230-4897-86ca-faec53ffa1e4"
      },
      "source": [
        "len(movies['title'].values), len(imdb['title'].values)"
      ],
      "execution_count": null,
      "outputs": [
        {
          "output_type": "execute_result",
          "data": {
            "text/plain": [
              "(17770, 85855)"
            ]
          },
          "metadata": {
            "tags": []
          },
          "execution_count": 31
        }
      ]
    },
    {
      "cell_type": "markdown",
      "metadata": {
        "id": "XJwQK7_hhGSJ"
      },
      "source": [
        "* There are 17,770 different movies in the cleaned Netflix dataset and 85,855 in the IMDb dataset."
      ]
    },
    {
      "cell_type": "code",
      "metadata": {
        "colab": {
          "base_uri": "https://localhost:8080/"
        },
        "id": "CukV0-djhLXq",
        "outputId": "9368d501-8b3e-4af1-af41-ab15477ae8e9"
      },
      "source": [
        "# Number of overlapping titles between Netflix and IMDb using column 'title'\n",
        "count = 0\n",
        "for movie in movies['title'].values:\n",
        "    if movie in imdb['title'].values:\n",
        "        count += 1\n",
        "count"
      ],
      "execution_count": null,
      "outputs": [
        {
          "output_type": "execute_result",
          "data": {
            "text/plain": [
              "3745"
            ]
          },
          "metadata": {
            "tags": []
          },
          "execution_count": 35
        }
      ]
    },
    {
      "cell_type": "code",
      "metadata": {
        "colab": {
          "base_uri": "https://localhost:8080/"
        },
        "id": "8grO11TehLXq",
        "outputId": "b31674fc-2d4b-4266-cbaf-930eabf22c20"
      },
      "source": [
        "# Number of overlapping titles between Netflix and IMDb using column 'original_title'\n",
        "count = 0\n",
        "for movie in movies['title'].values:\n",
        "    if movie in imdb['original_title'].values:\n",
        "        count += 1\n",
        "count"
      ],
      "execution_count": null,
      "outputs": [
        {
          "output_type": "execute_result",
          "data": {
            "text/plain": [
              "7787"
            ]
          },
          "metadata": {
            "tags": []
          },
          "execution_count": 36
        }
      ]
    },
    {
      "cell_type": "markdown",
      "metadata": {
        "id": "G6dL2cpbqN7D"
      },
      "source": [
        "* It looks like Netflix uses the original titles of movies as there are more overlapping titles with 'original_title'. 'original_title' will be used."
      ]
    },
    {
      "cell_type": "code",
      "metadata": {
        "id": "Wzg4pEmjqN7D",
        "colab": {
          "base_uri": "https://localhost:8080/",
          "height": 204
        },
        "outputId": "995b1f03-dee5-480e-b75c-cc5d713974cd"
      },
      "source": [
        "imdb_subset = imdb[['original_title', 'year', 'genre', 'description']]\n",
        "imdb_subset.head()"
      ],
      "execution_count": null,
      "outputs": [
        {
          "output_type": "execute_result",
          "data": {
            "text/html": [
              "<div>\n",
              "<style scoped>\n",
              "    .dataframe tbody tr th:only-of-type {\n",
              "        vertical-align: middle;\n",
              "    }\n",
              "\n",
              "    .dataframe tbody tr th {\n",
              "        vertical-align: top;\n",
              "    }\n",
              "\n",
              "    .dataframe thead th {\n",
              "        text-align: right;\n",
              "    }\n",
              "</style>\n",
              "<table border=\"1\" class=\"dataframe\">\n",
              "  <thead>\n",
              "    <tr style=\"text-align: right;\">\n",
              "      <th></th>\n",
              "      <th>original_title</th>\n",
              "      <th>year</th>\n",
              "      <th>genre</th>\n",
              "      <th>description</th>\n",
              "    </tr>\n",
              "  </thead>\n",
              "  <tbody>\n",
              "    <tr>\n",
              "      <th>0</th>\n",
              "      <td>Miss Jerry</td>\n",
              "      <td>1894</td>\n",
              "      <td>Romance</td>\n",
              "      <td>The adventures of a female reporter in the 1890s.</td>\n",
              "    </tr>\n",
              "    <tr>\n",
              "      <th>1</th>\n",
              "      <td>The Story of the Kelly Gang</td>\n",
              "      <td>1906</td>\n",
              "      <td>Biography, Crime, Drama</td>\n",
              "      <td>True story of notorious Australian outlaw Ned ...</td>\n",
              "    </tr>\n",
              "    <tr>\n",
              "      <th>2</th>\n",
              "      <td>Den sorte drøm</td>\n",
              "      <td>1911</td>\n",
              "      <td>Drama</td>\n",
              "      <td>Two men of high rank are both wooing the beaut...</td>\n",
              "    </tr>\n",
              "    <tr>\n",
              "      <th>3</th>\n",
              "      <td>Cleopatra</td>\n",
              "      <td>1912</td>\n",
              "      <td>Drama, History</td>\n",
              "      <td>The fabled queen of Egypt's affair with Roman ...</td>\n",
              "    </tr>\n",
              "    <tr>\n",
              "      <th>4</th>\n",
              "      <td>L'Inferno</td>\n",
              "      <td>1911</td>\n",
              "      <td>Adventure, Drama, Fantasy</td>\n",
              "      <td>Loosely adapted from Dante's Divine Comedy and...</td>\n",
              "    </tr>\n",
              "  </tbody>\n",
              "</table>\n",
              "</div>"
            ],
            "text/plain": [
              "                original_title  ...                                        description\n",
              "0                   Miss Jerry  ...  The adventures of a female reporter in the 1890s.\n",
              "1  The Story of the Kelly Gang  ...  True story of notorious Australian outlaw Ned ...\n",
              "2               Den sorte drøm  ...  Two men of high rank are both wooing the beaut...\n",
              "3                    Cleopatra  ...  The fabled queen of Egypt's affair with Roman ...\n",
              "4                    L'Inferno  ...  Loosely adapted from Dante's Divine Comedy and...\n",
              "\n",
              "[5 rows x 4 columns]"
            ]
          },
          "metadata": {
            "tags": []
          },
          "execution_count": 37
        }
      ]
    },
    {
      "cell_type": "code",
      "metadata": {
        "id": "rXus3lE6qN7D",
        "colab": {
          "base_uri": "https://localhost:8080/",
          "height": 204
        },
        "outputId": "710af487-39fb-4a51-edbf-369d1e284ce0"
      },
      "source": [
        "movies_descrip = movies.merge(imdb_subset, left_on='title', right_on='original_title')\n",
        "movies_descrip.head()"
      ],
      "execution_count": null,
      "outputs": [
        {
          "output_type": "execute_result",
          "data": {
            "text/html": [
              "<div>\n",
              "<style scoped>\n",
              "    .dataframe tbody tr th:only-of-type {\n",
              "        vertical-align: middle;\n",
              "    }\n",
              "\n",
              "    .dataframe tbody tr th {\n",
              "        vertical-align: top;\n",
              "    }\n",
              "\n",
              "    .dataframe thead th {\n",
              "        text-align: right;\n",
              "    }\n",
              "</style>\n",
              "<table border=\"1\" class=\"dataframe\">\n",
              "  <thead>\n",
              "    <tr style=\"text-align: right;\">\n",
              "      <th></th>\n",
              "      <th>movieId</th>\n",
              "      <th>year_x</th>\n",
              "      <th>title</th>\n",
              "      <th>original_title</th>\n",
              "      <th>year_y</th>\n",
              "      <th>genre</th>\n",
              "      <th>description</th>\n",
              "    </tr>\n",
              "  </thead>\n",
              "  <tbody>\n",
              "    <tr>\n",
              "      <th>0</th>\n",
              "      <td>6</td>\n",
              "      <td>1997.0</td>\n",
              "      <td>Sick</td>\n",
              "      <td>Sick</td>\n",
              "      <td>2012</td>\n",
              "      <td>Horror, Sci-Fi</td>\n",
              "      <td>Two years into the outbreak, the remaining peo...</td>\n",
              "    </tr>\n",
              "    <tr>\n",
              "      <th>1</th>\n",
              "      <td>10</td>\n",
              "      <td>2001.0</td>\n",
              "      <td>Fighter</td>\n",
              "      <td>Fighter</td>\n",
              "      <td>2007</td>\n",
              "      <td>Action, Drama</td>\n",
              "      <td>Aicha attends Kung Fu at her high school in Co...</td>\n",
              "    </tr>\n",
              "    <tr>\n",
              "      <th>2</th>\n",
              "      <td>10</td>\n",
              "      <td>2001.0</td>\n",
              "      <td>Fighter</td>\n",
              "      <td>Fighter</td>\n",
              "      <td>2019</td>\n",
              "      <td>Action, Drama, Sport</td>\n",
              "      <td>The story is about a MMA fighter - Tomek Janic...</td>\n",
              "    </tr>\n",
              "    <tr>\n",
              "      <th>3</th>\n",
              "      <td>10</td>\n",
              "      <td>2001.0</td>\n",
              "      <td>Fighter</td>\n",
              "      <td>Fighter</td>\n",
              "      <td>2011</td>\n",
              "      <td>Action</td>\n",
              "      <td>Suriya is a college student who lives with his...</td>\n",
              "    </tr>\n",
              "    <tr>\n",
              "      <th>4</th>\n",
              "      <td>12</td>\n",
              "      <td>1947.0</td>\n",
              "      <td>My Favorite Brunette</td>\n",
              "      <td>My Favorite Brunette</td>\n",
              "      <td>1947</td>\n",
              "      <td>Comedy, Crime, Mystery</td>\n",
              "      <td>Shortly before his execution on the death row ...</td>\n",
              "    </tr>\n",
              "  </tbody>\n",
              "</table>\n",
              "</div>"
            ],
            "text/plain": [
              "   movieId  ...                                        description\n",
              "0        6  ...  Two years into the outbreak, the remaining peo...\n",
              "1       10  ...  Aicha attends Kung Fu at her high school in Co...\n",
              "2       10  ...  The story is about a MMA fighter - Tomek Janic...\n",
              "3       10  ...  Suriya is a college student who lives with his...\n",
              "4       12  ...  Shortly before his execution on the death row ...\n",
              "\n",
              "[5 rows x 7 columns]"
            ]
          },
          "metadata": {
            "tags": []
          },
          "execution_count": 38
        }
      ]
    },
    {
      "cell_type": "markdown",
      "metadata": {
        "id": "C1exEkcWqN7D"
      },
      "source": [
        "* There may not truly be 7787 movies in common between the two datasets. This is indicated by the overlapping movie titles that have different publishing years."
      ]
    },
    {
      "cell_type": "code",
      "metadata": {
        "id": "LqHbWRxmqN7D",
        "colab": {
          "base_uri": "https://localhost:8080/",
          "height": 204
        },
        "outputId": "d3d91833-640c-4a03-adb6-4c44bccd2cff"
      },
      "source": [
        "movies_descrip = movies.merge(imdb_subset, left_on=['title', 'year'], right_on=['original_title', 'year']).drop('original_title', axis=1)\n",
        "movies_descrip.head()"
      ],
      "execution_count": null,
      "outputs": [
        {
          "output_type": "execute_result",
          "data": {
            "text/html": [
              "<div>\n",
              "<style scoped>\n",
              "    .dataframe tbody tr th:only-of-type {\n",
              "        vertical-align: middle;\n",
              "    }\n",
              "\n",
              "    .dataframe tbody tr th {\n",
              "        vertical-align: top;\n",
              "    }\n",
              "\n",
              "    .dataframe thead th {\n",
              "        text-align: right;\n",
              "    }\n",
              "</style>\n",
              "<table border=\"1\" class=\"dataframe\">\n",
              "  <thead>\n",
              "    <tr style=\"text-align: right;\">\n",
              "      <th></th>\n",
              "      <th>movieId</th>\n",
              "      <th>year</th>\n",
              "      <th>title</th>\n",
              "      <th>genre</th>\n",
              "      <th>description</th>\n",
              "    </tr>\n",
              "  </thead>\n",
              "  <tbody>\n",
              "    <tr>\n",
              "      <th>0</th>\n",
              "      <td>12</td>\n",
              "      <td>1947</td>\n",
              "      <td>My Favorite Brunette</td>\n",
              "      <td>Comedy, Crime, Mystery</td>\n",
              "      <td>Shortly before his execution on the death row ...</td>\n",
              "    </tr>\n",
              "    <tr>\n",
              "      <th>1</th>\n",
              "      <td>18</td>\n",
              "      <td>1994</td>\n",
              "      <td>Immortal Beloved</td>\n",
              "      <td>Biography, Drama, Music</td>\n",
              "      <td>The life and death of the legendary Ludwig van...</td>\n",
              "    </tr>\n",
              "    <tr>\n",
              "      <th>2</th>\n",
              "      <td>20</td>\n",
              "      <td>1972</td>\n",
              "      <td>Seeta Aur Geeta</td>\n",
              "      <td>Comedy, Drama, Family</td>\n",
              "      <td>Long-suffering heiress Seeta is treated worse ...</td>\n",
              "    </tr>\n",
              "    <tr>\n",
              "      <th>3</th>\n",
              "      <td>22</td>\n",
              "      <td>2000</td>\n",
              "      <td>Chump Change</td>\n",
              "      <td>Comedy, Romance</td>\n",
              "      <td>Rags to riches to rags comedy loosely based on...</td>\n",
              "    </tr>\n",
              "    <tr>\n",
              "      <th>4</th>\n",
              "      <td>24</td>\n",
              "      <td>1981</td>\n",
              "      <td>My Bloody Valentine</td>\n",
              "      <td>Horror, Mystery, Thriller</td>\n",
              "      <td>A decades-old folk tale surrounding a deranged...</td>\n",
              "    </tr>\n",
              "  </tbody>\n",
              "</table>\n",
              "</div>"
            ],
            "text/plain": [
              "   movieId  ...                                        description\n",
              "0       12  ...  Shortly before his execution on the death row ...\n",
              "1       18  ...  The life and death of the legendary Ludwig van...\n",
              "2       20  ...  Long-suffering heiress Seeta is treated worse ...\n",
              "3       22  ...  Rags to riches to rags comedy loosely based on...\n",
              "4       24  ...  A decades-old folk tale surrounding a deranged...\n",
              "\n",
              "[5 rows x 5 columns]"
            ]
          },
          "metadata": {
            "tags": []
          },
          "execution_count": 39
        }
      ]
    },
    {
      "cell_type": "code",
      "metadata": {
        "id": "RhrX90H0qN7E",
        "colab": {
          "base_uri": "https://localhost:8080/"
        },
        "outputId": "c831ece7-7af8-4dc6-b869-a9573c9c6aab"
      },
      "source": [
        "movies_descrip.shape"
      ],
      "execution_count": null,
      "outputs": [
        {
          "output_type": "execute_result",
          "data": {
            "text/plain": [
              "(6199, 5)"
            ]
          },
          "metadata": {
            "tags": []
          },
          "execution_count": 40
        }
      ]
    },
    {
      "cell_type": "markdown",
      "metadata": {
        "id": "CHyXPQNgqN7E"
      },
      "source": [
        "* When accounting for both the movie title and year, there are only 6199 available descriptions."
      ]
    },
    {
      "cell_type": "code",
      "metadata": {
        "id": "sVQ7nNyWqN7E",
        "colab": {
          "base_uri": "https://localhost:8080/"
        },
        "outputId": "346c5f69-72cc-4c7d-8c50-75a3f604366c"
      },
      "source": [
        "movies.shape"
      ],
      "execution_count": null,
      "outputs": [
        {
          "output_type": "execute_result",
          "data": {
            "text/plain": [
              "(17770, 3)"
            ]
          },
          "metadata": {
            "tags": []
          },
          "execution_count": 41
        }
      ]
    },
    {
      "cell_type": "markdown",
      "metadata": {
        "id": "wT9-wfXZqN7E"
      },
      "source": [
        "* About 11,600 movies were discarded. That is about 65% of the available movies. 65% is less than the amount of movies discarded during the dataset cleaning, which was intentionally 70%. Also, the least popular movies were probably discarded.\n",
        "* In addition, the purpose of this is notebook is to dabble with word vectorization and content-based recommendation. This count should suffice."
      ]
    },
    {
      "cell_type": "code",
      "metadata": {
        "id": "WeQ2nBvcqN7E",
        "colab": {
          "base_uri": "https://localhost:8080/"
        },
        "outputId": "956a82f8-076e-4b28-db16-05dda7ea3eff"
      },
      "source": [
        "for col in movies_descrip.columns:\n",
        "    print(col, sum(movies_descrip[col].isna()))"
      ],
      "execution_count": null,
      "outputs": [
        {
          "output_type": "stream",
          "text": [
            "movieId 0\n",
            "year 0\n",
            "title 0\n",
            "genre 0\n",
            "description 13\n"
          ],
          "name": "stdout"
        }
      ]
    },
    {
      "cell_type": "markdown",
      "metadata": {
        "id": "EBWouFxWqN7E"
      },
      "source": [
        "* There are 13 null descriptions. These will be dropped since this content-based analysis is based on the descriptions."
      ]
    },
    {
      "cell_type": "code",
      "metadata": {
        "id": "HK8JmO2PqN7E",
        "colab": {
          "base_uri": "https://localhost:8080/"
        },
        "outputId": "aadba4b2-79a2-4350-b79e-0f697ae845c8"
      },
      "source": [
        "movies_descrip = movies_descrip.dropna()\n",
        "movies_descrip.shape"
      ],
      "execution_count": null,
      "outputs": [
        {
          "output_type": "execute_result",
          "data": {
            "text/plain": [
              "(6186, 5)"
            ]
          },
          "metadata": {
            "tags": []
          },
          "execution_count": 43
        }
      ]
    },
    {
      "cell_type": "code",
      "metadata": {
        "id": "4HxM1cUyqN7E",
        "colab": {
          "base_uri": "https://localhost:8080/"
        },
        "outputId": "3fabf8c6-8722-4a11-f3e0-04c92f4e99af"
      },
      "source": [
        "# num movies per year\n",
        "year_counts = movies_descrip['year'].value_counts().sort_index()\n",
        "year_counts.head()"
      ],
      "execution_count": null,
      "outputs": [
        {
          "output_type": "execute_result",
          "data": {
            "text/plain": [
              "1914.0    2\n",
              "1915.0    1\n",
              "1919.0    1\n",
              "1920.0    4\n",
              "1921.0    3\n",
              "Name: year, dtype: int64"
            ]
          },
          "metadata": {
            "tags": []
          },
          "execution_count": 44
        }
      ]
    },
    {
      "cell_type": "code",
      "metadata": {
        "id": "wXwy7uIwqN7E",
        "colab": {
          "base_uri": "https://localhost:8080/",
          "height": 295
        },
        "outputId": "412672c3-c0bd-4433-fe18-e546dcef44ed"
      },
      "source": [
        "plt.bar(year_counts.index, year_counts.values)\n",
        "plt.xlabel('year')\n",
        "plt.ylabel('count of movies')\n",
        "plt.title('Number of Movies Recorded per Year');"
      ],
      "execution_count": null,
      "outputs": [
        {
          "output_type": "display_data",
          "data": {
            "image/png": "[encoded data removed]",
            "text/plain": [
              "<Figure size 432x288 with 1 Axes>"
            ]
          },
          "metadata": {
            "tags": [],
            "needs_background": "light"
          }
        }
      ]
    },
    {
      "cell_type": "code",
      "metadata": {
        "id": "3mrpSAzUqN7E",
        "colab": {
          "base_uri": "https://localhost:8080/"
        },
        "outputId": "a026a3f1-bdb1-4906-b3ec-13a26088b812"
      },
      "source": [
        "print(\"Mean description length:\", round(np.mean(movies_descrip['description'].str.len())))"
      ],
      "execution_count": null,
      "outputs": [
        {
          "output_type": "stream",
          "text": [
            "Mean description length: 146\n"
          ],
          "name": "stdout"
        }
      ]
    },
    {
      "cell_type": "code",
      "metadata": {
        "id": "01vddQHXqN7E",
        "colab": {
          "base_uri": "https://localhost:8080/",
          "height": 52
        },
        "outputId": "502a5b9f-68f9-4e0b-a9b7-9e6a2427e5b7"
      },
      "source": [
        "# Example of a description\n",
        "movies_descrip['description'].values.item(0)"
      ],
      "execution_count": null,
      "outputs": [
        {
          "output_type": "execute_result",
          "data": {
            "application/vnd.google.colaboratory.intrinsic+json": {
              "type": "string"
            },
            "text/plain": [
              "'Shortly before his execution on the death row in San Quentin, amateur sleuth and baby photographer Ronnie Jackson, tells reporters how he got there.'"
            ]
          },
          "metadata": {
            "tags": []
          },
          "execution_count": 47
        }
      ]
    },
    {
      "cell_type": "code",
      "metadata": {
        "id": "bDotPqPTqN7E",
        "colab": {
          "base_uri": "https://localhost:8080/",
          "height": 52
        },
        "outputId": "711c7c0b-a918-4c92-c7ad-3a062ad6c968"
      },
      "source": [
        "# A second example of a description\n",
        "movies_descrip['description'].values.item(1)"
      ],
      "execution_count": null,
      "outputs": [
        {
          "output_type": "execute_result",
          "data": {
            "application/vnd.google.colaboratory.intrinsic+json": {
              "type": "string"
            },
            "text/plain": [
              "'The life and death of the legendary Ludwig van Beethoven. Besides all the work he is known for, the composer once wrote a famous love letter to a nameless beloved, and the movie tries to ...'"
            ]
          },
          "metadata": {
            "tags": []
          },
          "execution_count": 48
        }
      ]
    },
    {
      "cell_type": "markdown",
      "metadata": {
        "id": "GvmH9LyCqN7E"
      },
      "source": [
        "* Some descriptions seem to be incomplete."
      ]
    },
    {
      "cell_type": "code",
      "metadata": {
        "id": "0jqdd7y_qN7E",
        "colab": {
          "base_uri": "https://localhost:8080/",
          "height": 52
        },
        "outputId": "69707415-a283-4df9-d45a-4a108fd4cf15"
      },
      "source": [
        "# Another example of an incomplete description\n",
        "movies_descrip[movies_descrip['description'].str.contains(\"\\.\\.\\.\")]['description'].values.item(2)"
      ],
      "execution_count": null,
      "outputs": [
        {
          "output_type": "execute_result",
          "data": {
            "application/vnd.google.colaboratory.intrinsic+json": {
              "type": "string"
            },
            "text/plain": [
              "\"Taken from the life story of Leslie Jordan. A Tennessee country boy realizes he's gay and keeps getting in trouble with the local bad boys. He hears Atlanta is the new place to be, tosses ...\""
            ]
          },
          "metadata": {
            "tags": []
          },
          "execution_count": 49
        }
      ]
    },
    {
      "cell_type": "markdown",
      "metadata": {
        "id": "onIS9SsuqN7E"
      },
      "source": [
        "* Although some are incomplete, they are still very informative and will be kept."
      ]
    },
    {
      "cell_type": "markdown",
      "metadata": {
        "id": "0uX60AU_qN7E"
      },
      "source": [
        "## Sentence-Transformers"
      ]
    },
    {
      "cell_type": "code",
      "metadata": {
        "id": "68DeRxftu4v0",
        "colab": {
          "base_uri": "https://localhost:8080/"
        },
        "outputId": "b2ab16fa-b68a-40f5-9071-99dd3e17da52"
      },
      "source": [
        "!pip install sentence_transformers"
      ],
      "execution_count": null,
      "outputs": [
        {
          "output_type": "stream",
          "text": [
            "Collecting sentence_transformers\n",
            "\u001b[?25l  Downloading https://files.pythonhosted.org/packages/f5/5a/6e41e8383913dd2ba923cdcd02be2e03911595f4d2f9de559ecbed80d2d3/sentence-transformers-0.3.9.tar.gz (64kB)\n",
            "\u001b[K     |████████████████████████████████| 71kB 3.5MB/s \n",
            "\u001b[?25hCollecting transformers<3.6.0,>=3.1.0\n",
            "\u001b[?25l  Downloading https://files.pythonhosted.org/packages/3a/83/e74092e7f24a08d751aa59b37a9fc572b2e4af3918cb66f7766c3affb1b4/transformers-3.5.1-py3-none-any.whl (1.3MB)\n",
            "\u001b[K     |████████████████████████████████| 1.3MB 8.3MB/s \n",
            "\u001b[?25hRequirement already satisfied: tqdm in /usr/local/lib/python3.6/dist-packages (from sentence_transformers) (4.41.1)\n",
            "Requirement already satisfied: torch>=1.6.0 in /usr/local/lib/python3.6/dist-packages (from sentence_transformers) (1.7.0+cu101)\n",
            "Requirement already satisfied: numpy in /usr/local/lib/python3.6/dist-packages (from sentence_transformers) (1.18.5)\n",
            "Requirement already satisfied: scikit-learn in /usr/local/lib/python3.6/dist-packages (from sentence_transformers) (0.22.2.post1)\n",
            "Requirement already satisfied: scipy in /usr/local/lib/python3.6/dist-packages (from sentence_transformers) (1.4.1)\n",
            "Requirement already satisfied: nltk in /usr/local/lib/python3.6/dist-packages (from sentence_transformers) (3.2.5)\n",
            "Collecting tokenizers==0.9.3\n",
            "\u001b[?25l  Downloading https://files.pythonhosted.org/packages/4c/34/b39eb9994bc3c999270b69c9eea40ecc6f0e97991dba28282b9fd32d44ee/tokenizers-0.9.3-cp36-cp36m-manylinux1_x86_64.whl (2.9MB)\n",
            "\u001b[K     |████████████████████████████████| 2.9MB 37.3MB/s \n",
            "\u001b[?25hRequirement already satisfied: regex!=2019.12.17 in /usr/local/lib/python3.6/dist-packages (from transformers<3.6.0,>=3.1.0->sentence_transformers) (2019.12.20)\n",
            "Collecting sentencepiece==0.1.91\n",
            "\u001b[?25l  Downloading https://files.pythonhosted.org/packages/d4/a4/d0a884c4300004a78cca907a6ff9a5e9fe4f090f5d95ab341c53d28cbc58/sentencepiece-0.1.91-cp36-cp36m-manylinux1_x86_64.whl (1.1MB)\n",
            "\u001b[K     |████████████████████████████████| 1.1MB 45.9MB/s \n",
            "\u001b[?25hRequirement already satisfied: packaging in /usr/local/lib/python3.6/dist-packages (from transformers<3.6.0,>=3.1.0->sentence_transformers) (20.4)\n",
            "Requirement already satisfied: protobuf in /usr/local/lib/python3.6/dist-packages (from transformers<3.6.0,>=3.1.0->sentence_transformers) (3.12.4)\n",
            "Requirement already satisfied: dataclasses; python_version < \"3.7\" in /usr/local/lib/python3.6/dist-packages (from transformers<3.6.0,>=3.1.0->sentence_transformers) (0.7)\n",
            "Requirement already satisfied: requests in /usr/local/lib/python3.6/dist-packages (from transformers<3.6.0,>=3.1.0->sentence_transformers) (2.23.0)\n",
            "Requirement already satisfied: filelock in /usr/local/lib/python3.6/dist-packages (from transformers<3.6.0,>=3.1.0->sentence_transformers) (3.0.12)\n",
            "Collecting sacremoses\n",
            "\u001b[?25l  Downloading https://files.pythonhosted.org/packages/7d/34/09d19aff26edcc8eb2a01bed8e98f13a1537005d31e95233fd48216eed10/sacremoses-0.0.43.tar.gz (883kB)\n",
            "\u001b[K     |████████████████████████████████| 890kB 36.5MB/s \n",
            "\u001b[?25hRequirement already satisfied: future in /usr/local/lib/python3.6/dist-packages (from torch>=1.6.0->sentence_transformers) (0.16.0)\n",
            "Requirement already satisfied: typing-extensions in /usr/local/lib/python3.6/dist-packages (from torch>=1.6.0->sentence_transformers) (3.7.4.3)\n",
            "Requirement already satisfied: joblib>=0.11 in /usr/local/lib/python3.6/dist-packages (from scikit-learn->sentence_transformers) (0.17.0)\n",
            "Requirement already satisfied: six in /usr/local/lib/python3.6/dist-packages (from nltk->sentence_transformers) (1.15.0)\n",
            "Requirement already satisfied: pyparsing>=2.0.2 in /usr/local/lib/python3.6/dist-packages (from packaging->transformers<3.6.0,>=3.1.0->sentence_transformers) (2.4.7)\n",
            "Requirement already satisfied: setuptools in /usr/local/lib/python3.6/dist-packages (from protobuf->transformers<3.6.0,>=3.1.0->sentence_transformers) (50.3.2)\n",
            "Requirement already satisfied: certifi>=2017.4.17 in /usr/local/lib/python3.6/dist-packages (from requests->transformers<3.6.0,>=3.1.0->sentence_transformers) (2020.6.20)\n",
            "Requirement already satisfied: idna<3,>=2.5 in /usr/local/lib/python3.6/dist-packages (from requests->transformers<3.6.0,>=3.1.0->sentence_transformers) (2.10)\n",
            "Requirement already satisfied: urllib3!=1.25.0,!=1.25.1,<1.26,>=1.21.1 in /usr/local/lib/python3.6/dist-packages (from requests->transformers<3.6.0,>=3.1.0->sentence_transformers) (1.24.3)\n",
            "Requirement already satisfied: chardet<4,>=3.0.2 in /usr/local/lib/python3.6/dist-packages (from requests->transformers<3.6.0,>=3.1.0->sentence_transformers) (3.0.4)\n",
            "Requirement already satisfied: click in /usr/local/lib/python3.6/dist-packages (from sacremoses->transformers<3.6.0,>=3.1.0->sentence_transformers) (7.1.2)\n",
            "Building wheels for collected packages: sentence-transformers, sacremoses\n",
            "  Building wheel for sentence-transformers (setup.py) ... \u001b[?25l\u001b[?25hdone\n",
            "  Created wheel for sentence-transformers: filename=sentence_transformers-0.3.9-cp36-none-any.whl size=101036 sha256=6c28b9fb10487f781968b80f4080e56348fc42518fb86865ef92f8788a5f304d\n",
            "  Stored in directory: /root/.cache/pip/wheels/fc/89/43/f2f5bc00b03ef9724b0f6254a97eaf159a4c4ddc024b33e07a\n",
            "  Building wheel for sacremoses (setup.py) ... \u001b[?25l\u001b[?25hdone\n",
            "  Created wheel for sacremoses: filename=sacremoses-0.0.43-cp36-none-any.whl size=893257 sha256=68070f48bed105b2206c25a4c955433ece1d2b8100ec69b48014f535140874e5\n",
            "  Stored in directory: /root/.cache/pip/wheels/29/3c/fd/7ce5c3f0666dab31a50123635e6fb5e19ceb42ce38d4e58f45\n",
            "Successfully built sentence-transformers sacremoses\n",
            "Installing collected packages: tokenizers, sentencepiece, sacremoses, transformers, sentence-transformers\n",
            "Successfully installed sacremoses-0.0.43 sentence-transformers-0.3.9 sentencepiece-0.1.91 tokenizers-0.9.3 transformers-3.5.1\n"
          ],
          "name": "stdout"
        }
      ]
    },
    {
      "cell_type": "code",
      "metadata": {
        "id": "bgXqX7pOqN7E",
        "colab": {
          "base_uri": "https://localhost:8080/",
          "height": 204
        },
        "outputId": "5782b380-720a-4ed0-b9d5-f658d0a29bf4"
      },
      "source": [
        "# Adding movie titles to the ratings df (originally only had movieIds)\n",
        "tmp = ratings.merge(movies, left_on='movieId', right_on='movieId')\n",
        "tmp.head()"
      ],
      "execution_count": null,
      "outputs": [
        {
          "output_type": "execute_result",
          "data": {
            "text/html": [
              "<div>\n",
              "<style scoped>\n",
              "    .dataframe tbody tr th:only-of-type {\n",
              "        vertical-align: middle;\n",
              "    }\n",
              "\n",
              "    .dataframe tbody tr th {\n",
              "        vertical-align: top;\n",
              "    }\n",
              "\n",
              "    .dataframe thead th {\n",
              "        text-align: right;\n",
              "    }\n",
              "</style>\n",
              "<table border=\"1\" class=\"dataframe\">\n",
              "  <thead>\n",
              "    <tr style=\"text-align: right;\">\n",
              "      <th></th>\n",
              "      <th>userId</th>\n",
              "      <th>movieId</th>\n",
              "      <th>rating</th>\n",
              "      <th>year</th>\n",
              "      <th>title</th>\n",
              "    </tr>\n",
              "  </thead>\n",
              "  <tbody>\n",
              "    <tr>\n",
              "      <th>0</th>\n",
              "      <td>1488844</td>\n",
              "      <td>1</td>\n",
              "      <td>3.0</td>\n",
              "      <td>2003.0</td>\n",
              "      <td>Dinosaur Planet</td>\n",
              "    </tr>\n",
              "    <tr>\n",
              "      <th>1</th>\n",
              "      <td>822109</td>\n",
              "      <td>1</td>\n",
              "      <td>5.0</td>\n",
              "      <td>2003.0</td>\n",
              "      <td>Dinosaur Planet</td>\n",
              "    </tr>\n",
              "    <tr>\n",
              "      <th>2</th>\n",
              "      <td>885013</td>\n",
              "      <td>1</td>\n",
              "      <td>4.0</td>\n",
              "      <td>2003.0</td>\n",
              "      <td>Dinosaur Planet</td>\n",
              "    </tr>\n",
              "    <tr>\n",
              "      <th>3</th>\n",
              "      <td>30878</td>\n",
              "      <td>1</td>\n",
              "      <td>4.0</td>\n",
              "      <td>2003.0</td>\n",
              "      <td>Dinosaur Planet</td>\n",
              "    </tr>\n",
              "    <tr>\n",
              "      <th>4</th>\n",
              "      <td>823519</td>\n",
              "      <td>1</td>\n",
              "      <td>3.0</td>\n",
              "      <td>2003.0</td>\n",
              "      <td>Dinosaur Planet</td>\n",
              "    </tr>\n",
              "  </tbody>\n",
              "</table>\n",
              "</div>"
            ],
            "text/plain": [
              "    userId  movieId  rating    year            title\n",
              "0  1488844        1     3.0  2003.0  Dinosaur Planet\n",
              "1   822109        1     5.0  2003.0  Dinosaur Planet\n",
              "2   885013        1     4.0  2003.0  Dinosaur Planet\n",
              "3    30878        1     4.0  2003.0  Dinosaur Planet\n",
              "4   823519        1     3.0  2003.0  Dinosaur Planet"
            ]
          },
          "metadata": {
            "tags": []
          },
          "execution_count": 51
        }
      ]
    },
    {
      "cell_type": "code",
      "metadata": {
        "id": "uS6Ar2SuqN7E",
        "colab": {
          "base_uri": "https://localhost:8080/",
          "height": 204
        },
        "outputId": "4781e7d8-78ee-4822-b9fc-ec7b9bb74196"
      },
      "source": [
        "# Adding the movie genres and descriptions to the movies and ratings\n",
        "new_ratings = tmp.merge(imdb, left_on=['title', 'year'], right_on=['original_title', 'year'])\n",
        "new_ratings = new_ratings[['userId', 'movieId', 'original_title', 'year', 'genre', 'description', 'rating']]\n",
        "new_ratings = new_ratings.rename(columns={'original_title': 'title'})\n",
        "new_ratings.head()"
      ],
      "execution_count": null,
      "outputs": [
        {
          "output_type": "execute_result",
          "data": {
            "text/html": [
              "<div>\n",
              "<style scoped>\n",
              "    .dataframe tbody tr th:only-of-type {\n",
              "        vertical-align: middle;\n",
              "    }\n",
              "\n",
              "    .dataframe tbody tr th {\n",
              "        vertical-align: top;\n",
              "    }\n",
              "\n",
              "    .dataframe thead th {\n",
              "        text-align: right;\n",
              "    }\n",
              "</style>\n",
              "<table border=\"1\" class=\"dataframe\">\n",
              "  <thead>\n",
              "    <tr style=\"text-align: right;\">\n",
              "      <th></th>\n",
              "      <th>userId</th>\n",
              "      <th>movieId</th>\n",
              "      <th>title</th>\n",
              "      <th>year</th>\n",
              "      <th>genre</th>\n",
              "      <th>description</th>\n",
              "      <th>rating</th>\n",
              "    </tr>\n",
              "  </thead>\n",
              "  <tbody>\n",
              "    <tr>\n",
              "      <th>0</th>\n",
              "      <td>1109700</td>\n",
              "      <td>12</td>\n",
              "      <td>My Favorite Brunette</td>\n",
              "      <td>1947</td>\n",
              "      <td>Comedy, Crime, Mystery</td>\n",
              "      <td>Shortly before his execution on the death row ...</td>\n",
              "      <td>4.0</td>\n",
              "    </tr>\n",
              "    <tr>\n",
              "      <th>1</th>\n",
              "      <td>1056998</td>\n",
              "      <td>12</td>\n",
              "      <td>My Favorite Brunette</td>\n",
              "      <td>1947</td>\n",
              "      <td>Comedy, Crime, Mystery</td>\n",
              "      <td>Shortly before his execution on the death row ...</td>\n",
              "      <td>5.0</td>\n",
              "    </tr>\n",
              "    <tr>\n",
              "      <th>2</th>\n",
              "      <td>903692</td>\n",
              "      <td>12</td>\n",
              "      <td>My Favorite Brunette</td>\n",
              "      <td>1947</td>\n",
              "      <td>Comedy, Crime, Mystery</td>\n",
              "      <td>Shortly before his execution on the death row ...</td>\n",
              "      <td>3.0</td>\n",
              "    </tr>\n",
              "    <tr>\n",
              "      <th>3</th>\n",
              "      <td>2380973</td>\n",
              "      <td>12</td>\n",
              "      <td>My Favorite Brunette</td>\n",
              "      <td>1947</td>\n",
              "      <td>Comedy, Crime, Mystery</td>\n",
              "      <td>Shortly before his execution on the death row ...</td>\n",
              "      <td>4.0</td>\n",
              "    </tr>\n",
              "    <tr>\n",
              "      <th>4</th>\n",
              "      <td>497196</td>\n",
              "      <td>12</td>\n",
              "      <td>My Favorite Brunette</td>\n",
              "      <td>1947</td>\n",
              "      <td>Comedy, Crime, Mystery</td>\n",
              "      <td>Shortly before his execution on the death row ...</td>\n",
              "      <td>3.0</td>\n",
              "    </tr>\n",
              "  </tbody>\n",
              "</table>\n",
              "</div>"
            ],
            "text/plain": [
              "    userId  movieId  ...                                        description rating\n",
              "0  1109700       12  ...  Shortly before his execution on the death row ...    4.0\n",
              "1  1056998       12  ...  Shortly before his execution on the death row ...    5.0\n",
              "2   903692       12  ...  Shortly before his execution on the death row ...    3.0\n",
              "3  2380973       12  ...  Shortly before his execution on the death row ...    4.0\n",
              "4   497196       12  ...  Shortly before his execution on the death row ...    3.0\n",
              "\n",
              "[5 rows x 7 columns]"
            ]
          },
          "metadata": {
            "tags": []
          },
          "execution_count": 52
        }
      ]
    },
    {
      "cell_type": "code",
      "metadata": {
        "colab": {
          "base_uri": "https://localhost:8080/"
        },
        "id": "ovNRts0Uj9w6",
        "outputId": "597e96b2-a519-4a34-8204-336e5a193c2d"
      },
      "source": [
        "new_ratings.shape"
      ],
      "execution_count": null,
      "outputs": [
        {
          "output_type": "execute_result",
          "data": {
            "text/plain": [
              "(17794962, 7)"
            ]
          },
          "metadata": {
            "tags": []
          },
          "execution_count": 56
        }
      ]
    },
    {
      "cell_type": "markdown",
      "metadata": {
        "id": "0K_LNUqWkBU7"
      },
      "source": [
        "* After incorporating the IMDb dataset, there number of ratings became 17.8 million.\n",
        "* The user-based notebook intentionally reduced the dataset to 18.3 million due to RAM. These are similar numbers."
      ]
    },
    {
      "cell_type": "code",
      "metadata": {
        "colab": {
          "base_uri": "https://localhost:8080/"
        },
        "id": "laJrszWKqN7F",
        "outputId": "a6e8da92-d108-41d0-f29c-d6c273cfe025"
      },
      "source": [
        "# Count of ratings per user\n",
        "new_ratings.groupby('userId').size().sort_values(ascending=False).head()"
      ],
      "execution_count": null,
      "outputs": [
        {
          "output_type": "execute_result",
          "data": {
            "text/plain": [
              "userId\n",
              "305344     1547\n",
              "387418     1545\n",
              "2439493    1479\n",
              "2118461    1451\n",
              "1664010    1440\n",
              "dtype: int64"
            ]
          },
          "metadata": {
            "tags": []
          },
          "execution_count": 57
        }
      ]
    },
    {
      "cell_type": "markdown",
      "metadata": {
        "id": "FX9JvJrnqN7F"
      },
      "source": [
        "* Among the entries that share a common movie with the imdb description dataset, user 305344 has the most ratings, exactly like the user-based recommender. This user will be used as the first example again."
      ]
    },
    {
      "cell_type": "code",
      "metadata": {
        "colab": {
          "base_uri": "https://localhost:8080/",
          "height": 204
        },
        "id": "HaNfBvyBqN7F",
        "outputId": "229437a8-035c-473a-ee97-9feb50d8d7c8"
      },
      "source": [
        "user_305344 = new_ratings[new_ratings['userId']==305344]\n",
        "user_305344.head()"
      ],
      "execution_count": null,
      "outputs": [
        {
          "output_type": "execute_result",
          "data": {
            "text/html": [
              "<div>\n",
              "<style scoped>\n",
              "    .dataframe tbody tr th:only-of-type {\n",
              "        vertical-align: middle;\n",
              "    }\n",
              "\n",
              "    .dataframe tbody tr th {\n",
              "        vertical-align: top;\n",
              "    }\n",
              "\n",
              "    .dataframe thead th {\n",
              "        text-align: right;\n",
              "    }\n",
              "</style>\n",
              "<table border=\"1\" class=\"dataframe\">\n",
              "  <thead>\n",
              "    <tr style=\"text-align: right;\">\n",
              "      <th></th>\n",
              "      <th>userId</th>\n",
              "      <th>movieId</th>\n",
              "      <th>title</th>\n",
              "      <th>year</th>\n",
              "      <th>genre</th>\n",
              "      <th>description</th>\n",
              "      <th>rating</th>\n",
              "    </tr>\n",
              "  </thead>\n",
              "  <tbody>\n",
              "    <tr>\n",
              "      <th>344</th>\n",
              "      <td>305344</td>\n",
              "      <td>12</td>\n",
              "      <td>My Favorite Brunette</td>\n",
              "      <td>1947</td>\n",
              "      <td>Comedy, Crime, Mystery</td>\n",
              "      <td>Shortly before his execution on the death row ...</td>\n",
              "      <td>4.0</td>\n",
              "    </tr>\n",
              "    <tr>\n",
              "      <th>7376</th>\n",
              "      <td>305344</td>\n",
              "      <td>18</td>\n",
              "      <td>Immortal Beloved</td>\n",
              "      <td>1994</td>\n",
              "      <td>Biography, Drama, Music</td>\n",
              "      <td>The life and death of the legendary Ludwig van...</td>\n",
              "      <td>2.0</td>\n",
              "    </tr>\n",
              "    <tr>\n",
              "      <th>11345</th>\n",
              "      <td>305344</td>\n",
              "      <td>20</td>\n",
              "      <td>Seeta Aur Geeta</td>\n",
              "      <td>1972</td>\n",
              "      <td>Comedy, Drama, Family</td>\n",
              "      <td>Long-suffering heiress Seeta is treated worse ...</td>\n",
              "      <td>1.0</td>\n",
              "    </tr>\n",
              "    <tr>\n",
              "      <th>11519</th>\n",
              "      <td>305344</td>\n",
              "      <td>22</td>\n",
              "      <td>Chump Change</td>\n",
              "      <td>2000</td>\n",
              "      <td>Comedy, Romance</td>\n",
              "      <td>Rags to riches to rags comedy loosely based on...</td>\n",
              "      <td>1.0</td>\n",
              "    </tr>\n",
              "    <tr>\n",
              "      <th>12467</th>\n",
              "      <td>305344</td>\n",
              "      <td>24</td>\n",
              "      <td>My Bloody Valentine</td>\n",
              "      <td>1981</td>\n",
              "      <td>Horror, Mystery, Thriller</td>\n",
              "      <td>A decades-old folk tale surrounding a deranged...</td>\n",
              "      <td>1.0</td>\n",
              "    </tr>\n",
              "  </tbody>\n",
              "</table>\n",
              "</div>"
            ],
            "text/plain": [
              "       userId  ...  rating\n",
              "344    305344  ...     4.0\n",
              "7376   305344  ...     2.0\n",
              "11345  305344  ...     1.0\n",
              "11519  305344  ...     1.0\n",
              "12467  305344  ...     1.0\n",
              "\n",
              "[5 rows x 7 columns]"
            ]
          },
          "metadata": {
            "tags": []
          },
          "execution_count": 59
        }
      ]
    },
    {
      "cell_type": "code",
      "metadata": {
        "colab": {
          "base_uri": "https://localhost:8080/"
        },
        "id": "th0vosXTmEDj",
        "outputId": "116b4552-dc0e-48a1-fb5a-65620ef1a5db"
      },
      "source": [
        "new_ratings.groupby('movieId').mean()['rating']"
      ],
      "execution_count": null,
      "outputs": [
        {
          "output_type": "execute_result",
          "data": {
            "text/plain": [
              "movieId\n",
              "12      3.417582\n",
              "18      3.784369\n",
              "20      3.146552\n",
              "22      2.246305\n",
              "24      2.993998\n",
              "          ...   \n",
              "4487    2.203390\n",
              "4488    3.554906\n",
              "4489    3.502849\n",
              "4492    2.643323\n",
              "4497    2.715686\n",
              "Name: rating, Length: 1550, dtype: float64"
            ]
          },
          "metadata": {
            "tags": []
          },
          "execution_count": 65
        }
      ]
    },
    {
      "cell_type": "code",
      "metadata": {
        "colab": {
          "base_uri": "https://localhost:8080/"
        },
        "id": "RKk50dcbqN7F",
        "outputId": "959b4634-d119-488a-aa18-a54a493f8561"
      },
      "source": [
        "# Movies that user 305344 hasn't watched\n",
        "all_movieIds = np.unique(new_ratings['movieId'])\n",
        "avail_movies_305344 = [movieId for movieId in all_movieIds if movieId not in user_305344['movieId'].values]\n",
        "len(avail_movies_305344)"
      ],
      "execution_count": null,
      "outputs": [
        {
          "output_type": "execute_result",
          "data": {
            "text/plain": [
              "6"
            ]
          },
          "metadata": {
            "tags": []
          },
          "execution_count": 68
        }
      ]
    },
    {
      "cell_type": "markdown",
      "metadata": {
        "id": "s9azIngemx3P"
      },
      "source": [
        "* User 305344 has rated 1547 movies out of the 1550 different overlapping movies. There are only 6 movies that the user hasn't watched. The difference in numbers seems to be due to the user re-rating movies. Either way, using this user isn't very telling, so a different, least active user will be observed."
      ]
    },
    {
      "cell_type": "code",
      "metadata": {
        "colab": {
          "base_uri": "https://localhost:8080/"
        },
        "id": "K4sjfMDHomua",
        "outputId": "f863f78d-7ea6-4703-b733-d91a46ddc149"
      },
      "source": [
        "new_ratings.groupby('userId').size().head()"
      ],
      "execution_count": null,
      "outputs": [
        {
          "output_type": "execute_result",
          "data": {
            "text/plain": [
              "userId\n",
              "6     113\n",
              "7     160\n",
              "8      19\n",
              "10     36\n",
              "25      3\n",
              "dtype: int64"
            ]
          },
          "metadata": {
            "tags": []
          },
          "execution_count": 76
        }
      ]
    },
    {
      "cell_type": "markdown",
      "metadata": {
        "id": "0rGpFQa0pNew"
      },
      "source": [
        "User 7 will be used (determined only by looking at the head of the df)."
      ]
    },
    {
      "cell_type": "code",
      "metadata": {
        "colab": {
          "base_uri": "https://localhost:8080/",
          "height": 204
        },
        "id": "gMe72Q-3pgAu",
        "outputId": "d55f0021-2602-42e9-96e9-b7b26fc08b7d"
      },
      "source": [
        "user_7 = new_ratings[new_ratings['userId']==7]\n",
        "user_7.head()"
      ],
      "execution_count": null,
      "outputs": [
        {
          "output_type": "execute_result",
          "data": {
            "text/html": [
              "<div>\n",
              "<style scoped>\n",
              "    .dataframe tbody tr th:only-of-type {\n",
              "        vertical-align: middle;\n",
              "    }\n",
              "\n",
              "    .dataframe tbody tr th {\n",
              "        vertical-align: top;\n",
              "    }\n",
              "\n",
              "    .dataframe thead th {\n",
              "        text-align: right;\n",
              "    }\n",
              "</style>\n",
              "<table border=\"1\" class=\"dataframe\">\n",
              "  <thead>\n",
              "    <tr style=\"text-align: right;\">\n",
              "      <th></th>\n",
              "      <th>userId</th>\n",
              "      <th>movieId</th>\n",
              "      <th>title</th>\n",
              "      <th>year</th>\n",
              "      <th>genre</th>\n",
              "      <th>description</th>\n",
              "      <th>rating</th>\n",
              "    </tr>\n",
              "  </thead>\n",
              "  <tbody>\n",
              "    <tr>\n",
              "      <th>77570</th>\n",
              "      <td>7</td>\n",
              "      <td>30</td>\n",
              "      <td>Something's Gotta Give</td>\n",
              "      <td>2003</td>\n",
              "      <td>Comedy, Drama, Romance</td>\n",
              "      <td>A swinger on the cusp of being a senior citize...</td>\n",
              "      <td>5.0</td>\n",
              "    </tr>\n",
              "    <tr>\n",
              "      <th>180762</th>\n",
              "      <td>7</td>\n",
              "      <td>83</td>\n",
              "      <td>Silkwood</td>\n",
              "      <td>1983</td>\n",
              "      <td>Biography, Drama, History</td>\n",
              "      <td>A worker at a plutonium processing plant is pu...</td>\n",
              "      <td>5.0</td>\n",
              "    </tr>\n",
              "    <tr>\n",
              "      <th>397665</th>\n",
              "      <td>7</td>\n",
              "      <td>175</td>\n",
              "      <td>Reservoir Dogs</td>\n",
              "      <td>1992</td>\n",
              "      <td>Crime, Drama, Thriller</td>\n",
              "      <td>When a simple jewelry heist goes horribly wron...</td>\n",
              "      <td>5.0</td>\n",
              "    </tr>\n",
              "    <tr>\n",
              "      <th>705844</th>\n",
              "      <td>7</td>\n",
              "      <td>257</td>\n",
              "      <td>Charlotte's Web</td>\n",
              "      <td>1973</td>\n",
              "      <td>Animation, Family, Musical</td>\n",
              "      <td>A gentle and wise grey spider with a flair for...</td>\n",
              "      <td>5.0</td>\n",
              "    </tr>\n",
              "    <tr>\n",
              "      <th>763141</th>\n",
              "      <td>7</td>\n",
              "      <td>273</td>\n",
              "      <td>Taxi</td>\n",
              "      <td>2004</td>\n",
              "      <td>Action, Comedy, Crime</td>\n",
              "      <td>A mouthy and feisty taxicab driver has hot tip...</td>\n",
              "      <td>4.0</td>\n",
              "    </tr>\n",
              "  </tbody>\n",
              "</table>\n",
              "</div>"
            ],
            "text/plain": [
              "        userId  ...  rating\n",
              "77570        7  ...     5.0\n",
              "180762       7  ...     5.0\n",
              "397665       7  ...     5.0\n",
              "705844       7  ...     5.0\n",
              "763141       7  ...     4.0\n",
              "\n",
              "[5 rows x 7 columns]"
            ]
          },
          "metadata": {
            "tags": []
          },
          "execution_count": 79
        }
      ]
    },
    {
      "cell_type": "code",
      "metadata": {
        "colab": {
          "base_uri": "https://localhost:8080/"
        },
        "id": "pSgVL9i8po-D",
        "outputId": "57306fd3-7706-48b2-af31-f406648ffbe0"
      },
      "source": [
        "# Movies that user 7 hasn't watched\n",
        "all_movieIds = np.unique(new_ratings['movieId'])\n",
        "avail_movies_7 = [movieId for movieId in all_movieIds if movieId not in user_7['movieId'].values]\n",
        "len(avail_movies_7)"
      ],
      "execution_count": null,
      "outputs": [
        {
          "output_type": "execute_result",
          "data": {
            "text/plain": [
              "1390"
            ]
          },
          "metadata": {
            "tags": []
          },
          "execution_count": 80
        }
      ]
    },
    {
      "cell_type": "code",
      "metadata": {
        "colab": {
          "base_uri": "https://localhost:8080/",
          "height": 204
        },
        "id": "bk2Fvw6DqN7F",
        "outputId": "ecbe4a54-7c7f-46c6-b75e-a820da3da567"
      },
      "source": [
        "# The movies User 7 have highly rated (a rating of 4+)\n",
        "high_rates_7 = user_7[user_7['rating'] >= 4]\n",
        "high_rates_7.head()"
      ],
      "execution_count": null,
      "outputs": [
        {
          "output_type": "execute_result",
          "data": {
            "text/html": [
              "<div>\n",
              "<style scoped>\n",
              "    .dataframe tbody tr th:only-of-type {\n",
              "        vertical-align: middle;\n",
              "    }\n",
              "\n",
              "    .dataframe tbody tr th {\n",
              "        vertical-align: top;\n",
              "    }\n",
              "\n",
              "    .dataframe thead th {\n",
              "        text-align: right;\n",
              "    }\n",
              "</style>\n",
              "<table border=\"1\" class=\"dataframe\">\n",
              "  <thead>\n",
              "    <tr style=\"text-align: right;\">\n",
              "      <th></th>\n",
              "      <th>userId</th>\n",
              "      <th>movieId</th>\n",
              "      <th>title</th>\n",
              "      <th>year</th>\n",
              "      <th>genre</th>\n",
              "      <th>description</th>\n",
              "      <th>rating</th>\n",
              "    </tr>\n",
              "  </thead>\n",
              "  <tbody>\n",
              "    <tr>\n",
              "      <th>77570</th>\n",
              "      <td>7</td>\n",
              "      <td>30</td>\n",
              "      <td>Something's Gotta Give</td>\n",
              "      <td>2003</td>\n",
              "      <td>Comedy, Drama, Romance</td>\n",
              "      <td>A swinger on the cusp of being a senior citize...</td>\n",
              "      <td>5.0</td>\n",
              "    </tr>\n",
              "    <tr>\n",
              "      <th>180762</th>\n",
              "      <td>7</td>\n",
              "      <td>83</td>\n",
              "      <td>Silkwood</td>\n",
              "      <td>1983</td>\n",
              "      <td>Biography, Drama, History</td>\n",
              "      <td>A worker at a plutonium processing plant is pu...</td>\n",
              "      <td>5.0</td>\n",
              "    </tr>\n",
              "    <tr>\n",
              "      <th>397665</th>\n",
              "      <td>7</td>\n",
              "      <td>175</td>\n",
              "      <td>Reservoir Dogs</td>\n",
              "      <td>1992</td>\n",
              "      <td>Crime, Drama, Thriller</td>\n",
              "      <td>When a simple jewelry heist goes horribly wron...</td>\n",
              "      <td>5.0</td>\n",
              "    </tr>\n",
              "    <tr>\n",
              "      <th>705844</th>\n",
              "      <td>7</td>\n",
              "      <td>257</td>\n",
              "      <td>Charlotte's Web</td>\n",
              "      <td>1973</td>\n",
              "      <td>Animation, Family, Musical</td>\n",
              "      <td>A gentle and wise grey spider with a flair for...</td>\n",
              "      <td>5.0</td>\n",
              "    </tr>\n",
              "    <tr>\n",
              "      <th>763141</th>\n",
              "      <td>7</td>\n",
              "      <td>273</td>\n",
              "      <td>Taxi</td>\n",
              "      <td>2004</td>\n",
              "      <td>Action, Comedy, Crime</td>\n",
              "      <td>A mouthy and feisty taxicab driver has hot tip...</td>\n",
              "      <td>4.0</td>\n",
              "    </tr>\n",
              "  </tbody>\n",
              "</table>\n",
              "</div>"
            ],
            "text/plain": [
              "        userId  ...  rating\n",
              "77570        7  ...     5.0\n",
              "180762       7  ...     5.0\n",
              "397665       7  ...     5.0\n",
              "705844       7  ...     5.0\n",
              "763141       7  ...     4.0\n",
              "\n",
              "[5 rows x 7 columns]"
            ]
          },
          "metadata": {
            "tags": []
          },
          "execution_count": 81
        }
      ]
    },
    {
      "cell_type": "markdown",
      "metadata": {
        "id": "cQZ5oP4kv-Y-"
      },
      "source": [
        "## Agglomerative Clustering of Transformed Sentences\n",
        "* Agglomerative clustering will be used to group together descriptions according to proximity in space.\n",
        "* Agglomerative clustering with sentence-transformers can be found here: https://github.com/UKPLab/sentence-transformers/tree/master/examples/applications/clustering"
      ]
    },
    {
      "cell_type": "code",
      "metadata": {
        "id": "Rv5P7bRMqN7G"
      },
      "source": [
        "from sentence_transformers import SentenceTransformer\n",
        "from sklearn.cluster import AgglomerativeClustering\n",
        "\n",
        "embedder = SentenceTransformer('distilroberta-base-paraphrase-v1')\n",
        "\n",
        "# Corpus with unique movie descriptions\n",
        "corpus = list(set(new_ratings['description'].dropna()))\n",
        "corpus_embeddings = embedder.encode(corpus)\n",
        "\n",
        "# Normalize the embeddings to unit length\n",
        "corpus_embeddings = corpus_embeddings / np.linalg.norm(corpus_embeddings, axis=1, keepdims=True)\n",
        "\n",
        "# Perform agglomerative clustering\n",
        "clustering_model = AgglomerativeClustering(n_clusters=None, distance_threshold=1.5)\n",
        "clustering_model.fit(corpus_embeddings)\n",
        "cluster_assignment = clustering_model.labels_\n",
        "\n",
        "clustered_sentences = {}\n",
        "for sentence_id, cluster_id in enumerate(cluster_assignment):\n",
        "    if cluster_id not in clustered_sentences:\n",
        "        clustered_sentences[cluster_id] = []\n",
        "\n",
        "    clustered_sentences[cluster_id].append(corpus[sentence_id])\n",
        "\n",
        "for i, cluster in clustered_sentences.items():\n",
        "    print(\"Cluster \", i+1)\n",
        "    print(cluster)\n",
        "    print(\"\")"
      ],
      "execution_count": null,
      "outputs": []
    },
    {
      "cell_type": "code",
      "metadata": {
        "colab": {
          "base_uri": "https://localhost:8080/"
        },
        "id": "F2Cw3RjuwKUe",
        "outputId": "d94a14cc-1789-4818-81f7-a33f42b8ca43"
      },
      "source": [
        "len(set(new_ratings['description']))"
      ],
      "execution_count": null,
      "outputs": [
        {
          "output_type": "execute_result",
          "data": {
            "text/plain": [
              "1550"
            ]
          },
          "metadata": {
            "tags": []
          },
          "execution_count": 83
        }
      ]
    },
    {
      "cell_type": "code",
      "metadata": {
        "colab": {
          "base_uri": "https://localhost:8080/"
        },
        "id": "l9fZhIZ3Um8W",
        "outputId": "6c015842-0849-41a0-a6af-6ac3ecce3544"
      },
      "source": [
        "len(set(cluster_assignment))"
      ],
      "execution_count": null,
      "outputs": [
        {
          "output_type": "execute_result",
          "data": {
            "text/plain": [
              "212"
            ]
          },
          "metadata": {
            "tags": []
          },
          "execution_count": 84
        }
      ]
    },
    {
      "cell_type": "markdown",
      "metadata": {
        "id": "1AwGtSlZUrBS"
      },
      "source": [
        "* The agglomerative clustering algorithm used a count of 212 different clusters."
      ]
    },
    {
      "cell_type": "code",
      "metadata": {
        "colab": {
          "base_uri": "https://localhost:8080/",
          "height": 204
        },
        "id": "c4T9Tj5HxUzS",
        "outputId": "6bdb6191-cd57-4399-8090-42a32cb5d1c2"
      },
      "source": [
        "# Pairing descriptions with their cluster assignments\n",
        "descriptions = list(set(new_ratings['description'].dropna()))\n",
        "clustered = pd.DataFrame({'description': descriptions, 'cluster': cluster_assignment})\n",
        "clustered.head()"
      ],
      "execution_count": null,
      "outputs": [
        {
          "output_type": "execute_result",
          "data": {
            "text/html": [
              "<div>\n",
              "<style scoped>\n",
              "    .dataframe tbody tr th:only-of-type {\n",
              "        vertical-align: middle;\n",
              "    }\n",
              "\n",
              "    .dataframe tbody tr th {\n",
              "        vertical-align: top;\n",
              "    }\n",
              "\n",
              "    .dataframe thead th {\n",
              "        text-align: right;\n",
              "    }\n",
              "</style>\n",
              "<table border=\"1\" class=\"dataframe\">\n",
              "  <thead>\n",
              "    <tr style=\"text-align: right;\">\n",
              "      <th></th>\n",
              "      <th>description</th>\n",
              "      <th>cluster</th>\n",
              "    </tr>\n",
              "  </thead>\n",
              "  <tbody>\n",
              "    <tr>\n",
              "      <th>0</th>\n",
              "      <td>Spinal Tap, one of England's loudest bands, is...</td>\n",
              "      <td>104</td>\n",
              "    </tr>\n",
              "    <tr>\n",
              "      <th>1</th>\n",
              "      <td>A group of inept amateur superheroes must try ...</td>\n",
              "      <td>201</td>\n",
              "    </tr>\n",
              "    <tr>\n",
              "      <th>2</th>\n",
              "      <td>In 1930s New York City, The Shadow (Alec Baldw...</td>\n",
              "      <td>72</td>\n",
              "    </tr>\n",
              "    <tr>\n",
              "      <th>3</th>\n",
              "      <td>A housewife who is unhappy with her life befri...</td>\n",
              "      <td>13</td>\n",
              "    </tr>\n",
              "    <tr>\n",
              "      <th>4</th>\n",
              "      <td>A handsome Belgian sailor on shore leave in th...</td>\n",
              "      <td>124</td>\n",
              "    </tr>\n",
              "  </tbody>\n",
              "</table>\n",
              "</div>"
            ],
            "text/plain": [
              "                                         description  cluster\n",
              "0  Spinal Tap, one of England's loudest bands, is...      104\n",
              "1  A group of inept amateur superheroes must try ...      201\n",
              "2  In 1930s New York City, The Shadow (Alec Baldw...       72\n",
              "3  A housewife who is unhappy with her life befri...       13\n",
              "4  A handsome Belgian sailor on shore leave in th...      124"
            ]
          },
          "metadata": {
            "tags": []
          },
          "execution_count": 85
        }
      ]
    },
    {
      "cell_type": "markdown",
      "metadata": {
        "id": "mVbgiUaGfSPs"
      },
      "source": [
        "* Because a set was used to get unique descriptions for the clustering algorithm, the labels cannot be simply assigned to the original dataframe. Merging needs to be done."
      ]
    },
    {
      "cell_type": "code",
      "metadata": {
        "colab": {
          "base_uri": "https://localhost:8080/",
          "height": 204
        },
        "id": "01QoG0WPxokr",
        "outputId": "47749f3c-e336-4a65-8336-b517fff3dfd7"
      },
      "source": [
        "clusters = clustered.merge(imdb, left_on='description', right_on='description')[['original_title', 'description', 'genre', 'cluster']]\n",
        "clusters.head()"
      ],
      "execution_count": null,
      "outputs": [
        {
          "output_type": "execute_result",
          "data": {
            "text/html": [
              "<div>\n",
              "<style scoped>\n",
              "    .dataframe tbody tr th:only-of-type {\n",
              "        vertical-align: middle;\n",
              "    }\n",
              "\n",
              "    .dataframe tbody tr th {\n",
              "        vertical-align: top;\n",
              "    }\n",
              "\n",
              "    .dataframe thead th {\n",
              "        text-align: right;\n",
              "    }\n",
              "</style>\n",
              "<table border=\"1\" class=\"dataframe\">\n",
              "  <thead>\n",
              "    <tr style=\"text-align: right;\">\n",
              "      <th></th>\n",
              "      <th>original_title</th>\n",
              "      <th>description</th>\n",
              "      <th>genre</th>\n",
              "      <th>cluster</th>\n",
              "    </tr>\n",
              "  </thead>\n",
              "  <tbody>\n",
              "    <tr>\n",
              "      <th>0</th>\n",
              "      <td>This Is Spinal Tap</td>\n",
              "      <td>Spinal Tap, one of England's loudest bands, is...</td>\n",
              "      <td>Comedy, Music</td>\n",
              "      <td>104</td>\n",
              "    </tr>\n",
              "    <tr>\n",
              "      <th>1</th>\n",
              "      <td>Mystery Men</td>\n",
              "      <td>A group of inept amateur superheroes must try ...</td>\n",
              "      <td>Action, Comedy, Fantasy</td>\n",
              "      <td>201</td>\n",
              "    </tr>\n",
              "    <tr>\n",
              "      <th>2</th>\n",
              "      <td>The Shadow</td>\n",
              "      <td>In 1930s New York City, The Shadow (Alec Baldw...</td>\n",
              "      <td>Action, Adventure, Crime</td>\n",
              "      <td>72</td>\n",
              "    </tr>\n",
              "    <tr>\n",
              "      <th>3</th>\n",
              "      <td>Fried Green Tomatoes</td>\n",
              "      <td>A housewife who is unhappy with her life befri...</td>\n",
              "      <td>Drama</td>\n",
              "      <td>13</td>\n",
              "    </tr>\n",
              "    <tr>\n",
              "      <th>4</th>\n",
              "      <td>Querelle</td>\n",
              "      <td>A handsome Belgian sailor on shore leave in th...</td>\n",
              "      <td>Drama</td>\n",
              "      <td>124</td>\n",
              "    </tr>\n",
              "  </tbody>\n",
              "</table>\n",
              "</div>"
            ],
            "text/plain": [
              "         original_title  ... cluster\n",
              "0    This Is Spinal Tap  ...     104\n",
              "1           Mystery Men  ...     201\n",
              "2            The Shadow  ...      72\n",
              "3  Fried Green Tomatoes  ...      13\n",
              "4              Querelle  ...     124\n",
              "\n",
              "[5 rows x 4 columns]"
            ]
          },
          "metadata": {
            "tags": []
          },
          "execution_count": 86
        }
      ]
    },
    {
      "cell_type": "markdown",
      "metadata": {
        "id": "ND0ysqPPx-PO"
      },
      "source": [
        "Now that we have clusters, see which clusters the movies that the user liked are in."
      ]
    },
    {
      "cell_type": "code",
      "metadata": {
        "colab": {
          "base_uri": "https://localhost:8080/",
          "height": 204
        },
        "id": "H5yyv8dxyv6V",
        "outputId": "4ef50cb6-1d9d-4cdb-ca61-ceb3a56d62e7"
      },
      "source": [
        "# Adding cluster labels to User 7's highly rated movies\n",
        "high_rated_clusters_7 = high_rates_7.merge(clusters, left_on='title', right_on='original_title')[['userId', 'movieId', 'title', 'description_x', 'genre_x', 'rating', 'cluster']]\n",
        "high_rated_clusters_7 = high_rated_clusters_7.rename(columns={'description_x': 'description', 'genre_x': 'genre'})\n",
        "high_rated_clusters_7.head()"
      ],
      "execution_count": null,
      "outputs": [
        {
          "output_type": "execute_result",
          "data": {
            "text/html": [
              "<div>\n",
              "<style scoped>\n",
              "    .dataframe tbody tr th:only-of-type {\n",
              "        vertical-align: middle;\n",
              "    }\n",
              "\n",
              "    .dataframe tbody tr th {\n",
              "        vertical-align: top;\n",
              "    }\n",
              "\n",
              "    .dataframe thead th {\n",
              "        text-align: right;\n",
              "    }\n",
              "</style>\n",
              "<table border=\"1\" class=\"dataframe\">\n",
              "  <thead>\n",
              "    <tr style=\"text-align: right;\">\n",
              "      <th></th>\n",
              "      <th>userId</th>\n",
              "      <th>movieId</th>\n",
              "      <th>title</th>\n",
              "      <th>description</th>\n",
              "      <th>genre</th>\n",
              "      <th>rating</th>\n",
              "      <th>cluster</th>\n",
              "    </tr>\n",
              "  </thead>\n",
              "  <tbody>\n",
              "    <tr>\n",
              "      <th>0</th>\n",
              "      <td>7</td>\n",
              "      <td>30</td>\n",
              "      <td>Something's Gotta Give</td>\n",
              "      <td>A swinger on the cusp of being a senior citize...</td>\n",
              "      <td>Comedy, Drama, Romance</td>\n",
              "      <td>5.0</td>\n",
              "      <td>45</td>\n",
              "    </tr>\n",
              "    <tr>\n",
              "      <th>1</th>\n",
              "      <td>7</td>\n",
              "      <td>83</td>\n",
              "      <td>Silkwood</td>\n",
              "      <td>A worker at a plutonium processing plant is pu...</td>\n",
              "      <td>Biography, Drama, History</td>\n",
              "      <td>5.0</td>\n",
              "      <td>194</td>\n",
              "    </tr>\n",
              "    <tr>\n",
              "      <th>2</th>\n",
              "      <td>7</td>\n",
              "      <td>175</td>\n",
              "      <td>Reservoir Dogs</td>\n",
              "      <td>When a simple jewelry heist goes horribly wron...</td>\n",
              "      <td>Crime, Drama, Thriller</td>\n",
              "      <td>5.0</td>\n",
              "      <td>207</td>\n",
              "    </tr>\n",
              "    <tr>\n",
              "      <th>3</th>\n",
              "      <td>7</td>\n",
              "      <td>257</td>\n",
              "      <td>Charlotte's Web</td>\n",
              "      <td>A gentle and wise grey spider with a flair for...</td>\n",
              "      <td>Animation, Family, Musical</td>\n",
              "      <td>5.0</td>\n",
              "      <td>149</td>\n",
              "    </tr>\n",
              "    <tr>\n",
              "      <th>4</th>\n",
              "      <td>7</td>\n",
              "      <td>273</td>\n",
              "      <td>Taxi</td>\n",
              "      <td>A mouthy and feisty taxicab driver has hot tip...</td>\n",
              "      <td>Action, Comedy, Crime</td>\n",
              "      <td>4.0</td>\n",
              "      <td>19</td>\n",
              "    </tr>\n",
              "  </tbody>\n",
              "</table>\n",
              "</div>"
            ],
            "text/plain": [
              "   userId  movieId  ... rating cluster\n",
              "0       7       30  ...    5.0      45\n",
              "1       7       83  ...    5.0     194\n",
              "2       7      175  ...    5.0     207\n",
              "3       7      257  ...    5.0     149\n",
              "4       7      273  ...    4.0      19\n",
              "\n",
              "[5 rows x 7 columns]"
            ]
          },
          "metadata": {
            "tags": []
          },
          "execution_count": 93
        }
      ]
    },
    {
      "cell_type": "code",
      "metadata": {
        "colab": {
          "base_uri": "https://localhost:8080/"
        },
        "id": "M9ooZuNkyyWq",
        "outputId": "2ea7f2db-0cab-4e0d-c22d-2a6018e0b462"
      },
      "source": [
        "# Clusters with the most highly rated movies by User 8659\n",
        "high_rated_clusters_7.groupby('cluster').size().sort_values(ascending=False).head(5)"
      ],
      "execution_count": null,
      "outputs": [
        {
          "output_type": "execute_result",
          "data": {
            "text/plain": [
              "cluster\n",
              "53     5\n",
              "98     4\n",
              "4      3\n",
              "147    3\n",
              "144    2\n",
              "dtype: int64"
            ]
          },
          "metadata": {
            "tags": []
          },
          "execution_count": 96
        }
      ]
    },
    {
      "cell_type": "code",
      "metadata": {
        "colab": {
          "base_uri": "https://localhost:8080/",
          "height": 204
        },
        "id": "S87VPsD4zZ4y",
        "outputId": "136b2dc1-b309-4f62-dd50-59555336636c"
      },
      "source": [
        "# Looking at the movies within this cluster that the user rated highly\n",
        "user7_favorite_cluster = high_rated_clusters_7[high_rated_clusters_7['cluster']==53]\n",
        "user7_favorite_cluster"
      ],
      "execution_count": null,
      "outputs": [
        {
          "output_type": "execute_result",
          "data": {
            "text/html": [
              "<div>\n",
              "<style scoped>\n",
              "    .dataframe tbody tr th:only-of-type {\n",
              "        vertical-align: middle;\n",
              "    }\n",
              "\n",
              "    .dataframe tbody tr th {\n",
              "        vertical-align: top;\n",
              "    }\n",
              "\n",
              "    .dataframe thead th {\n",
              "        text-align: right;\n",
              "    }\n",
              "</style>\n",
              "<table border=\"1\" class=\"dataframe\">\n",
              "  <thead>\n",
              "    <tr style=\"text-align: right;\">\n",
              "      <th></th>\n",
              "      <th>userId</th>\n",
              "      <th>movieId</th>\n",
              "      <th>title</th>\n",
              "      <th>description</th>\n",
              "      <th>genre</th>\n",
              "      <th>rating</th>\n",
              "      <th>cluster</th>\n",
              "    </tr>\n",
              "  </thead>\n",
              "  <tbody>\n",
              "    <tr>\n",
              "      <th>6</th>\n",
              "      <td>7</td>\n",
              "      <td>299</td>\n",
              "      <td>Bridget Jones's Diary</td>\n",
              "      <td>Bridget Jones is determined to improve herself...</td>\n",
              "      <td>Comedy, Drama, Romance</td>\n",
              "      <td>4.0</td>\n",
              "      <td>53</td>\n",
              "    </tr>\n",
              "    <tr>\n",
              "      <th>22</th>\n",
              "      <td>7</td>\n",
              "      <td>963</td>\n",
              "      <td>A Streetcar Named Desire</td>\n",
              "      <td>Disturbed Blanche DuBois moves in with her sis...</td>\n",
              "      <td>Drama</td>\n",
              "      <td>5.0</td>\n",
              "      <td>53</td>\n",
              "    </tr>\n",
              "    <tr>\n",
              "      <th>31</th>\n",
              "      <td>7</td>\n",
              "      <td>1359</td>\n",
              "      <td>Funny Lady</td>\n",
              "      <td>Story of singer Fanny Brice's stormy relations...</td>\n",
              "      <td>Biography, Comedy, Drama</td>\n",
              "      <td>5.0</td>\n",
              "      <td>53</td>\n",
              "    </tr>\n",
              "    <tr>\n",
              "      <th>58</th>\n",
              "      <td>7</td>\n",
              "      <td>2209</td>\n",
              "      <td>On Golden Pond</td>\n",
              "      <td>Norman is a curmudgeon with an estranged relat...</td>\n",
              "      <td>Drama</td>\n",
              "      <td>5.0</td>\n",
              "      <td>53</td>\n",
              "    </tr>\n",
              "    <tr>\n",
              "      <th>105</th>\n",
              "      <td>7</td>\n",
              "      <td>4157</td>\n",
              "      <td>The Prince of Tides</td>\n",
              "      <td>A troubled man talks to his suicidal sister's ...</td>\n",
              "      <td>Drama, Romance</td>\n",
              "      <td>5.0</td>\n",
              "      <td>53</td>\n",
              "    </tr>\n",
              "  </tbody>\n",
              "</table>\n",
              "</div>"
            ],
            "text/plain": [
              "     userId  movieId  ... rating cluster\n",
              "6         7      299  ...    4.0      53\n",
              "22        7      963  ...    5.0      53\n",
              "31        7     1359  ...    5.0      53\n",
              "58        7     2209  ...    5.0      53\n",
              "105       7     4157  ...    5.0      53\n",
              "\n",
              "[5 rows x 7 columns]"
            ]
          },
          "metadata": {
            "tags": []
          },
          "execution_count": 102
        }
      ]
    },
    {
      "cell_type": "markdown",
      "metadata": {
        "id": "YSRLWvrBr_-v"
      },
      "source": [
        "* There are a lot of movies that the user has rated 5/5 within this cluster, which is a really good sign."
      ]
    },
    {
      "cell_type": "code",
      "metadata": {
        "colab": {
          "base_uri": "https://localhost:8080/",
          "height": 390
        },
        "id": "bxWpJf-F0MDQ",
        "outputId": "a1382e81-2994-4edb-9f45-32b77e9ab4a7"
      },
      "source": [
        "# All the movies of that cluster\n",
        "user7_entire_fav_cluster = clusters[clusters['cluster']==53]\n",
        "user7_entire_fav_cluster"
      ],
      "execution_count": null,
      "outputs": [
        {
          "output_type": "execute_result",
          "data": {
            "text/html": [
              "<div>\n",
              "<style scoped>\n",
              "    .dataframe tbody tr th:only-of-type {\n",
              "        vertical-align: middle;\n",
              "    }\n",
              "\n",
              "    .dataframe tbody tr th {\n",
              "        vertical-align: top;\n",
              "    }\n",
              "\n",
              "    .dataframe thead th {\n",
              "        text-align: right;\n",
              "    }\n",
              "</style>\n",
              "<table border=\"1\" class=\"dataframe\">\n",
              "  <thead>\n",
              "    <tr style=\"text-align: right;\">\n",
              "      <th></th>\n",
              "      <th>original_title</th>\n",
              "      <th>description</th>\n",
              "      <th>genre</th>\n",
              "      <th>cluster</th>\n",
              "    </tr>\n",
              "  </thead>\n",
              "  <tbody>\n",
              "    <tr>\n",
              "      <th>130</th>\n",
              "      <td>On Golden Pond</td>\n",
              "      <td>Norman is a curmudgeon with an estranged relat...</td>\n",
              "      <td>Drama</td>\n",
              "      <td>53</td>\n",
              "    </tr>\n",
              "    <tr>\n",
              "      <th>264</th>\n",
              "      <td>Danny in the Sky</td>\n",
              "      <td>Danny is a romantic young man looking for love...</td>\n",
              "      <td>Drama</td>\n",
              "      <td>53</td>\n",
              "    </tr>\n",
              "    <tr>\n",
              "      <th>278</th>\n",
              "      <td>Marvin's Room</td>\n",
              "      <td>After 20 years caring for her father, a woman ...</td>\n",
              "      <td>Drama</td>\n",
              "      <td>53</td>\n",
              "    </tr>\n",
              "    <tr>\n",
              "      <th>352</th>\n",
              "      <td>A Streetcar Named Desire</td>\n",
              "      <td>Disturbed Blanche DuBois moves in with her sis...</td>\n",
              "      <td>Drama</td>\n",
              "      <td>53</td>\n",
              "    </tr>\n",
              "    <tr>\n",
              "      <th>511</th>\n",
              "      <td>Funny Lady</td>\n",
              "      <td>Story of singer Fanny Brice's stormy relations...</td>\n",
              "      <td>Biography, Comedy, Drama</td>\n",
              "      <td>53</td>\n",
              "    </tr>\n",
              "    <tr>\n",
              "      <th>694</th>\n",
              "      <td>Break Up</td>\n",
              "      <td>Jimmy is married to the abusive Frank, but she...</td>\n",
              "      <td>Thriller</td>\n",
              "      <td>53</td>\n",
              "    </tr>\n",
              "    <tr>\n",
              "      <th>754</th>\n",
              "      <td>Playing Mona Lisa</td>\n",
              "      <td>After being dumped by her boyfriend, a young t...</td>\n",
              "      <td>Comedy</td>\n",
              "      <td>53</td>\n",
              "    </tr>\n",
              "    <tr>\n",
              "      <th>773</th>\n",
              "      <td>Simple Men</td>\n",
              "      <td>Bitter about being double-crossed by the women...</td>\n",
              "      <td>Crime, Drama, Romance</td>\n",
              "      <td>53</td>\n",
              "    </tr>\n",
              "    <tr>\n",
              "      <th>863</th>\n",
              "      <td>The Prince of Tides</td>\n",
              "      <td>A troubled man talks to his suicidal sister's ...</td>\n",
              "      <td>Drama, Romance</td>\n",
              "      <td>53</td>\n",
              "    </tr>\n",
              "    <tr>\n",
              "      <th>1125</th>\n",
              "      <td>Bridget Jones's Diary</td>\n",
              "      <td>Bridget Jones is determined to improve herself...</td>\n",
              "      <td>Comedy, Drama, Romance</td>\n",
              "      <td>53</td>\n",
              "    </tr>\n",
              "    <tr>\n",
              "      <th>1377</th>\n",
              "      <td>Normal Life</td>\n",
              "      <td>Chris is young idealistic cop who falls in lov...</td>\n",
              "      <td>Crime, Drama</td>\n",
              "      <td>53</td>\n",
              "    </tr>\n",
              "  </tbody>\n",
              "</table>\n",
              "</div>"
            ],
            "text/plain": [
              "                original_title  ... cluster\n",
              "130             On Golden Pond  ...      53\n",
              "264           Danny in the Sky  ...      53\n",
              "278              Marvin's Room  ...      53\n",
              "352   A Streetcar Named Desire  ...      53\n",
              "511                 Funny Lady  ...      53\n",
              "694                   Break Up  ...      53\n",
              "754          Playing Mona Lisa  ...      53\n",
              "773                 Simple Men  ...      53\n",
              "863        The Prince of Tides  ...      53\n",
              "1125     Bridget Jones's Diary  ...      53\n",
              "1377               Normal Life  ...      53\n",
              "\n",
              "[11 rows x 4 columns]"
            ]
          },
          "metadata": {
            "tags": []
          },
          "execution_count": 103
        }
      ]
    },
    {
      "cell_type": "code",
      "metadata": {
        "colab": {
          "base_uri": "https://localhost:8080/",
          "height": 235
        },
        "id": "StO8c13b0mDa",
        "outputId": "004a63bf-73a4-42b0-be3b-443d7b8a6b4f"
      },
      "source": [
        "# Movies within the cluster that the user has not watched/rated\n",
        "avail_movies = user7_entire_fav_cluster[~user7_entire_fav_cluster['original_title'].isin(user7_favorite_cluster['title'])]\n",
        "avail_movies"
      ],
      "execution_count": null,
      "outputs": [
        {
          "output_type": "execute_result",
          "data": {
            "text/html": [
              "<div>\n",
              "<style scoped>\n",
              "    .dataframe tbody tr th:only-of-type {\n",
              "        vertical-align: middle;\n",
              "    }\n",
              "\n",
              "    .dataframe tbody tr th {\n",
              "        vertical-align: top;\n",
              "    }\n",
              "\n",
              "    .dataframe thead th {\n",
              "        text-align: right;\n",
              "    }\n",
              "</style>\n",
              "<table border=\"1\" class=\"dataframe\">\n",
              "  <thead>\n",
              "    <tr style=\"text-align: right;\">\n",
              "      <th></th>\n",
              "      <th>original_title</th>\n",
              "      <th>description</th>\n",
              "      <th>genre</th>\n",
              "      <th>cluster</th>\n",
              "    </tr>\n",
              "  </thead>\n",
              "  <tbody>\n",
              "    <tr>\n",
              "      <th>264</th>\n",
              "      <td>Danny in the Sky</td>\n",
              "      <td>Danny is a romantic young man looking for love...</td>\n",
              "      <td>Drama</td>\n",
              "      <td>53</td>\n",
              "    </tr>\n",
              "    <tr>\n",
              "      <th>278</th>\n",
              "      <td>Marvin's Room</td>\n",
              "      <td>After 20 years caring for her father, a woman ...</td>\n",
              "      <td>Drama</td>\n",
              "      <td>53</td>\n",
              "    </tr>\n",
              "    <tr>\n",
              "      <th>694</th>\n",
              "      <td>Break Up</td>\n",
              "      <td>Jimmy is married to the abusive Frank, but she...</td>\n",
              "      <td>Thriller</td>\n",
              "      <td>53</td>\n",
              "    </tr>\n",
              "    <tr>\n",
              "      <th>754</th>\n",
              "      <td>Playing Mona Lisa</td>\n",
              "      <td>After being dumped by her boyfriend, a young t...</td>\n",
              "      <td>Comedy</td>\n",
              "      <td>53</td>\n",
              "    </tr>\n",
              "    <tr>\n",
              "      <th>773</th>\n",
              "      <td>Simple Men</td>\n",
              "      <td>Bitter about being double-crossed by the women...</td>\n",
              "      <td>Crime, Drama, Romance</td>\n",
              "      <td>53</td>\n",
              "    </tr>\n",
              "    <tr>\n",
              "      <th>1377</th>\n",
              "      <td>Normal Life</td>\n",
              "      <td>Chris is young idealistic cop who falls in lov...</td>\n",
              "      <td>Crime, Drama</td>\n",
              "      <td>53</td>\n",
              "    </tr>\n",
              "  </tbody>\n",
              "</table>\n",
              "</div>"
            ],
            "text/plain": [
              "         original_title  ... cluster\n",
              "264    Danny in the Sky  ...      53\n",
              "278       Marvin's Room  ...      53\n",
              "694            Break Up  ...      53\n",
              "754   Playing Mona Lisa  ...      53\n",
              "773          Simple Men  ...      53\n",
              "1377        Normal Life  ...      53\n",
              "\n",
              "[6 rows x 4 columns]"
            ]
          },
          "metadata": {
            "tags": []
          },
          "execution_count": 104
        }
      ]
    },
    {
      "cell_type": "code",
      "metadata": {
        "colab": {
          "base_uri": "https://localhost:8080/",
          "height": 419
        },
        "id": "q7pQX5wqMQql",
        "outputId": "9143910f-5744-4fc1-bb0f-216f8deefaaf"
      },
      "source": [
        "# Mean ratings of all movies\n",
        "mean_ratings = new_ratings.groupby('title').mean()['rating']\n",
        "mean_ratings = mean_ratings.reset_index()\n",
        "mean_ratings.sort_values('rating', ascending=False)"
      ],
      "execution_count": null,
      "outputs": [
        {
          "output_type": "execute_result",
          "data": {
            "text/html": [
              "<div>\n",
              "<style scoped>\n",
              "    .dataframe tbody tr th:only-of-type {\n",
              "        vertical-align: middle;\n",
              "    }\n",
              "\n",
              "    .dataframe tbody tr th {\n",
              "        vertical-align: top;\n",
              "    }\n",
              "\n",
              "    .dataframe thead th {\n",
              "        text-align: right;\n",
              "    }\n",
              "</style>\n",
              "<table border=\"1\" class=\"dataframe\">\n",
              "  <thead>\n",
              "    <tr style=\"text-align: right;\">\n",
              "      <th></th>\n",
              "      <th>title</th>\n",
              "      <th>rating</th>\n",
              "    </tr>\n",
              "  </thead>\n",
              "  <tbody>\n",
              "    <tr>\n",
              "      <th>1371</th>\n",
              "      <td>The Sixth Sense</td>\n",
              "      <td>4.325245</td>\n",
              "    </tr>\n",
              "    <tr>\n",
              "      <th>1370</th>\n",
              "      <td>The Silence of the Lambs</td>\n",
              "      <td>4.311687</td>\n",
              "    </tr>\n",
              "    <tr>\n",
              "      <th>180</th>\n",
              "      <td>Braveheart</td>\n",
              "      <td>4.294423</td>\n",
              "    </tr>\n",
              "    <tr>\n",
              "      <th>123</th>\n",
              "      <td>Batman Begins</td>\n",
              "      <td>4.236699</td>\n",
              "    </tr>\n",
              "    <tr>\n",
              "      <th>896</th>\n",
              "      <td>Ray</td>\n",
              "      <td>4.186012</td>\n",
              "    </tr>\n",
              "    <tr>\n",
              "      <th>...</th>\n",
              "      <td>...</td>\n",
              "      <td>...</td>\n",
              "    </tr>\n",
              "    <tr>\n",
              "      <th>558</th>\n",
              "      <td>Ice from the Sun</td>\n",
              "      <td>1.789474</td>\n",
              "    </tr>\n",
              "    <tr>\n",
              "      <th>984</th>\n",
              "      <td>Shanghai Surprise</td>\n",
              "      <td>1.762584</td>\n",
              "    </tr>\n",
              "    <tr>\n",
              "      <th>649</th>\n",
              "      <td>Leonard Part 6</td>\n",
              "      <td>1.741697</td>\n",
              "    </tr>\n",
              "    <tr>\n",
              "      <th>285</th>\n",
              "      <td>Dark Heaven</td>\n",
              "      <td>1.727723</td>\n",
              "    </tr>\n",
              "    <tr>\n",
              "      <th>720</th>\n",
              "      <td>Midnight Mass</td>\n",
              "      <td>1.600000</td>\n",
              "    </tr>\n",
              "  </tbody>\n",
              "</table>\n",
              "<p>1542 rows × 2 columns</p>\n",
              "</div>"
            ],
            "text/plain": [
              "                         title    rating\n",
              "1371           The Sixth Sense  4.325245\n",
              "1370  The Silence of the Lambs  4.311687\n",
              "180                 Braveheart  4.294423\n",
              "123              Batman Begins  4.236699\n",
              "896                        Ray  4.186012\n",
              "...                        ...       ...\n",
              "558           Ice from the Sun  1.789474\n",
              "984          Shanghai Surprise  1.762584\n",
              "649             Leonard Part 6  1.741697\n",
              "285                Dark Heaven  1.727723\n",
              "720              Midnight Mass  1.600000\n",
              "\n",
              "[1542 rows x 2 columns]"
            ]
          },
          "metadata": {
            "tags": []
          },
          "execution_count": 114
        }
      ]
    },
    {
      "cell_type": "code",
      "metadata": {
        "colab": {
          "base_uri": "https://localhost:8080/",
          "height": 35
        },
        "id": "viYVO1oKMYdJ",
        "outputId": "265130af-8c4b-4398-c995-313933530e1d"
      },
      "source": [
        "# Selecting the movie with the highest mean rating among the unrated movies within that cluster\n",
        "suggested_movie = avail_movies.merge(mean_ratings, left_on='original_title', right_on='title').sort_values('rating')['original_title'].values.item(0)\n",
        "suggested_movie"
      ],
      "execution_count": null,
      "outputs": [
        {
          "output_type": "execute_result",
          "data": {
            "application/vnd.google.colaboratory.intrinsic+json": {
              "type": "string"
            },
            "text/plain": [
              "'Danny in the Sky'"
            ]
          },
          "metadata": {
            "tags": []
          },
          "execution_count": 106
        }
      ]
    },
    {
      "cell_type": "code",
      "metadata": {
        "colab": {
          "base_uri": "https://localhost:8080/",
          "height": 235
        },
        "id": "GvX2eVXxs2di",
        "outputId": "b5902fc0-60fa-4da8-e32a-73436002ce3c"
      },
      "source": [
        "avail_movies.merge(mean_ratings, left_on='original_title', right_on='title').sort_values('rating', ascending=False)"
      ],
      "execution_count": null,
      "outputs": [
        {
          "output_type": "execute_result",
          "data": {
            "text/html": [
              "<div>\n",
              "<style scoped>\n",
              "    .dataframe tbody tr th:only-of-type {\n",
              "        vertical-align: middle;\n",
              "    }\n",
              "\n",
              "    .dataframe tbody tr th {\n",
              "        vertical-align: top;\n",
              "    }\n",
              "\n",
              "    .dataframe thead th {\n",
              "        text-align: right;\n",
              "    }\n",
              "</style>\n",
              "<table border=\"1\" class=\"dataframe\">\n",
              "  <thead>\n",
              "    <tr style=\"text-align: right;\">\n",
              "      <th></th>\n",
              "      <th>original_title</th>\n",
              "      <th>description</th>\n",
              "      <th>genre</th>\n",
              "      <th>cluster</th>\n",
              "      <th>title</th>\n",
              "      <th>rating</th>\n",
              "    </tr>\n",
              "  </thead>\n",
              "  <tbody>\n",
              "    <tr>\n",
              "      <th>4</th>\n",
              "      <td>Simple Men</td>\n",
              "      <td>Bitter about being double-crossed by the women...</td>\n",
              "      <td>Crime, Drama, Romance</td>\n",
              "      <td>53</td>\n",
              "      <td>Simple Men</td>\n",
              "      <td>3.549296</td>\n",
              "    </tr>\n",
              "    <tr>\n",
              "      <th>1</th>\n",
              "      <td>Marvin's Room</td>\n",
              "      <td>After 20 years caring for her father, a woman ...</td>\n",
              "      <td>Drama</td>\n",
              "      <td>53</td>\n",
              "      <td>Marvin's Room</td>\n",
              "      <td>3.320140</td>\n",
              "    </tr>\n",
              "    <tr>\n",
              "      <th>5</th>\n",
              "      <td>Normal Life</td>\n",
              "      <td>Chris is young idealistic cop who falls in lov...</td>\n",
              "      <td>Crime, Drama</td>\n",
              "      <td>53</td>\n",
              "      <td>Normal Life</td>\n",
              "      <td>2.887789</td>\n",
              "    </tr>\n",
              "    <tr>\n",
              "      <th>3</th>\n",
              "      <td>Playing Mona Lisa</td>\n",
              "      <td>After being dumped by her boyfriend, a young t...</td>\n",
              "      <td>Comedy</td>\n",
              "      <td>53</td>\n",
              "      <td>Playing Mona Lisa</td>\n",
              "      <td>2.860707</td>\n",
              "    </tr>\n",
              "    <tr>\n",
              "      <th>2</th>\n",
              "      <td>Break Up</td>\n",
              "      <td>Jimmy is married to the abusive Frank, but she...</td>\n",
              "      <td>Thriller</td>\n",
              "      <td>53</td>\n",
              "      <td>Break Up</td>\n",
              "      <td>2.829132</td>\n",
              "    </tr>\n",
              "    <tr>\n",
              "      <th>0</th>\n",
              "      <td>Danny in the Sky</td>\n",
              "      <td>Danny is a romantic young man looking for love...</td>\n",
              "      <td>Drama</td>\n",
              "      <td>53</td>\n",
              "      <td>Danny in the Sky</td>\n",
              "      <td>2.575087</td>\n",
              "    </tr>\n",
              "  </tbody>\n",
              "</table>\n",
              "</div>"
            ],
            "text/plain": [
              "      original_title  ...    rating\n",
              "4         Simple Men  ...  3.549296\n",
              "1      Marvin's Room  ...  3.320140\n",
              "5        Normal Life  ...  2.887789\n",
              "3  Playing Mona Lisa  ...  2.860707\n",
              "2           Break Up  ...  2.829132\n",
              "0   Danny in the Sky  ...  2.575087\n",
              "\n",
              "[6 rows x 6 columns]"
            ]
          },
          "metadata": {
            "tags": []
          },
          "execution_count": 110
        }
      ]
    },
    {
      "cell_type": "markdown",
      "metadata": {
        "id": "kM93E7i-t9sY"
      },
      "source": [
        "When narrowing it down to a single cluster that contains the most movies the user highly rated, the final output is determined by the average ratings of the movies within the cluster. The movie with the highest average rating will be suggested due to other users liking it the most."
      ]
    },
    {
      "cell_type": "code",
      "metadata": {
        "colab": {
          "base_uri": "https://localhost:8080/"
        },
        "id": "roBFWTIwtHWd",
        "outputId": "ca354bfa-3b7c-4d5e-a59a-4ca22a7fd149"
      },
      "source": [
        "new_ratings[new_ratings['title']=='Simple Men'].groupby('rating').size()"
      ],
      "execution_count": null,
      "outputs": [
        {
          "output_type": "execute_result",
          "data": {
            "text/plain": [
              "rating\n",
              "1.0     32\n",
              "2.0     46\n",
              "3.0    112\n",
              "4.0    128\n",
              "5.0    108\n",
              "dtype: int64"
            ]
          },
          "metadata": {
            "tags": []
          },
          "execution_count": 118
        }
      ]
    },
    {
      "cell_type": "markdown",
      "metadata": {
        "id": "SRFJwL9yuuW3"
      },
      "source": [
        "* Note that the highest average rating is 4.3 out of 5. The highest rating among the 6 unwatched movies left within User 7's favorite cluster is about 3.6 out of 5. Considering that the highest rated movie is out of 4.3, 3.6 is not low. Looking at the rating distribution above, about 80% of ratings for this move were 3-5 stars, making this is a reasonable average rating and pick."
      ]
    },
    {
      "cell_type": "markdown",
      "metadata": {
        "id": "Nd5SszJXApbF"
      },
      "source": [
        "### Movie Recommender"
      ]
    },
    {
      "cell_type": "code",
      "metadata": {
        "id": "9TbFLEAauTuZ"
      },
      "source": [
        "def suggested_movies(userId, num_movies=1):\n",
        "  \"\"\"Returns the recommended movie(s) and year(s) found by looking at the user's most favored cluster of movies.\"\"\"\n",
        "  # Adding cluster labels to userId's highly rated movies\n",
        "  user = new_ratings[new_ratings['userId']==userId]\n",
        "  high_rates = user[user['rating'] >= 4]\n",
        "  high_rated_clusters = high_rates.merge(clusters, left_on='title', right_on='original_title')\n",
        "  high_rated_clusters = high_rated_clusters[['userId', 'movieId', 'title', 'description_x', 'genre_x', 'rating', 'cluster']]\n",
        "  high_rated_clusters = high_rated_clusters.rename(columns={'description_x': 'description', 'genre_x': 'genre'})\n",
        "\n",
        "  # Getting the best cluster (the one that contains most of userId's highly rated movies)\n",
        "  fave_cluster_num = high_rated_clusters.groupby('cluster').size().sort_values(ascending=False).index[0]\n",
        "\n",
        "  # Movies within that cluster the user has watched\n",
        "  user_watched_in_cluster = high_rated_clusters[high_rated_clusters['cluster']==fave_cluster_num]\n",
        "\n",
        "  # Movies within that cluster the user hasn't watched yet (to use for recommendations)\n",
        "  user_entire_fave_cluster = clusters[clusters['cluster']==fave_cluster_num]\n",
        "  avail_movies = user_entire_fave_cluster[~user_entire_fave_cluster['original_title'].isin(user_watched_in_cluster['title'])]\n",
        "  avail_movie_means = avail_movies.merge(mean_ratings, left_on='original_title', right_on='title').sort_values('rating', ascending=False)\n",
        "\n",
        "  # The movies the user hasn't watched ordered by average rating (highest to lowest)\n",
        "  top_movies = avail_movie_means.merge(imdb, left_on=['original_title', 'description'], right_on=['original_title', 'description'])\n",
        "  top_movies = top_movies[['original_title', 'year', 'rating']]\n",
        "\n",
        "  if len(top_movies) < num_movies:\n",
        "    num_movies = len(top_movies)\n",
        "  \n",
        "  movie_titles = top_movies['original_title'][:num_movies].values\n",
        "  years = top_movies['year'][:num_movies].values\n",
        "\n",
        "  result = []\n",
        "  for i in range(len(years)):\n",
        "    result.append([movie_titles[i], int(years[i])])\n",
        "\n",
        "  return result"
      ],
      "execution_count": null,
      "outputs": []
    },
    {
      "cell_type": "code",
      "metadata": {
        "colab": {
          "base_uri": "https://localhost:8080/"
        },
        "id": "cw3tWhwm3dtF",
        "outputId": "803412e7-cfbd-4b99-eb5a-4a72a430ab1e"
      },
      "source": [
        "# Top recommended movie for User 10\n",
        "suggested_movies(10, num_movies=1)"
      ],
      "execution_count": null,
      "outputs": [
        {
          "output_type": "execute_result",
          "data": {
            "text/plain": [
              "[['Dark Victory', 1939]]"
            ]
          },
          "metadata": {
            "tags": []
          },
          "execution_count": 211
        }
      ]
    },
    {
      "cell_type": "code",
      "metadata": {
        "colab": {
          "base_uri": "https://localhost:8080/"
        },
        "id": "LlqjtfZB3ODV",
        "outputId": "4e1b3de4-c136-4ed0-a449-707d3c7a96a9"
      },
      "source": [
        "# Top 2 recommended movies for User 6\n",
        "suggested_movies(6, num_movies=2)"
      ],
      "execution_count": null,
      "outputs": [
        {
          "output_type": "execute_result",
          "data": {
            "text/plain": [
              "[['Geronimo: An American Legend', 1993], ['Duel at Diablo', 1966]]"
            ]
          },
          "metadata": {
            "tags": []
          },
          "execution_count": 212
        }
      ]
    },
    {
      "cell_type": "code",
      "metadata": {
        "colab": {
          "base_uri": "https://localhost:8080/"
        },
        "id": "9Z0r2E5m8xBG",
        "outputId": "748381ee-7139-4612-a11e-126ffbe98f96"
      },
      "source": [
        "new_ratings.groupby('userId').size().sort_values(ascending=False).head(15)"
      ],
      "execution_count": null,
      "outputs": [
        {
          "output_type": "execute_result",
          "data": {
            "text/plain": [
              "userId\n",
              "305344     1547\n",
              "387418     1545\n",
              "2439493    1479\n",
              "2118461    1451\n",
              "1664010    1440\n",
              "1639792    1028\n",
              "1314869    1016\n",
              "2143500    1010\n",
              "752642     1009\n",
              "1461435     956\n",
              "716173      951\n",
              "1114324     949\n",
              "2056022     939\n",
              "2606799     925\n",
              "57633       911\n",
              "dtype: int64"
            ]
          },
          "metadata": {
            "tags": []
          },
          "execution_count": 213
        }
      ]
    },
    {
      "cell_type": "markdown",
      "metadata": {
        "id": "ylgmUkei3sFb"
      },
      "source": [
        "Let's double check the function's results with User 57633."
      ]
    },
    {
      "cell_type": "code",
      "metadata": {
        "colab": {
          "base_uri": "https://localhost:8080/"
        },
        "id": "m97KeeHp9uX6",
        "outputId": "8386b0ea-3f8c-4e19-b881-143e190d0e5f"
      },
      "source": [
        "suggested_movies(57633, num_movies=5)"
      ],
      "execution_count": null,
      "outputs": [
        {
          "output_type": "execute_result",
          "data": {
            "text/plain": [
              "[['Let It Ride', 1989],\n",
              " ['The Lemon Drop Kid', 1951],\n",
              " ['Go West', 1925],\n",
              " ['Rat Race', 2001],\n",
              " ['Saint Jack', 1979]]"
            ]
          },
          "metadata": {
            "tags": []
          },
          "execution_count": 214
        }
      ]
    },
    {
      "cell_type": "code",
      "metadata": {
        "colab": {
          "base_uri": "https://localhost:8080/",
          "height": 204
        },
        "id": "QwkCIhOC64_D",
        "outputId": "984f1c65-835b-4871-d4ef-507ca275bd8e"
      },
      "source": [
        "# Adding cluster labels to userId's highly rated movies\n",
        "user = new_ratings[new_ratings['userId']==57633]\n",
        "high_rates = user[user['rating'] >= 4]\n",
        "high_rated_clusters = high_rates.merge(clusters, left_on='title', right_on='original_title')\n",
        "high_rated_clusters = high_rated_clusters[['userId', 'movieId', 'title', 'description_x', 'genre_x', 'rating', 'cluster']]\n",
        "high_rated_clusters = high_rated_clusters.rename(columns={'description_x': 'description', 'genre_x': 'genre'})\n",
        "\n",
        "# Getting the best cluster (the one that contains most of userId's highly rated movies)\n",
        "fave_cluster_num = high_rated_clusters.groupby('cluster').size().sort_values(ascending=False).index[0]\n",
        "\n",
        "# Movies within that cluster the user has watched\n",
        "user_watched_in_cluster = high_rated_clusters[high_rated_clusters['cluster']==fave_cluster_num]\n",
        "\n",
        "# Movies within that cluster the user hasn't watched yet (to use for recommendations)\n",
        "user_entire_fave_cluster = clusters[clusters['cluster']==fave_cluster_num]\n",
        "avail_movies = user_entire_fave_cluster[~user_entire_fave_cluster['original_title'].isin(user_watched_in_cluster['title'])]\n",
        "avail_movie_means = avail_movies.merge(mean_ratings, left_on='original_title', right_on='title').sort_values('rating', ascending=False)\n",
        "\n",
        "# The movies the user hasn't watched ordered by average rating (highest to lowest)\n",
        "top_movies = avail_movie_means.merge(imdb, left_on=['original_title', 'description'], right_on=['original_title', 'description'])\n",
        "top_movies = top_movies[['original_title', 'year', 'rating']]\n",
        "top_movies.head()"
      ],
      "execution_count": null,
      "outputs": [
        {
          "output_type": "execute_result",
          "data": {
            "text/html": [
              "<div>\n",
              "<style scoped>\n",
              "    .dataframe tbody tr th:only-of-type {\n",
              "        vertical-align: middle;\n",
              "    }\n",
              "\n",
              "    .dataframe tbody tr th {\n",
              "        vertical-align: top;\n",
              "    }\n",
              "\n",
              "    .dataframe thead th {\n",
              "        text-align: right;\n",
              "    }\n",
              "</style>\n",
              "<table border=\"1\" class=\"dataframe\">\n",
              "  <thead>\n",
              "    <tr style=\"text-align: right;\">\n",
              "      <th></th>\n",
              "      <th>original_title</th>\n",
              "      <th>year</th>\n",
              "      <th>rating</th>\n",
              "    </tr>\n",
              "  </thead>\n",
              "  <tbody>\n",
              "    <tr>\n",
              "      <th>0</th>\n",
              "      <td>Let It Ride</td>\n",
              "      <td>1989</td>\n",
              "      <td>3.496454</td>\n",
              "    </tr>\n",
              "    <tr>\n",
              "      <th>1</th>\n",
              "      <td>The Lemon Drop Kid</td>\n",
              "      <td>1951</td>\n",
              "      <td>3.496000</td>\n",
              "    </tr>\n",
              "    <tr>\n",
              "      <th>2</th>\n",
              "      <td>Go West</td>\n",
              "      <td>1925</td>\n",
              "      <td>3.374674</td>\n",
              "    </tr>\n",
              "    <tr>\n",
              "      <th>3</th>\n",
              "      <td>Rat Race</td>\n",
              "      <td>2001</td>\n",
              "      <td>3.305349</td>\n",
              "    </tr>\n",
              "    <tr>\n",
              "      <th>4</th>\n",
              "      <td>Saint Jack</td>\n",
              "      <td>1979</td>\n",
              "      <td>2.989691</td>\n",
              "    </tr>\n",
              "  </tbody>\n",
              "</table>\n",
              "</div>"
            ],
            "text/plain": [
              "       original_title  year    rating\n",
              "0         Let It Ride  1989  3.496454\n",
              "1  The Lemon Drop Kid  1951  3.496000\n",
              "2             Go West  1925  3.374674\n",
              "3            Rat Race  2001  3.305349\n",
              "4          Saint Jack  1979  2.989691"
            ]
          },
          "metadata": {
            "tags": []
          },
          "execution_count": 215
        }
      ]
    },
    {
      "cell_type": "code",
      "metadata": {
        "colab": {
          "base_uri": "https://localhost:8080/"
        },
        "id": "JnPViUhU9Mlb",
        "outputId": "a02cca11-c405-4d2f-f2f0-0a07e560ab87"
      },
      "source": [
        "high_rated_clusters.groupby('cluster').size().sort_values(ascending=False).head()"
      ],
      "execution_count": null,
      "outputs": [
        {
          "output_type": "execute_result",
          "data": {
            "text/plain": [
              "cluster\n",
              "118    4\n",
              "7      4\n",
              "92     4\n",
              "13     4\n",
              "29     3\n",
              "dtype: int64"
            ]
          },
          "metadata": {
            "tags": []
          },
          "execution_count": 220
        }
      ]
    },
    {
      "cell_type": "code",
      "metadata": {
        "colab": {
          "base_uri": "https://localhost:8080/",
          "height": 173
        },
        "id": "iIb2UEAj-JwM",
        "outputId": "f0a58983-6905-4785-bb04-14b892c80e16"
      },
      "source": [
        "high_rated_clusters[high_rated_clusters['cluster']==118]"
      ],
      "execution_count": null,
      "outputs": [
        {
          "output_type": "execute_result",
          "data": {
            "text/html": [
              "<div>\n",
              "<style scoped>\n",
              "    .dataframe tbody tr th:only-of-type {\n",
              "        vertical-align: middle;\n",
              "    }\n",
              "\n",
              "    .dataframe tbody tr th {\n",
              "        vertical-align: top;\n",
              "    }\n",
              "\n",
              "    .dataframe thead th {\n",
              "        text-align: right;\n",
              "    }\n",
              "</style>\n",
              "<table border=\"1\" class=\"dataframe\">\n",
              "  <thead>\n",
              "    <tr style=\"text-align: right;\">\n",
              "      <th></th>\n",
              "      <th>userId</th>\n",
              "      <th>movieId</th>\n",
              "      <th>title</th>\n",
              "      <th>description</th>\n",
              "      <th>genre</th>\n",
              "      <th>rating</th>\n",
              "      <th>cluster</th>\n",
              "    </tr>\n",
              "  </thead>\n",
              "  <tbody>\n",
              "    <tr>\n",
              "      <th>11</th>\n",
              "      <td>57633</td>\n",
              "      <td>241</td>\n",
              "      <td>North by Northwest</td>\n",
              "      <td>A New York City advertising executive goes on ...</td>\n",
              "      <td>Adventure, Mystery, Thriller</td>\n",
              "      <td>5.0</td>\n",
              "      <td>118</td>\n",
              "    </tr>\n",
              "    <tr>\n",
              "      <th>63</th>\n",
              "      <td>57633</td>\n",
              "      <td>1466</td>\n",
              "      <td>Midnight Cowboy</td>\n",
              "      <td>A naive hustler travels from Texas to New York...</td>\n",
              "      <td>Drama</td>\n",
              "      <td>4.0</td>\n",
              "      <td>118</td>\n",
              "    </tr>\n",
              "    <tr>\n",
              "      <th>124</th>\n",
              "      <td>57633</td>\n",
              "      <td>2905</td>\n",
              "      <td>Croupier</td>\n",
              "      <td>An aspiring writer is hired as a croupier at a...</td>\n",
              "      <td>Crime, Drama</td>\n",
              "      <td>4.0</td>\n",
              "      <td>118</td>\n",
              "    </tr>\n",
              "    <tr>\n",
              "      <th>175</th>\n",
              "      <td>57633</td>\n",
              "      <td>4109</td>\n",
              "      <td>American Psycho</td>\n",
              "      <td>A wealthy New York City investment banking exe...</td>\n",
              "      <td>Comedy, Crime, Drama</td>\n",
              "      <td>4.0</td>\n",
              "      <td>118</td>\n",
              "    </tr>\n",
              "  </tbody>\n",
              "</table>\n",
              "</div>"
            ],
            "text/plain": [
              "     userId  movieId  ... rating cluster\n",
              "11    57633      241  ...    5.0     118\n",
              "63    57633     1466  ...    4.0     118\n",
              "124   57633     2905  ...    4.0     118\n",
              "175   57633     4109  ...    4.0     118\n",
              "\n",
              "[4 rows x 7 columns]"
            ]
          },
          "metadata": {
            "tags": []
          },
          "execution_count": 217
        }
      ]
    },
    {
      "cell_type": "code",
      "metadata": {
        "colab": {
          "base_uri": "https://localhost:8080/",
          "height": 235
        },
        "id": "pRoSJLKO-AaA",
        "outputId": "870eb91a-a5c3-499a-ffae-4ce31e844b51"
      },
      "source": [
        "avail_movies"
      ],
      "execution_count": null,
      "outputs": [
        {
          "output_type": "execute_result",
          "data": {
            "text/html": [
              "<div>\n",
              "<style scoped>\n",
              "    .dataframe tbody tr th:only-of-type {\n",
              "        vertical-align: middle;\n",
              "    }\n",
              "\n",
              "    .dataframe tbody tr th {\n",
              "        vertical-align: top;\n",
              "    }\n",
              "\n",
              "    .dataframe thead th {\n",
              "        text-align: right;\n",
              "    }\n",
              "</style>\n",
              "<table border=\"1\" class=\"dataframe\">\n",
              "  <thead>\n",
              "    <tr style=\"text-align: right;\">\n",
              "      <th></th>\n",
              "      <th>original_title</th>\n",
              "      <th>description</th>\n",
              "      <th>genre</th>\n",
              "      <th>cluster</th>\n",
              "    </tr>\n",
              "  </thead>\n",
              "  <tbody>\n",
              "    <tr>\n",
              "      <th>321</th>\n",
              "      <td>Let It Ride</td>\n",
              "      <td>A nosy cab driver gets a hot tip on a race hor...</td>\n",
              "      <td>Comedy, Action</td>\n",
              "      <td>118</td>\n",
              "    </tr>\n",
              "    <tr>\n",
              "      <th>325</th>\n",
              "      <td>Go West</td>\n",
              "      <td>With little luck at keeping a job in the city ...</td>\n",
              "      <td>Comedy, Western</td>\n",
              "      <td>118</td>\n",
              "    </tr>\n",
              "    <tr>\n",
              "      <th>481</th>\n",
              "      <td>Empire of the Ants</td>\n",
              "      <td>Con artist Marilyn Fryser tries to sell bogus ...</td>\n",
              "      <td>Adventure, Horror, Sci-Fi</td>\n",
              "      <td>118</td>\n",
              "    </tr>\n",
              "    <tr>\n",
              "      <th>641</th>\n",
              "      <td>Rat Race</td>\n",
              "      <td>A Las Vegas casino magnate, determined to find...</td>\n",
              "      <td>Action, Adventure, Comedy</td>\n",
              "      <td>118</td>\n",
              "    </tr>\n",
              "    <tr>\n",
              "      <th>762</th>\n",
              "      <td>Saint Jack</td>\n",
              "      <td>Jack Flowers, an American hustler in early 197...</td>\n",
              "      <td>Drama</td>\n",
              "      <td>118</td>\n",
              "    </tr>\n",
              "    <tr>\n",
              "      <th>1521</th>\n",
              "      <td>The Lemon Drop Kid</td>\n",
              "      <td>A New York City swindler has until Christmas t...</td>\n",
              "      <td>Comedy, Crime, Music</td>\n",
              "      <td>118</td>\n",
              "    </tr>\n",
              "  </tbody>\n",
              "</table>\n",
              "</div>"
            ],
            "text/plain": [
              "          original_title  ... cluster\n",
              "321          Let It Ride  ...     118\n",
              "325              Go West  ...     118\n",
              "481   Empire of the Ants  ...     118\n",
              "641             Rat Race  ...     118\n",
              "762           Saint Jack  ...     118\n",
              "1521  The Lemon Drop Kid  ...     118\n",
              "\n",
              "[6 rows x 4 columns]"
            ]
          },
          "metadata": {
            "tags": []
          },
          "execution_count": 219
        }
      ]
    },
    {
      "cell_type": "code",
      "metadata": {
        "colab": {
          "base_uri": "https://localhost:8080/",
          "height": 173
        },
        "id": "XSPeLsA_95Dv",
        "outputId": "6a9ee3c9-7e5a-4a58-beda-9742eab2ca0b"
      },
      "source": [
        "user_watched_in_cluster"
      ],
      "execution_count": null,
      "outputs": [
        {
          "output_type": "execute_result",
          "data": {
            "text/html": [
              "<div>\n",
              "<style scoped>\n",
              "    .dataframe tbody tr th:only-of-type {\n",
              "        vertical-align: middle;\n",
              "    }\n",
              "\n",
              "    .dataframe tbody tr th {\n",
              "        vertical-align: top;\n",
              "    }\n",
              "\n",
              "    .dataframe thead th {\n",
              "        text-align: right;\n",
              "    }\n",
              "</style>\n",
              "<table border=\"1\" class=\"dataframe\">\n",
              "  <thead>\n",
              "    <tr style=\"text-align: right;\">\n",
              "      <th></th>\n",
              "      <th>userId</th>\n",
              "      <th>movieId</th>\n",
              "      <th>title</th>\n",
              "      <th>description</th>\n",
              "      <th>genre</th>\n",
              "      <th>rating</th>\n",
              "      <th>cluster</th>\n",
              "    </tr>\n",
              "  </thead>\n",
              "  <tbody>\n",
              "    <tr>\n",
              "      <th>11</th>\n",
              "      <td>57633</td>\n",
              "      <td>241</td>\n",
              "      <td>North by Northwest</td>\n",
              "      <td>A New York City advertising executive goes on ...</td>\n",
              "      <td>Adventure, Mystery, Thriller</td>\n",
              "      <td>5.0</td>\n",
              "      <td>118</td>\n",
              "    </tr>\n",
              "    <tr>\n",
              "      <th>63</th>\n",
              "      <td>57633</td>\n",
              "      <td>1466</td>\n",
              "      <td>Midnight Cowboy</td>\n",
              "      <td>A naive hustler travels from Texas to New York...</td>\n",
              "      <td>Drama</td>\n",
              "      <td>4.0</td>\n",
              "      <td>118</td>\n",
              "    </tr>\n",
              "    <tr>\n",
              "      <th>124</th>\n",
              "      <td>57633</td>\n",
              "      <td>2905</td>\n",
              "      <td>Croupier</td>\n",
              "      <td>An aspiring writer is hired as a croupier at a...</td>\n",
              "      <td>Crime, Drama</td>\n",
              "      <td>4.0</td>\n",
              "      <td>118</td>\n",
              "    </tr>\n",
              "    <tr>\n",
              "      <th>175</th>\n",
              "      <td>57633</td>\n",
              "      <td>4109</td>\n",
              "      <td>American Psycho</td>\n",
              "      <td>A wealthy New York City investment banking exe...</td>\n",
              "      <td>Comedy, Crime, Drama</td>\n",
              "      <td>4.0</td>\n",
              "      <td>118</td>\n",
              "    </tr>\n",
              "  </tbody>\n",
              "</table>\n",
              "</div>"
            ],
            "text/plain": [
              "     userId  movieId  ... rating cluster\n",
              "11    57633      241  ...    5.0     118\n",
              "63    57633     1466  ...    4.0     118\n",
              "124   57633     2905  ...    4.0     118\n",
              "175   57633     4109  ...    4.0     118\n",
              "\n",
              "[4 rows x 7 columns]"
            ]
          },
          "metadata": {
            "tags": []
          },
          "execution_count": 218
        }
      ]
    },
    {
      "cell_type": "markdown",
      "metadata": {
        "id": "IoJJk0J__YnT"
      },
      "source": [
        "The variables return what are expected. Also, the cluster that User 57633 favored the most contains movies with common genres, which are drama, crime, and adventure. The cluster that User 7 favored the most also shared common genres. This shows that the clustering technique with sentence-transformers applied to movie descriptions is working well."
      ]
    },
    {
      "cell_type": "markdown",
      "metadata": {
        "id": "RG_FEh8dAWzH"
      },
      "source": [
        "### Lastly, I will make an additional function where you can enter titles and years of movies you **liked** (rating 3+) and your ratings for them to receive recommended movies in return.\n",
        "* This will be done by getting the pre-assigned cluster numbers of the entered movies, finding all of the movies within those clusters, removing the entered movies from this list of movies, then finding the movies that are most similar to the entered movies via sentence-transformers and cosine similarity."
      ]
    },
    {
      "cell_type": "code",
      "metadata": {
        "colab": {
          "base_uri": "https://localhost:8080/",
          "height": 142
        },
        "id": "c0rkzUWCA7PQ",
        "outputId": "0c8055fa-c103-4c90-81e6-d1ab0ec4e2c1"
      },
      "source": [
        "# organizing a user's entries\n",
        "df = pd.DataFrame()\n",
        "movies = [\"Something's Gotta Give\", \"The Love Letter\", \"Wonder Boys\"]\n",
        "years = [2003, 1999, 2000]\n",
        "ratings = [4,3,5]\n",
        "df['title'] = movies\n",
        "df['year'] = years\n",
        "df['rating'] = ratings\n",
        "df"
      ],
      "execution_count": null,
      "outputs": [
        {
          "output_type": "execute_result",
          "data": {
            "text/html": [
              "<div>\n",
              "<style scoped>\n",
              "    .dataframe tbody tr th:only-of-type {\n",
              "        vertical-align: middle;\n",
              "    }\n",
              "\n",
              "    .dataframe tbody tr th {\n",
              "        vertical-align: top;\n",
              "    }\n",
              "\n",
              "    .dataframe thead th {\n",
              "        text-align: right;\n",
              "    }\n",
              "</style>\n",
              "<table border=\"1\" class=\"dataframe\">\n",
              "  <thead>\n",
              "    <tr style=\"text-align: right;\">\n",
              "      <th></th>\n",
              "      <th>title</th>\n",
              "      <th>year</th>\n",
              "      <th>rating</th>\n",
              "    </tr>\n",
              "  </thead>\n",
              "  <tbody>\n",
              "    <tr>\n",
              "      <th>0</th>\n",
              "      <td>Something's Gotta Give</td>\n",
              "      <td>2003</td>\n",
              "      <td>4</td>\n",
              "    </tr>\n",
              "    <tr>\n",
              "      <th>1</th>\n",
              "      <td>The Love Letter</td>\n",
              "      <td>1999</td>\n",
              "      <td>3</td>\n",
              "    </tr>\n",
              "    <tr>\n",
              "      <th>2</th>\n",
              "      <td>Wonder Boys</td>\n",
              "      <td>2000</td>\n",
              "      <td>5</td>\n",
              "    </tr>\n",
              "  </tbody>\n",
              "</table>\n",
              "</div>"
            ],
            "text/plain": [
              "                    title  year  rating\n",
              "0  Something's Gotta Give  2003       4\n",
              "1         The Love Letter  1999       3\n",
              "2             Wonder Boys  2000       5"
            ]
          },
          "metadata": {
            "tags": []
          },
          "execution_count": 225
        }
      ]
    },
    {
      "cell_type": "code",
      "metadata": {
        "colab": {
          "base_uri": "https://localhost:8080/",
          "height": 142
        },
        "id": "es80SjmGB8nY",
        "outputId": "f360c538-3667-44cb-b50c-7667cd1be555"
      },
      "source": [
        "# adding genres and descriptions\n",
        "reports = df.merge(imdb, left_on='title', right_on='original_title')[['original_title', 'year_x', 'genre', 'description', 'rating']].rename(columns={'year_x': 'year'})\n",
        "reports"
      ],
      "execution_count": null,
      "outputs": [
        {
          "output_type": "execute_result",
          "data": {
            "text/html": [
              "<div>\n",
              "<style scoped>\n",
              "    .dataframe tbody tr th:only-of-type {\n",
              "        vertical-align: middle;\n",
              "    }\n",
              "\n",
              "    .dataframe tbody tr th {\n",
              "        vertical-align: top;\n",
              "    }\n",
              "\n",
              "    .dataframe thead th {\n",
              "        text-align: right;\n",
              "    }\n",
              "</style>\n",
              "<table border=\"1\" class=\"dataframe\">\n",
              "  <thead>\n",
              "    <tr style=\"text-align: right;\">\n",
              "      <th></th>\n",
              "      <th>original_title</th>\n",
              "      <th>year</th>\n",
              "      <th>genre</th>\n",
              "      <th>description</th>\n",
              "      <th>rating</th>\n",
              "    </tr>\n",
              "  </thead>\n",
              "  <tbody>\n",
              "    <tr>\n",
              "      <th>0</th>\n",
              "      <td>Something's Gotta Give</td>\n",
              "      <td>2003</td>\n",
              "      <td>Comedy, Drama, Romance</td>\n",
              "      <td>A swinger on the cusp of being a senior citize...</td>\n",
              "      <td>4</td>\n",
              "    </tr>\n",
              "    <tr>\n",
              "      <th>1</th>\n",
              "      <td>The Love Letter</td>\n",
              "      <td>1999</td>\n",
              "      <td>Comedy, Drama, Romance</td>\n",
              "      <td>The life of a provincial town becomes stormy a...</td>\n",
              "      <td>3</td>\n",
              "    </tr>\n",
              "    <tr>\n",
              "      <th>2</th>\n",
              "      <td>Wonder Boys</td>\n",
              "      <td>2000</td>\n",
              "      <td>Comedy, Drama</td>\n",
              "      <td>An English Professor tries to deal with his wi...</td>\n",
              "      <td>5</td>\n",
              "    </tr>\n",
              "  </tbody>\n",
              "</table>\n",
              "</div>"
            ],
            "text/plain": [
              "           original_title  ...  rating\n",
              "0  Something's Gotta Give  ...       4\n",
              "1         The Love Letter  ...       3\n",
              "2             Wonder Boys  ...       5\n",
              "\n",
              "[3 rows x 5 columns]"
            ]
          },
          "metadata": {
            "tags": []
          },
          "execution_count": 230
        }
      ]
    },
    {
      "cell_type": "code",
      "metadata": {
        "colab": {
          "base_uri": "https://localhost:8080/",
          "height": 142
        },
        "id": "nPhWgGkoCa-r",
        "outputId": "b2ea5dbc-7579-4eb3-d0b4-43aa2ad3b258"
      },
      "source": [
        "# adding cluster labels\n",
        "reports = clusters[clusters['original_title'].isin(reports['original_title'])]\n",
        "reports"
      ],
      "execution_count": null,
      "outputs": [
        {
          "output_type": "execute_result",
          "data": {
            "text/html": [
              "<div>\n",
              "<style scoped>\n",
              "    .dataframe tbody tr th:only-of-type {\n",
              "        vertical-align: middle;\n",
              "    }\n",
              "\n",
              "    .dataframe tbody tr th {\n",
              "        vertical-align: top;\n",
              "    }\n",
              "\n",
              "    .dataframe thead th {\n",
              "        text-align: right;\n",
              "    }\n",
              "</style>\n",
              "<table border=\"1\" class=\"dataframe\">\n",
              "  <thead>\n",
              "    <tr style=\"text-align: right;\">\n",
              "      <th></th>\n",
              "      <th>original_title</th>\n",
              "      <th>description</th>\n",
              "      <th>genre</th>\n",
              "      <th>cluster</th>\n",
              "    </tr>\n",
              "  </thead>\n",
              "  <tbody>\n",
              "    <tr>\n",
              "      <th>38</th>\n",
              "      <td>Something's Gotta Give</td>\n",
              "      <td>A swinger on the cusp of being a senior citize...</td>\n",
              "      <td>Comedy, Drama, Romance</td>\n",
              "      <td>45</td>\n",
              "    </tr>\n",
              "    <tr>\n",
              "      <th>634</th>\n",
              "      <td>Wonder Boys</td>\n",
              "      <td>An English Professor tries to deal with his wi...</td>\n",
              "      <td>Comedy, Drama</td>\n",
              "      <td>34</td>\n",
              "    </tr>\n",
              "    <tr>\n",
              "      <th>1463</th>\n",
              "      <td>The Love Letter</td>\n",
              "      <td>The life of a provincial town becomes stormy a...</td>\n",
              "      <td>Comedy, Drama, Romance</td>\n",
              "      <td>46</td>\n",
              "    </tr>\n",
              "  </tbody>\n",
              "</table>\n",
              "</div>"
            ],
            "text/plain": [
              "              original_title  ... cluster\n",
              "38    Something's Gotta Give  ...      45\n",
              "634              Wonder Boys  ...      34\n",
              "1463         The Love Letter  ...      46\n",
              "\n",
              "[3 rows x 4 columns]"
            ]
          },
          "metadata": {
            "tags": []
          },
          "execution_count": 235
        }
      ]
    },
    {
      "cell_type": "code",
      "metadata": {
        "colab": {
          "base_uri": "https://localhost:8080/",
          "height": 204
        },
        "id": "dzixjfjzCh4u",
        "outputId": "9b303b74-9171-4dee-83fb-f4cf5be35838"
      },
      "source": [
        "# getting movies within all of the relevant clusters\n",
        "cluster_movies = clusters[clusters['cluster'].isin(reports['cluster'])]\n",
        "avail_movies = cluster_movies[~cluster_movies['original_title'].isin(reports['original_title'])]\n",
        "avail_movies.head()"
      ],
      "execution_count": null,
      "outputs": [
        {
          "output_type": "execute_result",
          "data": {
            "text/html": [
              "<div>\n",
              "<style scoped>\n",
              "    .dataframe tbody tr th:only-of-type {\n",
              "        vertical-align: middle;\n",
              "    }\n",
              "\n",
              "    .dataframe tbody tr th {\n",
              "        vertical-align: top;\n",
              "    }\n",
              "\n",
              "    .dataframe thead th {\n",
              "        text-align: right;\n",
              "    }\n",
              "</style>\n",
              "<table border=\"1\" class=\"dataframe\">\n",
              "  <thead>\n",
              "    <tr style=\"text-align: right;\">\n",
              "      <th></th>\n",
              "      <th>original_title</th>\n",
              "      <th>description</th>\n",
              "      <th>genre</th>\n",
              "      <th>cluster</th>\n",
              "    </tr>\n",
              "  </thead>\n",
              "  <tbody>\n",
              "    <tr>\n",
              "      <th>175</th>\n",
              "      <td>The Best Little Whorehouse in Texas</td>\n",
              "      <td>A town's Sheriff and regular patron of a histo...</td>\n",
              "      <td>Comedy, Musical</td>\n",
              "      <td>46</td>\n",
              "    </tr>\n",
              "    <tr>\n",
              "      <th>202</th>\n",
              "      <td>At the Earth's Core</td>\n",
              "      <td>A Victorian era scientist and his assistant ta...</td>\n",
              "      <td>Adventure, Fantasy, Sci-Fi</td>\n",
              "      <td>34</td>\n",
              "    </tr>\n",
              "    <tr>\n",
              "      <th>334</th>\n",
              "      <td>Mann</td>\n",
              "      <td>A young woman falls in love with a handsome pl...</td>\n",
              "      <td>Drama, Romance</td>\n",
              "      <td>45</td>\n",
              "    </tr>\n",
              "    <tr>\n",
              "      <th>344</th>\n",
              "      <td>Journey to the Center of the Earth</td>\n",
              "      <td>An Edinburgh professor and assorted colleagues...</td>\n",
              "      <td>Adventure, Family, Fantasy</td>\n",
              "      <td>34</td>\n",
              "    </tr>\n",
              "    <tr>\n",
              "      <th>471</th>\n",
              "      <td>Refugee</td>\n",
              "      <td>A young man who smuggles illegal weapons and p...</td>\n",
              "      <td>Drama, Musical, Romance</td>\n",
              "      <td>45</td>\n",
              "    </tr>\n",
              "  </tbody>\n",
              "</table>\n",
              "</div>"
            ],
            "text/plain": [
              "                          original_title  ... cluster\n",
              "175  The Best Little Whorehouse in Texas  ...      46\n",
              "202                  At the Earth's Core  ...      34\n",
              "334                                 Mann  ...      45\n",
              "344   Journey to the Center of the Earth  ...      34\n",
              "471                              Refugee  ...      45\n",
              "\n",
              "[5 rows x 4 columns]"
            ]
          },
          "metadata": {
            "tags": []
          },
          "execution_count": 255
        }
      ]
    },
    {
      "cell_type": "code",
      "metadata": {
        "colab": {
          "base_uri": "https://localhost:8080/"
        },
        "id": "W2w7uA0aC1-v",
        "outputId": "57d24d7e-6ab2-4dab-e712-1bfda237bbf6"
      },
      "source": [
        "# SIMILARITY\n",
        "sbert_model = SentenceTransformer('bert-base-nli-mean-tokens')\n",
        "\n",
        "sentences = avail_movies['description'].values\n",
        "sentence_embeddings = sbert_model.encode(sentences)"
      ],
      "execution_count": null,
      "outputs": [
        {
          "output_type": "stream",
          "text": [
            "100%|██████████| 405M/405M [00:19<00:00, 21.3MB/s]\n"
          ],
          "name": "stderr"
        }
      ]
    },
    {
      "cell_type": "code",
      "metadata": {
        "colab": {
          "base_uri": "https://localhost:8080/"
        },
        "id": "6I22jjLOD11b",
        "outputId": "8d250f93-2463-4344-ba66-e0f42d058068"
      },
      "source": [
        "def cosine(u, v):\n",
        "    \"\"\"Returns the cosine similarity between descriptions.\"\"\"\n",
        "    return np.dot(u, v) / (np.linalg.norm(u) * np.linalg.norm(v))\n",
        "\n",
        "# get most similar descriptions\n",
        "top_similarity = {}\n",
        "for query in reports['description'].values:\n",
        "  query_vec = sbert_model.encode([query])[0]\n",
        "  max_sim = 0\n",
        "  max_sent = \"\"\n",
        "  for sent in sentences:\n",
        "    sim = cosine(query_vec, sbert_model.encode([sent])[0])\n",
        "    if sim > max_sim:\n",
        "      max_sim = sim\n",
        "      max_sent = sent\n",
        "  top_similarity[max_sent] = max_sim\n",
        "  print(max_sent, \"|\", max_sim)"
      ],
      "execution_count": null,
      "outputs": [
        {
          "output_type": "stream",
          "text": [
            "A young woman falls in love with a handsome playboy, while aboard a Singapore to India cruise. They make plans to meet again, but fate may have other plans... | 0.76895124\n",
            "A college professor wakes up to find his wife has not returned home, then struggles to understand her disappearance. | 0.7430485\n",
            "An English professor finds his life crumbling around him. | 0.63351405\n"
          ],
          "name": "stdout"
        }
      ]
    },
    {
      "cell_type": "code",
      "metadata": {
        "id": "DLA0GAH2IQbf"
      },
      "source": [
        "def enter_for_recommendation(movies, years, ratings, num_movies=1):\n",
        "  \"\"\"Returns the recommended movie(s), year(s), and genre(s) according \n",
        "     to similarity between the movies entered and those not watched.\"\"\"\n",
        "  df = pd.DataFrame()\n",
        "  df['title'] = movies\n",
        "  df['year'] = years\n",
        "  df['rating'] = ratings\n",
        "\n",
        "  # adding genre and descriptions\n",
        "  reports = df.merge(imdb, left_on='title', right_on='original_title')\n",
        "  reports = reports[['original_title', 'year_x', 'genre', 'description', 'rating']].rename(columns={'year_x': 'year'})\n",
        "\n",
        "  # adding cluster labels to entered movies\n",
        "  reports = clusters[clusters['original_title'].isin(reports['original_title'])]\n",
        "\n",
        "  # getting movies within all of the relevant clusters\n",
        "  cluster_movies = clusters[clusters['cluster'].isin(reports['cluster'])]\n",
        "  avail_movies = cluster_movies[~cluster_movies['original_title'].isin(reports['original_title'])]\n",
        "  \n",
        "  # getting most similar descriptions\n",
        "  top_similarity = {}\n",
        "  for query in reports['description'].values:\n",
        "    query_vec = sbert_model.encode([query])[0]\n",
        "    max_sim = 0\n",
        "    max_sent = \"\"\n",
        "    for sent in sentences:\n",
        "      sim = cosine(query_vec, sbert_model.encode([sent])[0])\n",
        "      if sim > max_sim:\n",
        "        max_sim = sim\n",
        "        max_sent = sent\n",
        "    top_similarity[max_sent] = max_sim\n",
        "\n",
        "  if len(top_similarity) < num_movies:\n",
        "    num_movies = len(top_similarity)\n",
        "\n",
        "  final_df = pd.DataFrame(top_similarity.items())\n",
        "  final_df = final_df.rename(columns={0:'description', 1:'similarity'}).sort_values('similarity', ascending=False)\n",
        "  result = final_df.merge(imdb, left_on='description', right_on='description')\n",
        "  resulting_movies = result['original_title'][:num_movies].values\n",
        "  resulting_years = result['year'][:num_movies].values\n",
        "  resulting_genres = result['genre'][:num_movies].values\n",
        "\n",
        "  output = []\n",
        "  for i in range(len(resulting_movies)):\n",
        "    output.append([resulting_movies[i], int(resulting_years[i]), resulting_genres[i]])\n",
        "  return output # movie, year, genre"
      ],
      "execution_count": null,
      "outputs": []
    },
    {
      "cell_type": "markdown",
      "metadata": {
        "id": "H2ZjtxdPH8-_"
      },
      "source": [
        "* Genres are returned this time because someone can enter a group of movies that all have very different genres. Now a user can pick according to the genre they currently want to watch."
      ]
    },
    {
      "cell_type": "code",
      "metadata": {
        "colab": {
          "base_uri": "https://localhost:8080/"
        },
        "id": "JcvJr7GsKdzn",
        "outputId": "dce014d3-18d0-4fdb-865f-82adc8ed6e54"
      },
      "source": [
        "movies = [\"Something's Gotta Give\", \"The Love Letter\", \"Wonder Boys\"]\n",
        "years = [2003, 1999, 2000]\n",
        "ratings = [4,3,5]\n",
        "enter_for_recommendation(movies, years, ratings, num_movies=2)"
      ],
      "execution_count": null,
      "outputs": [
        {
          "output_type": "execute_result",
          "data": {
            "text/plain": [
              "[['Mann', 1999, 'Drama, Romance'],\n",
              " ['Chasing Sleep', 2000, 'Drama, Horror, Mystery']]"
            ]
          },
          "metadata": {
            "tags": []
          },
          "execution_count": 279
        }
      ]
    }
  ]
}