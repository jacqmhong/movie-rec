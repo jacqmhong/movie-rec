{
  "nbformat": 4,
  "nbformat_minor": 0,
  "metadata": {
    "colab": {
      "name": "recommend_content-based.ipynb",
      "provenance": [],
      "collapsed_sections": []
    },
    "kernelspec": {
      "display_name": "Python 3",
      "language": "python",
      "name": "python3"
    },
    "language_info": {
      "codemirror_mode": {
        "name": "ipython",
        "version": 3
      },
      "file_extension": ".py",
      "mimetype": "text/x-python",
      "name": "python",
      "nbconvert_exporter": "python",
      "pygments_lexer": "ipython3",
      "version": "3.6.10"
    }
  },
  "cells": [
    {
      "cell_type": "markdown",
      "metadata": {
        "id": "30rk2A07qN7A"
      },
      "source": [
        "# Content-Based Movie Recommendation System: Using Sentence-Transformers\n",
        "* **Content-based recommendation:** Find movies that are similar to those the user has liked in the past.\n",
        "* Using sentence-transformers to find similar movies. The sentences that are going to be transformed into word vectors are the movie descriptions, which were found in an IMDb dataset: https://www.kaggle.com/stefanoleone992/imdb-extensive-dataset"
      ]
    },
    {
      "cell_type": "code",
      "metadata": {
        "colab": {
          "base_uri": "https://localhost:8080/"
        },
        "id": "qs39Nz5FqN6_",
        "outputId": "3dd21c51-bf22-483d-b690-2836a02a95cf"
      },
      "source": [
        "import numpy as np\n",
        "import pandas as pd\n",
        "import matplotlib.pyplot as plt\n",
        "from google.colab import drive\n",
        "drive.mount('/content/gdrive')"
      ],
      "execution_count": 1,
      "outputs": [
        {
          "output_type": "stream",
          "text": [
            "Mounted at /content/gdrive\n"
          ],
          "name": "stdout"
        }
      ]
    },
    {
      "cell_type": "markdown",
      "metadata": {
        "id": "g7gSJpsHfSPo"
      },
      "source": [
        "## Netflix Prize Dataset"
      ]
    },
    {
      "cell_type": "code",
      "metadata": {
        "colab": {
          "base_uri": "https://localhost:8080/",
          "height": 204
        },
        "id": "Kvl_w58nbeFn",
        "outputId": "1039520b-f93a-4a55-a437-9f0d2a8c0809"
      },
      "source": [
        "# Netflix Prize dataset ratings file\n",
        "original_ratings = pd.read_csv('gdrive/My Drive/combined_data_1.txt', header=None, names=['userId', 'rating'], usecols=[0,1])\n",
        "original_ratings.head()"
      ],
      "execution_count": 2,
      "outputs": [
        {
          "output_type": "execute_result",
          "data": {
            "text/html": [
              "<div>\n",
              "<style scoped>\n",
              "    .dataframe tbody tr th:only-of-type {\n",
              "        vertical-align: middle;\n",
              "    }\n",
              "\n",
              "    .dataframe tbody tr th {\n",
              "        vertical-align: top;\n",
              "    }\n",
              "\n",
              "    .dataframe thead th {\n",
              "        text-align: right;\n",
              "    }\n",
              "</style>\n",
              "<table border=\"1\" class=\"dataframe\">\n",
              "  <thead>\n",
              "    <tr style=\"text-align: right;\">\n",
              "      <th></th>\n",
              "      <th>userId</th>\n",
              "      <th>rating</th>\n",
              "    </tr>\n",
              "  </thead>\n",
              "  <tbody>\n",
              "    <tr>\n",
              "      <th>0</th>\n",
              "      <td>1:</td>\n",
              "      <td>NaN</td>\n",
              "    </tr>\n",
              "    <tr>\n",
              "      <th>1</th>\n",
              "      <td>1488844</td>\n",
              "      <td>3.0</td>\n",
              "    </tr>\n",
              "    <tr>\n",
              "      <th>2</th>\n",
              "      <td>822109</td>\n",
              "      <td>5.0</td>\n",
              "    </tr>\n",
              "    <tr>\n",
              "      <th>3</th>\n",
              "      <td>885013</td>\n",
              "      <td>4.0</td>\n",
              "    </tr>\n",
              "    <tr>\n",
              "      <th>4</th>\n",
              "      <td>30878</td>\n",
              "      <td>4.0</td>\n",
              "    </tr>\n",
              "  </tbody>\n",
              "</table>\n",
              "</div>"
            ],
            "text/plain": [
              "    userId  rating\n",
              "0       1:     NaN\n",
              "1  1488844     3.0\n",
              "2   822109     5.0\n",
              "3   885013     4.0\n",
              "4    30878     4.0"
            ]
          },
          "metadata": {
            "tags": []
          },
          "execution_count": 2
        }
      ]
    },
    {
      "cell_type": "code",
      "metadata": {
        "colab": {
          "base_uri": "https://localhost:8080/"
        },
        "id": "uvowaqBoboWU",
        "outputId": "9e7e23cf-372a-49b2-e54a-399dbc907db6"
      },
      "source": [
        "movie_ids = original_ratings[original_ratings['userId'].str.contains(':')][['userId']]\n",
        "movie_ids = movie_ids['userId'].str.replace(\":\", \"\").astype(int)\n",
        "movie_ids"
      ],
      "execution_count": 3,
      "outputs": [
        {
          "output_type": "execute_result",
          "data": {
            "text/plain": [
              "0              1\n",
              "548            2\n",
              "694            3\n",
              "2707           4\n",
              "2850           5\n",
              "            ... \n",
              "24046714    4495\n",
              "24047329    4496\n",
              "24056849    4497\n",
              "24057564    4498\n",
              "24057834    4499\n",
              "Name: userId, Length: 4499, dtype: int64"
            ]
          },
          "metadata": {
            "tags": []
          },
          "execution_count": 3
        }
      ]
    },
    {
      "cell_type": "code",
      "metadata": {
        "id": "jTKZaekfbp__"
      },
      "source": [
        "def to_append(before_index, current_index, movie_id):\n",
        "    return np.ones(current_index - before_index) * movie_id\n",
        "\n",
        "# faster with preallocation but simpler approach\n",
        "start_movie_ids = []\n",
        "for i in range(1, len(movie_ids)):\n",
        "    array = to_append(movie_ids.index[i-1], movie_ids.index[i], movie_ids.values[i-1])\n",
        "    start_movie_ids = np.concatenate((start_movie_ids, array), axis=None)\n",
        "\n",
        "# adding last movie id\n",
        "start_movie_ids = np.concatenate((start_movie_ids, np.ones(429) * 4499), axis=None)"
      ],
      "execution_count": 5,
      "outputs": []
    },
    {
      "cell_type": "code",
      "metadata": {
        "colab": {
          "base_uri": "https://localhost:8080/",
          "height": 204
        },
        "id": "EDP2Mp6Yb-5P",
        "outputId": "1e964ade-0716-4f15-9083-6c1e72385ee9"
      },
      "source": [
        "original_ratings['movieId'] = start_movie_ids\n",
        "original_ratings = original_ratings[['userId', 'movieId', 'rating']]\n",
        "original_ratings.head()"
      ],
      "execution_count": 6,
      "outputs": [
        {
          "output_type": "execute_result",
          "data": {
            "text/html": [
              "<div>\n",
              "<style scoped>\n",
              "    .dataframe tbody tr th:only-of-type {\n",
              "        vertical-align: middle;\n",
              "    }\n",
              "\n",
              "    .dataframe tbody tr th {\n",
              "        vertical-align: top;\n",
              "    }\n",
              "\n",
              "    .dataframe thead th {\n",
              "        text-align: right;\n",
              "    }\n",
              "</style>\n",
              "<table border=\"1\" class=\"dataframe\">\n",
              "  <thead>\n",
              "    <tr style=\"text-align: right;\">\n",
              "      <th></th>\n",
              "      <th>userId</th>\n",
              "      <th>movieId</th>\n",
              "      <th>rating</th>\n",
              "    </tr>\n",
              "  </thead>\n",
              "  <tbody>\n",
              "    <tr>\n",
              "      <th>0</th>\n",
              "      <td>1:</td>\n",
              "      <td>1.0</td>\n",
              "      <td>NaN</td>\n",
              "    </tr>\n",
              "    <tr>\n",
              "      <th>1</th>\n",
              "      <td>1488844</td>\n",
              "      <td>1.0</td>\n",
              "      <td>3.0</td>\n",
              "    </tr>\n",
              "    <tr>\n",
              "      <th>2</th>\n",
              "      <td>822109</td>\n",
              "      <td>1.0</td>\n",
              "      <td>5.0</td>\n",
              "    </tr>\n",
              "    <tr>\n",
              "      <th>3</th>\n",
              "      <td>885013</td>\n",
              "      <td>1.0</td>\n",
              "      <td>4.0</td>\n",
              "    </tr>\n",
              "    <tr>\n",
              "      <th>4</th>\n",
              "      <td>30878</td>\n",
              "      <td>1.0</td>\n",
              "      <td>4.0</td>\n",
              "    </tr>\n",
              "  </tbody>\n",
              "</table>\n",
              "</div>"
            ],
            "text/plain": [
              "    userId  movieId  rating\n",
              "0       1:      1.0     NaN\n",
              "1  1488844      1.0     3.0\n",
              "2   822109      1.0     5.0\n",
              "3   885013      1.0     4.0\n",
              "4    30878      1.0     4.0"
            ]
          },
          "metadata": {
            "tags": []
          },
          "execution_count": 6
        }
      ]
    },
    {
      "cell_type": "code",
      "metadata": {
        "colab": {
          "base_uri": "https://localhost:8080/"
        },
        "id": "JbtXZOZ6cBQx",
        "outputId": "c74f10b4-822e-4654-ecb5-e48f3fe42f20"
      },
      "source": [
        "for col in original_ratings.columns:\n",
        "    print(col, \"NA values:\", sum(original_ratings[col].isna()))"
      ],
      "execution_count": 7,
      "outputs": [
        {
          "output_type": "stream",
          "text": [
            "userId NA values: 0\n",
            "movieId NA values: 0\n",
            "rating NA values: 4499\n"
          ],
          "name": "stdout"
        }
      ]
    },
    {
      "cell_type": "markdown",
      "metadata": {
        "id": "-TtJl3pTcENs"
      },
      "source": [
        "* There are 4499 movie ids incorrectly within the userId column. Movie ids do not have ratings and so the rating of those rows should be NA. Otherwise, there are no null values. The final dataframe will be completed after dropping where 'rating' is NA, aka the rows where the userId column contains a movieId."
      ]
    },
    {
      "cell_type": "code",
      "metadata": {
        "colab": {
          "base_uri": "https://localhost:8080/",
          "height": 408
        },
        "id": "UepWG7XKcOKV",
        "outputId": "0c009e53-d8e2-4729-f9e9-0951e6d01f5a"
      },
      "source": [
        "# Final dataframe\n",
        "ratings = original_ratings.dropna()\n",
        "ratings['movieId'] = ratings['movieId'].apply(round) # movieIds showed as floats, rounding for cleanliness\n",
        "ratings['userId'] = ratings['userId'].astype(int) # Now that the movieIds (\"1:\") are gone, can make userId nums into ints\n",
        "ratings.head()"
      ],
      "execution_count": 8,
      "outputs": [
        {
          "output_type": "stream",
          "text": [
            "/usr/local/lib/python3.6/dist-packages/ipykernel_launcher.py:3: SettingWithCopyWarning: \n",
            "A value is trying to be set on a copy of a slice from a DataFrame.\n",
            "Try using .loc[row_indexer,col_indexer] = value instead\n",
            "\n",
            "See the caveats in the documentation: https://pandas.pydata.org/pandas-docs/stable/user_guide/indexing.html#returning-a-view-versus-a-copy\n",
            "  This is separate from the ipykernel package so we can avoid doing imports until\n",
            "/usr/local/lib/python3.6/dist-packages/ipykernel_launcher.py:4: SettingWithCopyWarning: \n",
            "A value is trying to be set on a copy of a slice from a DataFrame.\n",
            "Try using .loc[row_indexer,col_indexer] = value instead\n",
            "\n",
            "See the caveats in the documentation: https://pandas.pydata.org/pandas-docs/stable/user_guide/indexing.html#returning-a-view-versus-a-copy\n",
            "  after removing the cwd from sys.path.\n"
          ],
          "name": "stderr"
        },
        {
          "output_type": "execute_result",
          "data": {
            "text/html": [
              "<div>\n",
              "<style scoped>\n",
              "    .dataframe tbody tr th:only-of-type {\n",
              "        vertical-align: middle;\n",
              "    }\n",
              "\n",
              "    .dataframe tbody tr th {\n",
              "        vertical-align: top;\n",
              "    }\n",
              "\n",
              "    .dataframe thead th {\n",
              "        text-align: right;\n",
              "    }\n",
              "</style>\n",
              "<table border=\"1\" class=\"dataframe\">\n",
              "  <thead>\n",
              "    <tr style=\"text-align: right;\">\n",
              "      <th></th>\n",
              "      <th>userId</th>\n",
              "      <th>movieId</th>\n",
              "      <th>rating</th>\n",
              "    </tr>\n",
              "  </thead>\n",
              "  <tbody>\n",
              "    <tr>\n",
              "      <th>1</th>\n",
              "      <td>1488844</td>\n",
              "      <td>1</td>\n",
              "      <td>3.0</td>\n",
              "    </tr>\n",
              "    <tr>\n",
              "      <th>2</th>\n",
              "      <td>822109</td>\n",
              "      <td>1</td>\n",
              "      <td>5.0</td>\n",
              "    </tr>\n",
              "    <tr>\n",
              "      <th>3</th>\n",
              "      <td>885013</td>\n",
              "      <td>1</td>\n",
              "      <td>4.0</td>\n",
              "    </tr>\n",
              "    <tr>\n",
              "      <th>4</th>\n",
              "      <td>30878</td>\n",
              "      <td>1</td>\n",
              "      <td>4.0</td>\n",
              "    </tr>\n",
              "    <tr>\n",
              "      <th>5</th>\n",
              "      <td>823519</td>\n",
              "      <td>1</td>\n",
              "      <td>3.0</td>\n",
              "    </tr>\n",
              "  </tbody>\n",
              "</table>\n",
              "</div>"
            ],
            "text/plain": [
              "    userId  movieId  rating\n",
              "1  1488844        1     3.0\n",
              "2   822109        1     5.0\n",
              "3   885013        1     4.0\n",
              "4    30878        1     4.0\n",
              "5   823519        1     3.0"
            ]
          },
          "metadata": {
            "tags": []
          },
          "execution_count": 8
        }
      ]
    },
    {
      "cell_type": "code",
      "metadata": {
        "colab": {
          "base_uri": "https://localhost:8080/"
        },
        "id": "hGNK-_AEcpIE",
        "outputId": "b6e79c8c-d909-43a8-aa3d-934d83d1f7c0"
      },
      "source": [
        "print(\"Num movies:\", len(np.unique(ratings['movieId'])))\n",
        "print(\"Num users:\", len(np.unique(ratings['userId'])))\n",
        "print(\"Num ratings:\", ratings.shape[0])"
      ],
      "execution_count": 10,
      "outputs": [
        {
          "output_type": "stream",
          "text": [
            "Num movies: 4499\n",
            "Num users: 470758\n",
            "Num ratings: 24053764\n"
          ],
          "name": "stdout"
        }
      ]
    },
    {
      "cell_type": "code",
      "metadata": {
        "colab": {
          "base_uri": "https://localhost:8080/",
          "height": 204
        },
        "id": "MMhPGP7dqN7C",
        "outputId": "ac18f34c-127d-4ae0-df13-7d65f11b0814"
      },
      "source": [
        "# Netfix Prize dataset movies file\n",
        "movies = pd.read_csv('gdrive/My Drive/movie_titles.csv', encoding='latin1')[['movieId', 'year', 'title']]\n",
        "movies.head()"
      ],
      "execution_count": 9,
      "outputs": [
        {
          "output_type": "execute_result",
          "data": {
            "text/html": [
              "<div>\n",
              "<style scoped>\n",
              "    .dataframe tbody tr th:only-of-type {\n",
              "        vertical-align: middle;\n",
              "    }\n",
              "\n",
              "    .dataframe tbody tr th {\n",
              "        vertical-align: top;\n",
              "    }\n",
              "\n",
              "    .dataframe thead th {\n",
              "        text-align: right;\n",
              "    }\n",
              "</style>\n",
              "<table border=\"1\" class=\"dataframe\">\n",
              "  <thead>\n",
              "    <tr style=\"text-align: right;\">\n",
              "      <th></th>\n",
              "      <th>movieId</th>\n",
              "      <th>year</th>\n",
              "      <th>title</th>\n",
              "    </tr>\n",
              "  </thead>\n",
              "  <tbody>\n",
              "    <tr>\n",
              "      <th>0</th>\n",
              "      <td>1</td>\n",
              "      <td>2003.0</td>\n",
              "      <td>Dinosaur Planet</td>\n",
              "    </tr>\n",
              "    <tr>\n",
              "      <th>1</th>\n",
              "      <td>2</td>\n",
              "      <td>2004.0</td>\n",
              "      <td>Isle of Man TT 2004 Review</td>\n",
              "    </tr>\n",
              "    <tr>\n",
              "      <th>2</th>\n",
              "      <td>3</td>\n",
              "      <td>1997.0</td>\n",
              "      <td>Character</td>\n",
              "    </tr>\n",
              "    <tr>\n",
              "      <th>3</th>\n",
              "      <td>4</td>\n",
              "      <td>1994.0</td>\n",
              "      <td>Paula Abdul's Get Up &amp; Dance</td>\n",
              "    </tr>\n",
              "    <tr>\n",
              "      <th>4</th>\n",
              "      <td>5</td>\n",
              "      <td>2004.0</td>\n",
              "      <td>The Rise and Fall of ECW</td>\n",
              "    </tr>\n",
              "  </tbody>\n",
              "</table>\n",
              "</div>"
            ],
            "text/plain": [
              "   movieId    year                         title\n",
              "0        1  2003.0               Dinosaur Planet\n",
              "1        2  2004.0    Isle of Man TT 2004 Review\n",
              "2        3  1997.0                     Character\n",
              "3        4  1994.0  Paula Abdul's Get Up & Dance\n",
              "4        5  2004.0      The Rise and Fall of ECW"
            ]
          },
          "metadata": {
            "tags": []
          },
          "execution_count": 9
        }
      ]
    },
    {
      "cell_type": "markdown",
      "metadata": {
        "id": "rO4r71v0c183"
      },
      "source": [
        "## Dataset Cleaning\n",
        "* The same cleaning was done in the user-based recommender. Moving that cleaning here."
      ]
    },
    {
      "cell_type": "markdown",
      "metadata": {
        "id": "ykm9Qu9CdR-A"
      },
      "source": [
        "Unpopular movies will be removed to reduce dimensionality, take up less RAM, and improve computation (since they hold the same weight as popular movies in the matrix)."
      ]
    },
    {
      "cell_type": "code",
      "metadata": {
        "colab": {
          "base_uri": "https://localhost:8080/"
        },
        "id": "v8wiujyrc1b0",
        "outputId": "33ab442f-3985-4dcc-ed1f-a74bca4853f9"
      },
      "source": [
        "# Getting the top 30% most rated movies\n",
        "movie_size = ratings.groupby('movieId').size()\n",
        "row_num = len(movie_size) * .70\n",
        "min_size = movie_size.sort_values()[round(row_num):].values.item(0)\n",
        "most_rated_movies = movie_size[movie_size > min_size].index\n",
        "\n",
        "# Removing 70% of the amount of movies, not 70% of ratings (those that were rated the least)\n",
        "low_rates_removed = ratings.copy()\n",
        "low_rates_removed = low_rates_removed[low_rates_removed['movieId'].isin(most_rated_movies)]\n",
        "low_rates_removed.shape"
      ],
      "execution_count": 12,
      "outputs": [
        {
          "output_type": "execute_result",
          "data": {
            "text/plain": [
              "(22626287, 3)"
            ]
          },
          "metadata": {
            "tags": []
          },
          "execution_count": 12
        }
      ]
    },
    {
      "cell_type": "markdown",
      "metadata": {
        "id": "oP2KXaDrdmn6"
      },
      "source": [
        "In addition, inactive users will be removed for the same reasons as there are still about 22.6 million rows. Inactive users will be defined by the amount of times they have rated movies."
      ]
    },
    {
      "cell_type": "code",
      "metadata": {
        "colab": {
          "base_uri": "https://localhost:8080/"
        },
        "id": "-yKnMHYudnbT",
        "outputId": "88f7a2df-2a5d-4c31-d3d7-352a57ba6b1e"
      },
      "source": [
        "# Getting the top 30% most active users\n",
        "user_size = ratings.groupby('userId').size()\n",
        "row_num = len(user_size) * .70\n",
        "min_size = user_size.sort_values()[round(row_num):].values.item(0)\n",
        "most_active_users = user_size[user_size > min_size].index\n",
        "\n",
        "# Removing 70% of users due to inactivity\n",
        "inactive_users_removed = ratings.copy()\n",
        "inactive_users_removed = inactive_users_removed[inactive_users_removed['userId'].isin(most_active_users)]\n",
        "\n",
        "# Renaming for clarity\n",
        "cleaned_ratings = inactive_users_removed.copy()\n",
        "cleaned_ratings.shape"
      ],
      "execution_count": 13,
      "outputs": [
        {
          "output_type": "execute_result",
          "data": {
            "text/plain": [
              "(18335431, 3)"
            ]
          },
          "metadata": {
            "tags": []
          },
          "execution_count": 13
        }
      ]
    },
    {
      "cell_type": "markdown",
      "metadata": {
        "id": "8Wq0UYUAdvRr"
      },
      "source": [
        "* When removing the least active 70% of users, 4.3 million ratings have been removed, leaving the dataframe at 18.3 million ratings."
      ]
    },
    {
      "cell_type": "code",
      "metadata": {
        "colab": {
          "base_uri": "https://localhost:8080/",
          "height": 204
        },
        "id": "jR7xSljRf0oH",
        "outputId": "56024124-a0c3-4ee9-c6b2-703c33ee1da9"
      },
      "source": [
        "rates_with_titles = cleaned_ratings.merge(movies, left_on='movieId', right_on='movieId')\n",
        "rates_with_titles.head()"
      ],
      "execution_count": 26,
      "outputs": [
        {
          "output_type": "execute_result",
          "data": {
            "text/html": [
              "<div>\n",
              "<style scoped>\n",
              "    .dataframe tbody tr th:only-of-type {\n",
              "        vertical-align: middle;\n",
              "    }\n",
              "\n",
              "    .dataframe tbody tr th {\n",
              "        vertical-align: top;\n",
              "    }\n",
              "\n",
              "    .dataframe thead th {\n",
              "        text-align: right;\n",
              "    }\n",
              "</style>\n",
              "<table border=\"1\" class=\"dataframe\">\n",
              "  <thead>\n",
              "    <tr style=\"text-align: right;\">\n",
              "      <th></th>\n",
              "      <th>userId</th>\n",
              "      <th>movieId</th>\n",
              "      <th>rating</th>\n",
              "      <th>year</th>\n",
              "      <th>title</th>\n",
              "    </tr>\n",
              "  </thead>\n",
              "  <tbody>\n",
              "    <tr>\n",
              "      <th>0</th>\n",
              "      <td>1488844</td>\n",
              "      <td>1</td>\n",
              "      <td>3.0</td>\n",
              "      <td>2003.0</td>\n",
              "      <td>Dinosaur Planet</td>\n",
              "    </tr>\n",
              "    <tr>\n",
              "      <th>1</th>\n",
              "      <td>885013</td>\n",
              "      <td>1</td>\n",
              "      <td>4.0</td>\n",
              "      <td>2003.0</td>\n",
              "      <td>Dinosaur Planet</td>\n",
              "    </tr>\n",
              "    <tr>\n",
              "      <th>2</th>\n",
              "      <td>30878</td>\n",
              "      <td>1</td>\n",
              "      <td>4.0</td>\n",
              "      <td>2003.0</td>\n",
              "      <td>Dinosaur Planet</td>\n",
              "    </tr>\n",
              "    <tr>\n",
              "      <th>3</th>\n",
              "      <td>823519</td>\n",
              "      <td>1</td>\n",
              "      <td>3.0</td>\n",
              "      <td>2003.0</td>\n",
              "      <td>Dinosaur Planet</td>\n",
              "    </tr>\n",
              "    <tr>\n",
              "      <th>4</th>\n",
              "      <td>893988</td>\n",
              "      <td>1</td>\n",
              "      <td>3.0</td>\n",
              "      <td>2003.0</td>\n",
              "      <td>Dinosaur Planet</td>\n",
              "    </tr>\n",
              "  </tbody>\n",
              "</table>\n",
              "</div>"
            ],
            "text/plain": [
              "    userId  movieId  rating    year            title\n",
              "0  1488844        1     3.0  2003.0  Dinosaur Planet\n",
              "1   885013        1     4.0  2003.0  Dinosaur Planet\n",
              "2    30878        1     4.0  2003.0  Dinosaur Planet\n",
              "3   823519        1     3.0  2003.0  Dinosaur Planet\n",
              "4   893988        1     3.0  2003.0  Dinosaur Planet"
            ]
          },
          "metadata": {
            "tags": []
          },
          "execution_count": 26
        }
      ]
    },
    {
      "cell_type": "markdown",
      "metadata": {
        "id": "vVVwxRPmqN7D"
      },
      "source": [
        "## Incorporating IMDb Movie Descriptions"
      ]
    },
    {
      "cell_type": "code",
      "metadata": {
        "id": "KbEmxqD4qN7D",
        "colab": {
          "base_uri": "https://localhost:8080/",
          "height": 258
        },
        "outputId": "d9217593-d1eb-4ca9-f15a-d44016e8203b"
      },
      "source": [
        "imdb = pd.read_csv('gdrive/My Drive/imdb_movies.csv')\n",
        "imdb = imdb[['title', 'original_title', 'year', 'genre', 'description']]\n",
        "imdb.head()"
      ],
      "execution_count": 18,
      "outputs": [
        {
          "output_type": "stream",
          "text": [
            "/usr/local/lib/python3.6/dist-packages/IPython/core/interactiveshell.py:2718: DtypeWarning: Columns (3) have mixed types.Specify dtype option on import or set low_memory=False.\n",
            "  interactivity=interactivity, compiler=compiler, result=result)\n"
          ],
          "name": "stderr"
        },
        {
          "output_type": "execute_result",
          "data": {
            "text/html": [
              "<div>\n",
              "<style scoped>\n",
              "    .dataframe tbody tr th:only-of-type {\n",
              "        vertical-align: middle;\n",
              "    }\n",
              "\n",
              "    .dataframe tbody tr th {\n",
              "        vertical-align: top;\n",
              "    }\n",
              "\n",
              "    .dataframe thead th {\n",
              "        text-align: right;\n",
              "    }\n",
              "</style>\n",
              "<table border=\"1\" class=\"dataframe\">\n",
              "  <thead>\n",
              "    <tr style=\"text-align: right;\">\n",
              "      <th></th>\n",
              "      <th>title</th>\n",
              "      <th>original_title</th>\n",
              "      <th>year</th>\n",
              "      <th>genre</th>\n",
              "      <th>description</th>\n",
              "    </tr>\n",
              "  </thead>\n",
              "  <tbody>\n",
              "    <tr>\n",
              "      <th>0</th>\n",
              "      <td>Miss Jerry</td>\n",
              "      <td>Miss Jerry</td>\n",
              "      <td>1894</td>\n",
              "      <td>Romance</td>\n",
              "      <td>The adventures of a female reporter in the 1890s.</td>\n",
              "    </tr>\n",
              "    <tr>\n",
              "      <th>1</th>\n",
              "      <td>The Story of the Kelly Gang</td>\n",
              "      <td>The Story of the Kelly Gang</td>\n",
              "      <td>1906</td>\n",
              "      <td>Biography, Crime, Drama</td>\n",
              "      <td>True story of notorious Australian outlaw Ned ...</td>\n",
              "    </tr>\n",
              "    <tr>\n",
              "      <th>2</th>\n",
              "      <td>Den sorte drøm</td>\n",
              "      <td>Den sorte drøm</td>\n",
              "      <td>1911</td>\n",
              "      <td>Drama</td>\n",
              "      <td>Two men of high rank are both wooing the beaut...</td>\n",
              "    </tr>\n",
              "    <tr>\n",
              "      <th>3</th>\n",
              "      <td>Cleopatra</td>\n",
              "      <td>Cleopatra</td>\n",
              "      <td>1912</td>\n",
              "      <td>Drama, History</td>\n",
              "      <td>The fabled queen of Egypt's affair with Roman ...</td>\n",
              "    </tr>\n",
              "    <tr>\n",
              "      <th>4</th>\n",
              "      <td>L'Inferno</td>\n",
              "      <td>L'Inferno</td>\n",
              "      <td>1911</td>\n",
              "      <td>Adventure, Drama, Fantasy</td>\n",
              "      <td>Loosely adapted from Dante's Divine Comedy and...</td>\n",
              "    </tr>\n",
              "  </tbody>\n",
              "</table>\n",
              "</div>"
            ],
            "text/plain": [
              "                         title  ...                                        description\n",
              "0                   Miss Jerry  ...  The adventures of a female reporter in the 1890s.\n",
              "1  The Story of the Kelly Gang  ...  True story of notorious Australian outlaw Ned ...\n",
              "2               Den sorte drøm  ...  Two men of high rank are both wooing the beaut...\n",
              "3                    Cleopatra  ...  The fabled queen of Egypt's affair with Roman ...\n",
              "4                    L'Inferno  ...  Loosely adapted from Dante's Divine Comedy and...\n",
              "\n",
              "[5 rows x 5 columns]"
            ]
          },
          "metadata": {
            "tags": []
          },
          "execution_count": 18
        }
      ]
    },
    {
      "cell_type": "code",
      "metadata": {
        "id": "otyxeJ3qqN7D",
        "colab": {
          "base_uri": "https://localhost:8080/"
        },
        "outputId": "534f5271-caf2-456a-84c9-b4bb5997f429"
      },
      "source": [
        "imdb.shape"
      ],
      "execution_count": 19,
      "outputs": [
        {
          "output_type": "execute_result",
          "data": {
            "text/plain": [
              "(85855, 5)"
            ]
          },
          "metadata": {
            "tags": []
          },
          "execution_count": 19
        }
      ]
    },
    {
      "cell_type": "code",
      "metadata": {
        "id": "OhMovYyTqN7D",
        "colab": {
          "base_uri": "https://localhost:8080/"
        },
        "outputId": "52df8eb7-2a2e-4a00-bbc6-adec1f080267"
      },
      "source": [
        "sum(~(imdb['title'] == imdb['original_title']))"
      ],
      "execution_count": 20,
      "outputs": [
        {
          "output_type": "execute_result",
          "data": {
            "text/plain": [
              "23372"
            ]
          },
          "metadata": {
            "tags": []
          },
          "execution_count": 20
        }
      ]
    },
    {
      "cell_type": "markdown",
      "metadata": {
        "id": "Xm_YmrBnqN7D"
      },
      "source": [
        "* Use 'title' or 'original_title'? There are 23,372 movies where the title and original title do not match out of 85,855 movies."
      ]
    },
    {
      "cell_type": "code",
      "metadata": {
        "id": "qOBeBzMTqN7D",
        "colab": {
          "base_uri": "https://localhost:8080/"
        },
        "outputId": "60607206-07d2-4ac4-8c3b-8f914daea75c"
      },
      "source": [
        "len(movies['title'].values), len(imdb['title'].values)"
      ],
      "execution_count": 21,
      "outputs": [
        {
          "output_type": "execute_result",
          "data": {
            "text/plain": [
              "(17770, 85855)"
            ]
          },
          "metadata": {
            "tags": []
          },
          "execution_count": 21
        }
      ]
    },
    {
      "cell_type": "code",
      "metadata": {
        "colab": {
          "base_uri": "https://localhost:8080/"
        },
        "id": "omq2EcVYgBnE",
        "outputId": "7a44ca19-4dce-4ca6-da99-b45eeb6d8904"
      },
      "source": [
        "len(np.unique(rates_with_titles['title'].values)), len(imdb['title'].values)"
      ],
      "execution_count": 28,
      "outputs": [
        {
          "output_type": "execute_result",
          "data": {
            "text/plain": [
              "(4471, 85855)"
            ]
          },
          "metadata": {
            "tags": []
          },
          "execution_count": 28
        }
      ]
    },
    {
      "cell_type": "markdown",
      "metadata": {
        "id": "4jQHHlXPfYTZ"
      },
      "source": [
        "* There are 4471 different movies in the cleaned Netflix dataset and 85,855 in the IMDb dataset."
      ]
    },
    {
      "cell_type": "code",
      "metadata": {
        "id": "vUEGvlEkqN7D",
        "colab": {
          "base_uri": "https://localhost:8080/"
        },
        "outputId": "d9a5a466-b10c-48da-8cb7-a33d8fea49d2"
      },
      "source": [
        "# Number of overlapping titles between cleaned Netflix and IMDb using column 'title'\n",
        "count = 0\n",
        "for movie in np.unique(rates_with_titles['title'].values):\n",
        "    if movie in imdb['title'].values:\n",
        "        count += 1\n",
        "count"
      ],
      "execution_count": 33,
      "outputs": [
        {
          "output_type": "execute_result",
          "data": {
            "text/plain": [
              "906"
            ]
          },
          "metadata": {
            "tags": []
          },
          "execution_count": 33
        }
      ]
    },
    {
      "cell_type": "code",
      "metadata": {
        "id": "uV7bO0QsqN7D",
        "colab": {
          "base_uri": "https://localhost:8080/"
        },
        "outputId": "e0d2fc88-0e1a-4032-d851-e8cae614d64b"
      },
      "source": [
        "# Number of overlapping titles between cleaned Netflix and IMDb using column 'original_title'\n",
        "count = 0\n",
        "for movie in np.unique(rates_with_titles['title'].values):\n",
        "    if movie in imdb['original_title'].values:\n",
        "        count += 1\n",
        "count"
      ],
      "execution_count": 34,
      "outputs": [
        {
          "output_type": "execute_result",
          "data": {
            "text/plain": [
              "1943"
            ]
          },
          "metadata": {
            "tags": []
          },
          "execution_count": 34
        }
      ]
    },
    {
      "cell_type": "markdown",
      "metadata": {
        "id": "aHArNDD4gpTy"
      },
      "source": [
        "Since there is a fairly small count of overlapping movies when using the cleaned dataset and because the Surprise library is not being used anymore (no need for more RAM), the original dataset will be used."
      ]
    },
    {
      "cell_type": "code",
      "metadata": {
        "colab": {
          "base_uri": "https://localhost:8080/"
        },
        "id": "nMeynLaQhBVO",
        "outputId": "c31d637e-d230-4897-86ca-faec53ffa1e4"
      },
      "source": [
        "len(movies['title'].values), len(imdb['title'].values)"
      ],
      "execution_count": 31,
      "outputs": [
        {
          "output_type": "execute_result",
          "data": {
            "text/plain": [
              "(17770, 85855)"
            ]
          },
          "metadata": {
            "tags": []
          },
          "execution_count": 31
        }
      ]
    },
    {
      "cell_type": "markdown",
      "metadata": {
        "id": "XJwQK7_hhGSJ"
      },
      "source": [
        "* There are 17,770 different movies in the cleaned Netflix dataset and 85,855 in the IMDb dataset."
      ]
    },
    {
      "cell_type": "code",
      "metadata": {
        "colab": {
          "base_uri": "https://localhost:8080/"
        },
        "id": "CukV0-djhLXq",
        "outputId": "9368d501-8b3e-4af1-af41-ab15477ae8e9"
      },
      "source": [
        "# Number of overlapping titles between Netflix and IMDb using column 'title'\n",
        "count = 0\n",
        "for movie in movies['title'].values:\n",
        "    if movie in imdb['title'].values:\n",
        "        count += 1\n",
        "count"
      ],
      "execution_count": 35,
      "outputs": [
        {
          "output_type": "execute_result",
          "data": {
            "text/plain": [
              "3745"
            ]
          },
          "metadata": {
            "tags": []
          },
          "execution_count": 35
        }
      ]
    },
    {
      "cell_type": "code",
      "metadata": {
        "colab": {
          "base_uri": "https://localhost:8080/"
        },
        "id": "8grO11TehLXq",
        "outputId": "b31674fc-2d4b-4266-cbaf-930eabf22c20"
      },
      "source": [
        "# Number of overlapping titles between Netflix and IMDb using column 'original_title'\n",
        "count = 0\n",
        "for movie in movies['title'].values:\n",
        "    if movie in imdb['original_title'].values:\n",
        "        count += 1\n",
        "count"
      ],
      "execution_count": 36,
      "outputs": [
        {
          "output_type": "execute_result",
          "data": {
            "text/plain": [
              "7787"
            ]
          },
          "metadata": {
            "tags": []
          },
          "execution_count": 36
        }
      ]
    },
    {
      "cell_type": "markdown",
      "metadata": {
        "id": "G6dL2cpbqN7D"
      },
      "source": [
        "* It looks like Netflix uses the original titles of movies as there are more overlapping titles with 'original_title'. 'original_title' will be used."
      ]
    },
    {
      "cell_type": "code",
      "metadata": {
        "id": "Wzg4pEmjqN7D",
        "colab": {
          "base_uri": "https://localhost:8080/",
          "height": 204
        },
        "outputId": "995b1f03-dee5-480e-b75c-cc5d713974cd"
      },
      "source": [
        "imdb_subset = imdb[['original_title', 'year', 'genre', 'description']]\n",
        "imdb_subset.head()"
      ],
      "execution_count": 37,
      "outputs": [
        {
          "output_type": "execute_result",
          "data": {
            "text/html": [
              "<div>\n",
              "<style scoped>\n",
              "    .dataframe tbody tr th:only-of-type {\n",
              "        vertical-align: middle;\n",
              "    }\n",
              "\n",
              "    .dataframe tbody tr th {\n",
              "        vertical-align: top;\n",
              "    }\n",
              "\n",
              "    .dataframe thead th {\n",
              "        text-align: right;\n",
              "    }\n",
              "</style>\n",
              "<table border=\"1\" class=\"dataframe\">\n",
              "  <thead>\n",
              "    <tr style=\"text-align: right;\">\n",
              "      <th></th>\n",
              "      <th>original_title</th>\n",
              "      <th>year</th>\n",
              "      <th>genre</th>\n",
              "      <th>description</th>\n",
              "    </tr>\n",
              "  </thead>\n",
              "  <tbody>\n",
              "    <tr>\n",
              "      <th>0</th>\n",
              "      <td>Miss Jerry</td>\n",
              "      <td>1894</td>\n",
              "      <td>Romance</td>\n",
              "      <td>The adventures of a female reporter in the 1890s.</td>\n",
              "    </tr>\n",
              "    <tr>\n",
              "      <th>1</th>\n",
              "      <td>The Story of the Kelly Gang</td>\n",
              "      <td>1906</td>\n",
              "      <td>Biography, Crime, Drama</td>\n",
              "      <td>True story of notorious Australian outlaw Ned ...</td>\n",
              "    </tr>\n",
              "    <tr>\n",
              "      <th>2</th>\n",
              "      <td>Den sorte drøm</td>\n",
              "      <td>1911</td>\n",
              "      <td>Drama</td>\n",
              "      <td>Two men of high rank are both wooing the beaut...</td>\n",
              "    </tr>\n",
              "    <tr>\n",
              "      <th>3</th>\n",
              "      <td>Cleopatra</td>\n",
              "      <td>1912</td>\n",
              "      <td>Drama, History</td>\n",
              "      <td>The fabled queen of Egypt's affair with Roman ...</td>\n",
              "    </tr>\n",
              "    <tr>\n",
              "      <th>4</th>\n",
              "      <td>L'Inferno</td>\n",
              "      <td>1911</td>\n",
              "      <td>Adventure, Drama, Fantasy</td>\n",
              "      <td>Loosely adapted from Dante's Divine Comedy and...</td>\n",
              "    </tr>\n",
              "  </tbody>\n",
              "</table>\n",
              "</div>"
            ],
            "text/plain": [
              "                original_title  ...                                        description\n",
              "0                   Miss Jerry  ...  The adventures of a female reporter in the 1890s.\n",
              "1  The Story of the Kelly Gang  ...  True story of notorious Australian outlaw Ned ...\n",
              "2               Den sorte drøm  ...  Two men of high rank are both wooing the beaut...\n",
              "3                    Cleopatra  ...  The fabled queen of Egypt's affair with Roman ...\n",
              "4                    L'Inferno  ...  Loosely adapted from Dante's Divine Comedy and...\n",
              "\n",
              "[5 rows x 4 columns]"
            ]
          },
          "metadata": {
            "tags": []
          },
          "execution_count": 37
        }
      ]
    },
    {
      "cell_type": "code",
      "metadata": {
        "id": "rXus3lE6qN7D",
        "colab": {
          "base_uri": "https://localhost:8080/",
          "height": 204
        },
        "outputId": "710af487-39fb-4a51-edbf-369d1e284ce0"
      },
      "source": [
        "movies_descrip = movies.merge(imdb_subset, left_on='title', right_on='original_title')\n",
        "movies_descrip.head()"
      ],
      "execution_count": 38,
      "outputs": [
        {
          "output_type": "execute_result",
          "data": {
            "text/html": [
              "<div>\n",
              "<style scoped>\n",
              "    .dataframe tbody tr th:only-of-type {\n",
              "        vertical-align: middle;\n",
              "    }\n",
              "\n",
              "    .dataframe tbody tr th {\n",
              "        vertical-align: top;\n",
              "    }\n",
              "\n",
              "    .dataframe thead th {\n",
              "        text-align: right;\n",
              "    }\n",
              "</style>\n",
              "<table border=\"1\" class=\"dataframe\">\n",
              "  <thead>\n",
              "    <tr style=\"text-align: right;\">\n",
              "      <th></th>\n",
              "      <th>movieId</th>\n",
              "      <th>year_x</th>\n",
              "      <th>title</th>\n",
              "      <th>original_title</th>\n",
              "      <th>year_y</th>\n",
              "      <th>genre</th>\n",
              "      <th>description</th>\n",
              "    </tr>\n",
              "  </thead>\n",
              "  <tbody>\n",
              "    <tr>\n",
              "      <th>0</th>\n",
              "      <td>6</td>\n",
              "      <td>1997.0</td>\n",
              "      <td>Sick</td>\n",
              "      <td>Sick</td>\n",
              "      <td>2012</td>\n",
              "      <td>Horror, Sci-Fi</td>\n",
              "      <td>Two years into the outbreak, the remaining peo...</td>\n",
              "    </tr>\n",
              "    <tr>\n",
              "      <th>1</th>\n",
              "      <td>10</td>\n",
              "      <td>2001.0</td>\n",
              "      <td>Fighter</td>\n",
              "      <td>Fighter</td>\n",
              "      <td>2007</td>\n",
              "      <td>Action, Drama</td>\n",
              "      <td>Aicha attends Kung Fu at her high school in Co...</td>\n",
              "    </tr>\n",
              "    <tr>\n",
              "      <th>2</th>\n",
              "      <td>10</td>\n",
              "      <td>2001.0</td>\n",
              "      <td>Fighter</td>\n",
              "      <td>Fighter</td>\n",
              "      <td>2019</td>\n",
              "      <td>Action, Drama, Sport</td>\n",
              "      <td>The story is about a MMA fighter - Tomek Janic...</td>\n",
              "    </tr>\n",
              "    <tr>\n",
              "      <th>3</th>\n",
              "      <td>10</td>\n",
              "      <td>2001.0</td>\n",
              "      <td>Fighter</td>\n",
              "      <td>Fighter</td>\n",
              "      <td>2011</td>\n",
              "      <td>Action</td>\n",
              "      <td>Suriya is a college student who lives with his...</td>\n",
              "    </tr>\n",
              "    <tr>\n",
              "      <th>4</th>\n",
              "      <td>12</td>\n",
              "      <td>1947.0</td>\n",
              "      <td>My Favorite Brunette</td>\n",
              "      <td>My Favorite Brunette</td>\n",
              "      <td>1947</td>\n",
              "      <td>Comedy, Crime, Mystery</td>\n",
              "      <td>Shortly before his execution on the death row ...</td>\n",
              "    </tr>\n",
              "  </tbody>\n",
              "</table>\n",
              "</div>"
            ],
            "text/plain": [
              "   movieId  ...                                        description\n",
              "0        6  ...  Two years into the outbreak, the remaining peo...\n",
              "1       10  ...  Aicha attends Kung Fu at her high school in Co...\n",
              "2       10  ...  The story is about a MMA fighter - Tomek Janic...\n",
              "3       10  ...  Suriya is a college student who lives with his...\n",
              "4       12  ...  Shortly before his execution on the death row ...\n",
              "\n",
              "[5 rows x 7 columns]"
            ]
          },
          "metadata": {
            "tags": []
          },
          "execution_count": 38
        }
      ]
    },
    {
      "cell_type": "markdown",
      "metadata": {
        "id": "C1exEkcWqN7D"
      },
      "source": [
        "* There may not truly be 7787 movies in common between the two datasets. This is indicated by the overlapping movie titles that have different publishing years."
      ]
    },
    {
      "cell_type": "code",
      "metadata": {
        "id": "LqHbWRxmqN7D",
        "colab": {
          "base_uri": "https://localhost:8080/",
          "height": 204
        },
        "outputId": "d3d91833-640c-4a03-adb6-4c44bccd2cff"
      },
      "source": [
        "movies_descrip = movies.merge(imdb_subset, left_on=['title', 'year'], right_on=['original_title', 'year']).drop('original_title', axis=1)\n",
        "movies_descrip.head()"
      ],
      "execution_count": 39,
      "outputs": [
        {
          "output_type": "execute_result",
          "data": {
            "text/html": [
              "<div>\n",
              "<style scoped>\n",
              "    .dataframe tbody tr th:only-of-type {\n",
              "        vertical-align: middle;\n",
              "    }\n",
              "\n",
              "    .dataframe tbody tr th {\n",
              "        vertical-align: top;\n",
              "    }\n",
              "\n",
              "    .dataframe thead th {\n",
              "        text-align: right;\n",
              "    }\n",
              "</style>\n",
              "<table border=\"1\" class=\"dataframe\">\n",
              "  <thead>\n",
              "    <tr style=\"text-align: right;\">\n",
              "      <th></th>\n",
              "      <th>movieId</th>\n",
              "      <th>year</th>\n",
              "      <th>title</th>\n",
              "      <th>genre</th>\n",
              "      <th>description</th>\n",
              "    </tr>\n",
              "  </thead>\n",
              "  <tbody>\n",
              "    <tr>\n",
              "      <th>0</th>\n",
              "      <td>12</td>\n",
              "      <td>1947</td>\n",
              "      <td>My Favorite Brunette</td>\n",
              "      <td>Comedy, Crime, Mystery</td>\n",
              "      <td>Shortly before his execution on the death row ...</td>\n",
              "    </tr>\n",
              "    <tr>\n",
              "      <th>1</th>\n",
              "      <td>18</td>\n",
              "      <td>1994</td>\n",
              "      <td>Immortal Beloved</td>\n",
              "      <td>Biography, Drama, Music</td>\n",
              "      <td>The life and death of the legendary Ludwig van...</td>\n",
              "    </tr>\n",
              "    <tr>\n",
              "      <th>2</th>\n",
              "      <td>20</td>\n",
              "      <td>1972</td>\n",
              "      <td>Seeta Aur Geeta</td>\n",
              "      <td>Comedy, Drama, Family</td>\n",
              "      <td>Long-suffering heiress Seeta is treated worse ...</td>\n",
              "    </tr>\n",
              "    <tr>\n",
              "      <th>3</th>\n",
              "      <td>22</td>\n",
              "      <td>2000</td>\n",
              "      <td>Chump Change</td>\n",
              "      <td>Comedy, Romance</td>\n",
              "      <td>Rags to riches to rags comedy loosely based on...</td>\n",
              "    </tr>\n",
              "    <tr>\n",
              "      <th>4</th>\n",
              "      <td>24</td>\n",
              "      <td>1981</td>\n",
              "      <td>My Bloody Valentine</td>\n",
              "      <td>Horror, Mystery, Thriller</td>\n",
              "      <td>A decades-old folk tale surrounding a deranged...</td>\n",
              "    </tr>\n",
              "  </tbody>\n",
              "</table>\n",
              "</div>"
            ],
            "text/plain": [
              "   movieId  ...                                        description\n",
              "0       12  ...  Shortly before his execution on the death row ...\n",
              "1       18  ...  The life and death of the legendary Ludwig van...\n",
              "2       20  ...  Long-suffering heiress Seeta is treated worse ...\n",
              "3       22  ...  Rags to riches to rags comedy loosely based on...\n",
              "4       24  ...  A decades-old folk tale surrounding a deranged...\n",
              "\n",
              "[5 rows x 5 columns]"
            ]
          },
          "metadata": {
            "tags": []
          },
          "execution_count": 39
        }
      ]
    },
    {
      "cell_type": "code",
      "metadata": {
        "id": "RhrX90H0qN7E",
        "colab": {
          "base_uri": "https://localhost:8080/"
        },
        "outputId": "c831ece7-7af8-4dc6-b869-a9573c9c6aab"
      },
      "source": [
        "movies_descrip.shape"
      ],
      "execution_count": 40,
      "outputs": [
        {
          "output_type": "execute_result",
          "data": {
            "text/plain": [
              "(6199, 5)"
            ]
          },
          "metadata": {
            "tags": []
          },
          "execution_count": 40
        }
      ]
    },
    {
      "cell_type": "markdown",
      "metadata": {
        "id": "CHyXPQNgqN7E"
      },
      "source": [
        "* When accounting for both the movie title and year, there are only 6199 available descriptions."
      ]
    },
    {
      "cell_type": "code",
      "metadata": {
        "id": "sVQ7nNyWqN7E",
        "colab": {
          "base_uri": "https://localhost:8080/"
        },
        "outputId": "346c5f69-72cc-4c7d-8c50-75a3f604366c"
      },
      "source": [
        "movies.shape"
      ],
      "execution_count": 41,
      "outputs": [
        {
          "output_type": "execute_result",
          "data": {
            "text/plain": [
              "(17770, 3)"
            ]
          },
          "metadata": {
            "tags": []
          },
          "execution_count": 41
        }
      ]
    },
    {
      "cell_type": "markdown",
      "metadata": {
        "id": "wT9-wfXZqN7E"
      },
      "source": [
        "* About 11,600 movies were discarded. That is about 65% of the available movies. 65% is less than the amount of movies discarded during the dataset cleaning, which was intentionally 70%. Also, the least popular movies were probably discarded.\n",
        "* In addition, the purpose of this is notebook is to dabble with word vectorization and content-based recommendation. This count should suffice."
      ]
    },
    {
      "cell_type": "code",
      "metadata": {
        "id": "WeQ2nBvcqN7E",
        "colab": {
          "base_uri": "https://localhost:8080/"
        },
        "outputId": "956a82f8-076e-4b28-db16-05dda7ea3eff"
      },
      "source": [
        "for col in movies_descrip.columns:\n",
        "    print(col, sum(movies_descrip[col].isna()))"
      ],
      "execution_count": 42,
      "outputs": [
        {
          "output_type": "stream",
          "text": [
            "movieId 0\n",
            "year 0\n",
            "title 0\n",
            "genre 0\n",
            "description 13\n"
          ],
          "name": "stdout"
        }
      ]
    },
    {
      "cell_type": "markdown",
      "metadata": {
        "id": "EBWouFxWqN7E"
      },
      "source": [
        "* There are 13 null descriptions. These will be dropped since this content-based analysis is based on the descriptions."
      ]
    },
    {
      "cell_type": "code",
      "metadata": {
        "id": "HK8JmO2PqN7E",
        "colab": {
          "base_uri": "https://localhost:8080/"
        },
        "outputId": "aadba4b2-79a2-4350-b79e-0f697ae845c8"
      },
      "source": [
        "movies_descrip = movies_descrip.dropna()\n",
        "movies_descrip.shape"
      ],
      "execution_count": 43,
      "outputs": [
        {
          "output_type": "execute_result",
          "data": {
            "text/plain": [
              "(6186, 5)"
            ]
          },
          "metadata": {
            "tags": []
          },
          "execution_count": 43
        }
      ]
    },
    {
      "cell_type": "code",
      "metadata": {
        "id": "4HxM1cUyqN7E",
        "colab": {
          "base_uri": "https://localhost:8080/"
        },
        "outputId": "3fabf8c6-8722-4a11-f3e0-04c92f4e99af"
      },
      "source": [
        "# num movies per year\n",
        "year_counts = movies_descrip['year'].value_counts().sort_index()\n",
        "year_counts.head()"
      ],
      "execution_count": 44,
      "outputs": [
        {
          "output_type": "execute_result",
          "data": {
            "text/plain": [
              "1914.0    2\n",
              "1915.0    1\n",
              "1919.0    1\n",
              "1920.0    4\n",
              "1921.0    3\n",
              "Name: year, dtype: int64"
            ]
          },
          "metadata": {
            "tags": []
          },
          "execution_count": 44
        }
      ]
    },
    {
      "cell_type": "code",
      "metadata": {
        "id": "wXwy7uIwqN7E",
        "colab": {
          "base_uri": "https://localhost:8080/",
          "height": 295
        },
        "outputId": "412672c3-c0bd-4433-fe18-e546dcef44ed"
      },
      "source": [
        "plt.bar(year_counts.index, year_counts.values)\n",
        "plt.xlabel('year')\n",
        "plt.ylabel('count of movies')\n",
        "plt.title('Number of Movies Recorded per Year');"
      ],
      "execution_count": 45,
      "outputs": [
        {
          "output_type": "display_data",
          "data": {
            "image/png": "[encoded data removed]",
            "text/plain": [
              "<Figure size 432x288 with 1 Axes>"
            ]
          },
          "metadata": {
            "tags": [],
            "needs_background": "light"
          }
        }
      ]
    },
    {
      "cell_type": "code",
      "metadata": {
        "id": "3mrpSAzUqN7E",
        "colab": {
          "base_uri": "https://localhost:8080/"
        },
        "outputId": "a026a3f1-bdb1-4906-b3ec-13a26088b812"
      },
      "source": [
        "print(\"Mean description length:\", round(np.mean(movies_descrip['description'].str.len())))"
      ],
      "execution_count": 46,
      "outputs": [
        {
          "output_type": "stream",
          "text": [
            "Mean description length: 146\n"
          ],
          "name": "stdout"
        }
      ]
    },
    {
      "cell_type": "code",
      "metadata": {
        "id": "01vddQHXqN7E",
        "colab": {
          "base_uri": "https://localhost:8080/",
          "height": 52
        },
        "outputId": "502a5b9f-68f9-4e0b-a9b7-9e6a2427e5b7"
      },
      "source": [
        "# Example of a description\n",
        "movies_descrip['description'].values.item(0)"
      ],
      "execution_count": 47,
      "outputs": [
        {
          "output_type": "execute_result",
          "data": {
            "application/vnd.google.colaboratory.intrinsic+json": {
              "type": "string"
            },
            "text/plain": [
              "'Shortly before his execution on the death row in San Quentin, amateur sleuth and baby photographer Ronnie Jackson, tells reporters how he got there.'"
            ]
          },
          "metadata": {
            "tags": []
          },
          "execution_count": 47
        }
      ]
    },
    {
      "cell_type": "code",
      "metadata": {
        "id": "bDotPqPTqN7E",
        "colab": {
          "base_uri": "https://localhost:8080/",
          "height": 52
        },
        "outputId": "711c7c0b-a918-4c92-c7ad-3a062ad6c968"
      },
      "source": [
        "# A second example of a description\n",
        "movies_descrip['description'].values.item(1)"
      ],
      "execution_count": 48,
      "outputs": [
        {
          "output_type": "execute_result",
          "data": {
            "application/vnd.google.colaboratory.intrinsic+json": {
              "type": "string"
            },
            "text/plain": [
              "'The life and death of the legendary Ludwig van Beethoven. Besides all the work he is known for, the composer once wrote a famous love letter to a nameless beloved, and the movie tries to ...'"
            ]
          },
          "metadata": {
            "tags": []
          },
          "execution_count": 48
        }
      ]
    },
    {
      "cell_type": "markdown",
      "metadata": {
        "id": "GvmH9LyCqN7E"
      },
      "source": [
        "* Some descriptions seem to be incomplete."
      ]
    },
    {
      "cell_type": "code",
      "metadata": {
        "id": "0jqdd7y_qN7E",
        "colab": {
          "base_uri": "https://localhost:8080/",
          "height": 52
        },
        "outputId": "69707415-a283-4df9-d45a-4a108fd4cf15"
      },
      "source": [
        "# Another example of an incomplete description\n",
        "movies_descrip[movies_descrip['description'].str.contains(\"\\.\\.\\.\")]['description'].values.item(2)"
      ],
      "execution_count": 49,
      "outputs": [
        {
          "output_type": "execute_result",
          "data": {
            "application/vnd.google.colaboratory.intrinsic+json": {
              "type": "string"
            },
            "text/plain": [
              "\"Taken from the life story of Leslie Jordan. A Tennessee country boy realizes he's gay and keeps getting in trouble with the local bad boys. He hears Atlanta is the new place to be, tosses ...\""
            ]
          },
          "metadata": {
            "tags": []
          },
          "execution_count": 49
        }
      ]
    },
    {
      "cell_type": "markdown",
      "metadata": {
        "id": "onIS9SsuqN7E"
      },
      "source": [
        "* Although some are incomplete, they are still very informative and will be kept."
      ]
    },
    {
      "cell_type": "markdown",
      "metadata": {
        "id": "0uX60AU_qN7E"
      },
      "source": [
        "## Sentence-Transformers"
      ]
    },
    {
      "cell_type": "code",
      "metadata": {
        "id": "68DeRxftu4v0",
        "colab": {
          "base_uri": "https://localhost:8080/"
        },
        "outputId": "b2ab16fa-b68a-40f5-9071-99dd3e17da52"
      },
      "source": [
        "!pip install sentence_transformers"
      ],
      "execution_count": 50,
      "outputs": [
        {
          "output_type": "stream",
          "text": [
            "Collecting sentence_transformers\n",
            "\u001b[?25l  Downloading https://files.pythonhosted.org/packages/f5/5a/6e41e8383913dd2ba923cdcd02be2e03911595f4d2f9de559ecbed80d2d3/sentence-transformers-0.3.9.tar.gz (64kB)\n",
            "\u001b[K     |████████████████████████████████| 71kB 3.5MB/s \n",
            "\u001b[?25hCollecting transformers<3.6.0,>=3.1.0\n",
            "\u001b[?25l  Downloading https://files.pythonhosted.org/packages/3a/83/e74092e7f24a08d751aa59b37a9fc572b2e4af3918cb66f7766c3affb1b4/transformers-3.5.1-py3-none-any.whl (1.3MB)\n",
            "\u001b[K     |████████████████████████████████| 1.3MB 8.3MB/s \n",
            "\u001b[?25hRequirement already satisfied: tqdm in /usr/local/lib/python3.6/dist-packages (from sentence_transformers) (4.41.1)\n",
            "Requirement already satisfied: torch>=1.6.0 in /usr/local/lib/python3.6/dist-packages (from sentence_transformers) (1.7.0+cu101)\n",
            "Requirement already satisfied: numpy in /usr/local/lib/python3.6/dist-packages (from sentence_transformers) (1.18.5)\n",
            "Requirement already satisfied: scikit-learn in /usr/local/lib/python3.6/dist-packages (from sentence_transformers) (0.22.2.post1)\n",
            "Requirement already satisfied: scipy in /usr/local/lib/python3.6/dist-packages (from sentence_transformers) (1.4.1)\n",
            "Requirement already satisfied: nltk in /usr/local/lib/python3.6/dist-packages (from sentence_transformers) (3.2.5)\n",
            "Collecting tokenizers==0.9.3\n",
            "\u001b[?25l  Downloading https://files.pythonhosted.org/packages/4c/34/b39eb9994bc3c999270b69c9eea40ecc6f0e97991dba28282b9fd32d44ee/tokenizers-0.9.3-cp36-cp36m-manylinux1_x86_64.whl (2.9MB)\n",
            "\u001b[K     |████████████████████████████████| 2.9MB 37.3MB/s \n",
            "\u001b[?25hRequirement already satisfied: regex!=2019.12.17 in /usr/local/lib/python3.6/dist-packages (from transformers<3.6.0,>=3.1.0->sentence_transformers) (2019.12.20)\n",
            "Collecting sentencepiece==0.1.91\n",
            "\u001b[?25l  Downloading https://files.pythonhosted.org/packages/d4/a4/d0a884c4300004a78cca907a6ff9a5e9fe4f090f5d95ab341c53d28cbc58/sentencepiece-0.1.91-cp36-cp36m-manylinux1_x86_64.whl (1.1MB)\n",
            "\u001b[K     |████████████████████████████████| 1.1MB 45.9MB/s \n",
            "\u001b[?25hRequirement already satisfied: packaging in /usr/local/lib/python3.6/dist-packages (from transformers<3.6.0,>=3.1.0->sentence_transformers) (20.4)\n",
            "Requirement already satisfied: protobuf in /usr/local/lib/python3.6/dist-packages (from transformers<3.6.0,>=3.1.0->sentence_transformers) (3.12.4)\n",
            "Requirement already satisfied: dataclasses; python_version < \"3.7\" in /usr/local/lib/python3.6/dist-packages (from transformers<3.6.0,>=3.1.0->sentence_transformers) (0.7)\n",
            "Requirement already satisfied: requests in /usr/local/lib/python3.6/dist-packages (from transformers<3.6.0,>=3.1.0->sentence_transformers) (2.23.0)\n",
            "Requirement already satisfied: filelock in /usr/local/lib/python3.6/dist-packages (from transformers<3.6.0,>=3.1.0->sentence_transformers) (3.0.12)\n",
            "Collecting sacremoses\n",
            "\u001b[?25l  Downloading https://files.pythonhosted.org/packages/7d/34/09d19aff26edcc8eb2a01bed8e98f13a1537005d31e95233fd48216eed10/sacremoses-0.0.43.tar.gz (883kB)\n",
            "\u001b[K     |████████████████████████████████| 890kB 36.5MB/s \n",
            "\u001b[?25hRequirement already satisfied: future in /usr/local/lib/python3.6/dist-packages (from torch>=1.6.0->sentence_transformers) (0.16.0)\n",
            "Requirement already satisfied: typing-extensions in /usr/local/lib/python3.6/dist-packages (from torch>=1.6.0->sentence_transformers) (3.7.4.3)\n",
            "Requirement already satisfied: joblib>=0.11 in /usr/local/lib/python3.6/dist-packages (from scikit-learn->sentence_transformers) (0.17.0)\n",
            "Requirement already satisfied: six in /usr/local/lib/python3.6/dist-packages (from nltk->sentence_transformers) (1.15.0)\n",
            "Requirement already satisfied: pyparsing>=2.0.2 in /usr/local/lib/python3.6/dist-packages (from packaging->transformers<3.6.0,>=3.1.0->sentence_transformers) (2.4.7)\n",
            "Requirement already satisfied: setuptools in /usr/local/lib/python3.6/dist-packages (from protobuf->transformers<3.6.0,>=3.1.0->sentence_transformers) (50.3.2)\n",
            "Requirement already satisfied: certifi>=2017.4.17 in /usr/local/lib/python3.6/dist-packages (from requests->transformers<3.6.0,>=3.1.0->sentence_transformers) (2020.6.20)\n",
            "Requirement already satisfied: idna<3,>=2.5 in /usr/local/lib/python3.6/dist-packages (from requests->transformers<3.6.0,>=3.1.0->sentence_transformers) (2.10)\n",
            "Requirement already satisfied: urllib3!=1.25.0,!=1.25.1,<1.26,>=1.21.1 in /usr/local/lib/python3.6/dist-packages (from requests->transformers<3.6.0,>=3.1.0->sentence_transformers) (1.24.3)\n",
            "Requirement already satisfied: chardet<4,>=3.0.2 in /usr/local/lib/python3.6/dist-packages (from requests->transformers<3.6.0,>=3.1.0->sentence_transformers) (3.0.4)\n",
            "Requirement already satisfied: click in /usr/local/lib/python3.6/dist-packages (from sacremoses->transformers<3.6.0,>=3.1.0->sentence_transformers) (7.1.2)\n",
            "Building wheels for collected packages: sentence-transformers, sacremoses\n",
            "  Building wheel for sentence-transformers (setup.py) ... \u001b[?25l\u001b[?25hdone\n",
            "  Created wheel for sentence-transformers: filename=sentence_transformers-0.3.9-cp36-none-any.whl size=101036 sha256=6c28b9fb10487f781968b80f4080e56348fc42518fb86865ef92f8788a5f304d\n",
            "  Stored in directory: /root/.cache/pip/wheels/fc/89/43/f2f5bc00b03ef9724b0f6254a97eaf159a4c4ddc024b33e07a\n",
            "  Building wheel for sacremoses (setup.py) ... \u001b[?25l\u001b[?25hdone\n",
            "  Created wheel for sacremoses: filename=sacremoses-0.0.43-cp36-none-any.whl size=893257 sha256=68070f48bed105b2206c25a4c955433ece1d2b8100ec69b48014f535140874e5\n",
            "  Stored in directory: /root/.cache/pip/wheels/29/3c/fd/7ce5c3f0666dab31a50123635e6fb5e19ceb42ce38d4e58f45\n",
            "Successfully built sentence-transformers sacremoses\n",
            "Installing collected packages: tokenizers, sentencepiece, sacremoses, transformers, sentence-transformers\n",
            "Successfully installed sacremoses-0.0.43 sentence-transformers-0.3.9 sentencepiece-0.1.91 tokenizers-0.9.3 transformers-3.5.1\n"
          ],
          "name": "stdout"
        }
      ]
    },
    {
      "cell_type": "code",
      "metadata": {
        "id": "bgXqX7pOqN7E",
        "colab": {
          "base_uri": "https://localhost:8080/",
          "height": 204
        },
        "outputId": "5782b380-720a-4ed0-b9d5-f658d0a29bf4"
      },
      "source": [
        "# Adding movie titles to the ratings df (originally only had movieIds)\n",
        "tmp = ratings.merge(movies, left_on='movieId', right_on='movieId')\n",
        "tmp.head()"
      ],
      "execution_count": 51,
      "outputs": [
        {
          "output_type": "execute_result",
          "data": {
            "text/html": [
              "<div>\n",
              "<style scoped>\n",
              "    .dataframe tbody tr th:only-of-type {\n",
              "        vertical-align: middle;\n",
              "    }\n",
              "\n",
              "    .dataframe tbody tr th {\n",
              "        vertical-align: top;\n",
              "    }\n",
              "\n",
              "    .dataframe thead th {\n",
              "        text-align: right;\n",
              "    }\n",
              "</style>\n",
              "<table border=\"1\" class=\"dataframe\">\n",
              "  <thead>\n",
              "    <tr style=\"text-align: right;\">\n",
              "      <th></th>\n",
              "      <th>userId</th>\n",
              "      <th>movieId</th>\n",
              "      <th>rating</th>\n",
              "      <th>year</th>\n",
              "      <th>title</th>\n",
              "    </tr>\n",
              "  </thead>\n",
              "  <tbody>\n",
              "    <tr>\n",
              "      <th>0</th>\n",
              "      <td>1488844</td>\n",
              "      <td>1</td>\n",
              "      <td>3.0</td>\n",
              "      <td>2003.0</td>\n",
              "      <td>Dinosaur Planet</td>\n",
              "    </tr>\n",
              "    <tr>\n",
              "      <th>1</th>\n",
              "      <td>822109</td>\n",
              "      <td>1</td>\n",
              "      <td>5.0</td>\n",
              "      <td>2003.0</td>\n",
              "      <td>Dinosaur Planet</td>\n",
              "    </tr>\n",
              "    <tr>\n",
              "      <th>2</th>\n",
              "      <td>885013</td>\n",
              "      <td>1</td>\n",
              "      <td>4.0</td>\n",
              "      <td>2003.0</td>\n",
              "      <td>Dinosaur Planet</td>\n",
              "    </tr>\n",
              "    <tr>\n",
              "      <th>3</th>\n",
              "      <td>30878</td>\n",
              "      <td>1</td>\n",
              "      <td>4.0</td>\n",
              "      <td>2003.0</td>\n",
              "      <td>Dinosaur Planet</td>\n",
              "    </tr>\n",
              "    <tr>\n",
              "      <th>4</th>\n",
              "      <td>823519</td>\n",
              "      <td>1</td>\n",
              "      <td>3.0</td>\n",
              "      <td>2003.0</td>\n",
              "      <td>Dinosaur Planet</td>\n",
              "    </tr>\n",
              "  </tbody>\n",
              "</table>\n",
              "</div>"
            ],
            "text/plain": [
              "    userId  movieId  rating    year            title\n",
              "0  1488844        1     3.0  2003.0  Dinosaur Planet\n",
              "1   822109        1     5.0  2003.0  Dinosaur Planet\n",
              "2   885013        1     4.0  2003.0  Dinosaur Planet\n",
              "3    30878        1     4.0  2003.0  Dinosaur Planet\n",
              "4   823519        1     3.0  2003.0  Dinosaur Planet"
            ]
          },
          "metadata": {
            "tags": []
          },
          "execution_count": 51
        }
      ]
    },
    {
      "cell_type": "code",
      "metadata": {
        "id": "uS6Ar2SuqN7E",
        "colab": {
          "base_uri": "https://localhost:8080/",
          "height": 204
        },
        "outputId": "4781e7d8-78ee-4822-b9fc-ec7b9bb74196"
      },
      "source": [
        "# Adding the movie genres and descriptions to the movies and ratings\n",
        "new_ratings = tmp.merge(imdb, left_on=['title', 'year'], right_on=['original_title', 'year'])\n",
        "new_ratings = new_ratings[['userId', 'movieId', 'original_title', 'year', 'genre', 'description', 'rating']]\n",
        "new_ratings = new_ratings.rename(columns={'original_title': 'title'})\n",
        "new_ratings.head()"
      ],
      "execution_count": 52,
      "outputs": [
        {
          "output_type": "execute_result",
          "data": {
            "text/html": [
              "<div>\n",
              "<style scoped>\n",
              "    .dataframe tbody tr th:only-of-type {\n",
              "        vertical-align: middle;\n",
              "    }\n",
              "\n",
              "    .dataframe tbody tr th {\n",
              "        vertical-align: top;\n",
              "    }\n",
              "\n",
              "    .dataframe thead th {\n",
              "        text-align: right;\n",
              "    }\n",
              "</style>\n",
              "<table border=\"1\" class=\"dataframe\">\n",
              "  <thead>\n",
              "    <tr style=\"text-align: right;\">\n",
              "      <th></th>\n",
              "      <th>userId</th>\n",
              "      <th>movieId</th>\n",
              "      <th>title</th>\n",
              "      <th>year</th>\n",
              "      <th>genre</th>\n",
              "      <th>description</th>\n",
              "      <th>rating</th>\n",
              "    </tr>\n",
              "  </thead>\n",
              "  <tbody>\n",
              "    <tr>\n",
              "      <th>0</th>\n",
              "      <td>1109700</td>\n",
              "      <td>12</td>\n",
              "      <td>My Favorite Brunette</td>\n",
              "      <td>1947</td>\n",
              "      <td>Comedy, Crime, Mystery</td>\n",
              "      <td>Shortly before his execution on the death row ...</td>\n",
              "      <td>4.0</td>\n",
              "    </tr>\n",
              "    <tr>\n",
              "      <th>1</th>\n",
              "      <td>1056998</td>\n",
              "      <td>12</td>\n",
              "      <td>My Favorite Brunette</td>\n",
              "      <td>1947</td>\n",
              "      <td>Comedy, Crime, Mystery</td>\n",
              "      <td>Shortly before his execution on the death row ...</td>\n",
              "      <td>5.0</td>\n",
              "    </tr>\n",
              "    <tr>\n",
              "      <th>2</th>\n",
              "      <td>903692</td>\n",
              "      <td>12</td>\n",
              "      <td>My Favorite Brunette</td>\n",
              "      <td>1947</td>\n",
              "      <td>Comedy, Crime, Mystery</td>\n",
              "      <td>Shortly before his execution on the death row ...</td>\n",
              "      <td>3.0</td>\n",
              "    </tr>\n",
              "    <tr>\n",
              "      <th>3</th>\n",
              "      <td>2380973</td>\n",
              "      <td>12</td>\n",
              "      <td>My Favorite Brunette</td>\n",
              "      <td>1947</td>\n",
              "      <td>Comedy, Crime, Mystery</td>\n",
              "      <td>Shortly before his execution on the death row ...</td>\n",
              "      <td>4.0</td>\n",
              "    </tr>\n",
              "    <tr>\n",
              "      <th>4</th>\n",
              "      <td>497196</td>\n",
              "      <td>12</td>\n",
              "      <td>My Favorite Brunette</td>\n",
              "      <td>1947</td>\n",
              "      <td>Comedy, Crime, Mystery</td>\n",
              "      <td>Shortly before his execution on the death row ...</td>\n",
              "      <td>3.0</td>\n",
              "    </tr>\n",
              "  </tbody>\n",
              "</table>\n",
              "</div>"
            ],
            "text/plain": [
              "    userId  movieId  ...                                        description rating\n",
              "0  1109700       12  ...  Shortly before his execution on the death row ...    4.0\n",
              "1  1056998       12  ...  Shortly before his execution on the death row ...    5.0\n",
              "2   903692       12  ...  Shortly before his execution on the death row ...    3.0\n",
              "3  2380973       12  ...  Shortly before his execution on the death row ...    4.0\n",
              "4   497196       12  ...  Shortly before his execution on the death row ...    3.0\n",
              "\n",
              "[5 rows x 7 columns]"
            ]
          },
          "metadata": {
            "tags": []
          },
          "execution_count": 52
        }
      ]
    },
    {
      "cell_type": "code",
      "metadata": {
        "colab": {
          "base_uri": "https://localhost:8080/"
        },
        "id": "ovNRts0Uj9w6",
        "outputId": "597e96b2-a519-4a34-8204-336e5a193c2d"
      },
      "source": [
        "new_ratings.shape"
      ],
      "execution_count": 56,
      "outputs": [
        {
          "output_type": "execute_result",
          "data": {
            "text/plain": [
              "(17794962, 7)"
            ]
          },
          "metadata": {
            "tags": []
          },
          "execution_count": 56
        }
      ]
    },
    {
      "cell_type": "markdown",
      "metadata": {
        "id": "0K_LNUqWkBU7"
      },
      "source": [
        "* After incorporating the IMDb dataset, there number of ratings became 17.8 million.\n",
        "* The user-based notebook intentionally reduced the dataset to 18.3 million due to RAM. These are similar numbers."
      ]
    },
    {
      "cell_type": "code",
      "metadata": {
        "colab": {
          "base_uri": "https://localhost:8080/"
        },
        "id": "laJrszWKqN7F",
        "outputId": "a6e8da92-d108-41d0-f29c-d6c273cfe025"
      },
      "source": [
        "# Count of ratings per user\n",
        "new_ratings.groupby('userId').size().sort_values(ascending=False).head()"
      ],
      "execution_count": 57,
      "outputs": [
        {
          "output_type": "execute_result",
          "data": {
            "text/plain": [
              "userId\n",
              "305344     1547\n",
              "387418     1545\n",
              "2439493    1479\n",
              "2118461    1451\n",
              "1664010    1440\n",
              "dtype: int64"
            ]
          },
          "metadata": {
            "tags": []
          },
          "execution_count": 57
        }
      ]
    },
    {
      "cell_type": "markdown",
      "metadata": {
        "id": "FX9JvJrnqN7F"
      },
      "source": [
        "* Among the entries that share a common movie with the imdb description dataset, user 305344 has the most ratings, exactly like the user-based recommender. This user will be used as the first example again."
      ]
    },
    {
      "cell_type": "code",
      "metadata": {
        "colab": {
          "base_uri": "https://localhost:8080/",
          "height": 204
        },
        "id": "HaNfBvyBqN7F",
        "outputId": "229437a8-035c-473a-ee97-9feb50d8d7c8"
      },
      "source": [
        "user_305344 = new_ratings[new_ratings['userId']==305344]\n",
        "user_305344.head()"
      ],
      "execution_count": 59,
      "outputs": [
        {
          "output_type": "execute_result",
          "data": {
            "text/html": [
              "<div>\n",
              "<style scoped>\n",
              "    .dataframe tbody tr th:only-of-type {\n",
              "        vertical-align: middle;\n",
              "    }\n",
              "\n",
              "    .dataframe tbody tr th {\n",
              "        vertical-align: top;\n",
              "    }\n",
              "\n",
              "    .dataframe thead th {\n",
              "        text-align: right;\n",
              "    }\n",
              "</style>\n",
              "<table border=\"1\" class=\"dataframe\">\n",
              "  <thead>\n",
              "    <tr style=\"text-align: right;\">\n",
              "      <th></th>\n",
              "      <th>userId</th>\n",
              "      <th>movieId</th>\n",
              "      <th>title</th>\n",
              "      <th>year</th>\n",
              "      <th>genre</th>\n",
              "      <th>description</th>\n",
              "      <th>rating</th>\n",
              "    </tr>\n",
              "  </thead>\n",
              "  <tbody>\n",
              "    <tr>\n",
              "      <th>344</th>\n",
              "      <td>305344</td>\n",
              "      <td>12</td>\n",
              "      <td>My Favorite Brunette</td>\n",
              "      <td>1947</td>\n",
              "      <td>Comedy, Crime, Mystery</td>\n",
              "      <td>Shortly before his execution on the death row ...</td>\n",
              "      <td>4.0</td>\n",
              "    </tr>\n",
              "    <tr>\n",
              "      <th>7376</th>\n",
              "      <td>305344</td>\n",
              "      <td>18</td>\n",
              "      <td>Immortal Beloved</td>\n",
              "      <td>1994</td>\n",
              "      <td>Biography, Drama, Music</td>\n",
              "      <td>The life and death of the legendary Ludwig van...</td>\n",
              "      <td>2.0</td>\n",
              "    </tr>\n",
              "    <tr>\n",
              "      <th>11345</th>\n",
              "      <td>305344</td>\n",
              "      <td>20</td>\n",
              "      <td>Seeta Aur Geeta</td>\n",
              "      <td>1972</td>\n",
              "      <td>Comedy, Drama, Family</td>\n",
              "      <td>Long-suffering heiress Seeta is treated worse ...</td>\n",
              "      <td>1.0</td>\n",
              "    </tr>\n",
              "    <tr>\n",
              "      <th>11519</th>\n",
              "      <td>305344</td>\n",
              "      <td>22</td>\n",
              "      <td>Chump Change</td>\n",
              "      <td>2000</td>\n",
              "      <td>Comedy, Romance</td>\n",
              "      <td>Rags to riches to rags comedy loosely based on...</td>\n",
              "      <td>1.0</td>\n",
              "    </tr>\n",
              "    <tr>\n",
              "      <th>12467</th>\n",
              "      <td>305344</td>\n",
              "      <td>24</td>\n",
              "      <td>My Bloody Valentine</td>\n",
              "      <td>1981</td>\n",
              "      <td>Horror, Mystery, Thriller</td>\n",
              "      <td>A decades-old folk tale surrounding a deranged...</td>\n",
              "      <td>1.0</td>\n",
              "    </tr>\n",
              "  </tbody>\n",
              "</table>\n",
              "</div>"
            ],
            "text/plain": [
              "       userId  ...  rating\n",
              "344    305344  ...     4.0\n",
              "7376   305344  ...     2.0\n",
              "11345  305344  ...     1.0\n",
              "11519  305344  ...     1.0\n",
              "12467  305344  ...     1.0\n",
              "\n",
              "[5 rows x 7 columns]"
            ]
          },
          "metadata": {
            "tags": []
          },
          "execution_count": 59
        }
      ]
    },
    {
      "cell_type": "code",
      "metadata": {
        "colab": {
          "base_uri": "https://localhost:8080/"
        },
        "id": "th0vosXTmEDj",
        "outputId": "116b4552-dc0e-48a1-fb5a-65620ef1a5db"
      },
      "source": [
        "new_ratings.groupby('movieId').mean()['rating']"
      ],
      "execution_count": 65,
      "outputs": [
        {
          "output_type": "execute_result",
          "data": {
            "text/plain": [
              "movieId\n",
              "12      3.417582\n",
              "18      3.784369\n",
              "20      3.146552\n",
              "22      2.246305\n",
              "24      2.993998\n",
              "          ...   \n",
              "4487    2.203390\n",
              "4488    3.554906\n",
              "4489    3.502849\n",
              "4492    2.643323\n",
              "4497    2.715686\n",
              "Name: rating, Length: 1550, dtype: float64"
            ]
          },
          "metadata": {
            "tags": []
          },
          "execution_count": 65
        }
      ]
    },
    {
      "cell_type": "code",
      "metadata": {
        "colab": {
          "base_uri": "https://localhost:8080/"
        },
        "id": "RKk50dcbqN7F",
        "outputId": "959b4634-d119-488a-aa18-a54a493f8561"
      },
      "source": [
        "# Movies that user 305344 hasn't watched\n",
        "all_movieIds = np.unique(new_ratings['movieId'])\n",
        "avail_movies_305344 = [movieId for movieId in all_movieIds if movieId not in user_305344['movieId'].values]\n",
        "len(avail_movies_305344)"
      ],
      "execution_count": 68,
      "outputs": [
        {
          "output_type": "execute_result",
          "data": {
            "text/plain": [
              "6"
            ]
          },
          "metadata": {
            "tags": []
          },
          "execution_count": 68
        }
      ]
    },
    {
      "cell_type": "markdown",
      "metadata": {
        "id": "s9azIngemx3P"
      },
      "source": [
        "* User 305344 has rated 1547 movies out of the 1550 different overlapping movies. There are only 6 movies that the user hasn't watched. The difference in numbers seems to be due to the user re-rating movies. Either way, using this user isn't very telling, so a different, least active user will be observed."
      ]
    },
    {
      "cell_type": "code",
      "metadata": {
        "colab": {
          "base_uri": "https://localhost:8080/"
        },
        "id": "K4sjfMDHomua",
        "outputId": "f863f78d-7ea6-4703-b733-d91a46ddc149"
      },
      "source": [
        "new_ratings.groupby('userId').size().head()"
      ],
      "execution_count": 76,
      "outputs": [
        {
          "output_type": "execute_result",
          "data": {
            "text/plain": [
              "userId\n",
              "6     113\n",
              "7     160\n",
              "8      19\n",
              "10     36\n",
              "25      3\n",
              "dtype: int64"
            ]
          },
          "metadata": {
            "tags": []
          },
          "execution_count": 76
        }
      ]
    },
    {
      "cell_type": "markdown",
      "metadata": {
        "id": "0rGpFQa0pNew"
      },
      "source": [
        "User 7 will be used (determined only by looking at the head of the df)."
      ]
    },
    {
      "cell_type": "code",
      "metadata": {
        "colab": {
          "base_uri": "https://localhost:8080/",
          "height": 204
        },
        "id": "gMe72Q-3pgAu",
        "outputId": "d55f0021-2602-42e9-96e9-b7b26fc08b7d"
      },
      "source": [
        "user_7 = new_ratings[new_ratings['userId']==7]\n",
        "user_7.head()"
      ],
      "execution_count": 79,
      "outputs": [
        {
          "output_type": "execute_result",
          "data": {
            "text/html": [
              "<div>\n",
              "<style scoped>\n",
              "    .dataframe tbody tr th:only-of-type {\n",
              "        vertical-align: middle;\n",
              "    }\n",
              "\n",
              "    .dataframe tbody tr th {\n",
              "        vertical-align: top;\n",
              "    }\n",
              "\n",
              "    .dataframe thead th {\n",
              "        text-align: right;\n",
              "    }\n",
              "</style>\n",
              "<table border=\"1\" class=\"dataframe\">\n",
              "  <thead>\n",
              "    <tr style=\"text-align: right;\">\n",
              "      <th></th>\n",
              "      <th>userId</th>\n",
              "      <th>movieId</th>\n",
              "      <th>title</th>\n",
              "      <th>year</th>\n",
              "      <th>genre</th>\n",
              "      <th>description</th>\n",
              "      <th>rating</th>\n",
              "    </tr>\n",
              "  </thead>\n",
              "  <tbody>\n",
              "    <tr>\n",
              "      <th>77570</th>\n",
              "      <td>7</td>\n",
              "      <td>30</td>\n",
              "      <td>Something's Gotta Give</td>\n",
              "      <td>2003</td>\n",
              "      <td>Comedy, Drama, Romance</td>\n",
              "      <td>A swinger on the cusp of being a senior citize...</td>\n",
              "      <td>5.0</td>\n",
              "    </tr>\n",
              "    <tr>\n",
              "      <th>180762</th>\n",
              "      <td>7</td>\n",
              "      <td>83</td>\n",
              "      <td>Silkwood</td>\n",
              "      <td>1983</td>\n",
              "      <td>Biography, Drama, History</td>\n",
              "      <td>A worker at a plutonium processing plant is pu...</td>\n",
              "      <td>5.0</td>\n",
              "    </tr>\n",
              "    <tr>\n",
              "      <th>397665</th>\n",
              "      <td>7</td>\n",
              "      <td>175</td>\n",
              "      <td>Reservoir Dogs</td>\n",
              "      <td>1992</td>\n",
              "      <td>Crime, Drama, Thriller</td>\n",
              "      <td>When a simple jewelry heist goes horribly wron...</td>\n",
              "      <td>5.0</td>\n",
              "    </tr>\n",
              "    <tr>\n",
              "      <th>705844</th>\n",
              "      <td>7</td>\n",
              "      <td>257</td>\n",
              "      <td>Charlotte's Web</td>\n",
              "      <td>1973</td>\n",
              "      <td>Animation, Family, Musical</td>\n",
              "      <td>A gentle and wise grey spider with a flair for...</td>\n",
              "      <td>5.0</td>\n",
              "    </tr>\n",
              "    <tr>\n",
              "      <th>763141</th>\n",
              "      <td>7</td>\n",
              "      <td>273</td>\n",
              "      <td>Taxi</td>\n",
              "      <td>2004</td>\n",
              "      <td>Action, Comedy, Crime</td>\n",
              "      <td>A mouthy and feisty taxicab driver has hot tip...</td>\n",
              "      <td>4.0</td>\n",
              "    </tr>\n",
              "  </tbody>\n",
              "</table>\n",
              "</div>"
            ],
            "text/plain": [
              "        userId  ...  rating\n",
              "77570        7  ...     5.0\n",
              "180762       7  ...     5.0\n",
              "397665       7  ...     5.0\n",
              "705844       7  ...     5.0\n",
              "763141       7  ...     4.0\n",
              "\n",
              "[5 rows x 7 columns]"
            ]
          },
          "metadata": {
            "tags": []
          },
          "execution_count": 79
        }
      ]
    },
    {
      "cell_type": "code",
      "metadata": {
        "colab": {
          "base_uri": "https://localhost:8080/"
        },
        "id": "pSgVL9i8po-D",
        "outputId": "57306fd3-7706-48b2-af31-f406648ffbe0"
      },
      "source": [
        "# Movies that user 7 hasn't watched\n",
        "all_movieIds = np.unique(new_ratings['movieId'])\n",
        "avail_movies_7 = [movieId for movieId in all_movieIds if movieId not in user_7['movieId'].values]\n",
        "len(avail_movies_7)"
      ],
      "execution_count": 80,
      "outputs": [
        {
          "output_type": "execute_result",
          "data": {
            "text/plain": [
              "1390"
            ]
          },
          "metadata": {
            "tags": []
          },
          "execution_count": 80
        }
      ]
    },
    {
      "cell_type": "code",
      "metadata": {
        "colab": {
          "base_uri": "https://localhost:8080/",
          "height": 204
        },
        "id": "bk2Fvw6DqN7F",
        "outputId": "ecbe4a54-7c7f-46c6-b75e-a820da3da567"
      },
      "source": [
        "# The movies User 7 have highly rated (a rating of 4+)\n",
        "high_rates_7 = user_7[user_7['rating'] >= 4]\n",
        "high_rates_7.head()"
      ],
      "execution_count": 81,
      "outputs": [
        {
          "output_type": "execute_result",
          "data": {
            "text/html": [
              "<div>\n",
              "<style scoped>\n",
              "    .dataframe tbody tr th:only-of-type {\n",
              "        vertical-align: middle;\n",
              "    }\n",
              "\n",
              "    .dataframe tbody tr th {\n",
              "        vertical-align: top;\n",
              "    }\n",
              "\n",
              "    .dataframe thead th {\n",
              "        text-align: right;\n",
              "    }\n",
              "</style>\n",
              "<table border=\"1\" class=\"dataframe\">\n",
              "  <thead>\n",
              "    <tr style=\"text-align: right;\">\n",
              "      <th></th>\n",
              "      <th>userId</th>\n",
              "      <th>movieId</th>\n",
              "      <th>title</th>\n",
              "      <th>year</th>\n",
              "      <th>genre</th>\n",
              "      <th>description</th>\n",
              "      <th>rating</th>\n",
              "    </tr>\n",
              "  </thead>\n",
              "  <tbody>\n",
              "    <tr>\n",
              "      <th>77570</th>\n",
              "      <td>7</td>\n",
              "      <td>30</td>\n",
              "      <td>Something's Gotta Give</td>\n",
              "      <td>2003</td>\n",
              "      <td>Comedy, Drama, Romance</td>\n",
              "      <td>A swinger on the cusp of being a senior citize...</td>\n",
              "      <td>5.0</td>\n",
              "    </tr>\n",
              "    <tr>\n",
              "      <th>180762</th>\n",
              "      <td>7</td>\n",
              "      <td>83</td>\n",
              "      <td>Silkwood</td>\n",
              "      <td>1983</td>\n",
              "      <td>Biography, Drama, History</td>\n",
              "      <td>A worker at a plutonium processing plant is pu...</td>\n",
              "      <td>5.0</td>\n",
              "    </tr>\n",
              "    <tr>\n",
              "      <th>397665</th>\n",
              "      <td>7</td>\n",
              "      <td>175</td>\n",
              "      <td>Reservoir Dogs</td>\n",
              "      <td>1992</td>\n",
              "      <td>Crime, Drama, Thriller</td>\n",
              "      <td>When a simple jewelry heist goes horribly wron...</td>\n",
              "      <td>5.0</td>\n",
              "    </tr>\n",
              "    <tr>\n",
              "      <th>705844</th>\n",
              "      <td>7</td>\n",
              "      <td>257</td>\n",
              "      <td>Charlotte's Web</td>\n",
              "      <td>1973</td>\n",
              "      <td>Animation, Family, Musical</td>\n",
              "      <td>A gentle and wise grey spider with a flair for...</td>\n",
              "      <td>5.0</td>\n",
              "    </tr>\n",
              "    <tr>\n",
              "      <th>763141</th>\n",
              "      <td>7</td>\n",
              "      <td>273</td>\n",
              "      <td>Taxi</td>\n",
              "      <td>2004</td>\n",
              "      <td>Action, Comedy, Crime</td>\n",
              "      <td>A mouthy and feisty taxicab driver has hot tip...</td>\n",
              "      <td>4.0</td>\n",
              "    </tr>\n",
              "  </tbody>\n",
              "</table>\n",
              "</div>"
            ],
            "text/plain": [
              "        userId  ...  rating\n",
              "77570        7  ...     5.0\n",
              "180762       7  ...     5.0\n",
              "397665       7  ...     5.0\n",
              "705844       7  ...     5.0\n",
              "763141       7  ...     4.0\n",
              "\n",
              "[5 rows x 7 columns]"
            ]
          },
          "metadata": {
            "tags": []
          },
          "execution_count": 81
        }
      ]
    },
    {
      "cell_type": "markdown",
      "metadata": {
        "id": "cQZ5oP4kv-Y-"
      },
      "source": [
        "## Agglomerative Clustering of Transformed Sentences\n",
        "* Agglomerative clustering will be used to group together descriptions according to proximity in space.\n",
        "* Agglomerative clustering with sentence-transformers can be found here: https://github.com/UKPLab/sentence-transformers/tree/master/examples/applications/clustering"
      ]
    },
    {
      "cell_type": "code",
      "metadata": {
        "colab": {
          "base_uri": "https://localhost:8080/"
        },
        "id": "Rv5P7bRMqN7G",
        "outputId": "c78fa020-dadb-4e62-b5b4-251c5373d839"
      },
      "source": [
        "from sentence_transformers import SentenceTransformer\n",
        "from sklearn.cluster import AgglomerativeClustering\n",
        "\n",
        "embedder = SentenceTransformer('distilroberta-base-paraphrase-v1')\n",
        "\n",
        "# Corpus with unique movie descriptions\n",
        "corpus = list(set(new_ratings['description'].dropna()))\n",
        "corpus_embeddings = embedder.encode(corpus)\n",
        "\n",
        "# Normalize the embeddings to unit length\n",
        "corpus_embeddings = corpus_embeddings / np.linalg.norm(corpus_embeddings, axis=1, keepdims=True)\n",
        "\n",
        "# Perform agglomerative clustering\n",
        "clustering_model = AgglomerativeClustering(n_clusters=None, distance_threshold=1.5)\n",
        "clustering_model.fit(corpus_embeddings)\n",
        "cluster_assignment = clustering_model.labels_\n",
        "\n",
        "clustered_sentences = {}\n",
        "for sentence_id, cluster_id in enumerate(cluster_assignment):\n",
        "    if cluster_id not in clustered_sentences:\n",
        "        clustered_sentences[cluster_id] = []\n",
        "\n",
        "    clustered_sentences[cluster_id].append(corpus[sentence_id])\n",
        "\n",
        "for i, cluster in clustered_sentences.items():\n",
        "    print(\"Cluster \", i+1)\n",
        "    print(cluster)\n",
        "    print(\"\")"
      ],
      "execution_count": 82,
      "outputs": [
        {
          "output_type": "stream",
          "text": [
            "100%|██████████| 306M/306M [00:15<00:00, 20.0MB/s]\n"
          ],
          "name": "stderr"
        },
        {
          "output_type": "stream",
          "text": [
            "Cluster  105\n",
            "[\"Spinal Tap, one of England's loudest bands, is chronicled by film director Marty DiBergi on what proves to be a fateful tour.\", 'Two real-life lesbian actresses meet by chance when they are cast as lovers in a local stage play, and end up actually falling in love.', \"Bill Benson and Ted Adams are to appear in a Broadway show together and, while in Paris, each 'discovers' the perfect leading lady for the plum female role. Each promises the prize role to ...\", \"Discovery by Flo Ziegfeld changes a girl's life but not necessarily for the better, as three beautiful women find out when they join the spectacle on Broadway: Susan, the singer who must ...\"]\n",
            "\n",
            "Cluster  202\n",
            "['A group of inept amateur superheroes must try to save the day when a supervillain threatens to destroy a major superhero and the city.', 'The Mystery Inc. gang must save Coolsville from an attack of past unmasked monsters brought to life by an evil masked figure trying to \"unmask\" the gang.', 'A group of gentlemen of fortune visits a legendary \"Lost City\", located in Tibet. They plan to steal a priceless statue \"Golden Dragon\" during the martial arts tournament.', 'Recovering from an ambush that killed his entire team, a vengeful vampire slayer must retrieve an ancient Catholic relic that, should it be acquired by vampires, will allow them to walk in sunlight.', 'The legendary Greek hero leads a team of intrepid adventurers in a perilous quest for the legendary Golden Fleece.']\n",
            "\n",
            "Cluster  73\n",
            "['In 1930s New York City, The Shadow (Alec Baldwin) battles his nemesis, Shiwan Khan (John Lone), who is building an atomic bomb.', 'Invisible atomic monsters attack a U.S. Armed Forces base and the local residents.', 'A minor car accident drives two rival aluminum-siding salesmen to the ridiculous extremes of man versus man in 1963 Baltimore.', 'Three men attempt to make a living in Prohibitionist America after returning home from fighting together in World War I.', 'Two Cuban brothers bring a new music to the 1950s USA. They are as different as the problems that await them.', 'Frustrated with being broke, Beans (Beanie Sigel) decides that the only way to grasp the American Dream is to take it. The film follows Beans and his crew, the ABM, as they take over the ...', \"The Man of Steel crusades for nuclear disarmament and meets Lex Luthor's latest creation, Nuclear Man.\"]\n",
            "\n",
            "Cluster  14\n",
            "['A housewife who is unhappy with her life befriends an old lady in a nursing home and is enthralled by the tales she tells of people she used to know.', 'A bored wealthy housewife on the verge of insanity cuts loose with some lively Yugoslavian immigrants who delight in their bohemian lifestyle.', 'A man struggles with memories of his past, which includes a wife he cannot remember, and a nightmarish world, no one else seems to be waking up from.', 'A soon-to-be husband wakes up on the morning after his bachelor party in bed with another woman.', 'A retired auto manufacturer and his wife take a long-planned European vacation only to find that they want very different things from life.', 'A study in culture bridging, including ... a new US-born husband, trying to work within the traditional ways, a new China-born wife, eager to join the \"dream\" of America, two family-minded ...', \"When a drag-racing, hard-luck parolee moves in with his brother in hopes of that ever-elusive fresh start in life, he's sure to be warm for the form of his brother's bored young wife. ...\", 'A handyman with marital problems meets a housewife with the same.', \"A middle-aged ad exec is faced with a new boss who's nearly half his age... and who also happens to be sleeping with his daughter.\", 'A young woman finds her already unstable life rocked by the presence of a rambunctious imaginary friend from childhood.', \"An abandoned wife is evicted from her house and starts a tragic conflict with her house's new owners.\", 'An afterlife therapist and his daughter meet a friendly young ghost when they move into a crumbling mansion in order to rid the premises of wicked spirits.']\n",
            "\n",
            "Cluster  125\n",
            "['A handsome Belgian sailor on shore leave in the port of Brest, who is also a drug-smuggler and murderer, embarks upon a voyage of highly charged and violent homosexual self-discovery that will change him forever from the man he once was.', 'The crew of a large ship sail the high seas encountering other pirates from other ships. The boy from the ship ends up having to save his girlfriend who is kidnapped by a bunch of other pirates.', 'Nine people explore a cruise ship at sea in a manner that turns their whole lives upside down.', 'Florida ship salvager, Loxi, falls for Jack, captain of a ship wrecked on the Key West shore. However, their romance is complicated by the arrival of another suitor, and eventually leads to tragedy.', 'Teenage boys discover discipline and camaraderie on an ill-fated sailing voyage.', 'An unhappily married couple struggle to deal with their problems while on board the ill-fated ship.', 'The friendship between two tramp boat owners is threatened by the arrival of a beautiful and seductive passenger.', 'A tyrannical ship captain takes his reluctant crew on a two-year voyage that will change British maritime law forever.']\n",
            "\n",
            "Cluster  113\n",
            "[\"The world's cruelty is confronted with the love of two different people who tries to save mankind from poverty and war.\", 'In 1952, during the Korean War, two American pilots become bitter enemies over the same woman but must shelf their personal feud when confronted by deadly Chinese MIG fighter jets in battle.', 'At the close of World War II, a young nurse tends to a badly-burned plane crash victim. His past is shown in flashbacks, revealing an involvement in a fateful love affair.', 'During the American Civil War, two friends join the Bushwhackers, a militant group loyal to the Confederacy.', 'A young naive American and a cynical older British diplomat disagree over politics in 1952 Vietnam and over a beautiful young native girl.', 'Toward the end of World War II, two American soldiers fighting in Southern France become romantically involved with a young, American woman. Her background will reveal more about them than her.', 'During the early 1960s, U.S. military advisers in South Vietnam discover the same challenges that plagued the French army in Indochina ten years prior.', 'Ten men,ten brothers in arms who fought together in the Portuguese Colony of Angola during the colonial war,gather together every year to dinner and remember those brave times of war...this...', 'Two rival soldiers who were killed in Vietnam are brought back to life in a top secret military experiment that creates superhuman warriors.', \"After the Civil War, Cord McNally searches for the traitor whose treachery caused the defeat of McNally's unit and the loss of a close friend.\", 'After two friends return home from the Vietnam War one becomes mentally unstable and obsesses with becoming a bird.']\n",
            "\n",
            "Cluster  57\n",
            "['A sexist womanizer is killed by one of his former lovers and then reincarnated as a woman.', 'A cannibal caterer kills various young women in preparation for a ritual feast for a long-dormant Egyptian goddess that has him under its control.', 'Four professional women meet at an East Los Angeles restaurant called Luminarias to share secrets about their careers, love, family, and sex.', 'Three female employees of a sexist, egotistical, lying, hypocritical bigot find a way to turn the tables on him.', \"Three egotistical swingers, who think they're God's gift to women, end up having their friendships tested when all three of them pick up and start dating the same woman.\", 'Three women confront their pasts which changes their futures.', \"Five women are stalked by an unknown assailant while preparing for Valentine's Day.\"]\n",
            "\n",
            "Cluster  66\n",
            "['Porter Stoddard is a well-known New York architect who is at a crossroads... a nexus where twists and turns lead to myriad missteps, some with his wife Ellie, others with longtime friends ...', 'A mysterious young man seduces each member of a bourgeois family. When he suddenly leaves, how will their lives change?', \"The alumni of Commandant Lassard's\", 'When a bumbling New Yorker is dumped by his activist girlfriend, he travels to a tiny Latin American nation and becomes involved in its latest rebellion.', \"Claude Bukowski leaves the family ranch in Oklahoma for New York where he is rapidly embraced into the hippie group of youngsters led by Berger, yet he's already been drafted. He soon falls in love with Sheila Franklin, a rich girl but still a rebel inside.\"]\n",
            "\n",
            "Cluster  51\n",
            "[\"Scott Calvin has been a humble Santa Claus for nearly ten years, but it might come to an end if he doesn't find a Mrs. Claus.\", 'Sir Guy Grand (Peter Sellers), the richest man in the world, adopts a homeless boy, Youngman (Sir Ringo Starr). Together, they set out to prove that anyone, and anything, can be bought with money.', \"When the owner of a struggling used car lot is killed, it's up to the lot's hot-shot salesman to save the property from falling into the hands of the owner's ruthless brother and used-car rival.\", \"A father who can't keep his promises, dies in a car accident. One year later, he returns as a snowman, who has the final chance to put things right with his son, before he is gone forever.\", 'Frederick Bolton has to solve two problems. First, his boss has instructed him to come up with a reasonable campaign to promote a new product, a stomach pill named \"Aspercel\" - by tomorrow....', \"A successful businessman goes to Italy to arrange for the return of his tycoon-father's body only to discover dad died with his mistress of long standing.\", 'A father vows to get his son a Turbo Man action figure for Christmas. However, every store is sold out of them, and he must travel all over town and compete with everybody else in order to find one.', 'The boy Krishna is abandoned by his mother at the Apollo Circus and she tells him that he can only return home when he can afford 500 rupees to pay for the bicycle of his brother that he ...', \"A fast-track lawyer can't lie for 24 hours due to his son's birthday wish after he disappoints his son for the last time.\", 'A motivational speaker discovers that the inheritance his father left for him is in the form of an elephant.']\n",
            "\n",
            "Cluster  69\n",
            "['Blaxploitation film about a former professional football player who becomes a bounty hunter in Los Angeles.', \"An orthodox Jewish blaxploitation hero saves Hanukkah from the clutches of Santa Claus' evil son.\", 'A cynical former sheriff turned bounty hunter helps a young, recently appointed acting sheriff with his advice, his experience and his gun.', \"A former boxer turned Secret Service agent is assigned to protect the President's son, who seems determined to make life difficult for his new protector.\", 'An ex-bounty hunter reluctantly helps a wealthy landowner and his henchmen track down a Mexican revolutionary leader.', \"A tough aspiring chef is hired to bring home a mobster's son from the Amazon but becomes involved in the fight against an oppressive town operator and the search for a legendary treasure.\"]\n",
            "\n",
            "Cluster  27\n",
            "['A group of professors working on a new encyclopedia encounter a mouthy nightclub singer who is wanted by the police to help bring down her mob boss lover.', 'Two newly paired cops who are complete opposites must put aside their differences in order to catch a gang of drug smugglers.', \"L.A.'s Chinatown is disrupted by the cross-town rivalry between two kickboxing clubs, as the competitive sport is catapulted from the ring of a gymnasium to a ring of fire.\", 'Two loose-cannon narcotics cops investigate the flow of Ecstasy into Florida from a Cuban drug cartel.', 'With a spate of violence that rocks the inner city, L.A.P.D. and ex-Marine John Kross investigates its cause: a new drug called Chaos. With help from his partner Carpenter, they delve into ...', \"A drug kingpin's return home touches off a turf war.\", 'Two L.A. cops with opposing views on what is the best way to uphold the law have to work together to bring down the Yakuza, while trying to protect a beautiful woman.', 'The \"Angels\", a San Pedro motorcycle gang, parties in the Coachella Valley\\'s Palm Springs Indian Canyons, California, and wreaks havoc with the local police.']\n",
            "\n",
            "Cluster  68\n",
            "['A man enslaved by the mob since childhood and raised into behaving like a human attack dog escapes his captors and attempts to start a new life.', 'A disillusioned, angry university graduate comes to terms with his grudge against middle-class life and values.', 'A quadriplegic man has a trained monkey help him with his paralysis, until the little monkey begins to develop feelings, and rage, against its new master.', 'An ordinary man frustrated with the various flaws he sees in society begins to psychotically and violently lash out against them.', 'A man becomes destructively obsessed with killing a dangerous rat, which has taken residence in his, recently renovated, house.', \"An extremely bigoted white man finds out the hard (and somewhat humorous) way what it's like being a black man, firsthand!\", 'Socially anxious hitman Melvin Smiley, an expert in his lucrative field, goes on a job and falls in love with his kidnapping victim, turning his world upside down.', 'A bachelor becomes the unwilling guardian of his autistic, intellectually disabled sister; then an experimental treatment works a dramatic change in her brain and his attitude.']\n",
            "\n",
            "Cluster  48\n",
            "[\"A teenage girl travels to Paris in the 1970s trying to find out about her sister's suicide, and falls in love with her dead sister's boyfriend.\", 'A young girl claims to have seen a divine vision, which prompts both a religious phenomenon and extreme skepticism.', \"The bizarre and musical tale of a girl who travels to another dimension through the gateway found in her family's basement.\", 'A teenage girl begins receiving black magic power through an antique mirror that drips blood, not realizing the mirror is controlled by demonic forces.', 'A year after the murder of her mother, a teenage girl is terrorized by a new killer, who targets the girl and her friends by using horror films as part of a deadly game.', 'A horrible massacre strikes up after an outcast teenage girl is taunted by a group of high school jocks, all of them unaware of her cutthroat telekinetic powers.', \"A young girl's life turns hairy when her new pet monkey turns out to be a trained pickpocket on the run from a scheming Gypsy.\", 'A naive country girl is tricked into a sham marriage by a wealthy womanizer, then must rebuild her life despite the taint of having borne a child out of wedlock.', \"A teenage girl, trying to come to grips with the death of her mother in a horse-riding accident, nurtures the foal of her mother's horse.\", \"Two girls thrown together by their boyfriends' violence accidentally kill one of them.\", \"A thirteen-year-old girl's relationship with her mother is put to the test as she discovers drugs, sex, and petty crime in the company of her cool but troubled best friend.\"]\n",
            "\n",
            "Cluster  111\n",
            "[\"The only effort high school student Greg Reed exerts is pursuing the beautiful and unattainable Cinny Hawkins. But when he realizes that that way to win Cinny's heart is through academics, Greg starts hitting the books.\", 'Bumbling high school geek Virgil Heitmeyer has yet to lose his virginity. A golden opportunity for finally getting deflowered arises after Virgil manages to get closer to the beautiful and ...', 'Quirt Evans, an all round bad guy, is nursed back to health and sought after by Penelope Worth, a Quaker girl. He eventually finds himself having to choose between his world and the world Penelope lives in.', 'A vampire Countess needs to drink the blood of a virgin in order to keep her eternal beauty. It seems that all is hopeless, until she bumps into Mark Kendall.', \"Holden and Banky are comic book artists. Everything's going good for them until they meet Alyssa, also a comic book artist. Holden falls for her, but his hopes are crushed when he finds out she's a lesbian.\", 'Cady Heron is a hit with The Plastics, the A-list girl clique at her new school, until she makes the mistake of falling for Aaron Samuels, the ex-boyfriend of alpha Plastic Regina George.', \"Henry Roth is a man afraid of commitment until he meets the beautiful Lucy. They hit it off and Henry think he's finally found the girl of his dreams until discovering she has short-term memory loss and forgets him the next day.\", 'Max is a trendy, pretty, young lesbian, who is having trouble finding love. A friend sets her up with Ely, whom Max likes, but Ely is frumpy, homely, and older. Nor do they have much in ...', 'Hopeless dweeb Elliot Richards is granted seven wishes by the Devil to snare Allison, the girl of his dreams, in exchange for his soul.', 'Elizabeth, a vet assistant, falls for Max, who brings in an abused dog. His jealousy burdens their relationship as does talk of marriage. Lena wants Max and she schemes.']\n",
            "\n",
            "Cluster  45\n",
            "['Stella Johnson is a single mother living in the town of Harper Valley. Now most of the townspeople, particularly on the PTA board, they feel she dresses too sexy and is a little too \"loose\"...', 'Long-suffering heiress Seeta is treated worse than a servant by her abusive money-grubbing aunt. Meanwhile, her long-lost twin sister Geeta grows up to be a gutsy street-performer. One day, the girls unintentionally swap places.', \"A gender-swapped retelling of Charles Perrault's classic, where Cinderfella is visited by a fairy godfather to help him escape from his wicked stepmother and stepbrothers.\", 'A young girl is relegated to servitude at a boarding school when her father goes missing and is presumed dead.', 'A witch is put to death in Colonial America, leaving her husband and infant daughter behind. Seventeen years later, the daughter has grown up and stands to inherit money set up by her ...', 'A poor, uneducated mountain girl leaves her cabin in search of respect, a wealthy husband, and a better life in this fictionalized biopic of Margaret \"Molly\" Brown, who survived the 1912 sinking of the RMS Titanic.', 'In the mid-19th century, a mute woman is sent to New Zealand along with her young daughter and prized piano for an arranged marriage to a wealthy landowner, but is soon lusted after by a local worker on the plantation.', 'A little girl is left by her father in an exclusive seminary for girls, due to her father having to go to South Africa to fight in the Second Boer War.', 'A spoiled rich girl is visited by her fairy godmother and turned into a maid.']\n",
            "\n",
            "Cluster  91\n",
            "[\"An LA police officer is murdered in the onion fields outside of Bakersfield. However, legal loopholes could keep his kidnappers from receiving justice, and his partner is haunted by overwhelming survivor's guilt.\", \"A top fashion model seeks justice after she is brutally raped by her teenaged sister's music teacher.\", \"When an American human rights lawyer is assassinated in Belfast, it remains for the man's girlfriend, as well as a tough, no nonsense, police detective to find the truth.\", 'A Jewish junkie is paroled after 8 years in prison, and once back on the street, rips off a drug dealer whom he already had a grudge against. The drug dealer hires an enforcer to retaliate,...', 'Emily, a tough NYPD cop, is sent to an orthodox Jewish community to investigate a missing person plus $720,000 in missing diamonds. To solve what becomes a murder case, she has to join the community.', 'A sexy black nurse takes vigilante justice against inner-city drug dealers after her sister becomes their latest victim.', 'Addison Terrill (Howell), a Dallas attorney, comes home one night to find his wife brutally murdered with the words \"We\\'re even now\" scrawled across the bedroom wall. The cops suspect he ...', 'A Los Angeles Deputy District Attorney is sent to protect a woman who accidentally witnessed a Mafia murder.', \"A woman who has just discovered she is the daughter of a murdered Mafia chieftain seeks revenge, with the aide of her father's faithful bodyguard.\", \"Saketh Ram's wife is raped and killed during direct action day riots in Calcutta. He is convinced that Mahatma Gandhi is responsible for all the problems happening in the country and sets out to kill him.\", \"A billionaire's daughter is murdered in her LA home. A tough top lawyer is up against her assistant DA ex, when she defends a musician suspect.\"]\n",
            "\n",
            "Cluster  44\n",
            "['The brief life of', 'Set in the backdrop of Indian Emergency 1975, the story revolves around 3 friends whose lives changes drastically after the turn of events.', 'The life of', 'A series of events tests the beliefs of a small isolated countryside village.', 'A coming of age romantic drama set in 1972 based on real life events.', 'Interrogated by a customs officer, a young man recounts how his life was changed during the making of a film about the Armenian genocide.', 'One year after the events of']\n",
            "\n",
            "Cluster  41\n",
            "['An interstellar teleportation device, found in Egypt, leads to a planet with humans resembling ancient Egyptians who worship the god Ra.', 'A prince and a fellowship of companions set out to rescue his bride from a fortress of alien invaders who have arrived on their home planet.', 'Barbarella, an astronaut from the 41st century, sets out to find and stop the evil scientist Durand Durand, whose Positronic Ray threatens to bring evil back into the galaxy.', 'Emperor Wang is leader of the planet Porno and sends his mighty \"Sex Ray\" towards Earth, turning everyone into sex-mad fiends. Only one man can save the Earth, football player Flesh Gordon', 'An astronaut gets infected with alien DNA during the first mission on Mars and runs amok on earth. Preston and Laura team up with a peaceful, genetically re-engineered Sil to track the monster down.', 'When a deadly Nitron ray strikes Earth, Flash Gordon and his friends travel to Mars to battle Ming the Merciless and his new ally Queen Azura.', 'Sun Ra--space-age prophet, pharoanic jester, shaman-philosopher and avant-jazz keyboardist/bandleader--lands his spaceship in Oakland, having been presumed lost in space for a few years. ...', 'Flash Gordon, Dale Arden and Dr. Zarkov return to the planet Mongo for an antidote to the Purple Death, which wreaking destruction on Earth. However, Ming the Merciless has other plans for them.', \"The Fellowship of the Ring embark on a journey to destroy the One Ring and end Sauron's reign over Middle-earth.\", 'An interstellar hero from a distant world visits Earth, and tries to fit in with a mundane, yet kind, suburban family.', 'Mere seconds before the Earth is to be demolished by an alien construction crew, journeyman Arthur Dent is swept off the planet by his friend Ford Prefect, a researcher penning a new edition of \"The Hitchhiker\\'s Guide to the Galaxy.\"']\n",
            "\n",
            "Cluster  38\n",
            "['The story concerns a hapless civil servant who gets more than he bargained for when he moves into an apartment with a gay fashion student and finds himself on the catwalk. The film sets out...', 'A businessman moves to Hong Kong to pursue a career as an artist and falls in love with a prostitute he hires as a model.', \"A fired cop and useless lawyer sign up as security guards and find they've joined a corrupt union.\", 'In debt; Dayashankar Pandey is forced to go to Bombay to ask his tenants to vacate his house as it is his only means of acquiring money to pay off his loans. But the problem is these people...', \"Sidney Pythias is a bumbling janitor picked up by cop Mike Damon as a teenage gang member worth saving from delinquency. With Damon's help, Sidney works his way through the Police Academy to become a cop too.\", 'J.K. is a hotel Manager in a scenic location in India. One day he gallantly comes to the rescue of a drunk daughter, Aarti, of a politician, and chooses to be discrete about it. When she ...', 'An incompetent bellhop is recruited to fill in for a deceased comedian.', 'A businessman comes to Washington with his ex Vegas showgirl girlfriend, and after some embarrassments, he hires a reporter as tutor to smarten her up. She turns out to be smart, sucks up knowledge and questions things. Trouble?', \"An orphan is provisionally adopted by the manager of a hotel populated by show business people. The hotel's owner doesn't like the entertainers and wants the girl returned to the orphanage.\", \"When a boy comes to a new school and gets harassed by a bully, he acquires the services of the school's most feared kid as a bodyguard.\", \"Bank janitor Ernest P. Worrell is called to jury duty and soon finds himself in trouble when the lookalike defendant's attorney arranges a switch and has Ernest sent to prison in his client's place.\"]\n",
            "\n",
            "Cluster  76\n",
            "['Two escaped convicts and a female railway worker find themselves trapped on a train with no brakes and nobody driving.', 'After a shootout on a flight transporting prisoners, a flight attendant must outwit a smooth-talking serial killer and land the plane herself.', \"A shy advertising employee meets his dream girl on the El train, but doesn't remember to get her phone number, resulting in an all-out search for the mystery girl\", \"A C-47 transport plane, named the Corsair, makes a forced landing in the frozen wastes of Quebec, and the plane's pilot, Captain Dooley, must keep his men alive in deadly conditions while waiting for rescue.\", 'On a long-distance train trip, a man finds romance but also finds himself in danger of being killed, or at least pushed off the train.', 'When a commercial airliner develops engine problems on a trans-Pacific flight and the pilot loses his nerve, it is up to the washed-up co-pilot Dan Roman to bring the plane in safely.']\n",
            "\n",
            "Cluster  119\n",
            "['A naive hustler travels from Texas to New York City to seek personal fortune, finding a new friend in the process.', 'An aspiring writer is hired as a croupier at a casino, where he realizes that his life as a croupier would make a great novel.', \"A nosy cab driver gets a hot tip on a race horse and wins big, but he can't seem to stop gambling. Will he go broke or walk home with a pretty penny?\", 'With little luck at keeping a job in the city a New Yorker tries work in the country and eventually finds his way leading a herd of cattle to the West Coast.', 'Con artist Marilyn Fryser tries to sell bogus real estate deals in an area overrun by giant ants.', 'A Las Vegas casino magnate, determined to find a new avenue for wagering, sets up a race for money.', 'A wealthy New York City investment banking executive, Patrick Bateman, hides his alternate psychopathic ego from his co-workers and friends as he delves deeper into his violent, hedonistic fantasies.', 'Jack Flowers, an American hustler in early 1970s Singapore, dreams of building a fortune by running a brothel and returning to the States to lead a life of luxury.', 'A New York City advertising executive goes on the run after being mistaken for a government agent by a group of foreign spies.', 'A New York City swindler has until Christmas to come up with the $10,000 he owes a gangster, prompting him to go into scamming overdrive.']\n",
            "\n",
            "Cluster  11\n",
            "['An anthropologist creates a fictitious lost New Guinea tribe using his family members to cover-up for his mis-use of grant moneys.', 'An I.R.A. gunman (Sir Anthony Hopkins) on the run from the government. He meets up with an idealistic young woman (Rebecca Pidgeon) and attempts to win her support for his cause.', 'A troubled hitman seeks aid from a forger to help him get papers to China. However, the drug lord has hired replacements to finish the job, and kill the hitman.', 'Shanghai, 1938: A missionary woman hires a fortune hunter to help her find 1100 lbs. opium lost, as wounded need the morphine. Adventure and romance follows.', 'Two F.B.I. Agents with wildly different styles arrive in Mississippi to investigate the disappearance of some civil rights activists.', 'An F.B.I. Agent teams up with a tracker to pursue a murderer after he vanishes into the mountains and infiltrates a hiking group.', \"A French anthropologist specializing in nomadic groups moves to Los Angeles with his wife, and starts following a group of sinister street punks who seem to live and move around in a black van. But they aren't what they seem.\", 'A travelling handyman becomes the answer to the prayers of nuns who wish to build a chapel in the desert.', 'An anthropologist goes to Haiti after hearing rumors about a drug used by black magic practitioners to turn people into zombies.']\n",
            "\n",
            "Cluster  17\n",
            "['Perseus must battle Medusa and the Kraken to save the Princess Andromeda.', 'A young police officer must prevent a bomb exploding aboard a city bus by keeping its speed above 50 mph.', 'Two women, black and white, in 1955 Montgomery Alabama, must decide what they are going to do in response to the famous bus boycott lead by Martin Luther King.', 'A girl is among the few survivors of a dystopian Earth. Riding a war tank, she fights against the tyranny of a mega-corporation that dominates the remaining potable water supply of the planet.', '13-year-old Brian is the sole survivor of an unreported plane crash. Alone in the Yukon wilderness, Brian must learn to survive by his wits, find food and shelter, and brave wild, hungry ...', 'A nuclear powered bus driving cross-country, from New York City to Colorado, is destined for disaster due to the machinations of a mysterious group allied with the oil lobby.', 'The story of Georgia Perry, the first woman to sail around the world solo.']\n",
            "\n",
            "Cluster  36\n",
            "[\"At the snobby Crawford Academy, Virginia's group of friends start to go missing years after horrible events that happened to her as a child around her birthday.\", 'Four friends begin to question women and relationships when one of them announces impending nuptials.', 'The summer of 1984: 32 years after Duane Jackson captained the high school football team and Jacy Farrow was homecoming queen, the small town of Anarene, Texas prepares for its centennial ...', \"Four friends all going a painful breakup, know too much about each other, and the hostility they've been expressing gets turned toward each other.\", 'Rich socialite Chantal marries Eugene, a photographer, and everything seems blissful until her envious friend attempts to break them up. In desperation, she turns to her mother, but the advice she receives may do more harm than good.', \"It's the wedding of Jim and Michelle and the gathering of their families and friends, including Jim's old friends from high school and Michelle's little sister.\", 'Claire and Brad are about to get married. Claire sends some friends along to make sure Brad behaves himself on his bachelor party, however things spiral out of control.', \"Just as Amelia thinks she's over her anxiety and insecurity, her best friend announces her engagement, bringing her anxiety and insecurity right back.\", 'A girl\\'s \"sweet\" sixteenth birthday becomes anything but special, as she suffers from every embarrassment possible.']\n",
            "\n",
            "Cluster  4\n",
            "['Carter and Lee head to Hong Kong for a vacation, but become embroiled in a counterfeit money scam.', 'T.J. and his friend Dexter quit their jobs in Detroit to become ski-instructors in Aspen. While T.J. advances to the most popular instructor of the school during the season, he has to take ...', \"Wanting to avoid settling in a nursing home, Joseph Kotcher, a retired salesman, is obliged to leave his son's family. He embarks on a road trip during which he strikes up a friendship with...\", 'Sunny Holiday, an aspiring singing star, abandons his wife and young baby to set off on a nine-month tour of bleak western towns. He takes off with his road manager in a pink Chrysler in ...', \"After her beloved husband's suicide, a mourning supermarket worker and her best friend hit the road in Scotland, but find that grief is something that you can't run away from forever.\", 'South African journalist Donald Woods is forced to flee the country, after attempting to investigate the death in custody of his friend, the black activist Steve Biko.', 'TJ and company must save summer vacation from disappearing forever.', 'Tamanna Sahni (Shilpa Shetty) is a dedicated staff member of a top advertising agency, her ideas and designs have mainly contributed to the success of the agency. She leaves for a college ...', 'An aircraft factory worker goes on the run after being wrongly accused of starting a fire that killed his best friend.', 'Two professionals, Jeff and Marty, take a business trip to the Philippines. Their deep dissatisfaction with their lives leads them to forsake their friends and families for a return to the ...']\n",
            "\n",
            "Cluster  70\n",
            "['An English woman and her daughter enlist the aid of a cowboy to try and get their hardy hornless bull to mate with the longhorns of Texas, but have to overcome greedy criminals and the natural elements.', 'A paleontologist and her husband discover a mother and baby brontosaurus in Africa, and try to protect them from a group of hunters intent on capturing the dinosaurs.', 'A father and daughter decide to attempt to lead a flock of orphaned Canada Geese south by air.', \"Two Texas cowboys head to Mexico in search of work, but soon find themselves in trouble with the law after one of them falls in love with a wealthy rancher's daughter.\", \"Two men reaching middle age with not much to show but disappointment embark on a week-long road trip through California's wine country, just as one is about to take a trip down the aisle.\", 'A friendship between two young men is tested when they go for a hike in a desert and forget to bring any water or food with them.', 'A gang of bank robbers with a suitcase full of money go to the desert to hide out. After burying the loot, they find their way to a surreal town full of cowboys who drink an awful lot of ...', 'A bridge engineer and an experienced old hunter begin a hunt for two lions after they start attacking local construction workers.']\n",
            "\n",
            "Cluster  208\n",
            "['A major heist goes off as planned, but then double crosses, bad luck and solid police work cause everything to unravel.', 'A private detective gets more that he bargains for when he encounters Philip Swan, a performer whose amazing illusions captive the world, but they are not really what everyone thinks.', 'When a simple jewelry heist goes horribly wrong, the surviving criminals begin to suspect that one of them is a police informant.', \"As Zipper's Clown Palace (a strip bar) closes, Neil wanders in and decides to hold the dancers, bartender, and remaining customers hostage. He torments them with little tasks he wants ...\"]\n",
            "\n",
            "Cluster  134\n",
            "['The filming of', 'Almost at the verge of documentary, film depicts a single auto race from the ground up.', 'After', 'A prequel of sorts to', 'The sequel to', 'Based on']\n",
            "\n",
            "Cluster  110\n",
            "['Mouser Jaune Tom and house cat Mewsette are living in the French countryside, but Mewsette wants to experience the refinement and excitement of the Paris living. But upon arrival she falls ...', 'Newlyweds Gil and Lana Martin try to establish a farm in the Mohawk Valley but are menaced by Indians and Tories as the Revolutionary War begins.', 'Just prior to the American War of Independence, aristocratic Virginian Jane Peyton marries unsophisticated rustic farmer and surveyor Matt Howard who takes her to his Shenandoah Valley plantation and later goes to war.', 'Two mismatched sets of identical twins, one aristocrat, one peasant, mistakenly exchange identities on the eve of the French Revolution.', 'An English soldier and the daughter of an Algonquin chief share a romance when English colonists invade seventeenth century Virginia.', 'Two orphaned sisters are caught up in the turmoil of the French Revolution, encountering misery and love along the way.']\n",
            "\n",
            "Cluster  120\n",
            "[\"Only a few weeks after her husband's mysterious death, Maureen returns from a cruise with handsome Brit Oliver Vance in tow. Her son Scott is mortified. He still can't believe that his ...\", \"A French woman returns to her childhood home in Cameroon - formerly a colonial outpost - where she's flooded by memories, particularly of Protée, her servant.\", 'A headstrong young woman returns to New Orleans after the death of her estranged mother.', \"A quietly troubled young man returns home for his mother's funeral after being estranged from his family for a decade.\", \"Missing for seven years and presumed dead, a woman returns home on the day of her husband's second marriage.\", 'The successful writer and professor of architecture Nick Kaminsky returns from New York to Elderstown to visit his biological mother Lillian Anderson Munnsen that is terminal. Nick does not...', 'An honorably discharged soldier returns home to New Orleans, hoping to break away from his upbringing as a trained prostitute, but his brothel-madam mother has other expectations.', \"A married soldier returning from World War II poses as a pregnant woman's husband to save her from her father's anger and honor.\"]\n",
            "\n",
            "Cluster  200\n",
            "['Ben and Katie Jordan are a married couple who go through hard times in fifteen years of marriage.', \"An adaptation of Bishop T.D. Jakes' self-help novel, chronciling a woman's struggle to come to terms with her legacy of abuse, addiction and poverty.\", 'A collection of twentysomethings try to cope with relationships, loneliness, desire and their individual neuroses.', 'An unfocused twentysomething (Peter Fenton) moves in with a former co-worker (Sacha Holder), who is suffering from low self-esteem because of her weight, looks, and a case of eczema. Their ...']\n",
            "\n",
            "Cluster  144\n",
            "['Sir John Locksley, the greatest jewel thief, decides his most prized possession, the Shalimar Ruby, should be passed on to a worthy successor. He invites the best rival jewel thieves to his island estate to participate in a deadly contest.', \"Phileas Fogg III, great grandson of the original Phileas Fogg, accepts a bet to duplicate his great grandfather's famous trip around the world in response to a challenge made by Randolph ...\", 'Mystery about an ex-prizefighter who embarks on a journey to find 13 missing diamonds.', 'To win a bet, an eccentric British inventor, beside his Chinese valet and an aspiring French artist, embarks on a trip full of adventures and dangers around the world in exactly eighty days.']\n",
            "\n",
            "Cluster  77\n",
            "[\"The new owner of the Cleveland Indians puts together a purposely horrible team so they'll lose and she can move the team. But when the plot is uncovered, they start winning just to spite her.\", \"A rich businessman's assumption that his new colleague is gay leads him to ask the man to keep an eye on his mistress. However, the man is not gay, and begins to fall for the woman himself.\", \"Not knowing what consequences she would face, a woman signs a 1-year marriage contract with a business tycoon to end her family's poverty.\", 'A hypochondriac believes he is dying and makes plans for his wife which she discovers and misunderstands.', 'A wealthy man married to a beautiful younger woman puts her fidelity to the test.', \"A tennis player tries to arrange his wife's murder after learning of her affair.\", 'An arrogant career woman plays a series of heartless mind-games with her boyfriend to \"put him in line,\" only to discover that he has a few tricks up his own sleeve.', 'A woman, along with her lover, plans to con a rich man by marrying him, earning his trust, and then running away with all his money. Everything goes as planned until she falls in love with him.', 'An unfulfilled married woman becomes intrigued by an alluring suitor whose attention soon becomes obsessive.', 'A successful but constantly-feuding husband and wife musical comedy team threatens to break up when the wife entertains an offer to become a serious actress.', \"A woman plans to marry a navy officer but she is also the object of another man's obsession.\"]\n",
            "\n",
            "Cluster  194\n",
            "['When a boy learns that a beloved killer whale is to be killed by the aquarium owners, the boy risks everything to free the whale.', 'A teenage boy sent to spend the summer with his eccentric uncle on the Florida coast befriends a remarkable dolphin - and takes on local bad guys who are polluting the water. With Isaac Hayes.', 'With a plan to exact revenge on a mythical shark that killed his partner, Oceanographer Steve Zissou (Bill Murray) rallies a crew that includes his estranged wife, a journalist, and a man who may or may not be his son.', 'Boy Sandy and Dolphin Flipper are in the Bahamas where they pester a bunch of outlaws holding an English family captive.', \"When a killer shark unleashes chaos on a beach community, it's up to a local sheriff, a marine biologist, and an old seafarer to hunt the beast down.\"]\n",
            "\n",
            "Cluster  29\n",
            "[\"When a gang of African poachers raid her family's farm, young Nonni, visiting American teenager Harry Winslow and a local bushman guide must escape into the Kalahari desert and reach the nearest town.\", 'A tug-of-war between Elmo and his friend sends his blanket to faraway Grouchland, a place full of grouchy creatures and the villainous Huxley. Elmo embarks on a rescue mission, learning important lessons about sharing and responsibility.', 'A henpecked New Jersey grocer makes plans to move to California to grow oranges, despite the resistance of his overbearing wife.', 'After her destitute family is forced to sell her, a collie named Lassie (Pal) escapes from her new owner and begins the long trek from Scotland to her Yorkshire home.', 'Brazilian chef Isabella Oliveira moves to San Francisco when her husband, frustrated by her motion sickness, cheats on her.', 'When Roo sets off on his own into the Hundred Acre Wood, he discovers a friendly and playful Heffalump named Lumpy.', 'Elliot heads for the sexual fantasy island, Eden. He takes some photos of diamond smugglers. They and undercover cops want the photos and follow him to Eden.', 'When an imminent drought threatens to ruin their crop, Rambhi and her husband Veeru move from their village to the city. Through threat, violence and blackmail, Veeru makes a career as a ...', 'Army dispatch rider Hondo Lane discovers a woman and young son living in the midst of warring Apaches and becomes their protector.']\n",
            "\n",
            "Cluster  109\n",
            "['Convicted corporate criminal Howard engineers a prison break as he and a number of fellow inmates are being transferred to a new facility. The escapees storm a shopping mall and take a ...', \"Four best men pick up their friend, the groom, outside prison. On the way to the chapel, they stop at a bank and get involved in a robbery. The bank's surrounded. FBI takes over.\", 'Facing hanging, a bank robber makes a deal with the corrupt banker to avoid execution in exchange for a dirty assignment.', 'Alcatraz is the most secure prison of its time. It is believed that no one can ever escape from it, until three daring men make a possible successful attempt at escaping from one of the most infamous prisons in the world.', \"Set up and wrongfully accused, two best friends will be sent to prison for a crime they didn't commit. However, no prison cell could keep them locked in.\", 'When heavyweight champion George \"Iceman\" Chambers lands in prison, the resident gangster arranges a boxing match with the reigning prison champ.', 'The story of three not so bright men who come up with a series of crazy schemes to get a friend out of jail.', 'Disgusted with criminals escaping the judicial system via technicalities, an idealistic young judge investigates an alternative method for punishing the guilty.']\n",
            "\n",
            "Cluster  46\n",
            "['A swinger on the cusp of being a senior citizen with a taste for young women falls in love with an accomplished woman closer to his age.', 'A young woman falls in love with a handsome playboy, while aboard a Singapore to India cruise. They make plans to meet again, but fate may have other plans...', 'A young man who smuggles illegal weapons and people back and forth over the borders between India and Pakistan falls in love with a young woman whose family he helped.', 'A Hollywood composer goes through a mid-life crisis and becomes infatuated with a sexy, newly married woman.', 'A young woman meets and falls in love with a young man who is part of a family of immortals.', 'A middle class young woman, who dreams of Bollywood fame, is caught in a love triangle between her childhood friend and a famous actor.', 'A young woman, coping with the death of her father, embarks on a quest to meet a Hollywood star with whom she has become obsessed.', 'An art director in the 1930s falls in love and attempts to make a young woman an actress despite Hollywood who wants nothing to do with her because of her problems with an estranged man and her alcoholic father.', \"A seductive woman falls in love with a mysterious ship's captain.\", 'A submarine lieutenant and his commander fall in love with the same girl.']\n",
            "\n",
            "Cluster  61\n",
            "['A law student comes to California for the summer and ends up playing professional volleyball.', 'Two college roommates go out and party, resulting in bad grades. They learn of the clause that says, \"If your roommate dies, you get an A,\" and decide to find someone who is on the verge, so to speak, to move in with them.', 'A young man must complete his work at a Navy Officer Candidate School to become an aviator, with the help of a tough Gunnery Sergeant and his new girlfriend.', 'A listless and alienated teenager decides to help his new friend win the class presidency in their small western high school, while he must deal with his bizarre family life back home.', 'A high school senior with a promising swimming career has a one-night stand with consequences.', 'When they find a frozen caveman in their back yard, two high school outcasts thaw him and introduce him to modern life while he in turn gets them to actually enjoy life.', \"Chuck wants to leave home but can't make the grade for boarding school. Then he finds out the disfigured recluse living nearby is an ex-teacher.\", 'A high school senior visits college for the weekend, and stays at the wildest house on campus.']\n",
            "\n",
            "Cluster  2\n",
            "['After being betrayed and left for dead in Italy, Charlie Croker and his team plan an elaborate gold heist against their former ally.', 'A police offer is hellbent to arrest a notorious terrorist who is planning to destroy Mumbai, as well as to settle a personal score with him.', \"Tough ex-con Corky and her lover Violet concoct a scheme to steal millions of stashed mob money and pin the blame on Violet's crooked boyfriend Caesar.\", 'Con artists plan to fleece an eccentric family using an accomplice who claims to be their long-lost uncle.', 'Police in Boston search for a mad bomber trying to extort money from the city.', 'This movie tells the story of a man who goes undercover in a hi-tech prison to find out information to help prosecute those who killed his wife. While there he stumbles onto a plot involving a death-row inmate and his $200 million stash of gold.', \"A devious sexpot steals her husband's drug money and hides out in a small town where she meets the perfect dupe for her next scheme.\", 'A man with an asthmatic voice telephones assaults clerk Kelly Sherwood at home and coerces her into helping him steal a large sum from her bank.', \"An imprisoned drug kingpin offers a huge cash reward to anyone that can break him out of police custody, and only the L.A.P.D.'s Special Weapons and Tactics team can prevent it.\", \"Skirt-chasing SIC agent Craig Gamble and millionaire bachelor Todd Armstrong set out to foil mad scientist Dr. Goldfoot's plot to use his army of bikini-clad robots to seduce wealthy men into signing over their assets.\", 'A movie director-screenwriter finds a man to finance his latest project but soon discovers that the producer is actually an undercover FBI agent working on a mob sting operation.', 'An international spy teams up with an arms dealer to escape from a penal colony and rescue his family from a terrorist.']\n",
            "\n",
            "Cluster  90\n",
            "['A Chicago cop is caught in the middle of a gang war while his own comrades shun him because he wants to take down an irresponsible cop.', 'A District Attorney is terrorized by the criminal he put away years ago when he was a cop.', \"A tough and honest police officer clashes with a crime boss who, unbeknownst to him, happens to be his parents' murderer.\", 'A veteran detective gets stuck with a rookie cop when in pursuit of a German crook.', 'A uniformed cop is recruited by a drug enforcement agent to infiltrate a drug smuggling ring looking to expand its operation.', 'An honest cop enters the dark world of murder and corruption.', 'A deejay and ex-con is forced to work with the police in an undercover drug sting targeting his boss.', 'A freewheeling Detroit cop pursuing a murder investigation finds himself dealing with the very different culture of Beverly Hills.', 'A racist cop receives a heart transplant from a black lawyer he hates, who returns as a ghost to ask the cop to help take down the men who murdered him.', \"A rookie cop spends his first day as a Los Angeles narcotics officer with a rogue detective who isn't what he appears to be.\", 'An obsessive, insubordinate homicide cop is convinced a serial killer is loose in the Hollywood area and disobeys orders in order to catch him.', \"To stop an elusive criminal, a maverick detective enlists the aid of a police dog who's an unusually intelligent smart alec.\", 'A rogue cop joins an elite L.A.P.D. unit who secretly operate as a vigilante death squad, but soon begins to question their methods.', \"A New York cop is recruited to return to his hometown and infiltrate the mob ran by his best friend's brother.\", 'Orin Boyd, a tough cop in an inner-city precinct discovers a web of dirty cops and corruption.']\n",
            "\n",
            "Cluster  179\n",
            "[\"In 1904, in Dublin, James Joyce chats up Nora Barnacle, a hotel maid recently come from Galway. She enchants him with her frank, direct and uninhibited manner, and before long, he's ...\", 'In 1890s London, two friends use the same pseudonym (\"Ernest\") for their on-the-sly activities. Hilarity ensues.', 'While working as a counselor at a summer camp, college-student Marjorie Morgenstern falls for 32-year-old Noel Airman, a would-be dramatist working at a nearby summer theater. Like Marjorie...', \"At 10, Fanny Price, a poor relation, goes to live at Mansfield Park, the estate of her aunt's husband, Sir Thomas. Clever, studious, and a writer with an ironic imagination and fine moral ...\", 'A young marchioness who loves the way of free-thinking and flatterers invites an author into her house who pretends to seduce her...', \"Lee Plenty is an almost broke would-be novelist and Havilland Savage is rich and very beautiful woman and his friend. When she invites him to her home for New Year's Eve, they start to ...\"]\n",
            "\n",
            "Cluster  15\n",
            "['Poor Gregory. After being released from the Wishing Well Sanatorium, all he wants to do is make the children happy. So Gregory reopens the old ice cream factory, and all the unappreciative brats are reprocessed into the flavor of the day.', \"Reluctantly retired from fighting, Rocky takes charge of Mickey's gym and agrees to train a young protégé who's hungry for success.\", \"Wally Sparks is a tabloid television show reporter, who's trying to boost ratings on his show. He goes to the Governor's mansion to uncover a sex scandal.\", \"A kids show host, Rainbow Randolph, is fired in disgrace while his replacement, Sheldon Mopes, aka Smoochy the Rhino, finds himself a rising star. Unfortunately for Sheldon, the business of kids television isn't all child's play.\", \"A television network cynically exploits a deranged former anchor's ravings and revelations about the news media for its own profit.\", 'A series of mysterious crimes confuses existence of a radio network.', 'Apprentice lawyer Robin \"Stormy\" Weathers turns a civil suit into a headline grabbing charade. He must re-examine his scruples after his shenanigans win him a promotion in his firm, and he ...', 'A rude, contemptuous talk show host becomes overwhelmed by the hatred that surrounds his program just before it goes national.']\n",
            "\n",
            "Cluster  158\n",
            "[\"An uptight, leather-clad female alien, armed with a ray gun and accompanied by a menacing robot, comes to Earth to collect Earth's men as breeding stock.\", 'A DNA experiment on a rare breed of spider is taking place on a NASA space shuttle, when a freak meteor shower engulfs the shuttle, causing everything to go horribly wrong.', 'A scientist makes a last stand on Earth with the help of a ragtag team of soldiers against an invasion of alien phantoms.', 'Some time in the future, man has set up colonies on the Moon, when Earth becomes uninhabitable. A madman decides to destroy the Moon colonies with his robots and automated ships, and only three people and their robot can stop him.', \"A spaceship with an all female crew runs into a meteor field because of a navigational mistake. They lose a lot of their fuel and realise they cant get home on what they've got. They are ...\", 'In 2029, an Air Force astronaut crash-lands on a mysterious planet where evolved, talking apes dominate a race of primitive humans.', 'Astronauts travel to the moon where they discover it is inhabited by attractive young women in black tights.', 'Earth is invaded by Martians with unbeatable weapons and a cruel sense of humor.', 'A fire-fighting cadet, two college professors, and a geeky but sexy government scientist work against an alien organism that has been rapidly evolving since its arrival on Earth inside a meteor.']\n",
            "\n",
            "Cluster  143\n",
            "['The adventures of a drifter turned illegal prize-fighter during the Depression Era in New Orleans.', 'After receiving an inheritance in Louisiana, Los Angeles reporter Irvin Fletcher heads to the Belle Isle plantation where he gets himself into hilarious trouble.', \"A tough young boxer struggles to come out in England. Having travelled to London, from his smaller town, he meets and falls for a twenty-something music producer. But love doesn't come easy.\", 'A retired American boxer returns to the village of his birth in Ireland, where he falls for a spirited redhead whose brother is contemptuous of their union.', 'A weary gunfighter attempts to settle down with a homestead family, but a smoldering settler/rancher conflict forces him to act.', 'A drifting gunslinger-for-hire finds himself in the middle of an ongoing war between the Irish and Italian mafia in a Prohibition era ghost town.']\n",
            "\n",
            "Cluster  114\n",
            "[\"After assuming his dead cell-mate's identity to get with the other man's girlfriend, an ex-convict finds himself a reluctant participant in a casino heist.\", 'A Cincinnati college student breaks off his engagement to his wealthy fiancée after he falls in love with a backwoods Kentucky girl he meets at a party. She claims to be 20 years old, but ...', 'A young, gay student has a relationship with an older, successful businessman. The handsome playboy-businessman must choose between his comfortable, yet closeted straight life, or an honest, yet subversive life with the student.', 'A buttoned-up newlywed finds his strictly organized life descend into chaos when he falls in love with an old classmate.', 'A married man gets drawn into a voyeuristic Internet affair.', \"A sports fan's romantic courtship clashes with his obsession with his favorite football team.\", 'A playboy mends his reckless ways and learns the meaning of true love, in his efforts to win his ladylove.', 'Over the course of five social occasions, a committed bachelor must consider the notion that he may have discovered love.', 'A commitment-averse man frantically hits the dating scene after his girlfriend starts pressuring him to pop the question.']\n",
            "\n",
            "Cluster  209\n",
            "[\"Based on the 1836 standoff between a group of Texan and Tejano men, led by Davy Crockett and Jim Bowie, and Mexican dictator Santa Anna's forces at the Alamo in San Antonio Texas.\", 'In 1836, a small band of soldiers sacrifice their lives in hopeless combat against a massive army in order to prevent a tyrant from smashing the new Republic of Texas.', \"In Apache territory, a supply Army column heads for the next fort, an ex-scout searches for the killer of his Indian wife, and a housewife abandons her husband in order to rejoin her Apache lover's tribe.\", \"The story of the Apache chief and his armed resistance to the U.S. Government's subjugation of his people.\"]\n",
            "\n",
            "Cluster  33\n",
            "['A trio of classy card sharks targets the socially awkward heir to brewery millions for his money, until one of them falls in love with him.', 'Femme fatal/con artist Bridget Gregory travels to Barcelona and targets another businessman to scam him of his money while a relentless private investigator tries to track her down.', 'Heroines Mallory, Vena Cava and Talking Tina fight the fallen angel Abaddon and his accomplices vampire Lady Valentine and succubus Morphine.', 'A small-time criminal, betrayed by his girlfriend and owing money to a fearsome crime lord, agrees to travel to Goa for a drug deal and becomes involved with a local woman and her much older husband, both of who want to kill each other.', \"George Kuffs, 21, leaves a pregnant girlfriend. He visits his brother Brad to bum money off him. Brad's shot and George IDs the killer at SFPD but to no avail. He inherits Brad's patrol district. He keeps it to get the killer.\", 'The Bride continues her quest of vengeance against her former boss and lover Bill, the reclusive bouncer Budd, and the treacherous, one-eyed Elle.', 'Two cousins and friends, Richie and Evan, go to Atlantic City to gamble. Richie loses all he has at slot machines and asks Evan for two more coins for a last attempt. That last attempt ...', 'Partners in crime Jai and Veeru set their next target on a rich businessman, Rai Bahadur. Things turn hilarious when both of them fall for his daughters.', 'Con-man and thief Sanju donates his loot and money to orphanages; his life changes when he crosses path with a notorious gangster, Jogia Seth who ended up owing him huge amount of money. In...']\n",
            "\n",
            "Cluster  101\n",
            "['London of the late 19th century is a haven for political exiles of all sorts - refugees, partisans, anarchists. Verloc has made his living spying for the Russian government, an agent ...', 'Based on the Profumo Scandal of 1963, an affair between an exotic dancer and the Minister of War shakes up the British government.', 'The death of a young man leads to the discovery of a blackmail plot against several gay men in 1960s London.', 'In post-World War II Britain, food rationing continues, leading a married couple to become involved in the flourishing bacon black market.', 'Fact-based account of a secret society of murderers, and of the man who exposed them in British India 1825.', 'Rising politician Robert Chiltern once sold secret information and is now being blackmailed by Laura Evely. She has proof and it will damage his career and marriage severely. Chiltern calls in the help of his friend Arthur Goring.', 'In London, during October 1993, England is playing Holland in the preliminaries of the World Cup. The Bosnian War is at its height, and refugees from the ex-Yugoslavia are arriving. ...', 'London 1895: Cabinet minister, Sir Chiltern, and bachelor, Lord Goring, are victims of scheming women.']\n",
            "\n",
            "Cluster  7\n",
            "[\"A disgraced former air traffic controller is called back into service when the airport's traffic control system malfunctions.\", 'The story of a fire captain who lost eight men in the collapse of the World Trade Center and the editor who helps him prepare the eulogies he must deliver.', 'When an alien spacecraft of enormous power is spotted approaching Earth, Admiral James T. Kirk resumes command of the overhauled USS Enterprise in order to intercept it.', \"Set in a world with memory recording implants, Alan Hakman is a cutter, someone with the power of final edit over people's recorded histories. His latest assignment is one that puts him in danger.\", \"A movie publicist deals with the messy public split of his movie's co-stars while keeping reporters at bay while a reclusive director holds the film's print hostage.\", 'In an oppressive future, a fireman whose duty is to destroy all books begins to question his task.', 'A faulty computer causes a passenger space shuttle to head straight for the Sun. Can Ted Striker save the day and get the shuttle back on track - again?']\n",
            "\n",
            "Cluster  55\n",
            "[\"A couple search for each other years after the night they first met, fell in love, and separated, convinced that one day they'd end up together.\", 'A newly-engaged couple have a breakdown in an isolated area and must seek shelter at the bizarre residence of Dr. Frank-n-Furter.', 'A young couple from the city takes a trip to the country.', 'A young American couple and a French woman engage in a threesome in the Greek Islands.', \"A decidedly odd couple with ulterior motives convince Dr. Grant to go to Isla Sorna for a holiday, but their unexpected landing startles the island's new inhabitants.\", 'A speech and hearing-impaired couple persists through unforgiving obstacles to be accepted by society and live a life of dignity.', 'A romantically inclined couple decide to get to know each other through letters without disclosing their identities.', 'After a one-night stand a couple is faced with the terrifying possibility of what they really want.', 'A young couple trying for a baby move into a fancy apartment surrounded by peculiar neighbors.', 'An affluent New York City couple finds their lives touched, intruded upon, and compelled by a mysterious young black man who is never quite who he says he is.']\n",
            "\n",
            "Cluster  12\n",
            "['A psychiatrist makes multiple trips through time to save a woman that was murdered by her brutal husband.', 'After an accident leaves her a paraplegic, a former soap opera star struggles to recover both emotionally and mentally, until she meets her newest nurse, who has struggles of her own.', 'A madman terrorizes a female psychologist when they are accidently locked up in an abandoned asylum.', 'A troubled psychologist is sent to investigate the crew of an isolated research station orbiting a bizarre planet.', 'In a Manhattan psychiatric hospital a man, convinced he is Sherlock Holmes, is treated by a female doctor who happens to be named Watson.', 'Young, pretty nurses and their hospital adventures.', 'Haunted by the patients he failed to save, an extremely burned-out Manhattan ambulance paramedic fights to maintain his sanity over three fraught and turbulent nights.', 'A burnt-out shrink needs a temp. A charming escaped convict takes over his practice and radio show.', 'A psychiatrist familiar with knife-wielding dream demon Freddy Krueger helps teens at a mental hospital battle the killer who is invading their dreams.', 'An over-burdened doctor struggles to find meaning in his life while a murderer stalks the halls of his hospital.', 'In an afterlife way station resembling a block of hotels, the lives of the recently-deceased are examined in a court-like setting.']\n",
            "\n",
            "Cluster  18\n",
            "['During the 1930s, a New York City illegal gambling house owner and his associates must deal with strong competition, gangsters, and corrupt cops in order to stay in business.', \"Tough Miami P.I., Tony Rome's hired by a millionaire to find jewelry stolen from his daughter. In the search, he has several encounters with local hoods as well as the Miami's police\", 'Jeff Cole is a recent graduate of the Cincinnati police academy who dreams of working undercover. His wish is granted and through success is given the task of taking down state-wide crack ...', 'Vincent Lamarca, whose father was executed for a 1950s kidnapping of a child, grew up to become a police officer, only to see his own son become a murder suspect.', \"When Shiloh's abusive previous owner, Judd Travers, tries to retake Shiloh again, Ray tries to find a way to end the rivalry and open up the hidden kindness within the town drunk.\", 'During the 1970s, U.S. Special Agent Cleopatra Jones proves to be an invaluable asset to the local police forces in the war on drugs.', 'Martin Riggs and Roger Murtaugh pursue a former LAPD officer who uses his knowledge of police procedure and policies to steal and sell confiscated guns and ammunition to local street gangs.', \"At the end of the century, Satan visits New York in search of a bride. It's up to an ex-cop who now runs an elite security outfit to stop him.\", 'FBI agent Cara Landry is sent on an undercover assignment to gather evidence on Damian Medina, a Mexican casino owner running a counterfeiting operation for the Cali drug cartel. With ...', 'Austin Police Detective Ben Simms searches for justice.', 'Big and Little Enos are opening a sea food restaurant. They bet Sheriff Buford T. Justice that he cannot drive from Miami to the Enos ranch in Texas in a given amount of time. If Buford loses he has to give up his badge.', 'New Orleans single dad and cop Wes Block (']\n",
            "\n",
            "Cluster  151\n",
            "['A lonely, obnoxious young millionaire pays a family to spend Christmas with him.', 'A dysfunctional middle-class family is transformed by the attentions of their talented new chef -- until he vanishes along with their valuable jewels.', \"A marine scientist volunteers to have his family live in a prototype underwater home to prove it's practical.\", 'A young, compassionate man struggles to save his family and friends from the abusive exploitation of his cold-heartedly grasping uncle.']\n",
            "\n",
            "Cluster  42\n",
            "['Saya is a Japanese vampire slayer whose next mission is in a high school on a US military base in 1960s Japan, where she poses as a student. She uses a katana/samurai sword to kill vampires.', 'Horrified at the prospect of her beloved school being sold, a young French girl uses her wit and craftiness to attempt to save it, making an unlikely new friend in the process.', \"A pretty, popular teenager can't go out on a date until her ill-tempered older sister does.\", \"A British student at a 1960s American high school must prove himself to the leader of a girls' gang whose members can only date greasers.\", 'Two high-spirited young students at St. Francis Academy For Girls keep things hopping for the challenged Mother Superior (Rosalind Russell) and her staff of bewildered Sisters.', 'High school student turns out to be personification of Lucifer. Two arch angels in human form (as women) take him on.', 'In order to get out of the snobby clique that is destroying her good-girl reputation, an intelligent teen teams up with a dark sociopath in a plot to kill the cool kids.', 'A nerdy Catholic schoolgirl, Mary Katherine Gallagher, dreams of superstardom.', 'When a teen tries to set up a band at his school, his mother who was a big fan of Elvis Presley gets in a wreck he and his band members decides to kidnap Elvis and have him hooked up with his mother.', \"The most popular kid on campus meets a beautiful journalist who makes him realize that maybe he's afraid to graduate.\", 'The story of a girl who is willing to do anything to become Valedictorian, even if it means murdering the teacher that stands in her way.', 'A college coed falls for her teacher and will kill anyone who gets in her way.', \"Routinely exploited by her wicked stepmother, the downtrodden Samantha Montgomery is excited about the prospect of meeting her Internet beau at the school's Halloween dance.\", 'The agent for the Devil takes the soul of a high school sophomore in exchange for a date with the most popular girl on campus.']\n",
            "\n",
            "Cluster  117\n",
            "[\"A struggling actor's job as a hotel custodian is a front for his real job: being rented out as a gigolo by his supervisor. A co-worker is obsessed with him, but he ignores and avoids her. ...\", 'A lowly servant, Bhognath gets close to the wife of his employer and narrates her story through his eyes and perspective.', \"A writer's young assistant becomes both pawn and catalyst in his boss's disintegrating household.\", 'A sly business manager and two wacky friends of two opera singers help them achieve success while humiliating their stuffy and snobbish enemies.', 'A mousy office worker accidentally kills one of her coworkers, then proceeds to bump off a few others.', 'Khushi (Rani Mukerji) is a careless worker always conning her boss and making excuses to bunk her duty. She meets Ranbir Malhotra (Ajay Devgan) and comes to know that the home he plans to ...', 'Coming closer to his dream of leading a normal life, a professional safecracker agrees to do a job for the Mafia, who has other plans for him.', \"A petty crook stalks a cute girl into an office building and is taken for a job applicant. Conning gets him the job. It's in the mail room of new credit cards. 2 superiors are worse crooks.\"]\n",
            "\n",
            "Cluster  20\n",
            "['A detective investigating a series of murders becomes involved with a woman who may be the culprit.', 'A private detective takes on a case that involves him with three eccentric criminals, a gorgeous liar, and their quest for a priceless statuette.', 'In Victorian-era London, a troubled clairvoyant police detective investigates the murders of Jack the Ripper.', 'A mouthy and feisty taxicab driver has hot tips for a green and inept cop set on solving a string of New York City bank robberies committed by a quartet of female Brazilian bank robbers.', \"Jack sleeps with a waitress, who's later murdered. Did Jack's usual lover do it? Palm Beach detectives Jack and Steve investigate. Twists follow.\", 'Two years after being forced out of NYPD, quirky Nick is rehired by the mayor to catch a serial killer after the 11th murder of a woman.', 'Rita is a tough narc cop with a wig for every occasion. Outside a drug heist scene with several bodies and a hardly cut fatal drug, Fatal Beauty, she finds a Kroll Construction van with a dead Kroll employee in it. Who is Kroll?', 'A getaway driver becomes the latest assignment for a tenacious detective.', 'An FBI profiler is called in by French Canadian police to catch a serial killer who takes on the identity of each new victim.', 'Two hip detectives protect a witness to a murder while investigating a case of stolen heroin from the evidence storage room from their police precinct.', 'A retiring police detective pledges to catch the killer of a young child.']\n",
            "\n",
            "Cluster  199\n",
            "['Dimwitted Martians drop into a little Illinois town on the day that the local radio station happens to rebroadcast Orson Welles 1938 \"War Of The Worlds\".', 'A 1980s one-hit wonder band named \"The Suburbans\" reform for a special performance at one of the ex-member\\'s wedding. At the wedding, a young record company talent scout happens to be in ...', 'Mockumentary captures the reunion of 1960s folk trio the Folksmen as they prepare for a show at The Town Hall to memorialize a recently deceased concert promoter.', \"In Texas in the late '60s, the Whit family meets for the funeral of grandfather Sparta. This, however, is no normal funeral, and the Whits are no normal family. Young L'il Sparta spies on ...\", \"It's 1944 in the small town of Gregory, Texas. Divorcée Nita Longley has been brought into the town by the telephone company to work as its switchboard operator, a job which requires her to...\", \"A television newswoman picks up the story of a 1960s rock band whose long-lost leader - Eddie Wilson - may still be alive, while searching for the missing tapes of the band's never-released album.\"]\n",
            "\n",
            "Cluster  149\n",
            "['A humanitarian minesweeping operation in Angola uncovers a covert operation that is planting new and deadly mines.', 'A successful farmyard revolution by the resident animals vs. the farmer goes horribly wrong as the victors create a new tyranny among themselves.', 'The titular river unites a farmer recently released from prison, his young son, and an ambitious saloon singer. In order to survive, each must be purged of anger, and each must learn to understand and care for the others.', 'A seemingly idiotic fop is really the courageous vigilante Zorro, who seeks to protect the oppressed.', 'Robocop saves the day once more. This time the half man/half robot takes on ruthless developers who want to evict some people on \"their\" land.']\n",
            "\n",
            "Cluster  67\n",
            "['The story of macho oil well firefighters and their wives.', 'Three stories of never-ending love.', 'Based on the true story of', 'The dramatic love story of small-town Mississippi girl Alva Starr and railroad official Owen Legate, set during the Great Depression.', 'A love story set in 1930s England that follows 17-year-old Cassandra Mortmain, and the fortunes of her eccentric family, struggling to survive in a decaying English castle.', 'Follows the lives of eight very different couples in dealing with their love lives in various loosely interrelated tales all set during a frantic month before Christmas in London, England.', 'The story of Sir', 'The story of love and friendship on the harsh streets of 2014 Mallepa, a small corner in Asia.', 'The story of']\n",
            "\n",
            "Cluster  184\n",
            "[\"A duke dies and leaves the title and wealth to his adult son. But who's the real son: the found baby raised in USA or the abandoned baby raised by a Hindi family in London? Comedy follows.\", 'A group of demons in the ancient Japanese capital of Heian is dismembering members of a family of Japanese nobles.', \"A distant poor relative of the Duke D'Ascoyne plots to inherit the title by murdering the eight other heirs who stand ahead of him in the line of succession.\", 'A group of potential heirs gather in a forbidding old house to learn which of them will inherit a fortune. Later, they learn that a flesh-rending maniac is loose.']\n",
            "\n",
            "Cluster  100\n",
            "['A series of vignettes that all have coffee and cigarettes in common.', \"The laughs and overlapping love lives of a handful of raunchy stand-up comics at a late-night L.A. comedy club. Dukie's is an L.A. hot-spot featuring a lineup of both novice and notorious comedians who get big laughs with dirty jokes.\", 'A sendup of all the teen movies that have accumulated in the past two decades.', 'A spoof 1950s science fiction movie, interspersed with various comedy sketches concerning late night television.', 'Film noir parody with a detective uncovering a sinister plot. Characters from real noirs appear as scenes from various films are intercut.', 'A romantic comedy about two trashy couples travelling to Reno to see a monster truck show.', 'Four gay shorts are rolled into one 83-minute movie.']\n",
            "\n",
            "Cluster  21\n",
            "[\"Nick's wife's in bed with his boss. He later gets a gun to his head by a carjacker but steps on the gas pedal. They end up friends after adventures together - holdups, burglary, reckless driving, revenge etc. Twists follow.\", 'When his wife falls sick, a father finds himself having to carpool for the neighborhood school children and being taken hostage by a bank robber.', 'When Jesse Lujack steals a car in Las Vegas and drives down to LA, his criminal ways only escalate- but when will it end?', 'A young social outcast in Australia steals money from her parents to finance a vacation where she hopes to find happiness, and perhaps love.', 'A popular high-school cheerleader becomes pregnant by the star quarterback and turns to crime to support her desired lifestyle.', 'A weapons loaded truck is shadowed by FBI and ATF. It explodes and kills the driver. Jack, just out of prison, is pressured into driving another truck from Atlanta to NJ. Things get rough when hijacking attempts are made.', \"A middle-class man turns to a life of crime in order to finance his niece's first year at Harvard University.\", \"Bobby blows all his college savings on a van and tries to get the girl of his dreams. It's a wild time with Bobby and his friends.\", 'Casey Ryback hops on a Colorado to LA train to start a vacation with his niece. Early into the trip, terrorists board the train and use it as a mobile HQ to hijack a top secret destructive US satellite.', \"A housewife tries to finance her cab-driving husband's education.\"]\n",
            "\n",
            "Cluster  104\n",
            "['Marshal Tyrone and the Silver Kid form an uneasy alliance against a gang of claim jumpers.', 'Four teens are tricked by Professor Oldman (Tim Curry) into visiting a haunted house for a school project.', 'Kids, left home alone, accidentally unleash a horde of malevolent demons from a mysterious hole in their suburban backyard.', 'Kids all over America want Silver Shamrock masks for Halloween. Doctor Daniel Challis seeks to uncover a plot by Silver Shamrock owner Conal Cochran.', \"The new kid in Cradle Bay, Washington stumbles across something sinister about the town's method of transforming its unruly teens into upstanding citizens.\", \"A group of young friends stranded at a secluded roadside museum are stalked by a masked assailant who uses his telekenetic powers to control the attraction's mannequins.\"]\n",
            "\n",
            "Cluster  22\n",
            "['A jaded, wealthy couple watch a blue movie in their castle home along with her adult son. The son is testy, so they go into town and watch a circus-like thrill ride. The daredevil woman in ...', 'Refreshing, vivacious and inventive first film about a bright but naive young country woman who comes to the city to experience excitement and romance.', 'A young woman moves into an apartment in a building which houses a sinister evil.', \"In Cornwall, 1819, a young woman discovers she's living near a gang of criminals who arrange shipwrecks for profit.\", \"A woman on the precipice of divorce becomes drawn to a ranchowner's daughter.\", \"1851, Manitoba's Red River Valley. As winter sets in, a young woman on the edge of madness arrives exhausted at the fort, a wilderness station, claiming she murdered her husband. She's ...\", 'A young Englishwoman goes to the Hebrides to marry her older, wealthier fiancé. When the weather keeps them separated on different islands, she begins to have second thoughts.', \"A young woman looking to escape her life is rescued on the highway by a friendly couple in an RV. But as the miles pass the couple's motives come into question and a strange mother/daughter relationship evolves.\", 'A woman discovers a tragic love letter in a bottle on a beach, and is determined to track down its author.', 'A troubled young woman who visits a psychotherapist to help her quit smoking undergoes hypnosis and finds herself reliving a tragic Victorian romance from a past life.', \"Eunice is walking along the highways of northern England from one filling station to another. She is searching for Judith, the woman, she says to be in love with. It's bad luck for the ...\", \"Facing a mid-life crisis, a woman rents an apartment next to a psychiatrist's office to write a new book, only to become drawn to the plight of a pregnant woman seeking that doctor's help.\", 'A woman and her new husband returns to her hometown roots in coastal northern Florida, and must deal with family, business, and encroaching real estate development.', 'A woman who grew up in a small town in Alaska goes to the public library to try and find out who her parents were. She was brought to town as a baby in a cardboard box with \"Kotzebue\" on it...', 'An uptight, middle-aged, repressed woman turns into a sex addict after getting hit on the head, and she then falls into an underground subculture of sex addicts in suburban Baltimore.']\n",
            "\n",
            "Cluster  87\n",
            "[\"Band singer/race driver Mike McCoy must choose between marrying a beautiful rich girl and driving her father's car in a prestigious race.\", \"As Michael and Robert, a gay couple in New York, prepare for Robert's departure for a two-year work assignment in Africa, Michael must face Robert's true motives for leaving while dealing ...\", 'Arun meets Vandana during a vacation and very soon they secretly get married.Arun is a air force pilot an dies in a crash leaving pregnant Vandana heartbroken.As her marriage was never ...', \"Maggie's and Sam's former partners are in love; she wants revenge and he wants his lost love back, so they work together to break up the happy couple.\", \"Rival reporters Sam and Tess fall in love and get married, only to find their relationship strained when Sam comes to resent Tess' hectic lifestyle.\", 'Cab driver Michael and supermodel Sarah fall in love while her gorgeous husband Phillippe is in Madrid for two months.', \"Angela, the beautiful Mexican mistress of a NY mobster, asks virginal Father Michael for protection after Zena, the mobster's wife, kills her cheating husband. Michael becomes torn between his vows, Angela and his sister - Zena.\", 'Raja, a fisherman is secretly in love with Mona. When wealthy Ravi comes to live with his grandmother, Kamladevi, he sees Mona and falls in love with her. Mona also reciprocates his love. ...', \"Things aren't looking so good for television clown Banana's career, and the fact that his estranged wife, Suzi, has just been arrested for assaulting his girlfriend, Lily, just serves to compound Banana's despair.\"]\n",
            "\n",
            "Cluster  32\n",
            "['The growing ambition of Julius Caesar is a source of major concern to his close friend Brutus. Cassius persuades him to participate in his plot to assassinate Caesar, but they have both sorely underestimated Mark Antony.', 'Hamlet, Prince of Denmark, finds out that his uncle Claudius killed his father to obtain the throne, and plans revenge.', \"The fearless warrior Red Sonja sets out to avenge her family's murder and rid her kingdom from the tyrannical rule of evil Queen Gedren.\", 'The sword-wielding warrior, Amethea, embarks on a life-or-death mission to liberate her sister from the clutches of an evil monarch. However, only torture and death await her. Can a man alone break the will of the valiant Barbarian Queen?', 'A professional assassin codenamed \"Jackal\" plots to kill Charles de Gaulle, the President of France.', 'In France during the late 18th Century, a man sets out to avenge the death of his friend at the hands of a master swordsman.', 'Two boys learn from a mysterious warrior that they are the heirs to the throne of Patusan and set out to overthrow the current monarchy.', \"A Prince leaves his city and sets off to avenge his father, not aware his father wasn't murdered, and in reality, committed suicide, and soon learns the truth about his people from a warrior woman.\"]\n",
            "\n",
            "Cluster  145\n",
            "[\"A widow accepts a job as a live-in governess to the King of Siam's children.\", \"A small-town English widow, facing financial troubles after her husband's suicide, turns to agriculture of an illegal kind.\", 'A family living on a farm finds mysterious crop circles in their fields which suggests something more frightening to come.', 'A lonely farmer takes in a pregnant woman and looks after her. After she gives birth, tragedy strikes.', 'An ex-soldier faces ethical questions as he tries to earn enough to support his wife and children well.', \"Pig farmer John's wife died and he's having problems with the oldest of 2 sons. John's just out of prison brother joins them. He spells trouble.\", 'Riyo marries a man more than twice her age. She is devastated and labors in the sugar cane field. At the end she is able to love her husband.', \"33 y.o. Emma moves to a ranch with her son after divorce. She offer stable to horse owners. It's tough at first. She befriends the older Murphy. Her ex shows up.\", \"In 1934, an English widow moves to Widows' Peak, Ireland. She befriends other widows and the son of one. Hostility escalates between her and an Irish spinster.\"]\n",
            "\n",
            "Cluster  64\n",
            "['The monstrous spirit of a slain child murderer seeks revenge by invading the dreams of teenagers whose parents were responsible for his untimely death.', 'A cave-dwelling man sets out to track down the killer of a homeless boy, and bring him to justice.', 'A police officer adopts the son and sole survivor of a family he has massacred while pursuing a terrorist. After some time the foster son finds out what the stepfather did.', 'An orphan boy and his magical dragon come to town with his abusive adoptive parents in pursuit.', \"A young boy refuses to accept his mother's new boyfriend, a lawyer, despite the man's attempts to win his respect. Meanwhile, disgruntled relative of a criminal he prosecuted seek revenge.\", \"When Danny witnesses his stepfather Rick murder a man, Danny's father Frank has to protect his son from the greatest danger.\", \"After his father dies, a disturbed young boy plots to take revenge on the new man in his mother's life.\", \"A mob enforcer's son witnesses a murder, forcing him and his father to take to the road, and his father down a path of redemption and revenge.\", 'When Captain James Hook kidnaps his children, an adult Peter Pan must return to Neverland and reclaim his youthful spirit in order to challenge his old enemy.', 'A young boy and his imaginary friend end up on the run while in possession of a top-secret spy gadget.', 'In the 1930s, a tomboy runs away from her guardian to join her single father who is 2,000 miles away, where he has found work.', 'After his family is killed by a terrorist act, a firefighter goes in search of the one responsible.']\n",
            "\n",
            "Cluster  92\n",
            "['A modern aircraft carrier is thrown back in time to 1941 near Hawaii, just hours before the Japanese attack on Pearl Harbor.', 'The turtles find themselves transported back in time to ancient Japan.', \"A 1500 year old body of one of the Knights Templar is discovered below New York's subway. Soon, a demonic minion and a modern Templar Knight are drawn to it's secrets. So begins a battle for nothing less than the fate of the entire world.\", \"In 2176, a magnetic storm erases all recorded history, including the U.S. Constitution, so, three time travelers are sent back to July 4, 1776, to retrieve the heritage, but end up in 1976's Bicentennial, while being perceived as aliens.\", 'Ancient codes hidden within the Torah reveal the secrets of global events, past (i.e., Hitler, the Kennedy assassination, the Gulf War), present, and future. One man (York) is after the ...']\n",
            "\n",
            "Cluster  174\n",
            "['A successful young model finds trouble when her obsessive manager-turned-husband becomes dangerously jealous. Based on the true story of 1980 Playmate of the Year Dorothy Stratten.', 'An off-beat comedy about a former 80s pop star (Craig Ferguson) whose downward spiral is halted when he discovers he has a teenage daughter (Charlotte Church), the product of a weekend love affair.', 'A small-time conman has torn loyalties between his estranged mother and new girlfriend, both of whom are high-stakes grifters with their own angles to play.', \"A sexually frustrated suburban father has a mid-life crisis after becoming infatuated with his daughter's best friend.\", \"A young man with a vendetta against a business tycoon seduces and kills his eldest daughter and then proceeds to his younger daughter but she begins to suspect her new lover's ulterior motive.\", 'During the Great Depression, a con man finds himself saddled with a young girl who may or may not be his daughter, and the two forge an unlikely partnership.']\n",
            "\n",
            "Cluster  106\n",
            "['Based on the book by Toni Morrison, in which a slave is visited by the spirit of a mysterious young woman', 'A prostitute newly arrived in the South Pacific finds herself at odds with a stern missionary determined to save her soul.', 'An American missionary and his wife travel to the exotic island kingdom of Hawaii, intent on converting the natives. But the clash between the two cultures is too great and instead of understanding there comes tragedy.', 'In early twentieth century Morocco, a Sharif kidnaps an American woman and her children, forcing President Theodore Roosevelt to send in forces to conduct a rescue mission.', 'A homeless man and his young companion, who survive by conning people, meet a woman who may need them even more than they need her.', 'In romantic Paris, two Parisians of Indian origin are in love namely Shyam or Sam and Roopa. Mystery and intrigue surround this romance, as Roopa is abducted and held by criminal mastermind...', 'A man tries to rescue a woman with a little help from his half brother.', 'A Chinese man travels to the Wild West to rescue a kidnapped Princess. After teaming up with a train robber, the unlikely duo takes on a Chinese traitor and his corrupt boss.']\n",
            "\n",
            "Cluster  34\n",
            "['Profion, a tyrant, attempts to overthrow a peaceful kingdom ruled by a tough empress.', \"A US actor gets a gig in South American Parador. When the dictator dies, he's forced to play him for real and gets his mistress. Can they change Parador?\", 'Emperor Kuzco is turned into a llama by his ex-administrator Yzma, and must now regain his throne with the help of Pacha, the gentle llama herder.', 'In 1947, following the U.N. decision to split British Palestine into separate Jewish and Palestinian states, a former U.S. Army officer is recruited by the Jews to reorganize the Haganah.', \"Ali G unwittingly becomes a pawn in the Chancellor's plot to overthrow the Prime Minister of Great Britain. However, Ali is embraced by the nation as a voice of the youth, making the PM and his government more popular than ever.\", 'The state of Israel is created in 1948, resulting in war with its Arab neighbors.']\n",
            "\n",
            "Cluster  53\n",
            "['Two cousins work nights at a local mall as security guards. When their house is robbed on Christmas Eve they team up to track the robber down.', 'The father of twin brothers wants to get them married to only twin sisters. But one of the brothers falls in love with a woman does not have a twin sister.', 'Two cousins unknowingly rob the mob and face the dangerous consequences.', 'A pregnant teen and her younger sister run away from foster homes and kidnap a woman whom they believe can help with the pregnancy.', \"Twin brothers are separated when their parents are murdered but 25 years later they re-unite in order to avenge their parents' death.\", 'Two brothers kidnap and brutalize three women for the pleasure of their demented mother.', \"Two con men hide out in a house while the owner is away; one of them assumes the identity of the absent house sitter when the owner's relatives come to visit, only for further complications to set in.\", 'Two long lost brothers and one hacker take on the CIA and the Mob. Dodging multiple hit squads, they try to stay one step ahead of the army of agents and Wise Guys gunning to get them whacked.', 'The children of secret-agent parents must save them from danger.', 'Children are hidden away in the attic by their conspiring mother and grandmother.', \"The Jennings' fight for their daughters life after she is kidnapped by an experienced gang of thieves.\", 'An eight-year-old boy genius and his friends must rescue their parents after the adults are abducted by aliens.', 'Two adults and a juvenile break into a house occupied by a brother and sister and their stolen children. There, they must fight for their lives.']\n",
            "\n",
            "Cluster  141\n",
            "['James Bond is assigned to find a missing British vessel, equipped with a weapons encryption device and prevent it from falling into enemy hands.', 'A ruthless German spy, trying to get out of Britain with vital information about D-Day, must spend time with a young woman and her crippled husband.', 'A mismatched team of British Special Services agents led by an American must infiltrate, in disguise, a female-run Enigma factory in Berlin and bring back the decoding device that will end the war.', 'A womanizing CIA agent and an insecure insurance agent are paired together to make sure a deal goes through with aliens for the future of mankind.', \"While investigating a gold magnate's smuggling, James Bond uncovers a plot to contaminate the Fort Knox gold reserve.\", 'Two British Agents team up to stop Sir August de Wynter from destroying the world with a weather-changing machine.']\n",
            "\n",
            "Cluster  180\n",
            "[\"Nick is a district attorney investigating several deaths of AIDS sufferers in the gay community of New York City's Chelsea District. Each case suggest the use of assisted suicide, which is illegal in New York.\", 'A teenage girl lives as a prostitute in New Orleans in 1917.', \"When an escort girl is found dead in the offices of a Japanese company in Los Angeles, detectives Web Smith and John Connor act as liaison between the company's executives and the investigating cop Tom Graham.\", 'A prostitute, sentenced to death for murder, pleads her innocence.', 'When the head of a prominent modeling agency dies under suspicious circumstances, there are more than enough likely suspects - but no evidence. Michael Brandon, ex-Justice Department golden...', \"A naked teenage boy covered in blood appears at a remote sheriff's station one year after the brutal unsolved murder of a local girl. Now Sheriff Jack Shepherd, guilt ridden over the girl's...\", 'A wealthy attorney in San Juan comes to the police station for \"10 min.\" of follow up questions to finding a 12-year old girl\\'s body in a park. Another young girl was also raped and murdered weeks earlier and the evidence points to him.', 'The story of Rubin \"Hurricane\" Carter, a boxer wrongly imprisoned for murder, and the people who aided in his fight to prove his innocence.']\n",
            "\n",
            "Cluster  72\n",
            "['Two dogs escape from a laboratory and are hunted as possible carriers of the bubonic plague.', 'A team of spelunkers, when investigating a system of caves beneath a small town, come across a hideous creature that can move through walls.', 'A doctor and a policeman in New Orleans have only 48 hours to locate a killer infected with pneumonic plague.', 'A deadly entity from space crashes near a small town and starts to consume anyone in its path. Panic ensues, as shady government scientists try to contain the horrific creature.', 'A group of people fight for their small town after vampires take over the world.', \"Based on the true story of the murder of a girl's parents in Eustis, FL (USA), five teens in a vampire cult on the run are captured by police in New Orleans, LA and tell their tale of how they got there.\", 'A young couple is trapped in a remote town where a dangerous religious cult of children believes that everyone over age 18 must be killed.', 'A group of small but vicious alien creatures called Crites escape from an alien prison transport vessel and land near a small farm town on earth, pursued by two shape-shifting bounty hunters.']\n",
            "\n",
            "Cluster  212\n",
            "['When American Donna Lloyd is kidnapped during a trip to Europe, her son Chris and her husband Walter start searching for her.', 'The boyfriend of an abducted woman never gives up the search as the abductor looks on.', \"Hoping to foil his own gold-digging wife's plan, a loathsome businessman arranges his own kidnapping, only to realize that there are plenty of other people interested in his wealth as well.\", \"When a family is held hostage, former hostage negotiator Jeff Talley arrives at the scene. Talley's own family is kidnapped and Talley must decide which is more important: saving a family he doesn't even know or saving his own family.\", \"Dan arrives too late for his girlfriend's family's plane to the Caribbean. He gets the next. Once there, Dan's hot pursuit of his girlfriend includes 3 friendly locals, a dubious yacht skipper, corrupt police, hijacker, pirates etc.\", 'A man kidnaps a woman and holds her hostage just for the pleasure of having her there.', 'A bratty teenager fakes her own kidnapping, but gets mistakenly kidnapped for real instead.']\n",
            "\n",
            "Cluster  152\n",
            "['One year after Kevin McCallister was left home alone and had to defeat a pair of bumbling burglars, he accidentally finds himself stranded in New York City - and the same criminals are not far behind.', 'Kevin Burke a young executive for a multinational investment bank, is a rising star in the Rotterdam office. Rewarded for his perceptive eye and mastery of foreign languages, Kevin receives...', \"Career criminal Frank plans a bank heist and sends for his buddies to help pull the job. Before his buddies arrive, he's caught, forcing his cohorts to pull the job alone. Frank soon escapes, setting off a search by the bumbling cops.\", \"In Philadelphia, a small-time bookie who stole mob money is in hiding and he begs a childhood friend to help him evade the hit-man who's on his trail.\", \"Former cop Brian O'Conner is called upon to bust a dangerous criminal and he recruits the help of a former childhood friend and street racer who has a chance to redeem himself.\", 'Dave Anderson and Manny Durrell are two high-class sneak thieves who have never been caught. Joshua Burke is a retired detective who has enough evidence on the both of them to put them ...']\n",
            "\n",
            "Cluster  205\n",
            "[\"The Garrisons live with a Great Dane who thinks he's a dainty dachshund. His identity crisis results in an uproarious series of household crises that reduce the Garrisons' house to shambles.\", 'When household tensions and a sense of worthlessness overcome Evan, he finds escape when he clings with the orphans of a throw-away society.', 'Clifford is a ten-year-old troublemaker, who puts not only his parents through hell, but also his uncle with whom his parents have discarded him to.', 'When Algernon discovers that his friend, Ernest, has created a fictional brother for whenever he needs a reason to escape dull country life, Algernon poses as the brother, resulting in ever increasing confusion.']\n",
            "\n",
            "Cluster  28\n",
            "[\"A group of white high school teens become involved with Harlem's black hip-hop crowd.\", 'Four inner-city teenagers get caught up in the pursuit of power and happiness, which they refer to as \"the juice\".', 'A group of college students travels to a mysterious island to attend a rave, which is soon taken over by bloodthirsty zombies.', \"Bullying students are becoming deathly ill after screaming the name of a legendary ghost. What's to blame? An exotic illness? An illicit drug? Or is it the supernatural? The clues are few ...\", \"Nine college students staying at a friend's remote island mansion begin to fall victim to an unseen murderer over the April Fool's Day weekend, but nothing is as it seems.\", 'A chronicle of the lives of several teenagers who attend a New York high school for students gifted in the performing arts.', 'Several ordinary high school students go through their daily routine as two others prepare for something more malevolent.', 'When a group of trespassing seniors swim in a pool containing alien cocoons, they find themselves energized with youthful vigor.', 'A bunch of high school misfits in Hawaii, introduced by their new teacher, attend a science fair in which they draw up inspiration to build their own solar car and win a trip to compete in the 1990 World Solar Challenge in Australia.', 'A group of sexy high school graduates are ready for a weekend of serious partying at a remote camp ground. Soon a murderer is on the loose...']\n",
            "\n",
            "Cluster  10\n",
            "['When an expedition to the African Congo ends in disaster, a new team is assembled to find out what went wrong.', 'A joint U.S.-Soviet expedition is sent to Jupiter to learn what happened to the Discovery, and H.A.L.', 'After miners disappear in the Namib Desert, scientists find their remains and seek to find what killed them.', 'When an archaeologist uncovers a strange skull in foreign land, the residents of a near-by town begin to disappear, leading to further inexplicable occurrences.', 'Mayhem and zaniness ensue when a valuable painting goes missing during a party in honor of famed African explorer Captain Spaulding.', 'After some rare gems go missing on a distant planet where men are not allowed, three soldiers posing as women are sent from Earth to aid in the investigation.', 'When Belgian scientist Bertram Hammonds arrives in the Lost World to drill for crude oil, Professors Challenger and Summerlee return to the Lost World plateau.', 'The Tactical Neutralization Team, or T.N.T., is a squad of elite soldiers sent on top-secret, near-suicidal missions around the world. After one of their missions ends in failure, team ...']\n",
            "\n",
            "Cluster  39\n",
            "['The myopic millionaire defeats jewel smugglers in his usual bumbling manner.', 'After a wealthy banker is given an opportunity to participate in a mysterious game, his life is turned upside down when he becomes unable to distinguish between the game and reality.', 'A fast-lane investment broker, offered the opportunity to see how the other half lives, wakes up to find that his sports car and girlfriend have become a mini-van and wife.', 'The story of Nick Leeson (Ewan McGregor), an ambitious investment broker who singlehandedly bankrupted one of the oldest and most important banks in Britain.', \"An investment banker loses everything and must discover what's important in life.\", 'An eccentric millionaire and his grandchildren are embroiled in the plights of some forest gnomes who are searching for the rest of their tribe. While helping them, the millionaire is ...', 'A millionaire playboy goes into Las Vegas and comes out married to a woman he barely knows.', 'A bank manager with: (a) a gambling problem and (b) access to a multimillion dollar account gets into a messy situation. Based on the story of the largest one-man bank fraud in Canadian history.', 'When a casual gambler befriends a professional one, he begins to mirror his life, sending both deeper into the sleazy gambling world where the stakes keep getting bigger.', 'A debonair, adventuresome bank executive believes he has pulled off the perfect multi-million dollar heist, only to match wits with a sexy insurance investigator who will do anything to get her man.', 'An investment banker (Paul Mercurio) travels to Louisiana to snag the account of an eccentric millionaire (Malcolm McDowell) but gets involved with his lusty wife, Mardi Gras, and (possibly...']\n",
            "\n",
            "Cluster  177\n",
            "['A Bostonian widow moves with her kids to the country.', \"A man is chasing four outlaws who killed his wife and finds them in a small town's jail, but they escape to Mexico.\", 'A man makes his way from Mexico to L.A. in the 1920s, gets married and raises a big family there. The movie follows the children until they, too, get married and have children in the 1960s.', \"An alien takes the form of a young widow's husband and asks her to drive him from Wisconsin to Arizona. The government tries to stop them.\"]\n",
            "\n",
            "Cluster  195\n",
            "['A bookish CIA researcher finds all his co-workers dead, and must outwit those responsible until he figures out who he can really trust.', \"A man needing money agrees to impersonate a non-existent person who said he'd be committing suicide as a protest, and a political movement begins.\", 'When the leader of a team of scientists volunteers to be the test subject for their experiment in human invisibility, he slowly unravels and turns against them, with horrific consequences.', 'A worker at a plutonium processing plant is purposefully contaminated, psychologically tortured and possibly murdered to prevent her from exposing worker safety violations at the plant.', \"An employee of a corporation with a lucrative secret process is tempted to betray it. But there's more to it than that.\", \"A reporter interviews a psychic, who tells her that she's going to die and her life is meaningless.\"]\n",
            "\n",
            "Cluster  115\n",
            "['A young teacher in East Berlin struggles with accepting his homosexuality.', 'Students suspect that their teachers are aliens after bizarre occurrences.', 'A new speech teacher at a school for the deaf falls in love with the janitor, a deaf woman speechless by choice.', 'On the verge of forced resignation, a strict old-fashioned teacher rethinks his life.', 'An ex-Marine turned teacher struggles to connect with her students in an inner city school.', 'A lonely, but talented teacher enjoys a flirtation with the (married) principal of the school, who returns her affections, but is hampered by his family members. Whilst the teacher and ...', 'A headstrong young teacher in a private school in 1930s Edinburgh ignores the curriculum and influences her impressionable twelve-year-old charges with her over-romanticized world view.', 'A middle-aged butcher and a school teacher who have given up on the idea of love meet at a dance and fall for each other.']\n",
            "\n",
            "Cluster  156\n",
            "['A young man dying in prison brings his family together for a fateful visit, and proceeds to put his life back together.', 'Vusi Madlazi returns to the South African village he left as a young boy (he was organizing against apartheid, and left in fear of his life) to bury his father. He meets up with his brother...', 'Shortly before his execution on the death row in San Quentin, amateur sleuth and baby photographer Ronnie Jackson, tells reporters how he got there.', \"Frank's been lucky from the day, he was born. So why's he throwing rocks at a church after winning $6,200,000 in 1976 NYC lottery? He tells his story at the police station.\", 'A boy shoots his father and flies out the window. A man falls in love with a fellow inmate in prison. A doctor accidentally ingests his experimental sex serum, wrecking havoc on the community.']\n",
            "\n",
            "Cluster  5\n",
            "['Stranded in 1955, Marty McFly learns about the death of Doc Brown in 1885 and must travel back in time to save him. With no fuel readily available for the DeLorean, the two must figure how to escape the Old West before Emmett is murdered.', 'In late 1950s New York, Tom Ripley, a young underachiever, is sent to Italy to retrieve Dickie Greenleaf, a rich and spoiled millionaire playboy. But when the errand fails, Ripley takes extreme measures.', \"The Pickering Commission concluded that a lone gunman killed U.S. President Timothy Kegan (John Warner) in 1960, in Philadelphia, Pennsylvania. Nineteen years later a dying man confesses to be the real shooter hired to kill him. Kegan's brother and filthy rich father investigate.\", 'At Los Angeles airport, magazine photographer Friday Foster witnesses an assassination attempt against billionaire Blake Tarr and is drawn into a murky political conspiracy.', 'During a cryogenics test, a pilot frozen in 1939 awakes in 1992 but time is running out, as his body starts to age rapidly.', 'A 20th Century pilot named Buck Rogers and his young friend Buddy Wade awake from 500 years in suspended animation to find that the world has been taken over by the outlaw army of Killer Kane.', 'Almost forty years after the John F. Kennedy assassination, an ex-Marine named Walter Ohlinger has come forward with a startling claim.', 'Axel Foley, while investigating a car theft ring, comes across something much bigger than that: the same men who killed his boss are running a counterfeit money ring out of a theme park in Los Angeles.', \"The Griswold family's cross-country drive to the Walley World theme park proves to be much more arduous than they ever anticipated.\"]\n",
            "\n",
            "Cluster  181\n",
            "['On his way to work, Teddy spots Charlotte, an incredibly beautiful Woman in Red. He really wants to meet her, but what would his wife say?', \"Desmond's wife leaves him and their 3 kids after Christmas 1953. Unemployed in Dublin, the authorities place the kids in orphanages. Employed again, Desmond tries to get his kids back.\", 'A street sweeper who cleans up after grisly accidents brings home a full corpse for him and his wife to enjoy sexually, but is dismayed to see that his wife prefers the corpse over him.', \"The true story of a Catholic man and his Protestant wife, and the events resulting in the Co. Wexford, Ireland community when the wife decides she doesn't appreciate being forced to send ...\", 'A suburban architect loves his wife but is bored with his marriage and with his work, so he takes up with the neglected, married beauty who lives down the street.', 'Douglas, a record salesman, is an obsessive fan of actress Sally Ross. When his letters are rejected, he strikes out at her and her loved ones.']\n",
            "\n",
            "Cluster  16\n",
            "['Three kids, who hope to capture their own wild mustang, outsmart a ring of horse thieves and return a prize stallion to its owner.', 'Summer Of The Monkeys (set in 1910 on the prairies of Canada) follows the story of a young boy, Jay, who dreams of getting enough money to buy his dream horse. One summer Jay finds four ...', 'An orphan named Oliver Twist meets a pickpocket on the streets of London. From there, he joins a household of boys who are trained to steal for their master.', 'A young boy accidentally joins a band of time travelling dwarves, as they jump from era to era looking for treasure to steal.', 'Two city-bred siblings are stranded in the Australian Outback, where they learn to survive with the aid of an Aboriginal boy on his \"walkabout\": a ritual separation from his tribe.', 'A God-fearing Ohio boy dodging the Civil War draft arrives in St. Joseph, MO where he joins up with a hardscrabble group of like runaways heading west', 'While searching for their missing father in the mountains of Alaska, two siblings come across a baby polar bear on the run from a pair of poachers.', 'A boy, no bigger than a thumb, manages to outwit two thieves determined to make a fortune from him.', 'Where the Red Fern Grows is the heartwarming and adventurous tale for all ages about a young boy and his quest for his own red-bone hound hunting dogs.']\n",
            "\n",
            "Cluster  85\n",
            "['As part of a sorority ritual, pledges and their male companions steal a trophy from a bowling alley; unbeknownst to them, it contains a devilish imp who makes their lives a living Hell.', \"The lives of four strange prostitutes will change forever when they go to the Mayor's birthday party.\", 'A young F.B.I. cadet must receive the help of an incarcerated and manipulative cannibal killer to help catch another serial killer, a madman who skins his victims.', \"The story is of a deaf-mute hitman and his partner who are based in Bangkok. He is friends with his partner's girlfriend who is a stripper at a local club. They go about their assassination...\", 'Cheerleaders and models are kidnapped & sold by a white slavery ring. Female agent is sent to rescue them.', '100 people, who have betrayed The Syndicate, are gathered in a prison opening the next day. They are given weapons and 6 hours to kill each other. The 3 remaining share $10,000,000.', \"From start to finish, it's a story of friendship between four street-wise males who don't mind using violence to achieve the lives that they want. They trust no one but each other, which is vital to their success as mobsters.\", 'A psychologist, an Englishman, a bellboy and a wounded female assassin have their fates crossed at a sleazy Bangkok hotel.', 'Seven friends, after their car breaks down in the middle of the night, find shelter and tell one another stories to kill time till dawn.', 'Three female models are unwittingly thrown into the Bombay underworld when they accidentally stop a diamond delivery to the Middle East.']\n",
            "\n",
            "Cluster  81\n",
            "[\"A 17 year old farm boy is offered an ice hockey tryout. His brother drives him to Canada. He has fast legs, slow fists, but is chosen. Will he learn to use his fists and play ice hockey the Canuck way? Will he get the coach's cute daughter?\", 'Kurt Sloane must learn the ancient kick boxing art of Muay Thai in order to avenge his brother.', \"When Jack, a sign-language-speaking chimp, makes break for freedom his talent for ice skating soon turns him into the local hockey team's secret weapon. But the lab officials are closing in.\", 'Janey is new in town and soon meets Lynne, who shares her passion for dancing in general and \"Dance TV\" in particular.', 'Bud is a young man from the country who learns about life and love in a Houston bar.', \"Rafael Infante (Chayanne) comes to Houston from Cuba to work at John Burnett's (Kris Kristofferson's) dance studio. He meets Ruby Sinclair (Vanessa Williams), a cute dance instructor there. Chemistry? Will John know he's Rafael's dad?\"]\n",
            "\n",
            "Cluster  159\n",
            "['A lawyer defends her father accused of war crimes, but there is more to the case than she suspects.', 'A crooked lawyer persuades his brother-in-law to feign a serious injury.', 'A lawyer uses his power to help his lover put her father behind bars, but when he escapes, they are all in danger.', 'After being shot, a lawyer loses his memory and must relearn speech and mobility, but he has a loving family to support him.']\n",
            "\n",
            "Cluster  128\n",
            "['An up-and-coming poker player tries to prove himself in a high-stakes match against a long-time master of the game.', 'An up-and-coming pool player plays a long-time champion in a single high-stakes match.', 'Two grifters team up to pull off the ultimate con.', 'Two slackers competing for the affections of an heiress inadvertently become her protectors from an evil criminal.', 'A temperamental figure skater and a former hockey player try to win Olympic gold as a figure skating pairs team.', 'Two con men try to settle their rivalry by betting on who can swindle a young American heiress out of fifty thousand dollars first.']\n",
            "\n",
            "Cluster  129\n",
            "['The Russian army sends an explorer on an expedition to the snowy Siberian wilderness where he makes friends with a seasoned local hunter.', 'An insane hunter arranges for a ship to be wrecked on an island where he can indulge in some sort of hunting and killing of the passengers.', 'In 1978, a boy travels 8 years into the future and has an adventure with an intelligent, wisecracking alien ship.', 'In 1919, a British expedition in the Antarctica region is searching for a lost American explorer and finds a hidden prehistoric world instead.', 'A salvage crew discovers a long-lost 1962 passenger ship floating lifeless in a remote region of the Bering Sea, and soon notices that its long-dead inhabitants may still be on board.', 'A young man learns that he has to find a hidden Earth ship before an enemy alien species does in order to secure the survival of humanity.', 'In 19th century England, young Mary Grant and her brother, Robert, embark on a dangerous quest to find their missing father, a sea captain who vanished somewhere along the Chilean coast.', \"A spaceship is discovered under three hundred years' worth of coral growth at the bottom of the ocean.\"]\n",
            "\n",
            "Cluster  162\n",
            "[\"Alone in a foreign city, Cassandra must solve a family's darkest, deepest secrets before she can confront her own past.\", '13-year-old Rynn Jacobs lives alone in a high-class Quebec small town, but unknown to the neighbors, she is leading a secret and dangerous life.', 'Slam tells the story of Ray Joshua, an original, gifted young MC trapped in a war-zone housing project known as Dodge City. Unable to find a job, Ray copes with the despair and poverty of ...', 'Black Cloud, is an inspirational story about a young Navajo, Native American boxer, who overcomes personal challenges as he comes to terms with his heritage, while fighting his way for a spot on the US Olympic boxing team.']\n",
            "\n",
            "Cluster  1\n",
            "['A middle-aged playboy becomes fascinated by the daughter of a private detective who has been hired to entrap him with the wife of a client.', 'A twelve-year-old tomboy witnesses the murder of a woman by her Polish merchant marine boyfriend, but bonds with him and thwarts the police in their investigation.', 'A wealthy man becomes suspicious of his younger wife and hires a private detective in time to thwart her plans to have him killed.', 'A bright assistant D.A. investigates a gruesome hatchet murder and hides a clue he found at the crime scene. Under professional threats and an attempt on his life, he goes on heartbroken because evidence point to the woman he still loves.', \"A former U.S. First Lady wants a particular Secret Service agent to head her bodyguard detail, even though he can't stand her.\", 'A young female medium on tour sees a hitman killing a whistleblower in her vision. The killer finds out about this and plans to kill her as well. The skeptical police, her manager father and a curious journalist try to protect her.', 'A potentially violent screenwriter is a murder suspect until his lovely neighbor clears him. However, she soon starts to have her doubts.', 'A suburban housewife learns that she has a dreamworld connection to a serial murderer, and must stop him from killing again.', 'A beautiful young dentist (Ormond) working in a tough British prison starts to become attracted to a violent inmate (Roth) after the break-up of her marriage, and embarks upon an illicit ...', 'A stern Russian woman sent to Paris on official business finds herself attracted to a man who represents everything she is supposed to detest.', 'A woman planning to testify against the mob must be protected against their assassins on the train trip from Chicago to Los Angeles.']\n",
            "\n",
            "Cluster  127\n",
            "['In this offbeat comedy, an unlikely romance develops between a flamboyant, middle-aged piano tuner and an extremely timid office worker. In HD.', 'A young painter and a writer come together over 24 hours and must confront their past to forge a relationship.', \"Two employees at a gift shop can barely stand each other, without realizing that they are falling in love through the post as each other's anonymous pen pal.\", 'A sportswriter and a fashion-designer marry after a whirlwind romance, and discover they have little in common.', \"A disc jockey invites a relationship therapist as an on-air guest. They explore LA relationship struggles through three different callers' unbelievable stories, and in the process the DJ discovers his own love issues.\", \"A songwriter in love with his demanding boss's secretary enters an alternate, wacky world where a much-needed hit tune may be created from his heart.\", 'Two political speechwriters fall in love before they find out they are working for candidates on opposite sides.', \"A writer falls in love with a young socialite and they're soon married. But her obsessive love for him threatens to be the undoing of them both, and everyone else around them.\", \"A famous painter creates a triangle in a young couple's marriage.\", 'A young female intern at a small magazine company and a drug-addicted lesbian photographer slowly fall in love while exploiting each other to advance their respective careers.']\n",
            "\n",
            "Cluster  160\n",
            "[\"A family's home is haunted by a host of demonic ghosts.\", 'A woman who lives in her darkened old family house with her two photosensitive children becomes convinced that the home is haunted.', 'A family inherits what proves to be a haunted house, but a special pair of goggles allows them to see their ghostly tormentors.', \"A family inherits an old mansion which houses the dangerous 'Book of Evil' that has all the monsters of the world trapped inside it.\", 'A family moves into a large old mansion that seems to have a mysterious and maybe even sinister power over their actions.']\n",
            "\n",
            "Cluster  63\n",
            "[\"The original 70s TV family is now placed in the 1990s, where they're even more square and out of place than ever.\", 'Historical fiction set against the backdrop of Hong Kong in its early years of British rule.', 'Spoof of 1960s Beach Party/Gidget surfing movies mixed with slasher horror films. Florence Forrest, a not-so-innocent girl in 1960s Malibu, becomes \"Chicklet\", the first girl surfer at ...', 'The lives of some California surfers from the early 1960s to the 1970s.', \"The story of Hong Kong, from New Year's Day to June 30th, 1997, when the British left their colony and turned it over to the People's Republic of China.\", 'In 1984, British journalist Arthur Stuart investigates the career of 1970s glam superstar Brian Slade, who was heavily influenced in his early years by hard-living and rebellious American singer Curt Wild.', 'Mark Salzman always was interested in Kung-Fu and the Chinese culture, claims to have seen every Kung-Fu movie. 1982, with a degree in Chinese literature, he visits a province university in...']\n",
            "\n",
            "Cluster  54\n",
            "[\"Norman is a curmudgeon with an estranged relationship with his daughter Chelsea. At Golden Pond, he and his wife nevertheless agree to care for Billy, the son of Chelsea's new boyfriend, and a most unexpected relationship blooms.\", 'Danny is a romantic young man looking for love, the son of a gay dad and a top model mom who died of an overdose when he was still young. He wants to become part of a society that values ...', \"After 20 years caring for her father, a woman with cancer now must re-connect with her trashy sister and nephews she's never met after being diagnosed. Her love helps the angry teen nephew, and her sister learns to relate to people.\", 'Disturbed Blanche DuBois moves in with her sister in New Orleans and is tormented by her brutish brother-in-law while her reality crumbles around her.', \"Story of singer Fanny Brice's stormy relationship with showman Billy Rose.\", \"Jimmy is married to the abusive Frank, but she's building a nest egg so she can leave. For a year, she's been deaf as a result of one of his beatings. One night, he pushes her over the ...\", 'After being dumped by her boyfriend, a young talented musician (Witt) reluctantly moves back in with her parents and then stumbles into misadventures as she tries to make sense of this crazy life.', 'Bitter about being double-crossed by the women he loved, (and with the police after him to boot), Bill vows to seduce the next woman he sees, then throw her away. His brother Dennis, ...', \"A troubled man talks to his suicidal sister's psychiatrist about their family history and falls in love with her in the process.\", 'Bridget Jones is determined to improve herself while she looks for love in a year in which she keeps a personal diary.', 'Chris is young idealistic cop who falls in love and gets married to Pam, a beautiful but emotionally unstable woman who suffers from alcoholism and drug addiction. While Chris is trying ...']\n",
            "\n",
            "Cluster  88\n",
            "['In Berlin, an alcoholic man, recently released from prison, joins his elderly friend and a prostitute in a determined dream to leave Germany and seek a better life in Wisconsin.', 'Three people driving into Los Angeles for a Dodgers game have car trouble and pull off into an old wrecking yard where they are held at bay by a bloodthirsty psycho and his crazy girlfriend.', 'Two guys and a female hitchhiker are terrorized by a monstrous looking man driving a giant monster truck.', 'A nightmare chase through hell in a never-ending, unrequited daisy chain of desire...', 'A man (JCVD) drives out in the desert where some men steal his motorcycle and leave him for dead. He survives and no longer thinks of suicide as he now has a purpose in life: revenge and getting his bike back.', 'Three young people on a road trip from Colorado to New Jersey talk to a trucker on their CB radio, then must escape when he turns out to be a psychotic killer.']\n",
            "\n",
            "Cluster  191\n",
            "[\"The story of Amedeo Modigliani's bitter rivalry with Pablo Picasso, and his tragic romance with Jeanne Hebuterne.\", \"France, 1801. Due to a minor, perceived slight mild-mannered Lieutenant d'Hubert is forced into a duel with the hot-headed, irrational Lieutenant Feraud. The disagreement ultimately results in scores of duels, spanning several years.\", 'Lancelot falls in love with Guinevere, who is due to be married to King Arthur. Meanwhile, a violent warlord tries to seize power from Arthur and his Knights of the Round Table.', \"Eliane adopts Camille, whose Vietnamese parents were friends. In 1930, a French navy officer is interested in Eliane (owns 60km2 plantation) and later in Camille. There's an uprising in Vietnam against French colonial power.\", \"From the roaring 1920s to the ruinous Spanish Civil War and Adolf Hitler's rise into power, the lives of an Irish schoolteacher, a provocative heiress and her Spanish muse are intricately interlaced, sharing the same destiny and passion.\"]\n",
            "\n",
            "Cluster  80\n",
            "['A coming-of-age story about a shy, young boy sent by his irresponsible mother to spend the summer with his wealthy, eccentric uncles in Texas.', \"Taken from the life story of Leslie Jordan. A Tennessee country boy realizes he's gay and keeps getting in trouble with the local bad boys. He hears Atlanta is the new place to be, tosses ...\", 'A father recounts a dark period of his childhood when he and his little brother lived in the suburbs.', 'In the summer of 1962, a new kid in town is taken under the wing of a young baseball prodigy and his rowdy team, resulting in many adventures.', 'In the summer of 1942, two young boys are sent to stay with their stern grandmother and their childlike aunt in Yonkers, New York.', 'As young Sam Gribley runs away he learns about nature.', 'Little Tree is an 8-year-old Cherokee boy who loses his parents during The Great Depression and begins living with his Indian grandparents and learning the Cherokee way of life.', \"A boy attempts to realize his father's dream of climbing an alpine peak known as the Citadel.\"]\n",
            "\n",
            "Cluster  206\n",
            "['The film follows a rebellious teenager on leave from the Marines who falls in love with a female musician. The relationship is threatened when she develops a mental illness...', 'An alienated teenager, saddened that he has moved away from London, must find a way to deal with a dark family secret.', 'A teenager encounters romance, intrigue and a search for stolen jewels during her visit to the island of Crete.', 'Four teenagers at a British private school secretly uncover and explore the depths of a sealed underground hole created decades ago as a possible bomb shelter.']\n",
            "\n",
            "Cluster  207\n",
            "[\"Vada Sultenfuss must go to LA to stay with her Uncle Phil to do some research on her mother's life, but finds much more.\", 'A portrait of the effects of schizophrenia on family life is the central focus.', 'The story begins in Los Angeles when Frances Lacey (Kathy Bates) takes her six children and drives north to find a home of their own away from the bad influences of the big city.', 'Haunted by visions from his abusive childhood, Montana deputy sheriff Lou Ford gradually exhibits the signs of a homicidal schizophrenic.', 'A teenage girl is convinced that her home city revolves around her until her family packs up and moves to the suburbs, where she finds herself competing for attention.']\n",
            "\n",
            "Cluster  165\n",
            "['A clerical mistake results in a bumbling Indian film star being invited to an exclusive Hollywood party instead of being fired.', \"A scatterbrained socialite hires a vagrant as a family butler - but there's more to Godfrey than meets the eye.\", 'A photographer finds herself falling under the spell of a witch.', 'In this satire on 70s B-movie industry, a young ditsy pretty blond arrives in Hollywood to try her luck as an actress. After some mishap, a shady agent finds her a job with a sleazy B-movie crew plagued by strange deadly accidents.', 'A bad girl becomes a con artist, gets into trouble with the mob and taps a nice-guy florist for help.', 'A minister is accidentally appointed to a snobbish parish.']\n",
            "\n",
            "Cluster  19\n",
            "[\"Interconnected stories examine situations involving the five senses. Touch is represented by a massage therapist who is treating a woman, while her daughter accidentally loses the woman's ...\", \"Three tales of terror involve a grieving widower and the daughter he abandoned; a drunkard and his wife's black cat; and a hypnotist who prolongs the moment of a man's death.\", 'A couple who participated in a potent medical experiment gain telepathic ability and then have a child who is pyrokinetic.', 'A story about the ins and outs of one unusual health facility in the early twentieth century, run by the eccentric Dr. John Harvey Kellogg.', 'An oddball journalist and his psychopathic lawyer travel to Las Vegas for a series of psychedelic escapades.', 'Ichabod Crane is sent to Sleepy Hollow to investigate the decapitations of three people, with the culprit being the legendary apparition, The Headless Horseman.', 'Three middle-aged wealthy couples take vacations together in Spring, Summer, Autumn and Winter. Along the way we are treated to mid-life, marital, parental and other crises.', 'Parallel tales of two sexually obsessed men, one hurting and annoying women physically and mentally, one wandering around the city talking to strangers and experiencing dimensions of life.', 'A nurse, a policeman, a young married couple, a salesman and other survivors of a worldwide plague that is producing aggressive, flesh-eating zombies, take refuge in a mega Midwestern shopping mall.', 'When a painting is termed blasphemous, a young minister and his wife visit the artist... and the three sexually playful models living with him.', 'A psychiatrist tells the stories of a transvestite (Glen or Glenda) and a pseudohermaphrodite (Alan or Anne).', 'The adventures of two idiotic outlaw wannabees, Amos and Theodore.']\n",
            "\n",
            "Cluster  60\n",
            "[\"Family man Phil Weston, a lifelong victim of his father's competitive nature, takes on the coaching duties of a kids' soccer team, and soon finds that he's also taking on his father's dysfunctional way of relating.\", 'The fate of a Hungarian Jewish family throughout the 20th century.', 'The Buckmans are a midwestern family all dealing with their lives: estranged relatives, raising children, pressures of the job, and learning to be a good parent and spouse.', 'Grand Teton quarryman and family patriarch carefully navigates issues of religion and education in order to eke out a brighter future for his family.', 'The story of four generations of a Russian Jewish immigrant family of musicians whose careers parallel the history of American popular music in the 20th century.', \"Jack and Judy are husband and wife, and Howard is Judys father. They live in some fictional undemocratic and repressive country, and tell us a story about their lives, mostly from Jack's ...\", \"The film centers on a big Polish family. Jadzia is the mother and the ruler of the Pzoniak family (she has five children). Though she's happily married to Bolek, she is also having a ...\"]\n",
            "\n",
            "Cluster  124\n",
            "['Six unemployed steel workers form a male striptease act. The women cheer them on to go for \"the full monty\" - total nudity.', \"The coal mine in a northern English village may be closing, which would also mean the end of the miners' brass band.\", 'In the Pennsylvanian coal mines of 1876, a group of Irish immigrant workers begin to retaliate against the cruelty of their work environment.', 'At the turn of the century in a Welsh mining village, the Morgans, he stern, she gentle, raise coal-mining sons and hope their youngest will find a better life.']\n",
            "\n",
            "Cluster  98\n",
            "['A Texas cattle agent witnesses first hand, the brutal lawlessness of Dodge City and takes the job of sheriff to clean the town up.', 'Benji sniffs out a bogus CIA agent in Athens, Greece.', 'An FBI agent posing as a combine driver becomes romantically involved with a Midwest farmer who lives a double life as a white supremacist.', 'A special agent from Chicago is sent out west to bring in the notorious Reno brothers.', 'An undercover DEA agent brings down the Mafia.', 'A brilliant young CIA trainee is asked by his mentor to help find a mole in the Agency.', 'An ATF agent goes undercover to retrieve stolen anthrax missiles.', 'A police officer uncovers the real identity of his house-guest, an I.R.A. terrorist in hiding.', 'A professional athlete has to help a U.S. government agent recover a missing jet.', \"Agent J is sent to find Agent K and restore his memory after the re-appearance of a case from K's past.\", 'A young mixed-blood FBI agent is assigned to work with a cynical veteran investigator on a murder on a poverty-stricken Sioux reservation.']\n",
            "\n",
            "Cluster  23\n",
            "['In Nazi-occupied Paris, the immoral art dealer, Robert Klein, leads a life of luxury, until a copy of a Jewish newspaper brings him to the attention of the police, linking him with a mysterious doppelgänger. Will Mr Klein clear his name?', 'A young punk recruited by a car repossession agency finds himself in pursuit of a Chevrolet Malibu that is wanted for a $20,000 bounty - and has something otherworldly stashed in its trunk.', 'When a painting owned by one of her clients is stolen from a Barcelona museum, a New York-based artexpert is sent there to help investigate. After more paintings are stolen, she learns that...', 'An unemployed man finds a money bag of $1.2 million after it dropped off an armored car.', 'A cat burglar is forced to steal Da Vinci works of art for a world domination plot.', 'Career thief Luther Whitney (', 'A retired jewel thief sets out to prove his innocence after being suspected of returning to his former occupation.', 'The Marx Brothers are employed at a hotel in postwar Casablanca, where a ring of Nazis is trying to recover a cache of stolen treasure.']\n",
            "\n",
            "Cluster  102\n",
            "[\"A British mystery author visits her publisher's home in the South of France, where her interaction with his unusual daughter sets off some touchy dynamics.\", 'A retired Special Forces colonel tries to save his daughter, who was abducted by his former subordinate.', \"An extremely volatile and dangerous Englishman goes to Los Angeles to find the man he considers responsible for his daughter's death.\", 'The investigation into a kidnapping of the daughter of a high-ranking US government official.', 'An unimpressive, everyday man is forced into a situation where he is told to kill a politician to save his kidnapped daughter.', 'A man and his wife receive a clue to an imminent assassination attempt, only to learn that their daughter has been kidnapped to keep them quiet.', \"An army major goes undercover as a college student. His mission is both professional and personal: to protect his general's daughter from a radical militant, and to find his estranged half-brother.\", \"When his daughter is shot just before Christmas, Martin Tillman journeys across the U.S. using the gun's serial number to track down the truth behind Penny's killing.\", \"Right before his daughter's wedding, a mild-mannered foot doctor discovers that his future son-in-law's father is a free-wheeling international spy.\", \"When the daughter of a psychiatrist is kidnapped, he's horrified to discover that the abductors' demand is that he break through to a post traumatic stress disorder suffering young woman who knows a secret...\"]\n",
            "\n",
            "Cluster  59\n",
            "['After undersea explosions near a Caribbean island, prehistoric creatures are unleashed on the unsuspecting population. Freed from his watery tomb, as well, is a very friendly Neanderthal ...', 'When a storm washes a canoe bearing an infant boy ashore upon a small South Pacific island, he is at first well-received as a gift from the heavens, even to the point of the tribal chief adopting him as a successor.', 'John Groberg, a farm kid from Idaho Falls, crosses an ocean to become a missionary in the remote and exotic Tongan islands during the 1950s.', 'An orphaned dinosaur raised by lemurs joins an arduous trek to a sancturary after a meteorite shower destroys his family home.', 'A young Cro-Magnon woman is raised by Neanderthals.', 'A boy raised by wolves is reunited as an adult with his real family.', 'Poor, but happy, young Nello and his grandfather live alone, delivering milk as a livelihood, in the outskirts of Antwerp, a city in Flanders (the Flemish or Dutch-speaking part of ...']\n",
            "\n",
            "Cluster  182\n",
            "['Story of the early life of genius and Nobel Prize-winning physicist Richard Feynman.', 'When an accident miraculously gives a boy an incredibly powerful pitching arm, he becomes a major league pitcher for the Chicago Cubs.', 'A simple man is turned into a genius through the application of computer science.', 'Albert Einstein is the son of a Tasmanian apple farmer, who discovers the secret of splitting the beer atom to put the bubbles back into beer. When Albert travels to Sydney to patent his ...', 'An intellectually disabled man undergoes an experiment that gives him the intelligence of a genius.', 'A developmentally disabled young man tries to continue the work his father did in communicating with extra-terrestrials from outer space, which leads to something miraculous and wonderful.', 'A simpleton inventor becomes a superhero with a bulletproof costume and a low budget.']\n",
            "\n",
            "Cluster  47\n",
            "[\"A town's Sheriff and regular patron of a historical whorehouse fights to keep it running when a television reporter targets it as the Devil's playhouse.\", \"A town's corrupt officials think a fool is actually an investigator in disguise.\", 'A huge swarm of deadly African bees spreads terror over American cities by killing thousands of people.', \"When a new gang moves into town it's up to the screwball police team to stop them.\", \"An investigator from the state attorney general's office is sent to a small Southern town to investigate a strange murder.\", 'Cujo, a friendly St. Bernard, contracts rabies and conducts a reign of terror on a small American town.', 'A reporter is drawn to a small West Virginia town to investigate a series of strange events, including psychic visions and the appearance of bizarre entities.', 'In the small town of Mumford, a psychologist of the same name moves in and quickly becomes very popular, despite a questionable past.', 'After a small earthquake in a tiny, quiet town, local citizens start to exhibit bizarre, violent and self-destructive behaviour.', 'A small-town doctor learns that the population of his community is being replaced by emotionless alien duplicates.', 'The life of a provincial town becomes stormy after the appearance of an anonymous love letter.', 'The military attempts to contain a manmade combat virus that causes death and permanent insanity in those infected, as it overtakes a small Pennsylvania town.']\n",
            "\n",
            "Cluster  183\n",
            "[\"An investigation of a college student's missing boyfriend becomes quite strange when she begins to see him periodically.\", 'Gwyn begins doubting her \"yes\" to Matt\\'s wedding proposal, when she hears about her parents\\' and brother\\'s adultery.', \"With 15 year reunion coming up, Kathy has sexual fantasies of her high school sweetheart. She's married, so she sends her BFF to check him out and report back. Things get complicated.\", \"A suburban housewife's world falls apart when she finds that her pornographer husband is serially unfaithful to her, her daughter is pregnant, and her son is suspected of being the foot-fetishist who's been breaking local women's feet.\", \"When their best friends announce that they're separating, a professor and his wife discover the faults in their own marriage.\", 'Anna is a young woman who discovers her mother had an affair with a married man for 15 years, so she starts her own affair with a married man. She works for a Los Angeles public radio ...', \"A wealthy gynecologist's ideal life is thrown into turmoil when the women closest to him begin to affect his life in unexpecting ways.\", 'A happily married woman comes to realize herself of being a repressed lesbian after she has an affair with a female college professor, and then tries to come to terms with her newfound lifestyle.', 'Twin gynecologists take full advantage of the fact that nobody can tell them apart, until their relationship begins to deteriorate over a woman.', 'When he finds out his longtime girlfriend is pregnant, a commitment-phobe realizes he might have to change his lifestyle for better or much, much worse.']\n",
            "\n",
            "Cluster  211\n",
            "['Two guys by the name of Silas and Jamal decided to one day smoke something magical, which eventually helps them to ace their college entrance exam.', 'Two friends must choose whether to help a third friend who was arrested in Malaysia for drug possession.', 'Vijay Varma (Amitabh Bachchan) and Ravi Kapoor (Shatrughan Sinha) are two close childhood friends. When they thought they have matured enough they decides to enter law policy: one as a ...']\n",
            "\n",
            "Cluster  186\n",
            "['A former cop turned street-hustler accidentally uncovers a conspiracy in Los Angeles in 1999.', 'A graduate history student is unwittingly caught in the middle of an international conspiracy involving stolen diamonds, an exiled Nazi war criminal, and a rogue government agent.', 'A police detective uncovers a conspiracy behind a case involving a high-school guidance counselor when accusations of rape are made against him by two female students.']\n",
            "\n",
            "Cluster  155\n",
            "['Two aged sisters reflect on life and the past during a late summer day in Maine.', 'A father and daughter isolated on an island off the East Coast and living on a once-thriving commune grapple with the limits of family and sexuality.', 'Two Arizona girls head out to the Malibu beaches for a springbreak of partying and fun in the sun.', \"Two teenage girls heading to a rock concert for one's birthday try to score marijuana in the city, where they are kidnapped and brutalized by a gang of psychotic convicts.\", \"Frankie and Annette, having grown up and put aside their beach-partying lifestyle, visit their daughter in Southern California and discover there's still some wild times left in them.\"]\n",
            "\n",
            "Cluster  161\n",
            "['A troubled young man discovers that he has a knack for writing when a counselor encourages him to pursue a literary career.', 'An intern and a professional writer at a newspaper agency read over 10 different erotic letters detailing the erotic escapes of various women for their sexual advice column.', 'An erotic poem set in the fantasies of a young male prostitute.', 'Socially inept garbage man Simon is befriended by Henry Fool, a witty roguish, but talentless novelist. Henry opens a magical world of literature to Simon who turns his hand to writing the ...', 'A writer for a greeting card company discovers the struggles and tribulations of living alone after breaking up with his unfaithful girlfriend.', \"A young turn-of-the-century newspaper man finds he can get hold of the next day's paper. This brings more problems than fortune, especially as his new girlfriend is part of a phony clairvoyant act.\"]\n",
            "\n",
            "Cluster  171\n",
            "['Stuart and Snowbell set out across town to rescue a friend.', 'When John Baxter inherits a ski resort in the Rocky Mountains, he quits his job in New York and moves the family west to run it. Only to find that the place is a wreck. But together they ...', 'Publisher Will Randall becomes a werewolf and has to fight to keep his job.', \"Dolittle must save a forest and a bear's life.\", 'Based on the life of Tennessee sheriff Buford Pusser whom almost single-handily cleaned up his small town of crime and corruption, but at a personal cost of his family life and nearly his own life.', \"When a town boss confiscates homesteader's supplies after gold is discovered nearby, a tough cowboy risks his life to try and get it to them.\"]\n",
            "\n",
            "Cluster  140\n",
            "[\"A medical examiner, who was suspected of murdering his wife, is trying an experimental drug to retrieve his wife's and others' memory and maybe find the killer and the mass murderer in a related present case.\", 'A high school student and his friend find a strange, orb-like piece of equipment to use as a science project, but must stop it when it begins to threaten mankind.', 'A young doctor confronts a famous colleague; when he learns about the true methods of his work.', 'Five medical students experiment with \"near death\" experiences, until the dark consequences of past tragedies begin to jeopardize their lives.', \"A doctor, scientist, organist, and biblical scholar, Anton Phibes, seeks revenge on the nine doctors he considers responsible for his wife's death.\", \"A smart first-year med student takes nothing seriously, except the pursuit of his Gross Anatomy (human dissection) lab partner. It's up to her and their teacher to find a way to convince ...\", 'A research project on sexual response leads two doctors into an affair where their deepest passions and darkest fantasies are revealed.', 'Two med students on a road trip are falsely accused of murder by a corrupt local Sheriff, setting off a wild chase and a deadly comedy of errors. As they struggle to survive, every move the students make sends them deeper into trouble.', 'When Professor Brainard experiments further on Flubber derivatives, he gets in trouble and only his students can help.']\n",
            "\n",
            "Cluster  79\n",
            "['A man prepares himself to be transferred to a detention center and rest home where he will relive one more time the highlights of his youth.', 'Young Danny Flynn is released from prison 14 years after \"taking the rap\" for the IRA and tries to rebuild his life in his old Belfast neighborhood.', 'A man who has just been released from prison vows to start a new life, but is put to the test when an old cellmate appears.', \"Jailed for robbing his brother's unscrupulous employer, a simpleton has a transformation while in prison, emerging with a violent mission for revenge.\", 'Johnny has just been released from prison, and gets a job in a café beside waitress Frankie. Frankie is a bit of a loner, but Johnny is determined their romance will blossom.', 'Cornered by the DEA, convicted New York drug dealer Montgomery Brogan reevaluates his life in the 24 remaining hours before facing a seven-year jail term.', \"In Faizabad, British India, Dilawar is sentenced to several years in prison after Amiran's Daroga dad testifies against him. After his discharge around 1840, he extracts his vengeance by ...\"]\n",
            "\n",
            "Cluster  75\n",
            "['A true story about four Allied POWs who endure harsh treatment from their Japanese captors during World War II while being forced to build a railroad through the Burmese jungle. Ultimately ...', 'December, 1941. With no hope of relief or re-supply, a small band of United States Marines tries to keep the Japanese Navy from capturing their island base.', 'During World War II, American expatriate Harry Morgan helps transport a French Resistance leader and his beautiful wife to Martinique while romancing a sensuous lounge singer.', 'A former British colony in dire need of economic aid tries to play the British against the Soviets in an attempt to secure economic aid from either side in return for political loyalty.', 'In WW2, the Allies race against time to persuade two nuclear scientists working for the Germans to switch sides.', \"True story of a British attempt to trick the enemy into weakening Sicily's defenses before the 1943 attack, using a dead man with faked papers.\", 'Parody of WWII spy movies in which an American rock and roll singer becomes involved in a Resistance plot to rescue a scientist imprisoned in East Germany.', 'During the Civil War a group of Union soldiers and two Confederates escape the stockade using a hot air balloon and end up on a strange Pacific island.', \"In 1945 the fate of Vienna's famous Lipizzaner stallions hangs into balance.American general Patton could save them but first he asks to see them perform.\", 'During the early Pacific war years, American seaman George Tweed is the only U.S. serviceman on Guam not captured by the Japanese forces.', 'An American POW leads a group of mainly British prisoners to escape from the Germans in WWII.']\n",
            "\n",
            "Cluster  35\n",
            "['A Victorian era scientist and his assistant take a test run in their Iron Mole drilling machine and end up in a strange underground labyrinth ruled by a species of giant telepathic bird and full of prehistoric monsters and cavemen.', \"An Edinburgh professor and assorted colleagues follow an explorer's trail down an extinct Icelandic volcano to the earth's center.\", 'An English Professor tries to deal with his wife leaving him, the arrival of his editor who has been waiting for his book for seven years, and the various problems that his friends and associates involve him in.', 'An eccentric, if not charming Southern professor and his crew pose as a classical ensemble in order to rob a casino, all under the nose of his unsuspecting but sharp old landlady.', 'When a student visits her professor to discuss how she failed his course, the discussion takes an awkward turn.', 'An English professor finds his life crumbling around him.', 'A college professor wakes up to find his wife has not returned home, then struggles to understand her disappearance.', 'A shy, middle-aged professor enters into a romantic but non-physical relationship with an unlucky-in-love colleague.']\n",
            "\n",
            "Cluster  121\n",
            "['A burned out writer retreats to a northwest town called Hellview to write the great American novel. Unfortunately for him, the lighthouse he is renting is inhabited by the spirit of a woman...', 'When a hypochondriac learns that he is dying, he accepts an offer to throw himself in a volcano at a tropical island, and along the way there, learns to truly live.', \"A vulcanologist arrives at a countryside town recently named the second most desirable place to live in America, and discovers that the long dormant volcano, Dante's Peak, may wake up at any moment.\", 'In 1900, a young widow finds her seaside cottage is haunted and forms a unique relationship with the ghost.', \"After John, a painter, and his wife move into an old house on an island, a seductive widow ghost shows up in mirrors, windows and in John's dreams and nightmares. She eventually lures him ...\"]\n",
            "\n",
            "Cluster  163\n",
            "['In a remote military outpost in the 19th century, Captain John Boyd and his regiment embark on a rescue mission which takes a dark turn when they are ambushed by a sadistic cannibal.', 'During the Vietnam War, a soldier finds himself the outsider of his own squad when they unnecessarily kidnap a female villager.', \"Allied agents stage a daring raid on a castle where the Nazis are holding American brigadier general George Carnaby prisoner, but that's not all that's really going on.\", \"A young officer in Napoleon's Army pursues a mysterious woman to the castle of an elderly Baron.\", 'Four American soldiers stationed near a German village face death in the rape of a local girl, and are defended by outside counsel Major Steve Garrett.', 'A crew of interplanetary archaeologists is threatened when an alien creature impregnates one of their members, causing her to turn homicidal and murder them one by one.', 'At an archaeological dig in the ancient city of Hamunaptra, an American serving in the French Foreign Legion accidentally awakens a mummy who begins to wreck havoc as he searches for the reincarnation of his long-lost love.', \"Set in 19th Century Canada, Brigette and her sister Ginger take refuge in a Traders' Fort which later becomes under siege by some savage werewolves.\"]\n",
            "\n",
            "Cluster  3\n",
            "[\"Freddy Krueger and Jason Voorhees return to terrorize the teenage population. Except this time, they're out to get each other, too.\", 'In a small town, brutal killings start to plague the close knit community. Marty Coslaw, a paraplegic boy, is convinced the murders are the doings of a werewolf.', 'Newlyweds move into a large house where a mass murder was committed, and experience strange manifestations which drive them away.', \"Homicide detective John Hobbes witnesses the execution of serial killer Edgar Reese. Soon after the execution the killings start again, and they are very similar to Reese's style.\", 'Newlyweds are terrorized by demonic forces after moving into a large house that was the site of a grisly mass murder a year before.', \"Courtney Bates, the younger sister of Valerie, and her friends go to their condo for a weekend getaway, but Courtney can't get rid of the haunting feeling that a supernatural rockabilly driller killer is coming to murder them all.\", 'The murderous fisherman with a hook is back to once again stalk the two surviving teens, Julie and Ray, who had left him for dead, as well as cause even more murder and mayhem, this time at a posh island resort.', \"A decades-old folk tale surrounding a deranged murderer killing those who celebrate Valentine's Day turns out to be true to legend when a group defies the killer's order and people start turning up dead.\", 'While Sidney and her friends visit the Hollywood set of Stab 3, the third film based on the Woodsboro murders, another Ghostface killer rises to terrorize them.', 'While Sheriff Brackett and Dr. Loomis hunt for Michael Myers, a traumatized Laurie is rushed to hospital, and the serial killer is not far behind her.', 'A series of brutal murders in Boston sparks a seemingly endless and increasingly complex manhunt.', 'Batman is wrongly implicated in a series of murders of mob bosses actually done by a new vigilante assassin.', 'Serial killers have plagued the American landscape for decades, committing gruesome atrocities, and providing some tough cases for criminal investigators to crack. This thriller follows the...']\n",
            "\n",
            "Cluster  173\n",
            "['Led by their comedic leader, Turk, the Hollywood Knights car club raise hell throughout Beverly Hills on Halloween Night, 1965.', 'An anthology which tells five terrifying tales inspired by the E.C. horror comic books of the 1950s.', \"When a serial killer interrupts the fun at the swanky Coconut Pete's Coconut Beach Resort--a hedonistic island paradise for swingers--it's up to the club's staff to stop the violence...or at least hide it.\", 'A few years ago, a mysterious serial-killer caused panic on Crippen High School. The killer was never caught. A movie company, Cosmic Pictures, has decided to make a feature movie about ...', 'A robot malfunction creates havoc and terror for unsuspecting vacationers at a futuristic, adult-themed amusement park.']\n",
            "\n",
            "Cluster  201\n",
            "[\"A Salem resident attempts to frame her ex-lover's wife for being a witch in the middle of the 1692 witchcraft trials.\", 'Peter Soffel is the stuffy warden of a remote American prison around the turn of the century. His wife, Kate, finds herself attracted to prisoner Ed Biddle. She abandons her husband and ...', 'A sex researcher, who just happens to be strikingly beautiful, explores a notorious Eastern European castle in order to study its bizarre psychic phenomena. Through the course of her ...', 'Bristol, England, early 19th century. A beautiful young stranger who speaks a weird language is tried for the crime of begging. But when a man claims that he can translate her dialect, it ...', 'A curious youngster moves to Salem, where he struggles to fit in before awakening a trio of diabolical witches that were executed in the 17th century.']\n",
            "\n",
            "Cluster  190\n",
            "['Scottish warrior William Wallace leads his countrymen in a rebellion to free his homeland from the tyranny of King Edward I of England.', 'A nobleman becomes the vigilante Robin Hood who protects the oppressed English people from the tyrannical Prince John.', 'When Robin and his Moorish companion come to England and the tyranny of the Sheriff of Nottingham, he decides to fight back as an outlaw.', '\"King Lear\" set on a farm in Iowa.', 'The English gentleman known as Horse, returns to the American west to save his adopted Indian tribe from extinction.', 'A knight seeks to free the captive King Richard (Norman Wooland) and put him back on the throne.', 'The Swashbuckling legend of Robin Hood unfolds in the 12th century when the mighty Normans ruled England with an iron fist.']\n",
            "\n",
            "Cluster  122\n",
            "['U.S. Marshal Samuel Gerard and his team of Marshals are assigned to track down Sheridan, who has been accused of a double-murder.', 'Nun Sara (Shirley MacLaine) is on the run in Mexico and is saved from cowboys by Hogan (Clint Eastwood), who is preparing for a future mission to capture a French fort. The pair become good friends, but Sara never does tell him the true reason behind her being outlawed.', \"Marshal Rooster Cogburn unwillingly teams up with Eula Goodnight to track down her father's murderers.\", 'San Francisco Inspector \"Dirty\" Harry Callahan must foil a terrorist organization made up of disgruntled Vietnam veterans. But this time, he\\'s teamed with female partner Inspector Kate Moore, with whom he\\'s not too excited to be working.', 'Slaughter, a former Green Beret, avenges the killing of loved ones by the Mob, and in so doing is coerced by the Feds into traveling to Mexico to finish off surviving mobsters.', 'Nick and Nora are at their wisecracking best as they investigate murder and racketeering at a local race track.', 'Two researchers in a green alternative energy project are put on the run when they are framed for murder and treason.']\n",
            "\n",
            "Cluster  130\n",
            "['Ace Ventura, Pet Detective, returns from a spiritual quest to investigate the disappearance of a rare white bat, the sacred animal of a tribe in Africa.', 'The Predator returns to Earth, this time to stake a claim on the war-torn streets of a dystopian Los Angeles.', 'Robin Hood, aging none too gracefully, returns exhausted from the Crusades to woo and win Maid Marian one last time.', 'Showgirl Deloris Van Cartier returns as Sister Mary Clarence to teach music to a group of Catholic students whose run-down school is slated for closure.', \"The TV heroes return for a sequel, chasing a vicious villainess named Divatox. Can they rescue the kindly wizard Lerigot from her clutches before he's thrown into the volcano?\"]\n",
            "\n",
            "Cluster  13\n",
            "['Tommie is a young guy in Manhattan with a dead-end job handing out fliers in Times Square. At the beginning of a fateful summer, he has a chance encounter with a friend who tells Tommie ...', 'A medical school dropout and a housewife/mom try to make it as stand-up comedians. They become friends and help each other out at an NYC comedy club.', \"Best friends and their daughters vacation in Rio de Janeiro only for one to fall for the other's daughter.\", 'Two friends try sharing an apartment, but their ideas of housekeeping and lifestyles are as different as night and day.', 'A girl named Alex is by mistake housed with 2 guys, Stuart and Eddy, in a college dorm suite. After initial problems they become friends. Stuart has the hots for Alex, Alex for Eddy and Eddy for Stuart. Can it work?', \"3 girls in Sydney share an apartment and friendship. The movie follows them as well as 3 guys for a year from New Year's Eve 1998. They'll meet each other before the year ends.\", \"Young and handsome Sergio works the night shift as a trash collector in Lisbon, Portugal. He can't force himself to connect with his pretty female co-worker Fatima, who displays an avid ...\", \"Some friends are closer than brothers, for Raymo, Alfonso and Danny that's all they know. Growing up in an L.A. barrio (neighborhood) is a daily struggle for survival all on its own. But ...\", 'Two slacker friends try to promote their public-access cable show.', 'Daniel, Sam(antha) and Peter are three old friends living together in a Los Angeles loft. Being gifted with a great cooking skill and good looks, Daniel uses his talent to bring home one ...', 'Three inseparable childhood friends are just out of college. Nothing comes between them - until they each fall in love, and their wildly different approaches to relationships creates tension.', 'Life at the car wash is a place where anything can and does happen to two friends (']\n",
            "\n",
            "Cluster  188\n",
            "['An unscrupulous movie producer uses an actress, a director and a writer to achieve success.', 'A director struggles to film a difficult, intimate sex scene between two actors who happen to hate each other.', 'A young, once-great Hollywood film director refuses to accept changing times during the early 1930s, and confines himself to his decaying mansion to make silent porn flicks.', 'A silent film production company and cast make a difficult transition to sound.', 'An insane independent film director and his renegade group of teenage filmmakers kidnap an A-list Hollywood actress and force her to star in their underground film.', 'Ambitious but troubled movie director']\n",
            "\n",
            "Cluster  95\n",
            "[\"A fictional story inspired by North America's most famous female boxing promoter, Jackie Kallen. Her struggle to survive and succeed in a male dominated sport.\", 'A week in the lives of a group of models, photographers, agents, reporters, publicists and other characters during a wild modeling show in New York City.', \"In 2000, a small town hosts The British Hairdressing Championship, where a former 2-time winner, his son, his run-away wife and his runaway wife's lady lover reside (not all on speaking terms).\", 'Sprawling epic covering the life of a Texas cattle rancher and his family and associates.', 'A fictionalized account of the life of the martial arts superstar.', 'A determined hairstylist (Queen Latifah) competes with her former boss (Kevin Bacon) after opening her own business in Atlanta.', 'Flamboyant Glasgow hairdresser, Crawford Mackinzie, gets a letter from the World Hairdresser International Federation inviting him to its prestigious annual contest in L.A. Filmmaker Martin...']\n",
            "\n",
            "Cluster  58\n",
            "['The Rescue Heroes face their biggest challenge yet as a series of freak lightning storms begin to wreak havoc worldwide.', 'Five Yorkshiremen try to survive after the British Rail is bought out by a private company.', 'Five different criminals face imminent death after botching a job quite badly.', 'The vacationers at a winter wonderland struggle to survive after an avalanche of snow crashes into their ski resort. Their holiday then turns into a game of survival.', 'Hackers are blamed for making a virus that will capsize five oil tankers.', 'An unusually intense storm pattern catches some commercial fishermen unaware and puts them in mortal danger.']\n",
            "\n",
            "Cluster  25\n",
            "['After a close friend drops out of politics, a political consultant helping to find a replacement finds a web of corruption and deceit as well.', \"In 1944, during the Warsaw uprising against the Nazis, Polish Lieutenant Zadra and his resistance fighters use Warsaw's sewer system to escape the German encirclement.\", \"In the early 1810s, Poles, part of Russia's client state of Lithuania, think independence will come if they join forces with Napoleon when he invades Russia. This unity of purpose, in one ...\", 'A Polish Jewish musician struggles to survive the destruction of the Warsaw ghetto of World War II.', \"Russian political elite hires American consultants to help with President Yeltsin's re-election campaign when his approval rating is down to single digits.\", 'The Russian government has collapsed. Amidst the chaos, riots, and struggle for power, a terrible weapon has leaked out. Virulent microflage, a deadly germ of the cold war has begun to ...']\n",
            "\n",
            "Cluster  52\n",
            "['A football star jailed for assault leads a group of inmates in a match against prison guards.', 'A sadistic warden asks a former pro quarterback, now serving time in his prison, to put together a team of inmates to take on (and get pummeled by) the guards.', 'A high school football player desperate for a scholarship and his headstrong coach clash in a dying Pennsylvania steel town.', 'Rudy has always been told that he was too small to play college football. But he is determined to overcome the odds and fulfill his dream of playing for Notre Dame.', \"After attacking another player with a bat during baseball at school, Lyle's sent to the psych ward. He meets other teenagers with problems. Will group therapy help?\", 'An aging, down-on-his-luck ex-minor leaguer coaches a team of misfits in an ultra-competitive California little league.', 'A college basketball coach is forced to break the rules in order to get the players he needs to stay competitive.', 'Several players from different backgrounds try to cope with the pressures of playing football at a major university. Each deals with the pressure differently, some turn to drinking, others to drugs, and some to studying.', \"A basketball player's father must try to convince him to go to a college so he can get a shorter sentence.\", 'A young man finds solace with a young woman, his mother, and a high-school football coach who recruits him to quarterback a six-man team.', \"Hines plays a former dental student, Bern Lemley, who had to quit school just before finals because of a car accident that left him in a wheelchair. D'Onofrio plays a former pro football ...\"]\n",
            "\n",
            "Cluster  89\n",
            "['In the hope of a big score, two junkie couples team up to commit various drug robberies which go disastrously wrong leading to dissent, violence and murder.', 'Wrongfully accused of a bank robbery, a writer seeks the help of his ex-wife, who is now married to the soon-to-be Attorney General. of California.', \"This story is about a ne'er do well and his girlfriend search for a thief.\", 'Three friends plan to pull off a simple robbery and go on the run.', 'Crook Johnny Clay assembles a five man team to plan and execute a daring race-track robbery.', 'A man, his wife, and their friend, stage a bloody bank robbery, unaware they are stealing money from the Mob.', 'When an upwardly mobile couple find themselves unemployed and in debt, they turn to armed robbery in desperation.']\n",
            "\n",
            "Cluster  189\n",
            "['\"Washington Heights\" tells the story of Carlos Ramirez, a young illustrator burning to escape the Latino neighborhood of the same name to make a splash in New York City\\'s commercial ...', 'A highly fictionalized account of the life of George Armstrong Custer from his arrival at West Point in 1857 to his death at the battle of the Little Big Horn in 1876.', 'In 1854, Jeb Stuart, George Custer and other graduates from West Point are posted to Kansas to help pacify the territory before railroad construction to Santa Fe can resume.', \"Based on H.G. Bissinger's book, which profiled the economically depressed town of Odessa, Texas and their heroic high school football team, The Permian High Panthers.\"]\n",
            "\n",
            "Cluster  56\n",
            "['The life and death of the legendary Ludwig van Beethoven. Besides all the work he is known for, the composer once wrote a famous love letter to a nameless beloved, and the movie tries to ...', 'With his career on the skids, a Hollywood screenwriter enlists the aid of a modern-day muse, who proves to test his patience.', 'Biographer John Lahr is writing a book about playwright Joe Orton. Joe and Kenneth meet at drama school and live together for ten years as lovers and collaborators. Both want to be writers, but only one of them is successful.', 'A somewhat vulgar but dedicated painter searches for the perfect realization of his artistic vision, much to the chagrin of others.', 'A young artist, searching for his vocation, makes a mannequin so perfect he falls in love with it. Finding the mannequin in a store window, he gets a job there and his creation comes to life.', 'In London in 1958, a young photographer seeks media stardom to keep the love of a beautiful, aspiring fashion designer.', \"Zoro, the city's hottest and most elusive graffiti writer. The actual story of the movie concerns the tension between Zoro's passion for his art and his personal life, particularly his ...\"]\n",
            "\n",
            "Cluster  26\n",
            "[\"A young socialite is diagnosed with an inoperable brain tumor, and must decide whether or not she'll meet her final days with dignity.\", 'A reporter and her ex-husband investigate a cursed video tape that is rumored to kill the viewer seven days after watching it.', 'A delicious, mysterious goo that oozes from the earth is marketed as the newest dessert sensation, but the tasty treat rots more than teeth when zombie-like snackers who only want to consume more of the strange substance at any cost begin infesting the world.', 'A dissolute matinee idol is slated to appear on a live TV variety show.', 'A puppeteer discovers a portal that leads literally into the head of movie star', 'A teenager discovers that the newcomer in his neighborhood is a vampire, so he turns to an actor in a television horror show for help dealing with the undead.', 'An elderly horror film star, while making a personal appearance at a drive-in theatre, confronts a psychotic Vietnam War veteran who has turned into a mass-murdering sniper.', \"A young pathologist seeks answers to the mysterious death of a friend and soon comes into contact with the same cursed videotape that caused the death of the friend's wife and son, which is haunted by the curse of Sadako, a relentless spirit.\", 'A mysterious device designed to provide its owner with eternal life resurfaces after four hundred years, leaving a trail of destruction in its path.']\n",
            "\n",
            "Cluster  93\n",
            "['The highly successful 1964 Richard Burton Broadway production of \"Hamlet\", deliberately staged in the style of a \"dress rehearsal\", but performed in front of a live audience.', 'Animation done to contemporary popular music.', 'A musical retelling of', 'A biography of artist', 'A true story of politics and art in the 1930s U.S., focusing on a leftist musical drama and attempts to stop its production.', 'A grim retelling of the television series \"The Vision of Escaflowne\".', \"Neil Jordan's historical biopic of Irish revolutionary\", \"Modern-day New York City adaptation of Shakespeare's immortal story about Hamlet's plight to avenge his father's murder.\", 'The classic Shakespearean play about the murderously scheming 15th-century king is reimagined in an alternative setting of 1930s England as clouds of fascism gather.']\n",
            "\n",
            "Cluster  142\n",
            "[\"In 1976, Tony Wilson sets up Factory Records and brings Manchester's music to the world.\", 'U.S. entertainer Eddie Sparks wants to bring some fun to the soldiers during World War II and contacts singer/dancer Dixie Leonard for help. They become the perfect team and tour from North...', 'In 1830s France, pianist/composer', \"There are times when it's right and proper to simply bury the dead. This is not one of those times... Gram Parsons was one of the most influential musicians of his time; a bitter, brilliant...\", \"Paul, a handsome and talented music student is employed as the page-turner at one of the world famous pianist Kennington's concerts in San Francisco.\", \"An acid-scarred composer rises from the Paris sewers to boost his favorite opera understudy's career.\"]\n",
            "\n",
            "Cluster  8\n",
            "['Three young Irish women struggle to maintain their spirits while they endure dehumanizing abuse as inmates of a Magdalene Sisters Asylum.', 'In 1931, three half-white, half-Aboriginal girls escape after being plucked from their houses to be trained as domestic staff, and set off on a journey across the Outback.', 'American women prisoners in a foreign country. Sex and action.', 'In suburban New Canaan, Connecticut, 1973, middle class families experimenting with casual sex and substance abuse find their lives beyond their control.', 'Young drug pushers in the projects of Brooklyn live hard dangerous lives, trapped between their drug bosses and the detectives out to stop them.', 'A group of teen-age runaways try to survive in the streets of Los Angeles. Drugs, prostitution, violence and bureaucratic indifference all pose threats to the kids, who nevertheless prefer ...', 'The Tramp struggles to live in modern industrial society with the help of a young homeless woman.', 'Two gay teenage runaways thrown out of their repressive homes try to survive on the streets of Prague. Hunger and desperation forces them into a life of prostitution, drugs, and teen-porn.', 'During the Viet Nam War, a Viet Namese woman struggles hustling on the streets, where she comes face to face with those involved in the conflict around her.']\n",
            "\n",
            "Cluster  37\n",
            "['A timid British Army officer has quit and burns his last day summons to a war in Egypt. Calling him a coward, his girl friend and 3 officer friends give him a white feather. In redemption, he shadows his friends in war to save their lives.', \"Gunnery Sergeant Burns reports for duty to an American Embassy in the Middle East. However due to the 'enlightened' views of the Ambassador, the marine security detachment he is in charge ...\", 'A soldier runs away rather than receive the Medal of Honor, so his buddy gets permission to investigate, and love and death soon follow.', \"A dramatization of the American general and his court martial for publically complaining about High Command's dismissal and neglect of the aerial fighting forces.\", 'The new commander of a Navy Underwater Demolition Team--nicknamed \"Frogmen\"--must earn the respect of the men in his unit, who are still grieving over the death of their former commander and resentful of the new one.', 'During WW2, the U.S. Navy implements a new idea of forming construction battalions that also are fighting units, in case of Japanese attack.', 'An ex-US Army commando must find the reason why his comrades from his unit are being systematically murdered before he is next.', 'German commander Captain Hauptmann Stransky (Maximilian Schell) places a squad in extreme danger after Sergeant Rolf Steiner (James Coburn) refuses to lie for him.', 'A US Army Colonel is tasked with forming an elite commando-style unit from crack Canadian troops and the dregs of the US Army.', \"Truncated adaptation of Stephen Crane's novel about a Civil War Union soldier who stuggles to find the courage to fight in the heat of battle.\", 'When a U.S. Naval captain shows signs of mental instability that jeopardizes the ship, the first officer relieves him of command and faces court martial for mutiny.']\n",
            "\n",
            "Cluster  150\n",
            "['A sheriff tries to stop the killing spree of a silent maniacal murderer who, as the result of secret genetic experimentation by an unethical scientist, has the ability to self-heal.', 'Scientists create a genetic clone of a serial killer in order to help catch the killer, teaming up with two cops.', 'Chucky, the doll possessed by a serial killer, discovers the perfect mate to kill and revive into the body of another doll.', 'An evil, sadistic Leprechaun goes on a killing rampage in search of his beloved pot of gold.', 'A gentle and wise grey spider with a flair for promotion pledges to save a young pig from slaughter for dinner food.', 'The legendary Loch Ness Monster, terrorizes a lake in Scotland and Patrick Bergin comes out to kill it.', 'A species of South American killer spider hitches a lift to the U.S. in a coffin and starts to breed and kill.']\n",
            "\n",
            "Cluster  176\n",
            "[\"The public defender's secretary and an ex-convict get married and try to make a life together, but a series of disasters sends their lives spiraling out of control.\", 'When their relationship turns sour, a couple undergoes a medical procedure to have each other erased from their memories.', \"Two couples go to a mutual friend's wedding and end up swapping partners.\", \"A screwball comedy about a gay couple at a straight couple's wedding.\", \"The perfect gay couple are having a wedding in their backyard and they've invited the family and all their emotional baggage.\", 'Police Sergeant Dutch Van Den Broek (Harrison Ford) and U.S. Representative Kay Chandler (Dame Kristin Scott Thomas) lose their spouses in a plane crash, and they soon discover that their spouses were having an affair with each other.']\n",
            "\n",
            "Cluster  116\n",
            "[\"A career woman reassesses her parents' lives after she is forced to care for her cancer-stricken mother.\", \"A recently retired man embarks on a journey to his estranged daughter's wedding, only to discover more about himself and life than he ever expected.\", 'A runaway bride promises her dying widowed friend that she will assume her identity and look after her infant child.', 'A stressed father, a bride-to-be with a secret, a smitten event planner, and relatives from around the world create much ado about the preparations for an arranged marriage in India.', \"Shortly after coming to terms with his daughter's marriage, a father faces the prospect of becoming a grandfather.\", \"After having responded to her son's numerous letters in the guise of his father, a woman hires a stranger to pose as his dad when meeting him.\", 'Friends and family of a married black architect react in different ways to his affair with an Italian secretary.']\n",
            "\n",
            "Cluster  103\n",
            "[\"Akira, the young new schoolteacher in town falls for secretive Miki, an older woman who takes care of her family's urn that supposedly holds a forest wolf-spirit, inugami. People soon start disappearing and the town blames Akira.\", 'The movie is about a girl named Hiromi Nozawa and her dog Junkers. Hiromi is having troubles at home mainly because her parents wanting to separate. Junkers tries to comfort her in ways no other dog can. He can talk and grant her 3 wishes.', 'This evocative chiller from director Giacomo Cimini follows the fortunes of a young 12yr-old girl named Jenny (Francesca). Abandoned in Rome by her careless mother, Jenny has to fend for ...', 'The of story of Russian emigrant Yanko Goorall and servant Amy Foster in the end of nineteenth century. When Yanko enters a farm, sick and hungry after a shipwreck, everyone is afraid of him, except for Amy.', 'Karan, a small time musician, tries to win over a girl named Pooja.', \"This movie, centering on a child's abduction, casts Kate Nelligan as the distraught mother who lashes out at the police (in the person of a relentless detective played by Judd Hirsch), who ...\", 'Reiko takes Yôichi into hiding when her son begins to display frightening powers. Meanwhile, Mai Takano and the authorities begin a desperate search for them, as the mysterious Ring curse spreads.']\n",
            "\n",
            "Cluster  31\n",
            "['Salma Hayek plays an avid detective assigned to the heist of a batch of precious coins that end up in the hands of a suicidal barber.', 'In the wake of tragedy, a renowned NY dance company is on the brink of collapse. After leaving the dance world for good, Travis, Chrissa and Max have one last chance to re-connect with the passion and prove that miracles really can happen.', 'Honey is a sexy, tough music video choreographer who shakes up her life after her mentor gives her an ultimatum: sleep with him or be blacklisted within their industry.', \"Yash Chopra's most cherished film with soul-stirring music is a story of moments - moments of passion, of ecstasy and of life-changing love.\", 'Dr. Siddharth Sinha is a dedicated selfless doctor who dreams of building a state-of-the-art hospital with all the modern instruments and amenities for patient care . His foster son Akash ...', 'The true story of a heroic man, Hunter \"Patch\" Adams, determined to become a medical doctor because he enjoys helping people. He ventured where no doctor had ventured before, using humour and pathos.', \"Psychiatrist Ty Adams doesn't believe in using drugs, but the head of Sedah State Hospital does, then 'Satan' arrives ~ walk-in patient extraordinaire... From there it's a full-on freaky ride.\"]\n",
            "\n",
            "Cluster  175\n",
            "[\"The life of a Russian physician and poet who, although married to another, falls in love with a political activist's wife and experiences hardship during World War I and then the October Revolution.\", 'An English nurse and an American soldier on the Italian front during World War I fall in love, but the horrors surrounding them test their romance to the limit.', 'An American ambulance driver and an English nurse fall in love in Italy during World War I.', 'When a fisherman leaves to fight with the Greek army during World War II, his fiancée falls in love with the local Italian commander.']\n",
            "\n",
            "Cluster  30\n",
            "['After being accused of a triple-murder, a man films his every moment of his to provide an alibi. Things takes a worst turn when a detective suspects him and the tapes goes missing which can prove his innocence.', 'A serial murderer is strangling women with a necktie. The London police have a suspect, but he is the wrong man.', 'A debauched Hollywood movie actor tries to piece together one wild night in Miami years earlier which remains a drug-induced blur, and soon finds out that some questions about his past are best left unanswered.', 'Ryan Harrison is framed for murder and must prove himself innocent by finding a mysterious one-eyed, one-armed, one-legged man after escaping from a bus accident on the way to jail.', 'Bent on winning a Pulitzer Prize, a journalist commits himself to a mental institution to solve a strange and unclear murder.', \"A NYC artist is witness to his best friend's murder - or was he? Due to a drug problem, he can't recall what happened. Now he is the prime suspect and desperately tries to remember before it's too late.\", 'A Marine on death row is recruited by a shadowy U.S. military officer as part of a top-secret ops team, then gets framed for murder when the team and its officer set him up as the fall guy for the assassination of the First Lady.', 'As a lawyer investigates the murder of a colleague, he finds himself more connected to the crime than anyone else.', 'When Jason Bourne is framed for a CIA operation gone awry, he is forced to resume his former life as a trained assassin to survive.', 'A young hitman is asked to prove himself by killing an innocent woman.', 'A bounty hunter with a pregnant wife who is urging him to get a regular job gets framed for murder and trapped in a war between Russian gangsters.', 'A magazine tycoon commits a murder and pins it on an innocent man, who then tries to solve the murder himself.']\n",
            "\n",
            "Cluster  86\n",
            "[\"Van's father, Stan, is fond of video, always taping scenes of daily family life. But he does not take care of Van's grandmother, Armen. Although he could afford having her at home, she is ...\", 'Larry Poole, in prison on a false charge, promise an inmate that when he gets out he will look up and help out a family. The family turns out to be a young girl, Patsy Smith, and her ...', \"An old man who lives in an old house conducts a correctional institute for girls. But he does not realize that the date is the present as he's been cooped up in the house. He is assisted by...\", \"Eddie thinks it is time for his father to remarry. However, in his opinion his father's taste in women leaves much to be desired. He believes the girl next door would be a far better choice...\", 'After the death of his older brother, Giuseppe \"The Guppy\" Calzone (Kevin McDonald) becomes head of the Calzone Mob Family. His aging father (Dom DeLuise) knows his son is not cut out for ...', 'This Ken Loach film tells the story of a man devoted to his family and his religion. Proud, though poor, Bob wants his little girl to have a beautiful (and costly) brand-new dress for her ...']\n",
            "\n",
            "Cluster  135\n",
            "['A young refugee traveling from Russia to America in search of her lost father falls for a gypsy horseman.', 'A young girl discovers surfing and love (in that order) during one transitive summer.', 'A sorority girl finds her life falling apart after she develops romantic feelings for a mentally-challenged man.', 'Three adolescent girls growing up in Bengal, India, learn their lessons in life after falling for an older American soldier.', 'A bittersweet and intimate look at friendship, love and growing up. The easy life of summertime in Myrtle Beach is turned upside down for one local girl when two strangers come to town: a beautiful temptress and a charming drifter.', 'Leaving behind a hard life with their families, two young girls end up in a brothel, fall in love and support one another against the adversities and violence of the night.', 'At Pacific Palisades High, a poor Latino falls hard for a troubled girl from an affluent neighborhood.', 'A gifted teenager dreaming of life beyond her small town becomes inspired when a 15-year-old girl from New York moves in next door.', \"A fragile Kansas girl's love for a handsome young man from the town's most powerful family drives her to heartbreak and madness.\", 'A portrait of the increasingly desperate attempts of a teenage Manhattan girl to find love and kinship, in a world that never reciprocates.', 'A young girl comes to an embittered town and confronts its attitude with her determination to see the best in life.', \"A young Hungarian girl struggles to find her place in the world when she's reunited with her parents in the USA years after she was left behind during their flight from the communist country in the 1950s.\"]\n",
            "\n",
            "Cluster  192\n",
            "['A wealthy professional gay couple, who wish to adopt children, see their lives turned topsy turvy when they take in two misbehaving brothers, supposedly just for one night.', 'The life of super-yuppie J.C. is thrown into turmoil when she inherits a baby from a distant relative.', 'Identical twins Annie and Hallie, separated at birth and each raised by one of their biological parents, later discover each other for the first time at summer camp and make a plan to bring their wayward parents back together.', 'The story of George and Joy Adamson and the orphaned lion cub, Elsa, they adopt.', \"Young couple decide to live together and they wind up having a baby. They decide they should give the baby up for adoption. The baby's Mother's parents wind up adopting the baby using a fake name.\"]\n",
            "\n",
            "Cluster  96\n",
            "['A grown-up woman, who kept her childish instincts and behavior, starts working as a nanny of a 8-year-old girl, who actually acts like an adult. But in the end everything turns to its right places.', 'The daughter of a rich criminal industrial tycoon falls in love with a college boy. The tycoon, what a surprise, objects...', 'Kristin is the daughter of a prominent landowner in medieval Norway. She grows up in total harmony with the ideals of the time: strong family ties, social pride and devout Christianity. She...', \"A poor kid elopes with a banker's daughter.\", \"The daughter of orthodox Sikh rebels against her parents' traditionalism and joins a football team.\", 'A working-class woman is willing to do whatever it takes to give her daughter a socially promising future.']\n",
            "\n",
            "Cluster  133\n",
            "['Avinash comes to a city where everyone wants to kill him.', \"An NYPD Detective (Michael Keaton) and his struggle for justice, while taking care of his late partner's three little girls after he is killed in the line of duty.\", 'The movie shows the origin of the Powerpuff Girls before the cartoon series. It explains why they were born and why they dedicated their lives to fighting crime and the forces of evil.', 'In the near future, a charismatic leader summons the street gangs of New York City in a bid to take it over. When he is killed, The Warriors are falsely blamed and now must fight their way home while every other gang is hunting them down.', 'After training with his mentor, Batman begins his fight to free crime-ridden Gotham City from corruption.', 'After saving a Black Panther from some racist cops, a black male prostitute goes on the run from \"the man\" with the help of the ghetto community and some disillusioned Hells Angels.']\n",
            "\n",
            "Cluster  146\n",
            "['An American destroyer Captain is determined to confront a Soviet submarine caught violating territorial waters. Perhaps too determined.', 'A Navy Captain uses his experimental Snark to reach a nuclear submarine stuck on an ocean ledge.', 'Strange happenings occur on a WW II submarine.', \"During WWII, a submarine's second in command inherits the problem of torpedoes that don't explode. When on shore, he is eager to win back his ex-wife.\"]\n",
            "\n",
            "Cluster  126\n",
            "[\"Marshal Dix is to free US president from aliens on the int'l lunar base. A clone has replaced him in The White House. Can Dix prevent an alien invasion?\", 'Thinking this will prevent war, the US government gives an impenetrable supercomputer total control over launching nuclear missiles. But what the computer does with the power is unimaginable to its creators.', 'When the overworked and stressed-out White House presidential shrink runs away, the CEA and the FBR scramble to retrieve him before he could be abducted by various competing foreign intelligence services.', \"CIA analyst Jack Ryan must stop the plans of a Neo-Nazi faction that threatens to induce a catastrophic conflict between the United States and Russia's President by detonating a nuclear weapon at a football game in Baltimore, Maryland.\", 'An ex-Navy Seal turned cook is the only person who can stop a group of terrorists when they seize control of a U.S. battleship.', \"Secret Service agents must retrieve the briefcase allowing the President control of America's nuclear arsenal before massive destruction ensues.\"]\n",
            "\n",
            "Cluster  185\n",
            "['The life of a suburban American family is scarred after a nuclear attack.', 'A German youth eagerly enters World War I, but his enthusiasm wanes as he gets a firsthand view of the horror.', 'The events of D-Day, told on a grand scale from both the Allied and German points of view.', 'After a global nuclear war, the residents of Australia must come to terms with the fact that all life will be destroyed in a matter of months.', 'Set during World War II, an upper-class family begins to fall apart due to the conservative nature of the patriarch and the progressive values of his children.', \"An impoverished backward nation declares a war on the United States of America, hoping to lose, but things don't go according to plan.\", 'An in-depth examination of the ways in which the U.S. Vietnam War impacts and disrupts the lives of people in a small industrial town in Pennsylvania.']\n",
            "\n",
            "Cluster  131\n",
            "['An abortion clinic worker with a special heritage is called upon to save the existence of humanity from being negated by two renegade angels trying to exploit a loop-hole and reenter Heaven.', 'Abby Quinn is eagerly awaiting childbirth but is haunted by dreams where she suffers a miscarriage. When she decides to rent a room to a mysterious stranger, she realizes a chain of events that will unleash the end of humanity.', 'Kirsty is brought to an institution after the death of her family, where the occult-obsessive head resurrects Julia and unleashes the Cenobites once again.', 'A 19th century woman, who has become one of the undead, acts as a hired killer in modern times. When she starts knocking off part of the elite businessmen, \"The Illuminati\", who secretly ...', \"A fertility clinic visit becomes an unfathomable nightmare for a woman who's impregnated with the devil's DNA.\", 'A woman is used as a pawn to bring to fruition the rule of the Antichrist.', \"An alternate reality encased in ice, a woman who is turned into a dimension-hopping assassin, and a wizard's apprentice who is so evil he is a common enemy to the angels in heaven and the ...\"]\n",
            "\n",
            "Cluster  153\n",
            "['A poet (Sanjay Dutt) and his best friend (Salman Khan) fall in love with the same woman (Madhuri Dixit).', 'Two strangers become dangerously close after witnessing a deadly accident.', 'Two young women bond while living together out in the California desert to be close to their boyfriends who are serving time at the nearby state prison.', \"Best friends from law school to election night, their friendship is sorely tested when one learns of another's betrayal.\", 'The friendship of a group of young friends struggling with teen sex, drugs, and work is jeopardized by a romantic interest which may turn pals into bitter rivals.', '2 young women reunite and rekindle their friendship after having said goodbye at their college graduation, six years earlier.', 'In 1932, two strangers are wrongfully convicted and develop a strong friendship in prison that lasts them through the 20th century.', \"During their college years, Anjali was in love with her best-friend Rahul, but he had eyes only for Tina. Years later, Rahul and the now-deceased Tina's eight-year-old daughter attempts to reunite her father and Anjali.\", 'A friendship is put to the ultimate test when two best friends wind up in bed together.', 'A touching friendship story between a dog and a dolphin.']\n",
            "\n",
            "Cluster  112\n",
            "[\"An actress who has given up on love meets a suave banker and begins a flirtation with him...even though he's already married.\", \"Mary Fiore is San Francisco's most successful supplier of romance and glamor. She knows all the tricks. She knows all the rules. But then she breaks the most important rule of all: she falls in love with the groom.\", 'Gino, a drifter, begins an affair with inn-owner Giovanna as they plan to get rid of her older husband.', 'A successful computer engineer meets a stripper in a cafe. He offers her $10000 and she offers 3 days and nights of no penetration in Vegas.', 'The disabled Glover asks gigolo Chris to bring out his erotic fantasies. Chris accepts the offer in exchange for a lot of money, and dives in bed with women in suite 16 while Glover watches. But then something goes horribly wrong.', \"Thornton Wilder's tale of a matchmaker who desires the man she's supposed to be pairing with another woman.\", 'Joan Howell, a young and pretty maid-for-hire, meets and begins dating wealthy New York City businessman Tom Milford. Embarrassed about bringing him back to her tiny apartment that she ...', 'Loretta Castorini, a bookkeeper from Brooklyn, New York, finds herself in a difficult situation when she falls for the brother of the man she has agreed to marry.', 'TV personality Robert Danvers, an exceedingly vain rotter, seduces young women daily, never staying long with one. He meets his match in 19-year-old American Marion, who is available but ...']\n",
            "\n",
            "Cluster  49\n",
            "['A taxi driver (Naveen Andrews) picks up a fare (Barbara Hershey) in Manhattan. She offers the driver a large sum to drive her to the desert. While the pair drive across the country, the ...', 'Romantic comedy about an honest Mexican immigrant who struggles without a green card by selling oranges on a street corner. One day a limousine pulls up and he is handed a check for ...', 'Tommy is an unemployed mechanic who spends most of his time in a bar (Trees Lounge) in a small blue collar town. He seems to always be thinking, \"If only X then I could stop drinking\".', 'A middle-aged steelworker is content with his job and his family, but feels that something is missing in his life. On his 50th birthday, he stops in at a local bar for a drink to celebrate....', 'Richard Pryor performs his stand-up comedy act on the Sunset Strip.']\n",
            "\n",
            "Cluster  24\n",
            "['Texas Ranger Jake Cutter arrests gambler Paul Regret, but soon finds himself teamed with his prisoner in an undercover effort to defeat a band of renegade arms merchants and thieves dealing with the Comanches known as Comancheros.', 'A satanist cult leader is burnt alive by the local church. He vows to come back to hunt down and enslave every descendant of his congregation, by the power of the book of blood contracts, in which they sold their souls to the devil.', 'A power-hungry sorcerer curses a princess to live as a swan by day in this tale of everlasting love.', 'A slave and a Viking prince fight for the love of a captive princess.', 'Blade, now a wanted man by the FBI, must join forces with the Nightstalkers to face his most challenging enemy yet: Dracula.', 'A pirate and a hot-tempered noblewoman join forces to protect Jamaica from a tyrant.', 'The warrior Deathstalker is sent by a witch on a quest to find a chalice, an amulet, and a sword, two of which are held by the wicked sorcerer Munkar.', 'Frankie, on naval-reserve duty in Tahiti, doesn\\'t trust Dee Dee to stay faithful, so he hires Bwana, a witch doctor, to help. Bwana conjures up a floating bikini, \"stuffs\" it with Cassandra...', 'Blacksmith Will Turner teams up with eccentric pirate \"Captain\" Jack Sparrow to save his love, the governor\\'s daughter, from Jack\\'s former pirate allies, who are now undead.', 'After the Rapture and the revealing of the identity of the Antichrist, a group of converts form the Tribulation Force, a secret society with the sole purpose of converting non-believers to Christianity.']\n",
            "\n",
            "Cluster  139\n",
            "['During the Civil War Union spy Andrews and his men volunteer to steal a Confederate train and drive it to Union territory while destroying the Confederate railway system along the way.', 'A musical based on the New York City newsboy strike of 1899. When young newspaper sellers are exploited beyond reason by their bosses they set out to enact change and are met by the ruthlessness of big business.', \"In 1863, a Union outfit is sent behind Confederate lines in Mississippi to destroy enemy railroads but a captive southern belle and the unit's doctor cause frictions within ranks.\", 'During the Great Depression, a union leader and a young woman become criminals to exact revenge on the management of a railroad.']\n",
            "\n",
            "Cluster  154\n",
            "[\"Mysterious deaths surround an American ambassador. Could the child that he is raising actually be the Antichrist? The Devil's own son?\", 'A disadvantaged, abused, neglected, exploited but basically decent kid slips into criminality while trying to cope with his harsh, inescapable reality.', 'A twelve-year-old Jewish boy hides with a family of Catholic peasant farmers to escape the Nazis.', \"The impoverished son of Irish immigrants is pushed by wrongful police persecution into becoming one of the most notorious bushrangers in Australia's history.\", 'The son of a German General becomes part of a mysterious conspiracy to gain hidden Nazi funds.', \"Damien the Antichrist, now about to turn thirteen years old, finally learns of his destiny under the guidance of an unholy disciple of Satan. Meanwhile dark forces begin to eliminate all those who suspect the child's true identity.\"]\n",
            "\n",
            "Cluster  168\n",
            "['A day in the lives of two convenience clerks named Dante and Randal as they annoy customers, discuss movies, and play hockey on the store roof.', 'A test pilot is miniaturized in a secret experiment, and accidentally injected into a hapless store clerk.', 'A day in the life of a South Side Chicago barbershop.', 'An impromptu fashion shoot at a book store brings about a new fashion model discovery in the shop clerk.']\n",
            "\n",
            "Cluster  50\n",
            "['All all-female gang of Old West bank robbers comes out of retirement to rescue a sister in peril.', 'Secret Agent Leonard Parker (Bill Cosby) is called out of retirement to save the world from evil genius Medusa Johnson (Gloria Foster).', 'A computer specialist is sued for sexual harassment by a former lover turned boss who initiated the act forcefully, which threatens both his career and his personal life.', 'A musical remake of Ninotchka: After three bumbling Soviet agents fail in their mission to retrieve a straying Soviet composer from Paris, the beautiful, ultra-serious Ninotchka is sent to ...', \"Having recovered from wounds received in a failed rescue operation, Navy SEAL Shane Wolfe is handed a new assignment: Protect the five Plummer kids from enemies of their recently deceased father -- a government scientist whose top-secret experiment remains in the kids' house.\", \"Action thriller starring Gina Gershon as hard-edged, experienced cop Nora 'Hugs' Hugosian, who is assigned a new partner - rookie cop Chrids O'Brien (Rory Cochrane) - to help her with the ...\", 'Master burglar Max Hopper is released early after three years and soon gets an exceptional job: stealing an advanced computer-chip from the IQ Industries headquarters. His first attempt ...', 'After A US senator is killed, A Bomb Disposal Expert is brought in to investigate the deadly explosive and must uncover the terrorists plan.']\n",
            "\n",
            "Cluster  107\n",
            "[\"The only thing James wants is to remain away from Scotland. One day, however, he receives a fax, a printout of an unknown person's obituary. The next day, he is charged and arrested for the murder of this person.\", 'In 1713 Scotland, Rob Roy MacGregor is wronged by a nobleman and his nephew, becomes an outlaw in search of revenge while fleeing the Redcoats, and faces charges of being a Jacobite.', \"In 1813, Capitaine Jacques St. Ives, a Hussar in the Napoleonic wars, is captured and sent to a Scottish prison camp. He's a swashbuckler, so the prison's commander, Major Farquar ...\", 'After being wrongly convicted as a traitor, Peter Blood, an English physician, is sent to exile in the British colonies of the Caribbean, where he becomes a pirate.', 'His ship seized by the Chinese Communists, American Merchant Captain Tom Wilder languishes in prison but Chinese villagers help him escape to sail them to Hong-Kong.']\n",
            "\n",
            "Cluster  204\n",
            "['A shy, lonely film buff embarks on a killing spree against those who browbeat and betray him, all the while stalking his idol, a', 'A retired thief swears revenge on the lunatic who murdered his brother and partner, while going on the run with the loot they stole.', 'A crook quietly plots his revenge against the boss who murdered his brother while working for him.', 'In Mexico City, a former CIA operative swears vengeance on those who committed an unspeakable act against the family he was hired to protect.', \"The gruesome murder of a Brooklyn Detective will turn the case into a personal vendetta when the deceased's best friend and fellow officer will unleash an all-out attack against a psychotic Mafia enforcer's brutal gang.\", 'A New York City architect becomes a one-man vigilante squad after his wife is murdered by street punks in which he randomly goes out and kills would-be muggers on the mean streets after dark.']\n",
            "\n",
            "Cluster  65\n",
            "['After their latest rocket fails, Dr. Charles Cargraves and retired General Thayer have to start over again. This time, Gen. Thayer approaches Jim Barnes, the head of his own aviation ...', 'A widowed U.S. President running for reelection and an environmental lobbyist fall in love. It\\'s all above-board, but \"politics is perception,\" and sparks fly anyway.', 'Starting with a violent prison break, clever, ruthless Ralph Cotter corrupts everyone around him.', \"Graduates of a Los Angeles high school in 1965 see America's culture and politics gradually change.\", 'A high school teacher in the 60s becomes an international spy and becomes involved in a plot to overthrow Fidel Castro.', \"The Gremlins are back, and this time, they've taken control of a New York City media mogul's high-tech skyscraper.\", 'Chronicles the rise and fall of a prominent, and particularly ruthless English gangster.', 'The California Atoms are in last place with no hope of moving up. But by switching the mule from team mascot to team member, (He can kick 100 yard field goals!) they start winning, and move...']\n",
            "\n",
            "Cluster  99\n",
            "['A young boy attempts to make the world a better place after his teacher gives him that chance.', 'A privileged rich debutante and a cynical struggling entertainer share a turbulent, but strong childhood friendship over the years.', 'A cynical, immature young man is taught how to act like a grown-up by a little boy.', 'Fast Eddie Felson teaches a cocky but immensely talented protégé the ropes of pool hustling, which in turn inspires him to make an unlikely comeback.', 'Because of an unusual disorder that has aged him four times faster than a typical human being, a boy looks like a 40-year-old man as he starts fifth grade at public school after being homeschooled.', 'A rich college kid is taught a lesson after a joy ride ends up destroying a country restaurant.', \"A young man's peculiar upbringing renders him unable to competently cope with the struggle of growing up.\", \"Story of a schoolteacher's struggle to teach violin to inner-city Harlem kids.\"]\n",
            "\n",
            "Cluster  170\n",
            "['A rich father hires a tutor for his son. The son is a horny teenager and the tutor is a gorgeous blonde. Complications ensue.', 'An unemployed cartoonist moves back in with his parents and younger brother Freddy. When his parents demand he leave, he begins to spread rumors that his father is sexually abusing Freddy.', 'To help his discouraged son get through college, a funloving and obnoxious rich businessman decides to enter the school as a student himself.', \"A recently widowed man's son calls a radio talk-show in an attempt to find his father a partner.\", \"Widower Tony is trying to keep a small Miami hotel afloat while raising a 12-year-old son. He's forced to ask his harried brother Mario for help, but he'll only bail Tony out if he quits his bohemian lifestyle and marries a sensible woman.\", 'When a man is diagnosed with terminal cancer, he takes custody of his misanthropic teenage son, for whom quality time means getting high, engaging in small-time prostitution, and avoiding his father.', 'Pete is a streetwise ex-junkie running from the mob. After his two best friends die, he feels obligated to help raise their three kids who now live with their grandmother.']\n",
            "\n",
            "Cluster  6\n",
            "[\"This time, a new baby is on the way, and it's a girl. Wrapped together with the standard conflict between mother and father, Mikey engages in a bit of sibling rivalry with his new sister.\", 'Friends who have been close since childhood, share a passion for the dangerous sport of free deep sea diving.', '1871 New England. Two-week orphaned preteen Nat Blake, in his new circumstance, has been living on the streets of Boston with his more streetwise friend, fourteen year old Dan, who looks ...', 'Jamie is a shy teenager, often bullied at school. His neighbour Ste has a rough time at home, being beaten by his father and brother. This issues bring them together and they find that what they feel for each other is more than friendship.', 'Two childhood friends, now in a street gang, look to their dancing ability as a way out.', 'Three old high school friends meet in a Michigan motel room to dissect painful memories from their past.', 'Two playboys try to forget previous romances in Singapore - until they meet a beautiful dancer.', 'When a teen is bullied, his brother and friends lure the bully into the woods to seek revenge.', 'Two young boys, both social outcasts in their small town, form an unlikely friendship.', 'Shaft is back to find the murderer of an old friend on the cold hard city streets with a little help from his new friends.', 'A lifelong feud between two neighbors since childhood only gets worse when a new female neighbor moves across the street.', 'Two old friends meet for dinner; as one tells anecdotes detailing his experiences, the other notices their differing worldviews.', 'Two childhood friends are pro athletes of a national sport called BASEketball, a hybrid of baseball and basketball, and must deal with a greedy businessman scheming against their team.', 'A Texas Ranger and a ruthless narcotics kingpin - they were childhood friends, now they are adversaries...']\n",
            "\n",
            "Cluster  97\n",
            "[\"An American oil company sends a man to Scotland to buy up an entire village where they want to build a refinery. But things don't go as expected.\", 'When a field (which has been farmed by the McCabe family for generations) goes up for auction, the patriarch of the McCabe family will stop at nothing to prevent a rich American from buying it.', 'In 1871 Dakota, two crooked businessmen oppose the local wheat farmers and the railroad development, in order to control the town of Fargo.', 'Set in 1955, the residents of a small Montana community are forced to move their homes to make way for a new dam.', \"In 1927, in Kingdom County, Vermont, a large dam is to be built, however, Noel Lord, a logger and cedar-oil harvester, won't give up his lifetime lease on land that will be flooded. The dam...\", 'A dramatization of the real-life Johnson County War in 1890 Wyoming, in which a Sheriff born into wealth, attempts to protect immigrant farmers from rich cattle interests.']\n",
            "\n",
            "Cluster  74\n",
            "['In New York City, a young man searches for a Master to obtain the final level of martial arts mastery known as the Glow.', 'A man awakens from a coma to discover he has a psychic ability.', 'The heroic warrior He-Man battles against the evil lord Skeletor and his armies of darkness for control of Castle Grayskull.', \"A desert warrior rises up against the evil army that is destroying his homeland. He captures the enemy's key sorcerer, takes her deep into the desert and prepares for a final showdown.\", 'A man blinded by toxic waste which also enhanced his remaining senses fights crime as an acrobatic martial arts superhero.', 'A martial artist hunts a killer in a plague-infested urban dump of the future.']\n",
            "\n",
            "Cluster  84\n",
            "['In 1885 New Mexico, a frontier medicine woman forms an uneasy alliance with her estranged father when her daughter is kidnapped by an Apache brujo.', 'Released after years as a political prisoner, a Cuban rejoins his wife and daughter in Miami.', 'An American woman, trapped in Islamic Iran by her brutish husband, must find a way to escape with her daughter as well.', 'With her husband away to fight in World War II, a housewife struggles to care for their two daughters - and a pair of lodgers who have moved in - alone.', \"In Texas, a woman and her young daughter head down to another town where the girl's irresponsible, hotheaded and immature father has just been released from prison on parole.\", \"While waiting for her husband to recover in a hospital, a mother stays with her estranged daughter, Maria, who fled her parents rural home in Andalusia because she could no longer bear her father's abusiveness and her mother's passivity.\"]\n",
            "\n",
            "Cluster  123\n",
            "['The story of castrato opera singer Carlo Broschi, who enthralled 18th century European audiences under his stage name Farinelli, comes to life in this drama of high notes and even higher passions.', 'Danny, an ambitious singing and dancing cat, goes to Hollywood and overcomes several obstacles to fulfill his dream of becoming a movie star.', 'Rags to riches to rags comedy loosely based on the director Steve Burrows\\' actual experiences while writing screenplays in Los Angeles. Burrows (aka \"Milwaukee Steve\") finally makes it big ...', 'Tony Award-winning actor and playwright Harvey Fierstein re-creates his role as the unsinkable Arnold Beckoff in this film adaptation of the smash Broadway play TORCH SONG TRILOGY. A very ...', 'A young man moves to Los Angeles to make something of himself -- but finds that such a task might take a little more work than he thought -- in this hilarious romantic comedy.', 'An actor limited to stereotypical roles because of his ethnicity, dreams of making it big as a highly respected performer. As he makes his rounds, the film takes a satiric look at African American actors in Hollywood.']\n",
            "\n",
            "Cluster  166\n",
            "['A San Francisco poet who fears commitment suspects his girlfriend may have a knack for killing off her significant others.', \"A waitress hardly notices a shy busboy who secretly loves her; until one night she's attacked and he comes to her rescue. From there a relationship sparks but one secret could mean disaster for these fated lovers.\", 'A woman becomes the target of a man who is gradually becoming insane, unable to resist his urge to strangle women to death, but who appears to be purposely leaving pieces of evidence behind.', 'A love triangle develops between a beautiful yet dangerous vampire, her cellist companion, and a gerontologist.', \"A waitress falls for a handsome customer who seduces her, her two sisters, her brother, and her brother's girlfriend.\", 'A folk tale - supernatural love story about a ghost who falls in love with a newlywed woman.', 'After a series of misunderstandings, the head of an aerospace research laboratory begins to suspect his new girlfriend is a Russian spy.', 'A young man turns to a witch doctor to lure the woman he loves away from her fiancé, but instead turns her into a zombie slave.', 'A coverup and witchhunt occur after a politician accidentally kills his mistress.', 'A married woman and a drifter fall in love, then plot to murder her husband.']\n",
            "\n",
            "Cluster  43\n",
            "['Chaank Armaments is experimenting with the ultimate fighting machine which is part human - part machine. So far, the Hardman project has been unreliable and has killed a number of innocent ...', 'An idyllic science fiction future has one major drawback: life must end at the age of thirty.', 'A scientist doing experiments on a human fetus discovers a method to accelerate the fetus into a mature adult in just a few days. However, the \"adult\" fetus turns into a homicidal psycho ...', 'Futuristic Science Fiction about a sport to the death, using \"destructocycles\".', 'In the near future, a police officer specializes in malfunctioning robots. When a robot turns out to have been programmed to kill, he begins to uncover a homicidal plot to create killer robots... and his son becomes a target.', 'A scientist creates Proteus--an organic super computer with artificial intelligence which becomes obsessed with human beings, and in particular the creators wife.', 'A seemingly normal young boy turns out to be a top secret, military-created robot with superhuman abilities.', 'Anxious to use artificial life to improve the world, Rosetta Stone, a bio-geneticist creates a Recipe for Cyborgs and uses her own DNA in order to breed three Self Replicating Automatons, ...', 'A scientist and his sidekick accidentally clone a journalist and decide to turn the mistake into Repli-Kate, their idea of the perfect woman, who loves, beer, football and frat parties.']\n",
            "\n",
            "Cluster  108\n",
            "['Two disparate people have a wonderful romance, but their political views and convictions drive them apart.', \"Romance, politics, sex and humor all collide during two men's 11-year journey of passion, self-discovery and adventure.\", 'The lives of several individuals intertwine as they go about their lives in their own unique ways, engaging in acts society as a whole might find disturbing in a desperate search for human connection.', 'Skin Deep is a psychological thriller about love, sex, race, and betrayal.', 'A study of the lives and romantic entanglements of various interconnected women.']\n",
            "\n",
            "Cluster  83\n",
            "['When Jimmy Rabbitte wants to start a band, he has open auditions at his house.', 'In Flip\\'s path towards \"keeping it real\" by becoming hip-hop star, harsh realities surface to shake up his world.', 'Rob, a record store owner and compulsive list maker, recounts his top five breakups, including the one in progress.', 'The autobiographical story of Howard Stern, the radio rebel who is now also a TV personality, an author and a movie star.', 'The story of a controversial pornography publisher and how he became a defender of free speech.']\n",
            "\n",
            "Cluster  118\n",
            "['Col. Mike Kirby picks two teams of crack Green Berets for a mission in South Vietnam. First off is to build and control a camp that is trying to be taken by the enemy the second mission is to kidnap a North Vietnamese General.', 'American soldier, obviously very skilled in martial arts, single-handedly takes on mercenaries in the Philippines.', 'A Mexican revolutionary hires an American gunslinger to organize the rescue of their leader from a brutal Army prison.', 'Rambo returns to the jungles of Vietnam on a mission to infiltrate an enemy base-camp and rescue the American POWs still held captive there.', 'An American military advisor embraces the Samurai culture he was hired to destroy after he is captured in battle.']\n",
            "\n",
            "Cluster  9\n",
            "['Rancher Wil Andersen is forced to hire inexperienced boys as cowhands in order to get his herd to market on time but the rough drive is full of dangers and a gang of cattle rustlers is trailing them.', 'In 1954, a group of Florida high-school guys try to help their buddy lose his virginity, which leads them to seek revenge on a sleazy nightclub owner and his redneck sheriff brother for harassing them.', 'A black comedy about a reformed womanizer who struggles to keep his family together.', 'After scams at horse races and making lots of money, 3 young people split. 20 years later, one of them, a drunk, creates chaos with photos from back then.', 'In an attempt to resurrect the slapstick comedy of Laurel and Hardy or The Marx Brothers, Arthur (Stanley Tucci) and Maurice (Oliver Platt) team-up as two out-of-work actors who ...', 'A group of Catholic school friends, after being caught drawing an obscene comic book, plan a heist that will outdo their previous prank and make them local legends.', 'Centers on four college friends who become small-time bookies, only to find their world spinning dangerously out of control when their greed attracts the attention of organized crime.', 'A medieval reenactment troupe find it increasingly difficult to keep their family-like group together, with pressure from local law enforcement, interest from entertainment agents and a growing sense of delusion from their leader.', 'A group of thirtysomethings having problems with fidelity gets an opportunity to turn back the clock.']\n",
            "\n",
            "Cluster  71\n",
            "['When two bumbling employees at a medical supply warehouse accidentally release a deadly gas into the air, the vapors cause the dead to rise again as zombies.', 'In a corporate-controlled future, an ultra-violent sport known as Rollerball represents the world, and one of its powerful athletes is out to defy those who want him out of the game.', 'A laundry-folding machine has been possessed by a demon, causing it to develop homicidal tendencies.', 'In a showdown of man versus machine, Martin plunges into a chaotic nightmare trying to save his mind from the megalomaniacal corporation.', \"So-called 'special agent' infiltrates into the gym, which is targeted by a dirty business fraud.\", 'In a very old textile mill with a serious rat infestation, deadly accidents start happening, but the corrupt foreman continues to put his workers in danger, until they discover a horrifying secret deep in the basement.', 'After an accident, a chauvinistic executive gains the ability to hear what women are really thinking.']\n",
            "\n",
            "Cluster  147\n",
            "[\"Ralph Macchio is Lightning Boy. A kid who can make a slide guitar sing. Blind Dog is an old pro who knows it. Together, they're headed to a place where deals are made. And legends are born.\", 'A country music star must turn an obnoxious New York cabbie into a singer in order to win a bet.', 'A major league star who is on the verge of breaking a record, meets a singer and they get married, but they have different goals, so they separate, jeopardizing his opportunity in sports and the possibility of making up with his wife.', 'The lives of two struggling musicians, who happen to be brothers, inevitably change when they team up with a beautiful, up-and-coming singer.']\n",
            "\n",
            "Cluster  167\n",
            "['In this live-action prequel to The Flintstones (1994), the Flintstones and the Rubbles go on a trip to Rock Vegas, where Wilma Slaghoople (Kristen Johnston) is pursued by playboy Chip Rockefeller (Thomas Gibson).', \"Jenny is sent to a women's reform school. It is run by evil warden Sutter and her henchwoman Edna. Jenny will stop at nothing to escape but she also has to deal with Charlie the bully.\", 'Jenny, a young American woman, moves to Paris and gets involved with Jack, who is seemingly the man of her dreams. However, he has a lot to hide and Jenny quickly gets entangled his dangerous lifestyle.', 'Pulp novelist Holly Martins travels to shadowy, postwar Vienna, only to find himself investigating the mysterious death of an old friend, Harry Lime.', \"Showgirls Lorelei Lee and Dorothy Shaw travel to Paris, pursued by a private detective hired by the suspicious father of Lorelei's fiancé, as well as a rich, enamored old man and many other doting admirers.\", 'The funny story of mad but kind and chivalrous elderly nobleman Don Quixote who, aided by his squire Sancho Panza, fights windmills that are seen as dragons to save prostitute Dulcinea who is seen as a noblewoman.']\n",
            "\n",
            "Cluster  78\n",
            "['Dexter Riley and his friends accidently discover a new chemical mixed with a cereal seems to give anyone temporary superhuman strength', \"Four friends/fledgling entrepreneurs, knowing that there's something bigger and more innovative than the different error-checking devices they've built, wrestle over their new invention.\", 'Throughout three different stories, Kari Kamiya and her friends take on explosive adventures involving digital creatures.', 'At Medfield College, an accident with a donated computer gives Dexter Riley the ability to remember any knowledge learned instantly and perfectly.']\n",
            "\n",
            "Cluster  94\n",
            "['Conservative street cop Deke DaSilva reluctantly agrees to terminate an international terrorist who has demanded media attention. But DaSilva\\'s \"at-home\" tactics are very much put to the challenge.', 'A woman is asked to spy on a group of Nazi friends in South America. How far will she have to go to ingratiate herself with them?', 'An American scientist publicly defects to East Germany as part of a cloak and dagger mission to find the solution for a formula resin before planning an escape back to the West.', 'During the Cold War, a controversial television journalist is asked by the C.I.A. to persuade certain acquaintances, who are Soviet Agents of the Omega network, to defect.', \"A young engineer is sent to post World War II Berlin to help the Americans, in spying on the Russians. In a time and place where discretion is still a man's best friend, he falls in love ...\", 'British Agent Alec Leamas (Richard Burton) refuses to come in from the Cold War during the 1960s, choosing to face another mission, which may prove to be his final one.']\n",
            "\n",
            "Cluster  82\n",
            "[\"Heera fails to live up to expectations of his father Thakur Bhanupratap Singh, a powerful and respected man of his community. Despite all odds Heera struggles to keep his father's pride.\", \"Amidst religious riots, a son deals with his mother's life-threatening injuries, and her last request.\", \"A Kentucky widower bound for 1820's Texas with his young son is thwarted in his efforts by a corrupt constable, a long-standing family feud, and a beautiful indentured servant.\", 'When a proud noble refuses to kiss the hand of the despotic King James in 1690, he is cruelly executed and his son surgically disfigured.', 'The accidental death of the older son of an affluent family deeply strains the relationships among the bitter mother, the good-natured father, and the guilt-ridden younger son.', \"After two of the devil's three sons escape Hell to wreak havoc on Earth, the devil must send his third son, the mild-mannered Nicky, to bring them back before it's too late.\", 'The son of Zeus and Hera is stripped of his immortality as an infant and must become a true hero in order to reclaim it.', 'A member of the House of Lords dies, leaving his estate to his son. Unfortunately, his son thinks he is Jesus Christ. The other, somewhat more respectable, members of their family plot to steal the estate from him. Murder and mayhem ensue.', \"The death of Marcus Aurelius leads to a succession crisis, in which the deceased emperor's son, Commodus, demonstrates that he is unwilling to let anything undermine his claim to the Roman Empire.\", 'An emotionally distant writer of travel guides must carry on with his life after his son is killed and his marriage crumbles.']\n",
            "\n",
            "Cluster  62\n",
            "[\"A dying millionaire has her soul transferred into a younger, willing woman. However, something goes wrong, and she finds herself in her lawyer's body - together with the lawyer.\", \"In a parallel modern-day Stone Age world, a working-class family, the Flintstones, are set up for an executive job. But they learn that money can't buy happiness.\", 'A widow finds choosing a new husband might not be her choice at all, as the actions of her various prospects confine her freedom.', 'Romance and suspense ensue in Paris as a woman is pursued by several men who want a fortune her murdered husband had stolen. Whom can she trust?', 'After a single, career-minded woman is left on her own to give birth to the child of a married man, she finds a new romantic chance in a cab driver. Meanwhile, the point-of-view of the newborn boy is narrated through voice-over.', 'In order to attain wealth and a luxurious life, a greedy wife sells her husband to a rich woman. However she realizes that with a luxurious life, she has to pay a heavy price for this decision.', 'When a woman learns of an immortality treatment, she sees it as a way to outdo her long-time rival.', \"A religious fanatic marries a gullible widow whose young children are reluctant to tell him where their real daddy hid the $10,000 he'd stolen in a robbery.\", 'The unexpected death of her husband sends a woman and her seven children, ages 2-14, into emotional turmoil and financial crisis in 1967 Dublin. She is forced to borrow money from a ...', 'A fun-loving young woman is murdered after trading bedrooms with her wealthy friend. Her ghost seeks aid from Topper to find the murderer.']\n",
            "\n",
            "Cluster  164\n",
            "['A criminal subculture operates among U.S. soldiers stationed in West Germany just before the fall of the Berlin wall.', 'A Jewish strongman performs in Berlin as the blond Aryan hero Siegfried.', 'A black prison psychiatrist is assigned the distasteful task of helping a paranoid American Nazi charged with sedition.', 'In 1930s Berlin, a gay Jew is sent to a concentration camp under the Nazi regime.']\n",
            "\n",
            "Cluster  198\n",
            "[\"A parable based on the life of Christ. This ain't your father's Bible story, full of references about the destruction of the world through massive constipation and a New Mexican setting.\", 'The temporary physical life of the Biblical Savior, Jesus Christ.', 'Depicts the final twelve hours in the life of Jesus of Nazareth, on the day of his crucifixion in Jerusalem.']\n",
            "\n",
            "Cluster  210\n",
            "['Officer Gabe Goodman may be the last man on earth and must confront deadly dark angels.', 'A man known as Diablo emerges to head a drug cartel after the previous leader is imprisoned.', 'A guy who complains about God too often is given almighty powers to teach him how difficult it is to run the world.', 'Angel, an exterminator recently released from a mental hospital, comes to rid a small Spanish town of tiny grubs in the soil. The local wine-making industry has found these pests ...']\n",
            "\n",
            "Cluster  137\n",
            "['A depiction of the love/hate relationship between Queen Elizabeth I and Robert Devereux, the Earl of Essex.', \"Shrek and Fiona travel to the Kingdom of Far Far Away, where Fiona's parents are King and Queen, to celebrate their marriage. When they arrive, they find they are not as welcome as they thought they would be.\", 'Britannia Hospital is not preparing for a visit from Queen Elizabeth I, who died in 1603. The visitor is a fictional representation of Queen Elizabeth the Queen Mother.', 'The early years of the reign of Elizabeth I of England and her difficult task of learning what is necessary to be a monarch.']\n",
            "\n",
            "Cluster  136\n",
            "['An underemployed reporter finds himself literally purchased as a toy for a rich spoiled brat.', 'A salesgirl with plenty of \"it\" (sex appeal) pursues a handsome playboy.', 'With the aid of a wealthy erratic tippler, a dewy-eyed tramp who has fallen in love with a sightless flower girl accumulates money to be able to help her medically.', 'A Parisian tailor finds himself posing as a baron in order to collect a sizeable bill from an aristocrat, only to fall in love with an aloof young princess.']\n",
            "\n",
            "Cluster  40\n",
            "['Controversy surrounds high school basketball coach Ken Carter after he benches his entire team for breaking their academic contract with him.', 'Circus performer Tira seeks a better life pursuing the company of wealthy New York men with improbable comic complications along the way.', 'Personal assistant Norman struggles to get deteriorating veteran actor Sir through a difficult performance of King Lear.', \"Todd Anderson's life changes overnight when he signs a $30 million contract with the NBA. Determined not to forget who he is and where he's from, he throws a cookout for his family and friends from the hood, in his new neighborhood.\", 'A surly convicted murderer held in permanent isolation redeems himself when he becomes a renowned bird expert.', 'An Arizona logger mysteriously disappears for five days in an alleged encounter with a flying saucer in 1975. His co-workers endure ridicule and contempt as they are wrongly accused of murder.']\n",
            "\n",
            "Cluster  132\n",
            "['A Bible professor from 1890 comes forward in time to the present via a time machine and cannot believe the things that he sees!', 'Set in a fictitious medieval world, the odyssey of a legendary knight who has mysteriously fallen from grace and must find his own personal redemption, in a quest rife with swordplay, humor, intrigue, and fantasy.', 'A cowardly boy, who buries himself in accident statistics, enters a library to escape a storm, only to be transformed into an animated illustration by the Pagemaster. He has to work through obstacles from classic books to return to real-life.', 'Bubby has spent thirty years trapped in the same small room, tricked by his mother. One day, he manages to escape, and, deranged and naive in equal measures, his adventure into the modern and nihilistic life begins.', \"Alice (Fiona Fullerton) falls down a rabbit hole and into a magical dream world populated by surreal characters and bewildering adventures. It's a journey of self-discovery for Alice as she...\", 'In a coma, a cartoonist finds himself trapped within his own underground creation and must find a way to get back, while racing against his popular but treacherous character, Monkeybone.']\n",
            "\n",
            "Cluster  138\n",
            "['In the early 20th century, two rivals, the heroic Leslie and the despicable Professor Fate, engage in an epic automobile race from New York to Paris.', 'While trying to secure a $1 million donation for his museum, a befuddled paleontologist is pursued by a flighty and often irritating heiress and her pet leopard, Baby.', \"Vengence drives a tough Detroit cop to stay on the trail of a power hungry auto magnate who's systematically eliminating his competition.\", \"A group of smart-talking toddlers find themselves at the center of a media mogul's experiment to crack the code to baby talk. The toddlers must race against time for the sake of babies everywhere.\"]\n",
            "\n",
            "Cluster  187\n",
            "['A young female embezzler arrives at the Bates Motel, which has terrible secrets of its own.', 'Angela Baker, a shy, traumatized young girl, is sent to summer camp with her cousin. Shortly after her arrival, anyone with sinister or less than honorable intentions gets their comeuppance.', 'A young Englishwoman spends twenty years to make whatever kind of life for herself, at the expense of others around her, in post-World War II England.', 'Angela, supposedly reformed and living under an assumed surname, is working at a summer camp. However, when the campers start misbehaving, she soon reverts to her old ways.', 'A young, recently-orphaned girl is sent to England after living in India all of her life. Once there, she begins to explore her new, seemingly-isolated surroundings, and its secrets.']\n",
            "\n",
            "Cluster  196\n",
            "['The last days of legendary opera singer', 'The story of the life and career of the legendary rhythm and blues musician', \"A Seattle musician's life and career are reminiscent to those of\", \"The life and career of wildly controversial rock 'n' roll star\"]\n",
            "\n",
            "Cluster  172\n",
            "['While staying at a secluded mansion, six young adults reveal their personal demons during an innocent game called Taboo. They reunite a year later, only to realize that one of them wants them dead for their moral transgressions.', 'Several young adults live in a large house in the Hollywood Hills. They have affairs with each other and some neighbors while coming to terms with of the loss of a roommate who died while ...', 'Five college women buy the old Hokstedter place for their new sorority house. They got it cheap because of the bloody incidents from five years before. They decide to stay in it for the ...']\n",
            "\n",
            "Cluster  203\n",
            "[\"A bankrupt entrepreneur attempts to recoup some of her losses by getting a washed-out boxer she picked up as a tax loss back into the ring - an idea her protégé isn't fond of.\", \"A loser of a crook and his wife strike it rich when a botched bank job's cover business becomes a spectacular success.\", 'A loser finds success in the revenge-for-hire business.']\n",
            "\n",
            "Cluster  197\n",
            "['Baron Frankenstein, with the aid of a young doctor and his fiancée, kidnaps the mentally sick Dr. Brandt in order to perform the first brain transplant operation.', 'Three distinguished English gentlemen accidentally resurrect Count Dracula, killing a disciple of his in process. The Count seeks to avenge his dead servant, by making the trio die in the hands of their own children.', 'The ancient vampire Count Dracula arrives in England and begins to prey upon the virtuous young Mina.', 'Victor Frankenstein builds a creature and brings it to life, but it behaves not as he intended.', \"A French count is in England to marry the princess. She's killed. A wizard helps him to time travel back before the murder - except they end up in Chicago, April 2000. A descendant helps him. He looks for the wizard to return to the 1100s.\"]\n",
            "\n",
            "Cluster  178\n",
            "[\"A mother and daughter find their personalities switched and have to live each other's lives on one strange Friday.\", 'Casey has rejected her privileged upbringing and restores old boats for a living. She lives with her beautiful social worker girlfriend Alex in what seems like a cozy new life until her ...', \"An overworked mother and her daughter do not get along. When they switch bodies, each is forced to adapt to the other's life for one freaky Friday.\", 'A workaholic executive, and an unconventional woman agree to a personal relationship for a short period. In this short period she changes his life.']\n",
            "\n",
            "Cluster  157\n",
            "['In 1943, while stationed in Britain, arrogant Captain Buzz Rickson is in command of a Boeing B-17 Flying Fortress bomber, but his recklessness is endangering everyone around him.', \"After being dumped by his girlfriend, an airline pilot pursues a babysitter in his hotel and gradually realizes she's dangerous.\", 'After being released from prison, Billy is set to visit his parents with his wife, whom he does not actually have. This provokes Billy to act out, as he kidnaps a girl and forces her to act as his wife for the visit.', \"After arriving back in Hawaii from the Army, Chad Gates (Elvis Presley) defies his parents' wishes for him to work at the family business and instead goes to work as a tour guide at his girlfriend's agency.\", \"An American pilot impulsively joins His Majesty's Royal Air Force in Britain in an attempt to impress his ex-girlfriend.\"]\n",
            "\n",
            "Cluster  148\n",
            "['A hopelessly romantic Chicago Transit Authority token collector is mistaken for the fiancée of a coma patient.', 'A boy who communicates with spirits seeks the help of a disheartened child psychologist.', 'A troubled young man is drawn to a mythical place called Midian where a variety of friendly monsters are hiding from humanity. Meanwhile, a sadistic serial killer is looking for a patsy.', 'A mental out-patient is misidentified for a missing wealthy man and is forced to take advantage of the situation.', 'After a young man is murdered, his spirit stays behind to warn his lover of impending danger, with the help of a reluctant psychic.']\n",
            "\n",
            "Cluster  193\n",
            "['After discovering he is a human, a man raised as an elf at the North Pole decides to travel to New York City to locate his real father.', 'In December 1935, when his train is stopped by deep snow, detective Hercule Poirot is called on to solve a murder that occurred in his car the night before.', 'When a man inadvertently makes Santa fall off of his roof on Christmas Eve, he finds himself magically recruited to take his place.']\n",
            "\n",
            "Cluster  169\n",
            "[\"Two strangers, who awaken in a room with no recollection of how they got there, soon discover they're pawns in a deadly game perpetrated by a notorious serial killer.\", 'Eight strangers awaken with no memory, in a puzzling cube-shaped room where the laws of physics do not always apply.', 'A group of quirky, snowbound strangers discover there are killers amongst them.', \"Stranded at a desolate Nevada motel during a nasty rain storm, ten strangers become acquainted with each other when they realize that they're being killed off one by one.\"]\n",
            "\n"
          ],
          "name": "stdout"
        }
      ]
    },
    {
      "cell_type": "code",
      "metadata": {
        "colab": {
          "base_uri": "https://localhost:8080/"
        },
        "id": "F2Cw3RjuwKUe",
        "outputId": "d94a14cc-1789-4818-81f7-a33f42b8ca43"
      },
      "source": [
        "len(set(new_ratings['description']))"
      ],
      "execution_count": 83,
      "outputs": [
        {
          "output_type": "execute_result",
          "data": {
            "text/plain": [
              "1550"
            ]
          },
          "metadata": {
            "tags": []
          },
          "execution_count": 83
        }
      ]
    },
    {
      "cell_type": "code",
      "metadata": {
        "colab": {
          "base_uri": "https://localhost:8080/"
        },
        "id": "l9fZhIZ3Um8W",
        "outputId": "6c015842-0849-41a0-a6af-6ac3ecce3544"
      },
      "source": [
        "len(set(cluster_assignment))"
      ],
      "execution_count": 84,
      "outputs": [
        {
          "output_type": "execute_result",
          "data": {
            "text/plain": [
              "212"
            ]
          },
          "metadata": {
            "tags": []
          },
          "execution_count": 84
        }
      ]
    },
    {
      "cell_type": "markdown",
      "metadata": {
        "id": "1AwGtSlZUrBS"
      },
      "source": [
        "* The agglomerative clustering algorithm used a count of 212 different clusters."
      ]
    },
    {
      "cell_type": "code",
      "metadata": {
        "colab": {
          "base_uri": "https://localhost:8080/",
          "height": 204
        },
        "id": "c4T9Tj5HxUzS",
        "outputId": "6bdb6191-cd57-4399-8090-42a32cb5d1c2"
      },
      "source": [
        "# Pairing descriptions with their cluster assignments\n",
        "descriptions = list(set(new_ratings['description'].dropna()))\n",
        "clustered = pd.DataFrame({'description': descriptions, 'cluster': cluster_assignment})\n",
        "clustered.head()"
      ],
      "execution_count": 85,
      "outputs": [
        {
          "output_type": "execute_result",
          "data": {
            "text/html": [
              "<div>\n",
              "<style scoped>\n",
              "    .dataframe tbody tr th:only-of-type {\n",
              "        vertical-align: middle;\n",
              "    }\n",
              "\n",
              "    .dataframe tbody tr th {\n",
              "        vertical-align: top;\n",
              "    }\n",
              "\n",
              "    .dataframe thead th {\n",
              "        text-align: right;\n",
              "    }\n",
              "</style>\n",
              "<table border=\"1\" class=\"dataframe\">\n",
              "  <thead>\n",
              "    <tr style=\"text-align: right;\">\n",
              "      <th></th>\n",
              "      <th>description</th>\n",
              "      <th>cluster</th>\n",
              "    </tr>\n",
              "  </thead>\n",
              "  <tbody>\n",
              "    <tr>\n",
              "      <th>0</th>\n",
              "      <td>Spinal Tap, one of England's loudest bands, is...</td>\n",
              "      <td>104</td>\n",
              "    </tr>\n",
              "    <tr>\n",
              "      <th>1</th>\n",
              "      <td>A group of inept amateur superheroes must try ...</td>\n",
              "      <td>201</td>\n",
              "    </tr>\n",
              "    <tr>\n",
              "      <th>2</th>\n",
              "      <td>In 1930s New York City, The Shadow (Alec Baldw...</td>\n",
              "      <td>72</td>\n",
              "    </tr>\n",
              "    <tr>\n",
              "      <th>3</th>\n",
              "      <td>A housewife who is unhappy with her life befri...</td>\n",
              "      <td>13</td>\n",
              "    </tr>\n",
              "    <tr>\n",
              "      <th>4</th>\n",
              "      <td>A handsome Belgian sailor on shore leave in th...</td>\n",
              "      <td>124</td>\n",
              "    </tr>\n",
              "  </tbody>\n",
              "</table>\n",
              "</div>"
            ],
            "text/plain": [
              "                                         description  cluster\n",
              "0  Spinal Tap, one of England's loudest bands, is...      104\n",
              "1  A group of inept amateur superheroes must try ...      201\n",
              "2  In 1930s New York City, The Shadow (Alec Baldw...       72\n",
              "3  A housewife who is unhappy with her life befri...       13\n",
              "4  A handsome Belgian sailor on shore leave in th...      124"
            ]
          },
          "metadata": {
            "tags": []
          },
          "execution_count": 85
        }
      ]
    },
    {
      "cell_type": "markdown",
      "metadata": {
        "id": "mVbgiUaGfSPs"
      },
      "source": [
        "* Because a set was used to get unique descriptions for the clustering algorithm, the labels cannot be simply assigned to the original dataframe. Merging needs to be done."
      ]
    },
    {
      "cell_type": "code",
      "metadata": {
        "colab": {
          "base_uri": "https://localhost:8080/",
          "height": 204
        },
        "id": "01QoG0WPxokr",
        "outputId": "47749f3c-e336-4a65-8336-b517fff3dfd7"
      },
      "source": [
        "clusters = clustered.merge(imdb, left_on='description', right_on='description')[['original_title', 'description', 'genre', 'cluster']]\n",
        "clusters.head()"
      ],
      "execution_count": 86,
      "outputs": [
        {
          "output_type": "execute_result",
          "data": {
            "text/html": [
              "<div>\n",
              "<style scoped>\n",
              "    .dataframe tbody tr th:only-of-type {\n",
              "        vertical-align: middle;\n",
              "    }\n",
              "\n",
              "    .dataframe tbody tr th {\n",
              "        vertical-align: top;\n",
              "    }\n",
              "\n",
              "    .dataframe thead th {\n",
              "        text-align: right;\n",
              "    }\n",
              "</style>\n",
              "<table border=\"1\" class=\"dataframe\">\n",
              "  <thead>\n",
              "    <tr style=\"text-align: right;\">\n",
              "      <th></th>\n",
              "      <th>original_title</th>\n",
              "      <th>description</th>\n",
              "      <th>genre</th>\n",
              "      <th>cluster</th>\n",
              "    </tr>\n",
              "  </thead>\n",
              "  <tbody>\n",
              "    <tr>\n",
              "      <th>0</th>\n",
              "      <td>This Is Spinal Tap</td>\n",
              "      <td>Spinal Tap, one of England's loudest bands, is...</td>\n",
              "      <td>Comedy, Music</td>\n",
              "      <td>104</td>\n",
              "    </tr>\n",
              "    <tr>\n",
              "      <th>1</th>\n",
              "      <td>Mystery Men</td>\n",
              "      <td>A group of inept amateur superheroes must try ...</td>\n",
              "      <td>Action, Comedy, Fantasy</td>\n",
              "      <td>201</td>\n",
              "    </tr>\n",
              "    <tr>\n",
              "      <th>2</th>\n",
              "      <td>The Shadow</td>\n",
              "      <td>In 1930s New York City, The Shadow (Alec Baldw...</td>\n",
              "      <td>Action, Adventure, Crime</td>\n",
              "      <td>72</td>\n",
              "    </tr>\n",
              "    <tr>\n",
              "      <th>3</th>\n",
              "      <td>Fried Green Tomatoes</td>\n",
              "      <td>A housewife who is unhappy with her life befri...</td>\n",
              "      <td>Drama</td>\n",
              "      <td>13</td>\n",
              "    </tr>\n",
              "    <tr>\n",
              "      <th>4</th>\n",
              "      <td>Querelle</td>\n",
              "      <td>A handsome Belgian sailor on shore leave in th...</td>\n",
              "      <td>Drama</td>\n",
              "      <td>124</td>\n",
              "    </tr>\n",
              "  </tbody>\n",
              "</table>\n",
              "</div>"
            ],
            "text/plain": [
              "         original_title  ... cluster\n",
              "0    This Is Spinal Tap  ...     104\n",
              "1           Mystery Men  ...     201\n",
              "2            The Shadow  ...      72\n",
              "3  Fried Green Tomatoes  ...      13\n",
              "4              Querelle  ...     124\n",
              "\n",
              "[5 rows x 4 columns]"
            ]
          },
          "metadata": {
            "tags": []
          },
          "execution_count": 86
        }
      ]
    },
    {
      "cell_type": "markdown",
      "metadata": {
        "id": "ND0ysqPPx-PO"
      },
      "source": [
        "Now that we have clusters, see which clusters the movies that the user liked are in."
      ]
    },
    {
      "cell_type": "code",
      "metadata": {
        "colab": {
          "base_uri": "https://localhost:8080/",
          "height": 204
        },
        "id": "H5yyv8dxyv6V",
        "outputId": "4ef50cb6-1d9d-4cdb-ca61-ceb3a56d62e7"
      },
      "source": [
        "# Adding cluster labels to User 7's highly rated movies\n",
        "high_rated_clusters_7 = high_rates_7.merge(clusters, left_on='title', right_on='original_title')[['userId', 'movieId', 'title', 'description_x', 'genre_x', 'rating', 'cluster']]\n",
        "high_rated_clusters_7 = high_rated_clusters_7.rename(columns={'description_x': 'description', 'genre_x': 'genre'})\n",
        "high_rated_clusters_7.head()"
      ],
      "execution_count": 93,
      "outputs": [
        {
          "output_type": "execute_result",
          "data": {
            "text/html": [
              "<div>\n",
              "<style scoped>\n",
              "    .dataframe tbody tr th:only-of-type {\n",
              "        vertical-align: middle;\n",
              "    }\n",
              "\n",
              "    .dataframe tbody tr th {\n",
              "        vertical-align: top;\n",
              "    }\n",
              "\n",
              "    .dataframe thead th {\n",
              "        text-align: right;\n",
              "    }\n",
              "</style>\n",
              "<table border=\"1\" class=\"dataframe\">\n",
              "  <thead>\n",
              "    <tr style=\"text-align: right;\">\n",
              "      <th></th>\n",
              "      <th>userId</th>\n",
              "      <th>movieId</th>\n",
              "      <th>title</th>\n",
              "      <th>description</th>\n",
              "      <th>genre</th>\n",
              "      <th>rating</th>\n",
              "      <th>cluster</th>\n",
              "    </tr>\n",
              "  </thead>\n",
              "  <tbody>\n",
              "    <tr>\n",
              "      <th>0</th>\n",
              "      <td>7</td>\n",
              "      <td>30</td>\n",
              "      <td>Something's Gotta Give</td>\n",
              "      <td>A swinger on the cusp of being a senior citize...</td>\n",
              "      <td>Comedy, Drama, Romance</td>\n",
              "      <td>5.0</td>\n",
              "      <td>45</td>\n",
              "    </tr>\n",
              "    <tr>\n",
              "      <th>1</th>\n",
              "      <td>7</td>\n",
              "      <td>83</td>\n",
              "      <td>Silkwood</td>\n",
              "      <td>A worker at a plutonium processing plant is pu...</td>\n",
              "      <td>Biography, Drama, History</td>\n",
              "      <td>5.0</td>\n",
              "      <td>194</td>\n",
              "    </tr>\n",
              "    <tr>\n",
              "      <th>2</th>\n",
              "      <td>7</td>\n",
              "      <td>175</td>\n",
              "      <td>Reservoir Dogs</td>\n",
              "      <td>When a simple jewelry heist goes horribly wron...</td>\n",
              "      <td>Crime, Drama, Thriller</td>\n",
              "      <td>5.0</td>\n",
              "      <td>207</td>\n",
              "    </tr>\n",
              "    <tr>\n",
              "      <th>3</th>\n",
              "      <td>7</td>\n",
              "      <td>257</td>\n",
              "      <td>Charlotte's Web</td>\n",
              "      <td>A gentle and wise grey spider with a flair for...</td>\n",
              "      <td>Animation, Family, Musical</td>\n",
              "      <td>5.0</td>\n",
              "      <td>149</td>\n",
              "    </tr>\n",
              "    <tr>\n",
              "      <th>4</th>\n",
              "      <td>7</td>\n",
              "      <td>273</td>\n",
              "      <td>Taxi</td>\n",
              "      <td>A mouthy and feisty taxicab driver has hot tip...</td>\n",
              "      <td>Action, Comedy, Crime</td>\n",
              "      <td>4.0</td>\n",
              "      <td>19</td>\n",
              "    </tr>\n",
              "  </tbody>\n",
              "</table>\n",
              "</div>"
            ],
            "text/plain": [
              "   userId  movieId  ... rating cluster\n",
              "0       7       30  ...    5.0      45\n",
              "1       7       83  ...    5.0     194\n",
              "2       7      175  ...    5.0     207\n",
              "3       7      257  ...    5.0     149\n",
              "4       7      273  ...    4.0      19\n",
              "\n",
              "[5 rows x 7 columns]"
            ]
          },
          "metadata": {
            "tags": []
          },
          "execution_count": 93
        }
      ]
    },
    {
      "cell_type": "code",
      "metadata": {
        "colab": {
          "base_uri": "https://localhost:8080/"
        },
        "id": "M9ooZuNkyyWq",
        "outputId": "2ea7f2db-0cab-4e0d-c22d-2a6018e0b462"
      },
      "source": [
        "# Clusters with the most highly rated movies by User 8659\n",
        "high_rated_clusters_7.groupby('cluster').size().sort_values(ascending=False).head(5)"
      ],
      "execution_count": 96,
      "outputs": [
        {
          "output_type": "execute_result",
          "data": {
            "text/plain": [
              "cluster\n",
              "53     5\n",
              "98     4\n",
              "4      3\n",
              "147    3\n",
              "144    2\n",
              "dtype: int64"
            ]
          },
          "metadata": {
            "tags": []
          },
          "execution_count": 96
        }
      ]
    },
    {
      "cell_type": "code",
      "metadata": {
        "colab": {
          "base_uri": "https://localhost:8080/",
          "height": 204
        },
        "id": "S87VPsD4zZ4y",
        "outputId": "136b2dc1-b309-4f62-dd50-59555336636c"
      },
      "source": [
        "# Looking at the movies within this cluster that the user rated highly\n",
        "user7_favorite_cluster = high_rated_clusters_7[high_rated_clusters_7['cluster']==53]\n",
        "user7_favorite_cluster"
      ],
      "execution_count": 102,
      "outputs": [
        {
          "output_type": "execute_result",
          "data": {
            "text/html": [
              "<div>\n",
              "<style scoped>\n",
              "    .dataframe tbody tr th:only-of-type {\n",
              "        vertical-align: middle;\n",
              "    }\n",
              "\n",
              "    .dataframe tbody tr th {\n",
              "        vertical-align: top;\n",
              "    }\n",
              "\n",
              "    .dataframe thead th {\n",
              "        text-align: right;\n",
              "    }\n",
              "</style>\n",
              "<table border=\"1\" class=\"dataframe\">\n",
              "  <thead>\n",
              "    <tr style=\"text-align: right;\">\n",
              "      <th></th>\n",
              "      <th>userId</th>\n",
              "      <th>movieId</th>\n",
              "      <th>title</th>\n",
              "      <th>description</th>\n",
              "      <th>genre</th>\n",
              "      <th>rating</th>\n",
              "      <th>cluster</th>\n",
              "    </tr>\n",
              "  </thead>\n",
              "  <tbody>\n",
              "    <tr>\n",
              "      <th>6</th>\n",
              "      <td>7</td>\n",
              "      <td>299</td>\n",
              "      <td>Bridget Jones's Diary</td>\n",
              "      <td>Bridget Jones is determined to improve herself...</td>\n",
              "      <td>Comedy, Drama, Romance</td>\n",
              "      <td>4.0</td>\n",
              "      <td>53</td>\n",
              "    </tr>\n",
              "    <tr>\n",
              "      <th>22</th>\n",
              "      <td>7</td>\n",
              "      <td>963</td>\n",
              "      <td>A Streetcar Named Desire</td>\n",
              "      <td>Disturbed Blanche DuBois moves in with her sis...</td>\n",
              "      <td>Drama</td>\n",
              "      <td>5.0</td>\n",
              "      <td>53</td>\n",
              "    </tr>\n",
              "    <tr>\n",
              "      <th>31</th>\n",
              "      <td>7</td>\n",
              "      <td>1359</td>\n",
              "      <td>Funny Lady</td>\n",
              "      <td>Story of singer Fanny Brice's stormy relations...</td>\n",
              "      <td>Biography, Comedy, Drama</td>\n",
              "      <td>5.0</td>\n",
              "      <td>53</td>\n",
              "    </tr>\n",
              "    <tr>\n",
              "      <th>58</th>\n",
              "      <td>7</td>\n",
              "      <td>2209</td>\n",
              "      <td>On Golden Pond</td>\n",
              "      <td>Norman is a curmudgeon with an estranged relat...</td>\n",
              "      <td>Drama</td>\n",
              "      <td>5.0</td>\n",
              "      <td>53</td>\n",
              "    </tr>\n",
              "    <tr>\n",
              "      <th>105</th>\n",
              "      <td>7</td>\n",
              "      <td>4157</td>\n",
              "      <td>The Prince of Tides</td>\n",
              "      <td>A troubled man talks to his suicidal sister's ...</td>\n",
              "      <td>Drama, Romance</td>\n",
              "      <td>5.0</td>\n",
              "      <td>53</td>\n",
              "    </tr>\n",
              "  </tbody>\n",
              "</table>\n",
              "</div>"
            ],
            "text/plain": [
              "     userId  movieId  ... rating cluster\n",
              "6         7      299  ...    4.0      53\n",
              "22        7      963  ...    5.0      53\n",
              "31        7     1359  ...    5.0      53\n",
              "58        7     2209  ...    5.0      53\n",
              "105       7     4157  ...    5.0      53\n",
              "\n",
              "[5 rows x 7 columns]"
            ]
          },
          "metadata": {
            "tags": []
          },
          "execution_count": 102
        }
      ]
    },
    {
      "cell_type": "markdown",
      "metadata": {
        "id": "YSRLWvrBr_-v"
      },
      "source": [
        "* There are a lot of movies that the user has rated 5/5 within this cluster, which is a really good sign."
      ]
    },
    {
      "cell_type": "code",
      "metadata": {
        "colab": {
          "base_uri": "https://localhost:8080/",
          "height": 390
        },
        "id": "bxWpJf-F0MDQ",
        "outputId": "a1382e81-2994-4edb-9f45-32b77e9ab4a7"
      },
      "source": [
        "# All the movies of that cluster\n",
        "user7_entire_fav_cluster = clusters[clusters['cluster']==53]\n",
        "user7_entire_fav_cluster"
      ],
      "execution_count": 103,
      "outputs": [
        {
          "output_type": "execute_result",
          "data": {
            "text/html": [
              "<div>\n",
              "<style scoped>\n",
              "    .dataframe tbody tr th:only-of-type {\n",
              "        vertical-align: middle;\n",
              "    }\n",
              "\n",
              "    .dataframe tbody tr th {\n",
              "        vertical-align: top;\n",
              "    }\n",
              "\n",
              "    .dataframe thead th {\n",
              "        text-align: right;\n",
              "    }\n",
              "</style>\n",
              "<table border=\"1\" class=\"dataframe\">\n",
              "  <thead>\n",
              "    <tr style=\"text-align: right;\">\n",
              "      <th></th>\n",
              "      <th>original_title</th>\n",
              "      <th>description</th>\n",
              "      <th>genre</th>\n",
              "      <th>cluster</th>\n",
              "    </tr>\n",
              "  </thead>\n",
              "  <tbody>\n",
              "    <tr>\n",
              "      <th>130</th>\n",
              "      <td>On Golden Pond</td>\n",
              "      <td>Norman is a curmudgeon with an estranged relat...</td>\n",
              "      <td>Drama</td>\n",
              "      <td>53</td>\n",
              "    </tr>\n",
              "    <tr>\n",
              "      <th>264</th>\n",
              "      <td>Danny in the Sky</td>\n",
              "      <td>Danny is a romantic young man looking for love...</td>\n",
              "      <td>Drama</td>\n",
              "      <td>53</td>\n",
              "    </tr>\n",
              "    <tr>\n",
              "      <th>278</th>\n",
              "      <td>Marvin's Room</td>\n",
              "      <td>After 20 years caring for her father, a woman ...</td>\n",
              "      <td>Drama</td>\n",
              "      <td>53</td>\n",
              "    </tr>\n",
              "    <tr>\n",
              "      <th>352</th>\n",
              "      <td>A Streetcar Named Desire</td>\n",
              "      <td>Disturbed Blanche DuBois moves in with her sis...</td>\n",
              "      <td>Drama</td>\n",
              "      <td>53</td>\n",
              "    </tr>\n",
              "    <tr>\n",
              "      <th>511</th>\n",
              "      <td>Funny Lady</td>\n",
              "      <td>Story of singer Fanny Brice's stormy relations...</td>\n",
              "      <td>Biography, Comedy, Drama</td>\n",
              "      <td>53</td>\n",
              "    </tr>\n",
              "    <tr>\n",
              "      <th>694</th>\n",
              "      <td>Break Up</td>\n",
              "      <td>Jimmy is married to the abusive Frank, but she...</td>\n",
              "      <td>Thriller</td>\n",
              "      <td>53</td>\n",
              "    </tr>\n",
              "    <tr>\n",
              "      <th>754</th>\n",
              "      <td>Playing Mona Lisa</td>\n",
              "      <td>After being dumped by her boyfriend, a young t...</td>\n",
              "      <td>Comedy</td>\n",
              "      <td>53</td>\n",
              "    </tr>\n",
              "    <tr>\n",
              "      <th>773</th>\n",
              "      <td>Simple Men</td>\n",
              "      <td>Bitter about being double-crossed by the women...</td>\n",
              "      <td>Crime, Drama, Romance</td>\n",
              "      <td>53</td>\n",
              "    </tr>\n",
              "    <tr>\n",
              "      <th>863</th>\n",
              "      <td>The Prince of Tides</td>\n",
              "      <td>A troubled man talks to his suicidal sister's ...</td>\n",
              "      <td>Drama, Romance</td>\n",
              "      <td>53</td>\n",
              "    </tr>\n",
              "    <tr>\n",
              "      <th>1125</th>\n",
              "      <td>Bridget Jones's Diary</td>\n",
              "      <td>Bridget Jones is determined to improve herself...</td>\n",
              "      <td>Comedy, Drama, Romance</td>\n",
              "      <td>53</td>\n",
              "    </tr>\n",
              "    <tr>\n",
              "      <th>1377</th>\n",
              "      <td>Normal Life</td>\n",
              "      <td>Chris is young idealistic cop who falls in lov...</td>\n",
              "      <td>Crime, Drama</td>\n",
              "      <td>53</td>\n",
              "    </tr>\n",
              "  </tbody>\n",
              "</table>\n",
              "</div>"
            ],
            "text/plain": [
              "                original_title  ... cluster\n",
              "130             On Golden Pond  ...      53\n",
              "264           Danny in the Sky  ...      53\n",
              "278              Marvin's Room  ...      53\n",
              "352   A Streetcar Named Desire  ...      53\n",
              "511                 Funny Lady  ...      53\n",
              "694                   Break Up  ...      53\n",
              "754          Playing Mona Lisa  ...      53\n",
              "773                 Simple Men  ...      53\n",
              "863        The Prince of Tides  ...      53\n",
              "1125     Bridget Jones's Diary  ...      53\n",
              "1377               Normal Life  ...      53\n",
              "\n",
              "[11 rows x 4 columns]"
            ]
          },
          "metadata": {
            "tags": []
          },
          "execution_count": 103
        }
      ]
    },
    {
      "cell_type": "code",
      "metadata": {
        "colab": {
          "base_uri": "https://localhost:8080/",
          "height": 235
        },
        "id": "StO8c13b0mDa",
        "outputId": "004a63bf-73a4-42b0-be3b-443d7b8a6b4f"
      },
      "source": [
        "# Movies within the cluster that the user has not watched/rated\n",
        "avail_movies = user7_entire_fav_cluster[~user7_entire_fav_cluster['original_title'].isin(user7_favorite_cluster['title'])]\n",
        "avail_movies"
      ],
      "execution_count": 104,
      "outputs": [
        {
          "output_type": "execute_result",
          "data": {
            "text/html": [
              "<div>\n",
              "<style scoped>\n",
              "    .dataframe tbody tr th:only-of-type {\n",
              "        vertical-align: middle;\n",
              "    }\n",
              "\n",
              "    .dataframe tbody tr th {\n",
              "        vertical-align: top;\n",
              "    }\n",
              "\n",
              "    .dataframe thead th {\n",
              "        text-align: right;\n",
              "    }\n",
              "</style>\n",
              "<table border=\"1\" class=\"dataframe\">\n",
              "  <thead>\n",
              "    <tr style=\"text-align: right;\">\n",
              "      <th></th>\n",
              "      <th>original_title</th>\n",
              "      <th>description</th>\n",
              "      <th>genre</th>\n",
              "      <th>cluster</th>\n",
              "    </tr>\n",
              "  </thead>\n",
              "  <tbody>\n",
              "    <tr>\n",
              "      <th>264</th>\n",
              "      <td>Danny in the Sky</td>\n",
              "      <td>Danny is a romantic young man looking for love...</td>\n",
              "      <td>Drama</td>\n",
              "      <td>53</td>\n",
              "    </tr>\n",
              "    <tr>\n",
              "      <th>278</th>\n",
              "      <td>Marvin's Room</td>\n",
              "      <td>After 20 years caring for her father, a woman ...</td>\n",
              "      <td>Drama</td>\n",
              "      <td>53</td>\n",
              "    </tr>\n",
              "    <tr>\n",
              "      <th>694</th>\n",
              "      <td>Break Up</td>\n",
              "      <td>Jimmy is married to the abusive Frank, but she...</td>\n",
              "      <td>Thriller</td>\n",
              "      <td>53</td>\n",
              "    </tr>\n",
              "    <tr>\n",
              "      <th>754</th>\n",
              "      <td>Playing Mona Lisa</td>\n",
              "      <td>After being dumped by her boyfriend, a young t...</td>\n",
              "      <td>Comedy</td>\n",
              "      <td>53</td>\n",
              "    </tr>\n",
              "    <tr>\n",
              "      <th>773</th>\n",
              "      <td>Simple Men</td>\n",
              "      <td>Bitter about being double-crossed by the women...</td>\n",
              "      <td>Crime, Drama, Romance</td>\n",
              "      <td>53</td>\n",
              "    </tr>\n",
              "    <tr>\n",
              "      <th>1377</th>\n",
              "      <td>Normal Life</td>\n",
              "      <td>Chris is young idealistic cop who falls in lov...</td>\n",
              "      <td>Crime, Drama</td>\n",
              "      <td>53</td>\n",
              "    </tr>\n",
              "  </tbody>\n",
              "</table>\n",
              "</div>"
            ],
            "text/plain": [
              "         original_title  ... cluster\n",
              "264    Danny in the Sky  ...      53\n",
              "278       Marvin's Room  ...      53\n",
              "694            Break Up  ...      53\n",
              "754   Playing Mona Lisa  ...      53\n",
              "773          Simple Men  ...      53\n",
              "1377        Normal Life  ...      53\n",
              "\n",
              "[6 rows x 4 columns]"
            ]
          },
          "metadata": {
            "tags": []
          },
          "execution_count": 104
        }
      ]
    },
    {
      "cell_type": "code",
      "metadata": {
        "colab": {
          "base_uri": "https://localhost:8080/",
          "height": 419
        },
        "id": "q7pQX5wqMQql",
        "outputId": "9143910f-5744-4fc1-bb0f-216f8deefaaf"
      },
      "source": [
        "# Mean ratings of all movies\n",
        "mean_ratings = new_ratings.groupby('title').mean()['rating']\n",
        "mean_ratings = mean_ratings.reset_index()\n",
        "mean_ratings.sort_values('rating', ascending=False)"
      ],
      "execution_count": 114,
      "outputs": [
        {
          "output_type": "execute_result",
          "data": {
            "text/html": [
              "<div>\n",
              "<style scoped>\n",
              "    .dataframe tbody tr th:only-of-type {\n",
              "        vertical-align: middle;\n",
              "    }\n",
              "\n",
              "    .dataframe tbody tr th {\n",
              "        vertical-align: top;\n",
              "    }\n",
              "\n",
              "    .dataframe thead th {\n",
              "        text-align: right;\n",
              "    }\n",
              "</style>\n",
              "<table border=\"1\" class=\"dataframe\">\n",
              "  <thead>\n",
              "    <tr style=\"text-align: right;\">\n",
              "      <th></th>\n",
              "      <th>title</th>\n",
              "      <th>rating</th>\n",
              "    </tr>\n",
              "  </thead>\n",
              "  <tbody>\n",
              "    <tr>\n",
              "      <th>1371</th>\n",
              "      <td>The Sixth Sense</td>\n",
              "      <td>4.325245</td>\n",
              "    </tr>\n",
              "    <tr>\n",
              "      <th>1370</th>\n",
              "      <td>The Silence of the Lambs</td>\n",
              "      <td>4.311687</td>\n",
              "    </tr>\n",
              "    <tr>\n",
              "      <th>180</th>\n",
              "      <td>Braveheart</td>\n",
              "      <td>4.294423</td>\n",
              "    </tr>\n",
              "    <tr>\n",
              "      <th>123</th>\n",
              "      <td>Batman Begins</td>\n",
              "      <td>4.236699</td>\n",
              "    </tr>\n",
              "    <tr>\n",
              "      <th>896</th>\n",
              "      <td>Ray</td>\n",
              "      <td>4.186012</td>\n",
              "    </tr>\n",
              "    <tr>\n",
              "      <th>...</th>\n",
              "      <td>...</td>\n",
              "      <td>...</td>\n",
              "    </tr>\n",
              "    <tr>\n",
              "      <th>558</th>\n",
              "      <td>Ice from the Sun</td>\n",
              "      <td>1.789474</td>\n",
              "    </tr>\n",
              "    <tr>\n",
              "      <th>984</th>\n",
              "      <td>Shanghai Surprise</td>\n",
              "      <td>1.762584</td>\n",
              "    </tr>\n",
              "    <tr>\n",
              "      <th>649</th>\n",
              "      <td>Leonard Part 6</td>\n",
              "      <td>1.741697</td>\n",
              "    </tr>\n",
              "    <tr>\n",
              "      <th>285</th>\n",
              "      <td>Dark Heaven</td>\n",
              "      <td>1.727723</td>\n",
              "    </tr>\n",
              "    <tr>\n",
              "      <th>720</th>\n",
              "      <td>Midnight Mass</td>\n",
              "      <td>1.600000</td>\n",
              "    </tr>\n",
              "  </tbody>\n",
              "</table>\n",
              "<p>1542 rows × 2 columns</p>\n",
              "</div>"
            ],
            "text/plain": [
              "                         title    rating\n",
              "1371           The Sixth Sense  4.325245\n",
              "1370  The Silence of the Lambs  4.311687\n",
              "180                 Braveheart  4.294423\n",
              "123              Batman Begins  4.236699\n",
              "896                        Ray  4.186012\n",
              "...                        ...       ...\n",
              "558           Ice from the Sun  1.789474\n",
              "984          Shanghai Surprise  1.762584\n",
              "649             Leonard Part 6  1.741697\n",
              "285                Dark Heaven  1.727723\n",
              "720              Midnight Mass  1.600000\n",
              "\n",
              "[1542 rows x 2 columns]"
            ]
          },
          "metadata": {
            "tags": []
          },
          "execution_count": 114
        }
      ]
    },
    {
      "cell_type": "code",
      "metadata": {
        "colab": {
          "base_uri": "https://localhost:8080/",
          "height": 35
        },
        "id": "viYVO1oKMYdJ",
        "outputId": "265130af-8c4b-4398-c995-313933530e1d"
      },
      "source": [
        "# Selecting the movie with the highest mean rating among the unrated movies within that cluster\n",
        "suggested_movie = avail_movies.merge(mean_ratings, left_on='original_title', right_on='title').sort_values('rating')['original_title'].values.item(0)\n",
        "suggested_movie"
      ],
      "execution_count": 106,
      "outputs": [
        {
          "output_type": "execute_result",
          "data": {
            "application/vnd.google.colaboratory.intrinsic+json": {
              "type": "string"
            },
            "text/plain": [
              "'Danny in the Sky'"
            ]
          },
          "metadata": {
            "tags": []
          },
          "execution_count": 106
        }
      ]
    },
    {
      "cell_type": "code",
      "metadata": {
        "colab": {
          "base_uri": "https://localhost:8080/",
          "height": 235
        },
        "id": "GvX2eVXxs2di",
        "outputId": "b5902fc0-60fa-4da8-e32a-73436002ce3c"
      },
      "source": [
        "avail_movies.merge(mean_ratings, left_on='original_title', right_on='title').sort_values('rating', ascending=False)"
      ],
      "execution_count": 110,
      "outputs": [
        {
          "output_type": "execute_result",
          "data": {
            "text/html": [
              "<div>\n",
              "<style scoped>\n",
              "    .dataframe tbody tr th:only-of-type {\n",
              "        vertical-align: middle;\n",
              "    }\n",
              "\n",
              "    .dataframe tbody tr th {\n",
              "        vertical-align: top;\n",
              "    }\n",
              "\n",
              "    .dataframe thead th {\n",
              "        text-align: right;\n",
              "    }\n",
              "</style>\n",
              "<table border=\"1\" class=\"dataframe\">\n",
              "  <thead>\n",
              "    <tr style=\"text-align: right;\">\n",
              "      <th></th>\n",
              "      <th>original_title</th>\n",
              "      <th>description</th>\n",
              "      <th>genre</th>\n",
              "      <th>cluster</th>\n",
              "      <th>title</th>\n",
              "      <th>rating</th>\n",
              "    </tr>\n",
              "  </thead>\n",
              "  <tbody>\n",
              "    <tr>\n",
              "      <th>4</th>\n",
              "      <td>Simple Men</td>\n",
              "      <td>Bitter about being double-crossed by the women...</td>\n",
              "      <td>Crime, Drama, Romance</td>\n",
              "      <td>53</td>\n",
              "      <td>Simple Men</td>\n",
              "      <td>3.549296</td>\n",
              "    </tr>\n",
              "    <tr>\n",
              "      <th>1</th>\n",
              "      <td>Marvin's Room</td>\n",
              "      <td>After 20 years caring for her father, a woman ...</td>\n",
              "      <td>Drama</td>\n",
              "      <td>53</td>\n",
              "      <td>Marvin's Room</td>\n",
              "      <td>3.320140</td>\n",
              "    </tr>\n",
              "    <tr>\n",
              "      <th>5</th>\n",
              "      <td>Normal Life</td>\n",
              "      <td>Chris is young idealistic cop who falls in lov...</td>\n",
              "      <td>Crime, Drama</td>\n",
              "      <td>53</td>\n",
              "      <td>Normal Life</td>\n",
              "      <td>2.887789</td>\n",
              "    </tr>\n",
              "    <tr>\n",
              "      <th>3</th>\n",
              "      <td>Playing Mona Lisa</td>\n",
              "      <td>After being dumped by her boyfriend, a young t...</td>\n",
              "      <td>Comedy</td>\n",
              "      <td>53</td>\n",
              "      <td>Playing Mona Lisa</td>\n",
              "      <td>2.860707</td>\n",
              "    </tr>\n",
              "    <tr>\n",
              "      <th>2</th>\n",
              "      <td>Break Up</td>\n",
              "      <td>Jimmy is married to the abusive Frank, but she...</td>\n",
              "      <td>Thriller</td>\n",
              "      <td>53</td>\n",
              "      <td>Break Up</td>\n",
              "      <td>2.829132</td>\n",
              "    </tr>\n",
              "    <tr>\n",
              "      <th>0</th>\n",
              "      <td>Danny in the Sky</td>\n",
              "      <td>Danny is a romantic young man looking for love...</td>\n",
              "      <td>Drama</td>\n",
              "      <td>53</td>\n",
              "      <td>Danny in the Sky</td>\n",
              "      <td>2.575087</td>\n",
              "    </tr>\n",
              "  </tbody>\n",
              "</table>\n",
              "</div>"
            ],
            "text/plain": [
              "      original_title  ...    rating\n",
              "4         Simple Men  ...  3.549296\n",
              "1      Marvin's Room  ...  3.320140\n",
              "5        Normal Life  ...  2.887789\n",
              "3  Playing Mona Lisa  ...  2.860707\n",
              "2           Break Up  ...  2.829132\n",
              "0   Danny in the Sky  ...  2.575087\n",
              "\n",
              "[6 rows x 6 columns]"
            ]
          },
          "metadata": {
            "tags": []
          },
          "execution_count": 110
        }
      ]
    },
    {
      "cell_type": "markdown",
      "metadata": {
        "id": "kM93E7i-t9sY"
      },
      "source": [
        "When narrowing it down to a single cluster that contains the most movies the user highly rated, the final output is determined by the average ratings of the movies within the cluster. The movie with the highest average rating will be suggested due to other users liking it the most."
      ]
    },
    {
      "cell_type": "code",
      "metadata": {
        "colab": {
          "base_uri": "https://localhost:8080/"
        },
        "id": "roBFWTIwtHWd",
        "outputId": "ca354bfa-3b7c-4d5e-a59a-4ca22a7fd149"
      },
      "source": [
        "new_ratings[new_ratings['title']=='Simple Men'].groupby('rating').size()"
      ],
      "execution_count": 118,
      "outputs": [
        {
          "output_type": "execute_result",
          "data": {
            "text/plain": [
              "rating\n",
              "1.0     32\n",
              "2.0     46\n",
              "3.0    112\n",
              "4.0    128\n",
              "5.0    108\n",
              "dtype: int64"
            ]
          },
          "metadata": {
            "tags": []
          },
          "execution_count": 118
        }
      ]
    },
    {
      "cell_type": "markdown",
      "metadata": {
        "id": "SRFJwL9yuuW3"
      },
      "source": [
        "* Note that the highest average rating is 4.3 out of 5. The highest rating among the 6 unwatched movies left within User 7's favorite cluster is about 3.6 out of 5. Considering that the highest rated movie is out of 4.3, 3.6 is not low. Looking at the rating distribution above, about 80% of ratings for this move were 3-5 stars, making this is a reasonable average rating and pick."
      ]
    },
    {
      "cell_type": "markdown",
      "metadata": {
        "id": "Nd5SszJXApbF"
      },
      "source": [
        "### Movie Recommender"
      ]
    },
    {
      "cell_type": "code",
      "metadata": {
        "id": "9TbFLEAauTuZ"
      },
      "source": [
        "def suggested_movies(userId, num_movies=1):\n",
        "  \"\"\"Returns the recommended movie(s) and year(s) found by looking at the user's most favored cluster of movies.\"\"\"\n",
        "  # Adding cluster labels to userId's highly rated movies\n",
        "  user = new_ratings[new_ratings['userId']==userId]\n",
        "  high_rates = user[user['rating'] >= 4]\n",
        "  high_rated_clusters = high_rates.merge(clusters, left_on='title', right_on='original_title')\n",
        "  high_rated_clusters = high_rated_clusters[['userId', 'movieId', 'title', 'description_x', 'genre_x', 'rating', 'cluster']]\n",
        "  high_rated_clusters = high_rated_clusters.rename(columns={'description_x': 'description', 'genre_x': 'genre'})\n",
        "\n",
        "  # Getting the best cluster (the one that contains most of userId's highly rated movies)\n",
        "  fave_cluster_num = high_rated_clusters.groupby('cluster').size().sort_values(ascending=False).index[0]\n",
        "\n",
        "  # Movies within that cluster the user has watched\n",
        "  user_watched_in_cluster = high_rated_clusters[high_rated_clusters['cluster']==fave_cluster_num]\n",
        "\n",
        "  # Movies within that cluster the user hasn't watched yet (to use for recommendations)\n",
        "  user_entire_fave_cluster = clusters[clusters['cluster']==fave_cluster_num]\n",
        "  avail_movies = user_entire_fave_cluster[~user_entire_fave_cluster['original_title'].isin(user_watched_in_cluster['title'])]\n",
        "  avail_movie_means = avail_movies.merge(mean_ratings, left_on='original_title', right_on='title').sort_values('rating', ascending=False)\n",
        "\n",
        "  # The movies the user hasn't watched ordered by average rating (highest to lowest)\n",
        "  top_movies = avail_movie_means.merge(imdb, left_on=['original_title', 'description'], right_on=['original_title', 'description'])\n",
        "  top_movies = top_movies[['original_title', 'year', 'rating']]\n",
        "\n",
        "  if len(top_movies) < num_movies:\n",
        "    num_movies = len(top_movies)\n",
        "  \n",
        "  movie_titles = top_movies['original_title'][:num_movies].values\n",
        "  years = top_movies['year'][:num_movies].values\n",
        "\n",
        "  result = []\n",
        "  for i in range(len(years)):\n",
        "    result.append([movie_titles[i], int(years[i])])\n",
        "\n",
        "  return result"
      ],
      "execution_count": 210,
      "outputs": []
    },
    {
      "cell_type": "code",
      "metadata": {
        "colab": {
          "base_uri": "https://localhost:8080/"
        },
        "id": "cw3tWhwm3dtF",
        "outputId": "803412e7-cfbd-4b99-eb5a-4a72a430ab1e"
      },
      "source": [
        "# Top recommended movie for User 10\n",
        "suggested_movies(10, num_movies=1)"
      ],
      "execution_count": 211,
      "outputs": [
        {
          "output_type": "execute_result",
          "data": {
            "text/plain": [
              "[['Dark Victory', 1939]]"
            ]
          },
          "metadata": {
            "tags": []
          },
          "execution_count": 211
        }
      ]
    },
    {
      "cell_type": "code",
      "metadata": {
        "colab": {
          "base_uri": "https://localhost:8080/"
        },
        "id": "LlqjtfZB3ODV",
        "outputId": "4e1b3de4-c136-4ed0-a449-707d3c7a96a9"
      },
      "source": [
        "# Top 2 recommended movies for User 6\n",
        "suggested_movies(6, num_movies=2)"
      ],
      "execution_count": 212,
      "outputs": [
        {
          "output_type": "execute_result",
          "data": {
            "text/plain": [
              "[['Geronimo: An American Legend', 1993], ['Duel at Diablo', 1966]]"
            ]
          },
          "metadata": {
            "tags": []
          },
          "execution_count": 212
        }
      ]
    },
    {
      "cell_type": "code",
      "metadata": {
        "colab": {
          "base_uri": "https://localhost:8080/"
        },
        "id": "9Z0r2E5m8xBG",
        "outputId": "748381ee-7139-4612-a11e-126ffbe98f96"
      },
      "source": [
        "new_ratings.groupby('userId').size().sort_values(ascending=False).head(15)"
      ],
      "execution_count": 213,
      "outputs": [
        {
          "output_type": "execute_result",
          "data": {
            "text/plain": [
              "userId\n",
              "305344     1547\n",
              "387418     1545\n",
              "2439493    1479\n",
              "2118461    1451\n",
              "1664010    1440\n",
              "1639792    1028\n",
              "1314869    1016\n",
              "2143500    1010\n",
              "752642     1009\n",
              "1461435     956\n",
              "716173      951\n",
              "1114324     949\n",
              "2056022     939\n",
              "2606799     925\n",
              "57633       911\n",
              "dtype: int64"
            ]
          },
          "metadata": {
            "tags": []
          },
          "execution_count": 213
        }
      ]
    },
    {
      "cell_type": "markdown",
      "metadata": {
        "id": "ylgmUkei3sFb"
      },
      "source": [
        "Let's double check the function's results with User 57633."
      ]
    },
    {
      "cell_type": "code",
      "metadata": {
        "colab": {
          "base_uri": "https://localhost:8080/"
        },
        "id": "m97KeeHp9uX6",
        "outputId": "8386b0ea-3f8c-4e19-b881-143e190d0e5f"
      },
      "source": [
        "suggested_movies(57633, num_movies=5)"
      ],
      "execution_count": 214,
      "outputs": [
        {
          "output_type": "execute_result",
          "data": {
            "text/plain": [
              "[['Let It Ride', 1989],\n",
              " ['The Lemon Drop Kid', 1951],\n",
              " ['Go West', 1925],\n",
              " ['Rat Race', 2001],\n",
              " ['Saint Jack', 1979]]"
            ]
          },
          "metadata": {
            "tags": []
          },
          "execution_count": 214
        }
      ]
    },
    {
      "cell_type": "code",
      "metadata": {
        "colab": {
          "base_uri": "https://localhost:8080/",
          "height": 204
        },
        "id": "QwkCIhOC64_D",
        "outputId": "984f1c65-835b-4871-d4ef-507ca275bd8e"
      },
      "source": [
        "# Adding cluster labels to userId's highly rated movies\n",
        "user = new_ratings[new_ratings['userId']==57633]\n",
        "high_rates = user[user['rating'] >= 4]\n",
        "high_rated_clusters = high_rates.merge(clusters, left_on='title', right_on='original_title')\n",
        "high_rated_clusters = high_rated_clusters[['userId', 'movieId', 'title', 'description_x', 'genre_x', 'rating', 'cluster']]\n",
        "high_rated_clusters = high_rated_clusters.rename(columns={'description_x': 'description', 'genre_x': 'genre'})\n",
        "\n",
        "# Getting the best cluster (the one that contains most of userId's highly rated movies)\n",
        "fave_cluster_num = high_rated_clusters.groupby('cluster').size().sort_values(ascending=False).index[0]\n",
        "\n",
        "# Movies within that cluster the user has watched\n",
        "user_watched_in_cluster = high_rated_clusters[high_rated_clusters['cluster']==fave_cluster_num]\n",
        "\n",
        "# Movies within that cluster the user hasn't watched yet (to use for recommendations)\n",
        "user_entire_fave_cluster = clusters[clusters['cluster']==fave_cluster_num]\n",
        "avail_movies = user_entire_fave_cluster[~user_entire_fave_cluster['original_title'].isin(user_watched_in_cluster['title'])]\n",
        "avail_movie_means = avail_movies.merge(mean_ratings, left_on='original_title', right_on='title').sort_values('rating', ascending=False)\n",
        "\n",
        "# The movies the user hasn't watched ordered by average rating (highest to lowest)\n",
        "top_movies = avail_movie_means.merge(imdb, left_on=['original_title', 'description'], right_on=['original_title', 'description'])\n",
        "top_movies = top_movies[['original_title', 'year', 'rating']]\n",
        "top_movies.head()"
      ],
      "execution_count": 215,
      "outputs": [
        {
          "output_type": "execute_result",
          "data": {
            "text/html": [
              "<div>\n",
              "<style scoped>\n",
              "    .dataframe tbody tr th:only-of-type {\n",
              "        vertical-align: middle;\n",
              "    }\n",
              "\n",
              "    .dataframe tbody tr th {\n",
              "        vertical-align: top;\n",
              "    }\n",
              "\n",
              "    .dataframe thead th {\n",
              "        text-align: right;\n",
              "    }\n",
              "</style>\n",
              "<table border=\"1\" class=\"dataframe\">\n",
              "  <thead>\n",
              "    <tr style=\"text-align: right;\">\n",
              "      <th></th>\n",
              "      <th>original_title</th>\n",
              "      <th>year</th>\n",
              "      <th>rating</th>\n",
              "    </tr>\n",
              "  </thead>\n",
              "  <tbody>\n",
              "    <tr>\n",
              "      <th>0</th>\n",
              "      <td>Let It Ride</td>\n",
              "      <td>1989</td>\n",
              "      <td>3.496454</td>\n",
              "    </tr>\n",
              "    <tr>\n",
              "      <th>1</th>\n",
              "      <td>The Lemon Drop Kid</td>\n",
              "      <td>1951</td>\n",
              "      <td>3.496000</td>\n",
              "    </tr>\n",
              "    <tr>\n",
              "      <th>2</th>\n",
              "      <td>Go West</td>\n",
              "      <td>1925</td>\n",
              "      <td>3.374674</td>\n",
              "    </tr>\n",
              "    <tr>\n",
              "      <th>3</th>\n",
              "      <td>Rat Race</td>\n",
              "      <td>2001</td>\n",
              "      <td>3.305349</td>\n",
              "    </tr>\n",
              "    <tr>\n",
              "      <th>4</th>\n",
              "      <td>Saint Jack</td>\n",
              "      <td>1979</td>\n",
              "      <td>2.989691</td>\n",
              "    </tr>\n",
              "  </tbody>\n",
              "</table>\n",
              "</div>"
            ],
            "text/plain": [
              "       original_title  year    rating\n",
              "0         Let It Ride  1989  3.496454\n",
              "1  The Lemon Drop Kid  1951  3.496000\n",
              "2             Go West  1925  3.374674\n",
              "3            Rat Race  2001  3.305349\n",
              "4          Saint Jack  1979  2.989691"
            ]
          },
          "metadata": {
            "tags": []
          },
          "execution_count": 215
        }
      ]
    },
    {
      "cell_type": "code",
      "metadata": {
        "colab": {
          "base_uri": "https://localhost:8080/"
        },
        "id": "JnPViUhU9Mlb",
        "outputId": "a02cca11-c405-4d2f-f2f0-0a07e560ab87"
      },
      "source": [
        "high_rated_clusters.groupby('cluster').size().sort_values(ascending=False).head()"
      ],
      "execution_count": 220,
      "outputs": [
        {
          "output_type": "execute_result",
          "data": {
            "text/plain": [
              "cluster\n",
              "118    4\n",
              "7      4\n",
              "92     4\n",
              "13     4\n",
              "29     3\n",
              "dtype: int64"
            ]
          },
          "metadata": {
            "tags": []
          },
          "execution_count": 220
        }
      ]
    },
    {
      "cell_type": "code",
      "metadata": {
        "colab": {
          "base_uri": "https://localhost:8080/",
          "height": 173
        },
        "id": "iIb2UEAj-JwM",
        "outputId": "f0a58983-6905-4785-bb04-14b892c80e16"
      },
      "source": [
        "high_rated_clusters[high_rated_clusters['cluster']==118]"
      ],
      "execution_count": 217,
      "outputs": [
        {
          "output_type": "execute_result",
          "data": {
            "text/html": [
              "<div>\n",
              "<style scoped>\n",
              "    .dataframe tbody tr th:only-of-type {\n",
              "        vertical-align: middle;\n",
              "    }\n",
              "\n",
              "    .dataframe tbody tr th {\n",
              "        vertical-align: top;\n",
              "    }\n",
              "\n",
              "    .dataframe thead th {\n",
              "        text-align: right;\n",
              "    }\n",
              "</style>\n",
              "<table border=\"1\" class=\"dataframe\">\n",
              "  <thead>\n",
              "    <tr style=\"text-align: right;\">\n",
              "      <th></th>\n",
              "      <th>userId</th>\n",
              "      <th>movieId</th>\n",
              "      <th>title</th>\n",
              "      <th>description</th>\n",
              "      <th>genre</th>\n",
              "      <th>rating</th>\n",
              "      <th>cluster</th>\n",
              "    </tr>\n",
              "  </thead>\n",
              "  <tbody>\n",
              "    <tr>\n",
              "      <th>11</th>\n",
              "      <td>57633</td>\n",
              "      <td>241</td>\n",
              "      <td>North by Northwest</td>\n",
              "      <td>A New York City advertising executive goes on ...</td>\n",
              "      <td>Adventure, Mystery, Thriller</td>\n",
              "      <td>5.0</td>\n",
              "      <td>118</td>\n",
              "    </tr>\n",
              "    <tr>\n",
              "      <th>63</th>\n",
              "      <td>57633</td>\n",
              "      <td>1466</td>\n",
              "      <td>Midnight Cowboy</td>\n",
              "      <td>A naive hustler travels from Texas to New York...</td>\n",
              "      <td>Drama</td>\n",
              "      <td>4.0</td>\n",
              "      <td>118</td>\n",
              "    </tr>\n",
              "    <tr>\n",
              "      <th>124</th>\n",
              "      <td>57633</td>\n",
              "      <td>2905</td>\n",
              "      <td>Croupier</td>\n",
              "      <td>An aspiring writer is hired as a croupier at a...</td>\n",
              "      <td>Crime, Drama</td>\n",
              "      <td>4.0</td>\n",
              "      <td>118</td>\n",
              "    </tr>\n",
              "    <tr>\n",
              "      <th>175</th>\n",
              "      <td>57633</td>\n",
              "      <td>4109</td>\n",
              "      <td>American Psycho</td>\n",
              "      <td>A wealthy New York City investment banking exe...</td>\n",
              "      <td>Comedy, Crime, Drama</td>\n",
              "      <td>4.0</td>\n",
              "      <td>118</td>\n",
              "    </tr>\n",
              "  </tbody>\n",
              "</table>\n",
              "</div>"
            ],
            "text/plain": [
              "     userId  movieId  ... rating cluster\n",
              "11    57633      241  ...    5.0     118\n",
              "63    57633     1466  ...    4.0     118\n",
              "124   57633     2905  ...    4.0     118\n",
              "175   57633     4109  ...    4.0     118\n",
              "\n",
              "[4 rows x 7 columns]"
            ]
          },
          "metadata": {
            "tags": []
          },
          "execution_count": 217
        }
      ]
    },
    {
      "cell_type": "code",
      "metadata": {
        "colab": {
          "base_uri": "https://localhost:8080/",
          "height": 235
        },
        "id": "pRoSJLKO-AaA",
        "outputId": "870eb91a-a5c3-499a-ffae-4ce31e844b51"
      },
      "source": [
        "avail_movies"
      ],
      "execution_count": 219,
      "outputs": [
        {
          "output_type": "execute_result",
          "data": {
            "text/html": [
              "<div>\n",
              "<style scoped>\n",
              "    .dataframe tbody tr th:only-of-type {\n",
              "        vertical-align: middle;\n",
              "    }\n",
              "\n",
              "    .dataframe tbody tr th {\n",
              "        vertical-align: top;\n",
              "    }\n",
              "\n",
              "    .dataframe thead th {\n",
              "        text-align: right;\n",
              "    }\n",
              "</style>\n",
              "<table border=\"1\" class=\"dataframe\">\n",
              "  <thead>\n",
              "    <tr style=\"text-align: right;\">\n",
              "      <th></th>\n",
              "      <th>original_title</th>\n",
              "      <th>description</th>\n",
              "      <th>genre</th>\n",
              "      <th>cluster</th>\n",
              "    </tr>\n",
              "  </thead>\n",
              "  <tbody>\n",
              "    <tr>\n",
              "      <th>321</th>\n",
              "      <td>Let It Ride</td>\n",
              "      <td>A nosy cab driver gets a hot tip on a race hor...</td>\n",
              "      <td>Comedy, Action</td>\n",
              "      <td>118</td>\n",
              "    </tr>\n",
              "    <tr>\n",
              "      <th>325</th>\n",
              "      <td>Go West</td>\n",
              "      <td>With little luck at keeping a job in the city ...</td>\n",
              "      <td>Comedy, Western</td>\n",
              "      <td>118</td>\n",
              "    </tr>\n",
              "    <tr>\n",
              "      <th>481</th>\n",
              "      <td>Empire of the Ants</td>\n",
              "      <td>Con artist Marilyn Fryser tries to sell bogus ...</td>\n",
              "      <td>Adventure, Horror, Sci-Fi</td>\n",
              "      <td>118</td>\n",
              "    </tr>\n",
              "    <tr>\n",
              "      <th>641</th>\n",
              "      <td>Rat Race</td>\n",
              "      <td>A Las Vegas casino magnate, determined to find...</td>\n",
              "      <td>Action, Adventure, Comedy</td>\n",
              "      <td>118</td>\n",
              "    </tr>\n",
              "    <tr>\n",
              "      <th>762</th>\n",
              "      <td>Saint Jack</td>\n",
              "      <td>Jack Flowers, an American hustler in early 197...</td>\n",
              "      <td>Drama</td>\n",
              "      <td>118</td>\n",
              "    </tr>\n",
              "    <tr>\n",
              "      <th>1521</th>\n",
              "      <td>The Lemon Drop Kid</td>\n",
              "      <td>A New York City swindler has until Christmas t...</td>\n",
              "      <td>Comedy, Crime, Music</td>\n",
              "      <td>118</td>\n",
              "    </tr>\n",
              "  </tbody>\n",
              "</table>\n",
              "</div>"
            ],
            "text/plain": [
              "          original_title  ... cluster\n",
              "321          Let It Ride  ...     118\n",
              "325              Go West  ...     118\n",
              "481   Empire of the Ants  ...     118\n",
              "641             Rat Race  ...     118\n",
              "762           Saint Jack  ...     118\n",
              "1521  The Lemon Drop Kid  ...     118\n",
              "\n",
              "[6 rows x 4 columns]"
            ]
          },
          "metadata": {
            "tags": []
          },
          "execution_count": 219
        }
      ]
    },
    {
      "cell_type": "code",
      "metadata": {
        "colab": {
          "base_uri": "https://localhost:8080/",
          "height": 173
        },
        "id": "XSPeLsA_95Dv",
        "outputId": "6a9ee3c9-7e5a-4a58-beda-9742eab2ca0b"
      },
      "source": [
        "user_watched_in_cluster"
      ],
      "execution_count": 218,
      "outputs": [
        {
          "output_type": "execute_result",
          "data": {
            "text/html": [
              "<div>\n",
              "<style scoped>\n",
              "    .dataframe tbody tr th:only-of-type {\n",
              "        vertical-align: middle;\n",
              "    }\n",
              "\n",
              "    .dataframe tbody tr th {\n",
              "        vertical-align: top;\n",
              "    }\n",
              "\n",
              "    .dataframe thead th {\n",
              "        text-align: right;\n",
              "    }\n",
              "</style>\n",
              "<table border=\"1\" class=\"dataframe\">\n",
              "  <thead>\n",
              "    <tr style=\"text-align: right;\">\n",
              "      <th></th>\n",
              "      <th>userId</th>\n",
              "      <th>movieId</th>\n",
              "      <th>title</th>\n",
              "      <th>description</th>\n",
              "      <th>genre</th>\n",
              "      <th>rating</th>\n",
              "      <th>cluster</th>\n",
              "    </tr>\n",
              "  </thead>\n",
              "  <tbody>\n",
              "    <tr>\n",
              "      <th>11</th>\n",
              "      <td>57633</td>\n",
              "      <td>241</td>\n",
              "      <td>North by Northwest</td>\n",
              "      <td>A New York City advertising executive goes on ...</td>\n",
              "      <td>Adventure, Mystery, Thriller</td>\n",
              "      <td>5.0</td>\n",
              "      <td>118</td>\n",
              "    </tr>\n",
              "    <tr>\n",
              "      <th>63</th>\n",
              "      <td>57633</td>\n",
              "      <td>1466</td>\n",
              "      <td>Midnight Cowboy</td>\n",
              "      <td>A naive hustler travels from Texas to New York...</td>\n",
              "      <td>Drama</td>\n",
              "      <td>4.0</td>\n",
              "      <td>118</td>\n",
              "    </tr>\n",
              "    <tr>\n",
              "      <th>124</th>\n",
              "      <td>57633</td>\n",
              "      <td>2905</td>\n",
              "      <td>Croupier</td>\n",
              "      <td>An aspiring writer is hired as a croupier at a...</td>\n",
              "      <td>Crime, Drama</td>\n",
              "      <td>4.0</td>\n",
              "      <td>118</td>\n",
              "    </tr>\n",
              "    <tr>\n",
              "      <th>175</th>\n",
              "      <td>57633</td>\n",
              "      <td>4109</td>\n",
              "      <td>American Psycho</td>\n",
              "      <td>A wealthy New York City investment banking exe...</td>\n",
              "      <td>Comedy, Crime, Drama</td>\n",
              "      <td>4.0</td>\n",
              "      <td>118</td>\n",
              "    </tr>\n",
              "  </tbody>\n",
              "</table>\n",
              "</div>"
            ],
            "text/plain": [
              "     userId  movieId  ... rating cluster\n",
              "11    57633      241  ...    5.0     118\n",
              "63    57633     1466  ...    4.0     118\n",
              "124   57633     2905  ...    4.0     118\n",
              "175   57633     4109  ...    4.0     118\n",
              "\n",
              "[4 rows x 7 columns]"
            ]
          },
          "metadata": {
            "tags": []
          },
          "execution_count": 218
        }
      ]
    },
    {
      "cell_type": "markdown",
      "metadata": {
        "id": "IoJJk0J__YnT"
      },
      "source": [
        "The variables return what are expected. Also, the cluster that User 57633 favored the most contains movies with common genres, which are drama, crime, and adventure. The cluster that User 7 favored the most also shared common genres. This shows that the clustering technique with sentence-transformers applied to movie descriptions is working well."
      ]
    },
    {
      "cell_type": "markdown",
      "metadata": {
        "id": "RG_FEh8dAWzH"
      },
      "source": [
        "### Lastly, I will make an additional function where you can enter titles and years of movies you **liked** (rating 3+) and your ratings for them to receive recommended movies in return.\n",
        "* This will be done by getting the pre-assigned cluster numbers of the entered movies, finding all of the movies within those clusters, removing the entered movies from this list of movies, then finding the movies that are most similar to the entered movies via sentence-transformers and cosine similarity."
      ]
    },
    {
      "cell_type": "code",
      "metadata": {
        "colab": {
          "base_uri": "https://localhost:8080/",
          "height": 142
        },
        "id": "c0rkzUWCA7PQ",
        "outputId": "0c8055fa-c103-4c90-81e6-d1ab0ec4e2c1"
      },
      "source": [
        "# organizing a user's entries\n",
        "df = pd.DataFrame()\n",
        "movies = [\"Something's Gotta Give\", \"The Love Letter\", \"Wonder Boys\"]\n",
        "years = [2003, 1999, 2000]\n",
        "ratings = [4,3,5]\n",
        "df['title'] = movies\n",
        "df['year'] = years\n",
        "df['rating'] = ratings\n",
        "df"
      ],
      "execution_count": 225,
      "outputs": [
        {
          "output_type": "execute_result",
          "data": {
            "text/html": [
              "<div>\n",
              "<style scoped>\n",
              "    .dataframe tbody tr th:only-of-type {\n",
              "        vertical-align: middle;\n",
              "    }\n",
              "\n",
              "    .dataframe tbody tr th {\n",
              "        vertical-align: top;\n",
              "    }\n",
              "\n",
              "    .dataframe thead th {\n",
              "        text-align: right;\n",
              "    }\n",
              "</style>\n",
              "<table border=\"1\" class=\"dataframe\">\n",
              "  <thead>\n",
              "    <tr style=\"text-align: right;\">\n",
              "      <th></th>\n",
              "      <th>title</th>\n",
              "      <th>year</th>\n",
              "      <th>rating</th>\n",
              "    </tr>\n",
              "  </thead>\n",
              "  <tbody>\n",
              "    <tr>\n",
              "      <th>0</th>\n",
              "      <td>Something's Gotta Give</td>\n",
              "      <td>2003</td>\n",
              "      <td>4</td>\n",
              "    </tr>\n",
              "    <tr>\n",
              "      <th>1</th>\n",
              "      <td>The Love Letter</td>\n",
              "      <td>1999</td>\n",
              "      <td>3</td>\n",
              "    </tr>\n",
              "    <tr>\n",
              "      <th>2</th>\n",
              "      <td>Wonder Boys</td>\n",
              "      <td>2000</td>\n",
              "      <td>5</td>\n",
              "    </tr>\n",
              "  </tbody>\n",
              "</table>\n",
              "</div>"
            ],
            "text/plain": [
              "                    title  year  rating\n",
              "0  Something's Gotta Give  2003       4\n",
              "1         The Love Letter  1999       3\n",
              "2             Wonder Boys  2000       5"
            ]
          },
          "metadata": {
            "tags": []
          },
          "execution_count": 225
        }
      ]
    },
    {
      "cell_type": "code",
      "metadata": {
        "colab": {
          "base_uri": "https://localhost:8080/",
          "height": 142
        },
        "id": "es80SjmGB8nY",
        "outputId": "f360c538-3667-44cb-b50c-7667cd1be555"
      },
      "source": [
        "# adding genres and descriptions\n",
        "reports = df.merge(imdb, left_on='title', right_on='original_title')[['original_title', 'year_x', 'genre', 'description', 'rating']].rename(columns={'year_x': 'year'})\n",
        "reports"
      ],
      "execution_count": 230,
      "outputs": [
        {
          "output_type": "execute_result",
          "data": {
            "text/html": [
              "<div>\n",
              "<style scoped>\n",
              "    .dataframe tbody tr th:only-of-type {\n",
              "        vertical-align: middle;\n",
              "    }\n",
              "\n",
              "    .dataframe tbody tr th {\n",
              "        vertical-align: top;\n",
              "    }\n",
              "\n",
              "    .dataframe thead th {\n",
              "        text-align: right;\n",
              "    }\n",
              "</style>\n",
              "<table border=\"1\" class=\"dataframe\">\n",
              "  <thead>\n",
              "    <tr style=\"text-align: right;\">\n",
              "      <th></th>\n",
              "      <th>original_title</th>\n",
              "      <th>year</th>\n",
              "      <th>genre</th>\n",
              "      <th>description</th>\n",
              "      <th>rating</th>\n",
              "    </tr>\n",
              "  </thead>\n",
              "  <tbody>\n",
              "    <tr>\n",
              "      <th>0</th>\n",
              "      <td>Something's Gotta Give</td>\n",
              "      <td>2003</td>\n",
              "      <td>Comedy, Drama, Romance</td>\n",
              "      <td>A swinger on the cusp of being a senior citize...</td>\n",
              "      <td>4</td>\n",
              "    </tr>\n",
              "    <tr>\n",
              "      <th>1</th>\n",
              "      <td>The Love Letter</td>\n",
              "      <td>1999</td>\n",
              "      <td>Comedy, Drama, Romance</td>\n",
              "      <td>The life of a provincial town becomes stormy a...</td>\n",
              "      <td>3</td>\n",
              "    </tr>\n",
              "    <tr>\n",
              "      <th>2</th>\n",
              "      <td>Wonder Boys</td>\n",
              "      <td>2000</td>\n",
              "      <td>Comedy, Drama</td>\n",
              "      <td>An English Professor tries to deal with his wi...</td>\n",
              "      <td>5</td>\n",
              "    </tr>\n",
              "  </tbody>\n",
              "</table>\n",
              "</div>"
            ],
            "text/plain": [
              "           original_title  ...  rating\n",
              "0  Something's Gotta Give  ...       4\n",
              "1         The Love Letter  ...       3\n",
              "2             Wonder Boys  ...       5\n",
              "\n",
              "[3 rows x 5 columns]"
            ]
          },
          "metadata": {
            "tags": []
          },
          "execution_count": 230
        }
      ]
    },
    {
      "cell_type": "code",
      "metadata": {
        "colab": {
          "base_uri": "https://localhost:8080/",
          "height": 142
        },
        "id": "nPhWgGkoCa-r",
        "outputId": "b2ea5dbc-7579-4eb3-d0b4-43aa2ad3b258"
      },
      "source": [
        "# adding cluster labels\n",
        "reports = clusters[clusters['original_title'].isin(reports['original_title'])]\n",
        "reports"
      ],
      "execution_count": 235,
      "outputs": [
        {
          "output_type": "execute_result",
          "data": {
            "text/html": [
              "<div>\n",
              "<style scoped>\n",
              "    .dataframe tbody tr th:only-of-type {\n",
              "        vertical-align: middle;\n",
              "    }\n",
              "\n",
              "    .dataframe tbody tr th {\n",
              "        vertical-align: top;\n",
              "    }\n",
              "\n",
              "    .dataframe thead th {\n",
              "        text-align: right;\n",
              "    }\n",
              "</style>\n",
              "<table border=\"1\" class=\"dataframe\">\n",
              "  <thead>\n",
              "    <tr style=\"text-align: right;\">\n",
              "      <th></th>\n",
              "      <th>original_title</th>\n",
              "      <th>description</th>\n",
              "      <th>genre</th>\n",
              "      <th>cluster</th>\n",
              "    </tr>\n",
              "  </thead>\n",
              "  <tbody>\n",
              "    <tr>\n",
              "      <th>38</th>\n",
              "      <td>Something's Gotta Give</td>\n",
              "      <td>A swinger on the cusp of being a senior citize...</td>\n",
              "      <td>Comedy, Drama, Romance</td>\n",
              "      <td>45</td>\n",
              "    </tr>\n",
              "    <tr>\n",
              "      <th>634</th>\n",
              "      <td>Wonder Boys</td>\n",
              "      <td>An English Professor tries to deal with his wi...</td>\n",
              "      <td>Comedy, Drama</td>\n",
              "      <td>34</td>\n",
              "    </tr>\n",
              "    <tr>\n",
              "      <th>1463</th>\n",
              "      <td>The Love Letter</td>\n",
              "      <td>The life of a provincial town becomes stormy a...</td>\n",
              "      <td>Comedy, Drama, Romance</td>\n",
              "      <td>46</td>\n",
              "    </tr>\n",
              "  </tbody>\n",
              "</table>\n",
              "</div>"
            ],
            "text/plain": [
              "              original_title  ... cluster\n",
              "38    Something's Gotta Give  ...      45\n",
              "634              Wonder Boys  ...      34\n",
              "1463         The Love Letter  ...      46\n",
              "\n",
              "[3 rows x 4 columns]"
            ]
          },
          "metadata": {
            "tags": []
          },
          "execution_count": 235
        }
      ]
    },
    {
      "cell_type": "code",
      "metadata": {
        "colab": {
          "base_uri": "https://localhost:8080/",
          "height": 204
        },
        "id": "dzixjfjzCh4u",
        "outputId": "9b303b74-9171-4dee-83fb-f4cf5be35838"
      },
      "source": [
        "# getting movies within all of the relevant clusters\n",
        "cluster_movies = clusters[clusters['cluster'].isin(reports['cluster'])]\n",
        "avail_movies = cluster_movies[~cluster_movies['original_title'].isin(reports['original_title'])]\n",
        "avail_movies.head()"
      ],
      "execution_count": 255,
      "outputs": [
        {
          "output_type": "execute_result",
          "data": {
            "text/html": [
              "<div>\n",
              "<style scoped>\n",
              "    .dataframe tbody tr th:only-of-type {\n",
              "        vertical-align: middle;\n",
              "    }\n",
              "\n",
              "    .dataframe tbody tr th {\n",
              "        vertical-align: top;\n",
              "    }\n",
              "\n",
              "    .dataframe thead th {\n",
              "        text-align: right;\n",
              "    }\n",
              "</style>\n",
              "<table border=\"1\" class=\"dataframe\">\n",
              "  <thead>\n",
              "    <tr style=\"text-align: right;\">\n",
              "      <th></th>\n",
              "      <th>original_title</th>\n",
              "      <th>description</th>\n",
              "      <th>genre</th>\n",
              "      <th>cluster</th>\n",
              "    </tr>\n",
              "  </thead>\n",
              "  <tbody>\n",
              "    <tr>\n",
              "      <th>175</th>\n",
              "      <td>The Best Little Whorehouse in Texas</td>\n",
              "      <td>A town's Sheriff and regular patron of a histo...</td>\n",
              "      <td>Comedy, Musical</td>\n",
              "      <td>46</td>\n",
              "    </tr>\n",
              "    <tr>\n",
              "      <th>202</th>\n",
              "      <td>At the Earth's Core</td>\n",
              "      <td>A Victorian era scientist and his assistant ta...</td>\n",
              "      <td>Adventure, Fantasy, Sci-Fi</td>\n",
              "      <td>34</td>\n",
              "    </tr>\n",
              "    <tr>\n",
              "      <th>334</th>\n",
              "      <td>Mann</td>\n",
              "      <td>A young woman falls in love with a handsome pl...</td>\n",
              "      <td>Drama, Romance</td>\n",
              "      <td>45</td>\n",
              "    </tr>\n",
              "    <tr>\n",
              "      <th>344</th>\n",
              "      <td>Journey to the Center of the Earth</td>\n",
              "      <td>An Edinburgh professor and assorted colleagues...</td>\n",
              "      <td>Adventure, Family, Fantasy</td>\n",
              "      <td>34</td>\n",
              "    </tr>\n",
              "    <tr>\n",
              "      <th>471</th>\n",
              "      <td>Refugee</td>\n",
              "      <td>A young man who smuggles illegal weapons and p...</td>\n",
              "      <td>Drama, Musical, Romance</td>\n",
              "      <td>45</td>\n",
              "    </tr>\n",
              "  </tbody>\n",
              "</table>\n",
              "</div>"
            ],
            "text/plain": [
              "                          original_title  ... cluster\n",
              "175  The Best Little Whorehouse in Texas  ...      46\n",
              "202                  At the Earth's Core  ...      34\n",
              "334                                 Mann  ...      45\n",
              "344   Journey to the Center of the Earth  ...      34\n",
              "471                              Refugee  ...      45\n",
              "\n",
              "[5 rows x 4 columns]"
            ]
          },
          "metadata": {
            "tags": []
          },
          "execution_count": 255
        }
      ]
    },
    {
      "cell_type": "code",
      "metadata": {
        "colab": {
          "base_uri": "https://localhost:8080/"
        },
        "id": "W2w7uA0aC1-v",
        "outputId": "57d24d7e-6ab2-4dab-e712-1bfda237bbf6"
      },
      "source": [
        "# SIMILARITY\n",
        "sbert_model = SentenceTransformer('bert-base-nli-mean-tokens')\n",
        "\n",
        "sentences = avail_movies['description'].values\n",
        "sentence_embeddings = sbert_model.encode(sentences)"
      ],
      "execution_count": 238,
      "outputs": [
        {
          "output_type": "stream",
          "text": [
            "100%|██████████| 405M/405M [00:19<00:00, 21.3MB/s]\n"
          ],
          "name": "stderr"
        }
      ]
    },
    {
      "cell_type": "code",
      "metadata": {
        "colab": {
          "base_uri": "https://localhost:8080/"
        },
        "id": "6I22jjLOD11b",
        "outputId": "8d250f93-2463-4344-ba66-e0f42d058068"
      },
      "source": [
        "def cosine(u, v):\n",
        "    \"\"\"Returns the cosine similarity between descriptions.\"\"\"\n",
        "    return np.dot(u, v) / (np.linalg.norm(u) * np.linalg.norm(v))\n",
        "\n",
        "# get most similar descriptions\n",
        "top_similarity = {}\n",
        "for query in reports['description'].values:\n",
        "  query_vec = sbert_model.encode([query])[0]\n",
        "  max_sim = 0\n",
        "  max_sent = \"\"\n",
        "  for sent in sentences:\n",
        "    sim = cosine(query_vec, sbert_model.encode([sent])[0])\n",
        "    if sim > max_sim:\n",
        "      max_sim = sim\n",
        "      max_sent = sent\n",
        "  top_similarity[max_sent] = max_sim\n",
        "  print(max_sent, \"|\", max_sim)"
      ],
      "execution_count": 242,
      "outputs": [
        {
          "output_type": "stream",
          "text": [
            "A young woman falls in love with a handsome playboy, while aboard a Singapore to India cruise. They make plans to meet again, but fate may have other plans... | 0.76895124\n",
            "A college professor wakes up to find his wife has not returned home, then struggles to understand her disappearance. | 0.7430485\n",
            "An English professor finds his life crumbling around him. | 0.63351405\n"
          ],
          "name": "stdout"
        }
      ]
    },
    {
      "cell_type": "code",
      "metadata": {
        "id": "DLA0GAH2IQbf"
      },
      "source": [
        "def enter_for_recommendation(movies, years, ratings, num_movies=1):\n",
        "  \"\"\"Returns the recommended movie(s), year(s), and genre(s) according \n",
        "     to similarity between the movies entered and those not watched.\"\"\"\n",
        "  df = pd.DataFrame()\n",
        "  df['title'] = movies\n",
        "  df['year'] = years\n",
        "  df['rating'] = ratings\n",
        "\n",
        "  # adding genre and descriptions\n",
        "  reports = df.merge(imdb, left_on='title', right_on='original_title')\n",
        "  reports = reports[['original_title', 'year_x', 'genre', 'description', 'rating']].rename(columns={'year_x': 'year'})\n",
        "\n",
        "  # adding cluster labels to entered movies\n",
        "  reports = clusters[clusters['original_title'].isin(reports['original_title'])]\n",
        "\n",
        "  # getting movies within all of the relevant clusters\n",
        "  cluster_movies = clusters[clusters['cluster'].isin(reports['cluster'])]\n",
        "  avail_movies = cluster_movies[~cluster_movies['original_title'].isin(reports['original_title'])]\n",
        "  \n",
        "  # getting most similar descriptions\n",
        "  top_similarity = {}\n",
        "  for query in reports['description'].values:\n",
        "    query_vec = sbert_model.encode([query])[0]\n",
        "    max_sim = 0\n",
        "    max_sent = \"\"\n",
        "    for sent in sentences:\n",
        "      sim = cosine(query_vec, sbert_model.encode([sent])[0])\n",
        "      if sim > max_sim:\n",
        "        max_sim = sim\n",
        "        max_sent = sent\n",
        "    top_similarity[max_sent] = max_sim\n",
        "\n",
        "  if len(top_similarity) < num_movies:\n",
        "    num_movies = len(top_similarity)\n",
        "\n",
        "  final_df = pd.DataFrame(top_similarity.items())\n",
        "  final_df = final_df.rename(columns={0:'description', 1:'similarity'}).sort_values('similarity', ascending=False)\n",
        "  result = final_df.merge(imdb, left_on='description', right_on='description')\n",
        "  resulting_movies = result['original_title'][:num_movies].values\n",
        "  resulting_years = result['year'][:num_movies].values\n",
        "  resulting_genres = result['genre'][:num_movies].values\n",
        "\n",
        "  output = []\n",
        "  for i in range(len(resulting_movies)):\n",
        "    output.append([resulting_movies[i], int(resulting_years[i]), resulting_genres[i]])\n",
        "  return output # movie, year, genre"
      ],
      "execution_count": 278,
      "outputs": []
    },
    {
      "cell_type": "markdown",
      "metadata": {
        "id": "H2ZjtxdPH8-_"
      },
      "source": [
        "* Genres are returned this time because someone can enter a group of movies that all have very different genres. Now a user can pick according to the genre they currently want to watch."
      ]
    },
    {
      "cell_type": "code",
      "metadata": {
        "colab": {
          "base_uri": "https://localhost:8080/"
        },
        "id": "JcvJr7GsKdzn",
        "outputId": "dce014d3-18d0-4fdb-865f-82adc8ed6e54"
      },
      "source": [
        "movies = [\"Something's Gotta Give\", \"The Love Letter\", \"Wonder Boys\"]\n",
        "years = [2003, 1999, 2000]\n",
        "ratings = [4,3,5]\n",
        "enter_for_recommendation(movies, years, ratings, num_movies=2)"
      ],
      "execution_count": 279,
      "outputs": [
        {
          "output_type": "execute_result",
          "data": {
            "text/plain": [
              "[['Mann', 1999, 'Drama, Romance'],\n",
              " ['Chasing Sleep', 2000, 'Drama, Horror, Mystery']]"
            ]
          },
          "metadata": {
            "tags": []
          },
          "execution_count": 279
        }
      ]
    },
    {
      "cell_type": "markdown",
      "metadata": {
        "id": "bzhuckP6K9lq"
      },
      "source": [
        "A user interface will be made for this last system!"
      ]
    }
  ]
}