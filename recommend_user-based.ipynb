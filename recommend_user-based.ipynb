{
 "cells": [
  {
   "cell_type": "markdown",
   "metadata": {},
   "source": [
    "# User-Based Movie Recommendation System: Using Surprise Library\n",
    "* **User-based recommendation:** Finding other similar users and seeing which movies are popular among them\n",
    "* Surprise is a library used for building recommender systems"
   ]
  },
  {
   "cell_type": "code",
   "execution_count": 2,
   "metadata": {},
   "outputs": [],
   "source": [
    "import numpy as np\n",
    "import pandas as pd\n",
    "import matplotlib.pyplot as plt"
   ]
  },
  {
   "cell_type": "markdown",
   "metadata": {},
   "source": [
    "## Netflix Prize dataset: Setup and Some EDA"
   ]
  },
  {
   "cell_type": "code",
   "execution_count": 3,
   "metadata": {},
   "outputs": [
    {
     "data": {
      "text/html": [
       "<div>\n",
       "<style scoped>\n",
       "    .dataframe tbody tr th:only-of-type {\n",
       "        vertical-align: middle;\n",
       "    }\n",
       "\n",
       "    .dataframe tbody tr th {\n",
       "        vertical-align: top;\n",
       "    }\n",
       "\n",
       "    .dataframe thead th {\n",
       "        text-align: right;\n",
       "    }\n",
       "</style>\n",
       "<table border=\"1\" class=\"dataframe\">\n",
       "  <thead>\n",
       "    <tr style=\"text-align: right;\">\n",
       "      <th></th>\n",
       "      <th>userId</th>\n",
       "      <th>rating</th>\n",
       "    </tr>\n",
       "  </thead>\n",
       "  <tbody>\n",
       "    <tr>\n",
       "      <th>0</th>\n",
       "      <td>1:</td>\n",
       "      <td>NaN</td>\n",
       "    </tr>\n",
       "    <tr>\n",
       "      <th>1</th>\n",
       "      <td>1488844</td>\n",
       "      <td>3.0</td>\n",
       "    </tr>\n",
       "    <tr>\n",
       "      <th>2</th>\n",
       "      <td>822109</td>\n",
       "      <td>5.0</td>\n",
       "    </tr>\n",
       "    <tr>\n",
       "      <th>3</th>\n",
       "      <td>885013</td>\n",
       "      <td>4.0</td>\n",
       "    </tr>\n",
       "    <tr>\n",
       "      <th>4</th>\n",
       "      <td>30878</td>\n",
       "      <td>4.0</td>\n",
       "    </tr>\n",
       "  </tbody>\n",
       "</table>\n",
       "</div>"
      ],
      "text/plain": [
       "    userId  rating\n",
       "0       1:     NaN\n",
       "1  1488844     3.0\n",
       "2   822109     5.0\n",
       "3   885013     4.0\n",
       "4    30878     4.0"
      ]
     },
     "execution_count": 3,
     "metadata": {},
     "output_type": "execute_result"
    }
   ],
   "source": [
    "# Netflix Prize dataset ratings file\n",
    "new_ratings = pd.read_csv('combined_data_1.txt', header=None, names=['userId', 'rating'], usecols=[0,1])\n",
    "new_ratings.head()"
   ]
  },
  {
   "cell_type": "code",
   "execution_count": 4,
   "metadata": {},
   "outputs": [
    {
     "data": {
      "text/plain": [
       "0              1\n",
       "548            2\n",
       "694            3\n",
       "2707           4\n",
       "2850           5\n",
       "            ... \n",
       "24046714    4495\n",
       "24047329    4496\n",
       "24056849    4497\n",
       "24057564    4498\n",
       "24057834    4499\n",
       "Name: userId, Length: 4499, dtype: int64"
      ]
     },
     "execution_count": 4,
     "metadata": {},
     "output_type": "execute_result"
    }
   ],
   "source": [
    "movie_ids = new_ratings[new_ratings['userId'].str.contains(':')][['userId']]\n",
    "movie_ids = movie_ids['userId'].str.replace(\":\", \"\").astype(int)\n",
    "movie_ids"
   ]
  },
  {
   "cell_type": "code",
   "execution_count": 5,
   "metadata": {},
   "outputs": [],
   "source": [
    "def to_append(before_index, current_index, movie_id):\n",
    "    return np.ones(current_index - before_index) * movie_id"
   ]
  },
  {
   "cell_type": "code",
   "execution_count": 6,
   "metadata": {},
   "outputs": [],
   "source": [
    "# faster with preallocation but simpler approach\n",
    "start_movie_ids = []\n",
    "for i in range(1, len(movie_ids)):\n",
    "    array = to_append(movie_ids.index[i-1], movie_ids.index[i], movie_ids.values[i-1])\n",
    "    start_movie_ids = np.concatenate((start_movie_ids, array), axis=None)"
   ]
  },
  {
   "cell_type": "code",
   "execution_count": 7,
   "metadata": {},
   "outputs": [
    {
     "data": {
      "text/plain": [
       "24057834"
      ]
     },
     "execution_count": 7,
     "metadata": {},
     "output_type": "execute_result"
    }
   ],
   "source": [
    "# sanity check\n",
    "len(start_movie_ids)"
   ]
  },
  {
   "cell_type": "code",
   "execution_count": 8,
   "metadata": {},
   "outputs": [
    {
     "data": {
      "text/plain": [
       "24058263"
      ]
     },
     "execution_count": 8,
     "metadata": {},
     "output_type": "execute_result"
    }
   ],
   "source": [
    "# add movie id 4499\n",
    "start_movie_ids = np.concatenate((start_movie_ids, np.ones(429) * 4499), axis=None)\n",
    "len(start_movie_ids)"
   ]
  },
  {
   "cell_type": "code",
   "execution_count": 9,
   "metadata": {},
   "outputs": [
    {
     "data": {
      "text/html": [
       "<div>\n",
       "<style scoped>\n",
       "    .dataframe tbody tr th:only-of-type {\n",
       "        vertical-align: middle;\n",
       "    }\n",
       "\n",
       "    .dataframe tbody tr th {\n",
       "        vertical-align: top;\n",
       "    }\n",
       "\n",
       "    .dataframe thead th {\n",
       "        text-align: right;\n",
       "    }\n",
       "</style>\n",
       "<table border=\"1\" class=\"dataframe\">\n",
       "  <thead>\n",
       "    <tr style=\"text-align: right;\">\n",
       "      <th></th>\n",
       "      <th>userId</th>\n",
       "      <th>movieId</th>\n",
       "      <th>rating</th>\n",
       "    </tr>\n",
       "  </thead>\n",
       "  <tbody>\n",
       "    <tr>\n",
       "      <th>0</th>\n",
       "      <td>1:</td>\n",
       "      <td>1.0</td>\n",
       "      <td>NaN</td>\n",
       "    </tr>\n",
       "    <tr>\n",
       "      <th>1</th>\n",
       "      <td>1488844</td>\n",
       "      <td>1.0</td>\n",
       "      <td>3.0</td>\n",
       "    </tr>\n",
       "    <tr>\n",
       "      <th>2</th>\n",
       "      <td>822109</td>\n",
       "      <td>1.0</td>\n",
       "      <td>5.0</td>\n",
       "    </tr>\n",
       "    <tr>\n",
       "      <th>3</th>\n",
       "      <td>885013</td>\n",
       "      <td>1.0</td>\n",
       "      <td>4.0</td>\n",
       "    </tr>\n",
       "    <tr>\n",
       "      <th>4</th>\n",
       "      <td>30878</td>\n",
       "      <td>1.0</td>\n",
       "      <td>4.0</td>\n",
       "    </tr>\n",
       "  </tbody>\n",
       "</table>\n",
       "</div>"
      ],
      "text/plain": [
       "    userId  movieId  rating\n",
       "0       1:      1.0     NaN\n",
       "1  1488844      1.0     3.0\n",
       "2   822109      1.0     5.0\n",
       "3   885013      1.0     4.0\n",
       "4    30878      1.0     4.0"
      ]
     },
     "execution_count": 9,
     "metadata": {},
     "output_type": "execute_result"
    }
   ],
   "source": [
    "new_ratings['movieId'] = start_movie_ids\n",
    "new_ratings = new_ratings[['userId', 'movieId', 'rating']]\n",
    "new_ratings.head()"
   ]
  },
  {
   "cell_type": "code",
   "execution_count": 10,
   "metadata": {},
   "outputs": [
    {
     "name": "stdout",
     "output_type": "stream",
     "text": [
      "userId NA values: 0\n",
      "movieId NA values: 0\n",
      "rating NA values: 4499\n"
     ]
    }
   ],
   "source": [
    "for col in new_ratings.columns:\n",
    "    print(col, \"NA values:\", sum(new_ratings[col].isna()))"
   ]
  },
  {
   "cell_type": "markdown",
   "metadata": {},
   "source": [
    "* There are 4499 movie ids within the userId column. Movie ids do not have ratings and so the rating should be NA. Otherwise, there are no null values. The final dataframe will be completed after dropping where 'rating' is NA, aka the rows where the userId column contains a movieId."
   ]
  },
  {
   "cell_type": "code",
   "execution_count": 11,
   "metadata": {},
   "outputs": [
    {
     "name": "stderr",
     "output_type": "stream",
     "text": [
      "/anaconda3/lib/python3.6/site-packages/ipykernel_launcher.py:3: SettingWithCopyWarning: \n",
      "A value is trying to be set on a copy of a slice from a DataFrame.\n",
      "Try using .loc[row_indexer,col_indexer] = value instead\n",
      "\n",
      "See the caveats in the documentation: https://pandas.pydata.org/pandas-docs/stable/user_guide/indexing.html#returning-a-view-versus-a-copy\n",
      "  This is separate from the ipykernel package so we can avoid doing imports until\n"
     ]
    },
    {
     "data": {
      "text/html": [
       "<div>\n",
       "<style scoped>\n",
       "    .dataframe tbody tr th:only-of-type {\n",
       "        vertical-align: middle;\n",
       "    }\n",
       "\n",
       "    .dataframe tbody tr th {\n",
       "        vertical-align: top;\n",
       "    }\n",
       "\n",
       "    .dataframe thead th {\n",
       "        text-align: right;\n",
       "    }\n",
       "</style>\n",
       "<table border=\"1\" class=\"dataframe\">\n",
       "  <thead>\n",
       "    <tr style=\"text-align: right;\">\n",
       "      <th></th>\n",
       "      <th>userId</th>\n",
       "      <th>movieId</th>\n",
       "      <th>rating</th>\n",
       "    </tr>\n",
       "  </thead>\n",
       "  <tbody>\n",
       "    <tr>\n",
       "      <th>1</th>\n",
       "      <td>1488844</td>\n",
       "      <td>1</td>\n",
       "      <td>3.0</td>\n",
       "    </tr>\n",
       "    <tr>\n",
       "      <th>2</th>\n",
       "      <td>822109</td>\n",
       "      <td>1</td>\n",
       "      <td>5.0</td>\n",
       "    </tr>\n",
       "    <tr>\n",
       "      <th>3</th>\n",
       "      <td>885013</td>\n",
       "      <td>1</td>\n",
       "      <td>4.0</td>\n",
       "    </tr>\n",
       "    <tr>\n",
       "      <th>4</th>\n",
       "      <td>30878</td>\n",
       "      <td>1</td>\n",
       "      <td>4.0</td>\n",
       "    </tr>\n",
       "    <tr>\n",
       "      <th>5</th>\n",
       "      <td>823519</td>\n",
       "      <td>1</td>\n",
       "      <td>3.0</td>\n",
       "    </tr>\n",
       "  </tbody>\n",
       "</table>\n",
       "</div>"
      ],
      "text/plain": [
       "    userId  movieId  rating\n",
       "1  1488844        1     3.0\n",
       "2   822109        1     5.0\n",
       "3   885013        1     4.0\n",
       "4    30878        1     4.0\n",
       "5   823519        1     3.0"
      ]
     },
     "execution_count": 11,
     "metadata": {},
     "output_type": "execute_result"
    }
   ],
   "source": [
    "# Final dataframe\n",
    "ratings = new_ratings.dropna()\n",
    "ratings['movieId'] = ratings['movieId'].apply(round) # movieIds showed as floats, rounding for cleanliness\n",
    "ratings.head()"
   ]
  },
  {
   "cell_type": "code",
   "execution_count": 12,
   "metadata": {},
   "outputs": [
    {
     "data": {
      "text/plain": [
       "rating\n",
       "1.0    1118186\n",
       "2.0    2439073\n",
       "3.0    6904181\n",
       "4.0    8085741\n",
       "5.0    5506583\n",
       "dtype: int64"
      ]
     },
     "execution_count": 12,
     "metadata": {},
     "output_type": "execute_result"
    }
   ],
   "source": [
    "# Counts of ratings\n",
    "rating_sizes = ratings.groupby('rating').size()\n",
    "rating_sizes"
   ]
  },
  {
   "cell_type": "code",
   "execution_count": 13,
   "metadata": {},
   "outputs": [
    {
     "data": {
      "image/png": "[encoded data removed]",
      "text/plain": [
       "<Figure size 432x288 with 1 Axes>"
      ]
     },
     "metadata": {
      "needs_background": "light"
     },
     "output_type": "display_data"
    }
   ],
   "source": [
    "plt.bar(rating_sizes.index, height=rating_sizes.values)\n",
    "plt.xlabel('Rating')\n",
    "plt.ylabel('Count');"
   ]
  },
  {
   "cell_type": "code",
   "execution_count": 14,
   "metadata": {},
   "outputs": [
    {
     "name": "stdout",
     "output_type": "stream",
     "text": [
      "Num movies: 4499\n",
      "Num users: 470758\n",
      "Num ratings: 24053764\n"
     ]
    }
   ],
   "source": [
    "print(\"Num movies:\", len(np.unique(ratings['movieId'])))\n",
    "print(\"Num users:\", len(np.unique(ratings['userId'])))\n",
    "print(\"Num ratings:\", ratings.shape[0])"
   ]
  },
  {
   "cell_type": "code",
   "execution_count": 15,
   "metadata": {},
   "outputs": [
    {
     "data": {
      "text/plain": [
       "userId      object\n",
       "movieId      int64\n",
       "rating     float64\n",
       "dtype: object"
      ]
     },
     "execution_count": 15,
     "metadata": {},
     "output_type": "execute_result"
    }
   ],
   "source": [
    "ratings.dtypes"
   ]
  },
  {
   "cell_type": "code",
   "execution_count": 16,
   "metadata": {},
   "outputs": [
    {
     "name": "stderr",
     "output_type": "stream",
     "text": [
      "/anaconda3/lib/python3.6/site-packages/ipykernel_launcher.py:2: SettingWithCopyWarning: \n",
      "A value is trying to be set on a copy of a slice from a DataFrame.\n",
      "Try using .loc[row_indexer,col_indexer] = value instead\n",
      "\n",
      "See the caveats in the documentation: https://pandas.pydata.org/pandas-docs/stable/user_guide/indexing.html#returning-a-view-versus-a-copy\n",
      "  \n"
     ]
    }
   ],
   "source": [
    "# Now that the movieIds (\"1:\") are gone, can make userId numbers into ints\n",
    "ratings['userId'] = ratings['userId'].astype(int)"
   ]
  },
  {
   "cell_type": "code",
   "execution_count": 17,
   "metadata": {},
   "outputs": [
    {
     "data": {
      "text/html": [
       "<div>\n",
       "<style scoped>\n",
       "    .dataframe tbody tr th:only-of-type {\n",
       "        vertical-align: middle;\n",
       "    }\n",
       "\n",
       "    .dataframe tbody tr th {\n",
       "        vertical-align: top;\n",
       "    }\n",
       "\n",
       "    .dataframe thead th {\n",
       "        text-align: right;\n",
       "    }\n",
       "</style>\n",
       "<table border=\"1\" class=\"dataframe\">\n",
       "  <thead>\n",
       "    <tr style=\"text-align: right;\">\n",
       "      <th></th>\n",
       "      <th>movieId</th>\n",
       "      <th>year</th>\n",
       "      <th>title</th>\n",
       "    </tr>\n",
       "  </thead>\n",
       "  <tbody>\n",
       "    <tr>\n",
       "      <th>0</th>\n",
       "      <td>1</td>\n",
       "      <td>2003.0</td>\n",
       "      <td>Dinosaur Planet</td>\n",
       "    </tr>\n",
       "    <tr>\n",
       "      <th>1</th>\n",
       "      <td>2</td>\n",
       "      <td>2004.0</td>\n",
       "      <td>Isle of Man TT 2004 Review</td>\n",
       "    </tr>\n",
       "    <tr>\n",
       "      <th>2</th>\n",
       "      <td>3</td>\n",
       "      <td>1997.0</td>\n",
       "      <td>Character</td>\n",
       "    </tr>\n",
       "    <tr>\n",
       "      <th>3</th>\n",
       "      <td>4</td>\n",
       "      <td>1994.0</td>\n",
       "      <td>Paula Abdul's Get Up &amp; Dance</td>\n",
       "    </tr>\n",
       "    <tr>\n",
       "      <th>4</th>\n",
       "      <td>5</td>\n",
       "      <td>2004.0</td>\n",
       "      <td>The Rise and Fall of ECW</td>\n",
       "    </tr>\n",
       "  </tbody>\n",
       "</table>\n",
       "</div>"
      ],
      "text/plain": [
       "   movieId    year                         title\n",
       "0        1  2003.0               Dinosaur Planet\n",
       "1        2  2004.0    Isle of Man TT 2004 Review\n",
       "2        3  1997.0                     Character\n",
       "3        4  1994.0  Paula Abdul's Get Up & Dance\n",
       "4        5  2004.0      The Rise and Fall of ECW"
      ]
     },
     "execution_count": 17,
     "metadata": {},
     "output_type": "execute_result"
    }
   ],
   "source": [
    "# Netfix Prize dataset movies file\n",
    "movies = pd.read_csv('movie_titles.csv', encoding='latin1')[['movieId', 'year', 'title']]\n",
    "movies.head()"
   ]
  },
  {
   "cell_type": "code",
   "execution_count": 18,
   "metadata": {},
   "outputs": [
    {
     "data": {
      "text/html": [
       "<div>\n",
       "<style scoped>\n",
       "    .dataframe tbody tr th:only-of-type {\n",
       "        vertical-align: middle;\n",
       "    }\n",
       "\n",
       "    .dataframe tbody tr th {\n",
       "        vertical-align: top;\n",
       "    }\n",
       "\n",
       "    .dataframe thead th {\n",
       "        text-align: right;\n",
       "    }\n",
       "</style>\n",
       "<table border=\"1\" class=\"dataframe\">\n",
       "  <thead>\n",
       "    <tr style=\"text-align: right;\">\n",
       "      <th></th>\n",
       "      <th>userId</th>\n",
       "      <th>movieId</th>\n",
       "      <th>title</th>\n",
       "      <th>year</th>\n",
       "      <th>rating</th>\n",
       "    </tr>\n",
       "  </thead>\n",
       "  <tbody>\n",
       "    <tr>\n",
       "      <th>0</th>\n",
       "      <td>1488844</td>\n",
       "      <td>1</td>\n",
       "      <td>Dinosaur Planet</td>\n",
       "      <td>2003.0</td>\n",
       "      <td>3.0</td>\n",
       "    </tr>\n",
       "    <tr>\n",
       "      <th>1</th>\n",
       "      <td>822109</td>\n",
       "      <td>1</td>\n",
       "      <td>Dinosaur Planet</td>\n",
       "      <td>2003.0</td>\n",
       "      <td>5.0</td>\n",
       "    </tr>\n",
       "    <tr>\n",
       "      <th>2</th>\n",
       "      <td>885013</td>\n",
       "      <td>1</td>\n",
       "      <td>Dinosaur Planet</td>\n",
       "      <td>2003.0</td>\n",
       "      <td>4.0</td>\n",
       "    </tr>\n",
       "    <tr>\n",
       "      <th>3</th>\n",
       "      <td>30878</td>\n",
       "      <td>1</td>\n",
       "      <td>Dinosaur Planet</td>\n",
       "      <td>2003.0</td>\n",
       "      <td>4.0</td>\n",
       "    </tr>\n",
       "    <tr>\n",
       "      <th>4</th>\n",
       "      <td>823519</td>\n",
       "      <td>1</td>\n",
       "      <td>Dinosaur Planet</td>\n",
       "      <td>2003.0</td>\n",
       "      <td>3.0</td>\n",
       "    </tr>\n",
       "  </tbody>\n",
       "</table>\n",
       "</div>"
      ],
      "text/plain": [
       "    userId  movieId            title    year  rating\n",
       "0  1488844        1  Dinosaur Planet  2003.0     3.0\n",
       "1   822109        1  Dinosaur Planet  2003.0     5.0\n",
       "2   885013        1  Dinosaur Planet  2003.0     4.0\n",
       "3    30878        1  Dinosaur Planet  2003.0     4.0\n",
       "4   823519        1  Dinosaur Planet  2003.0     3.0"
      ]
     },
     "execution_count": 18,
     "metadata": {},
     "output_type": "execute_result"
    }
   ],
   "source": [
    "# Combining ratings with their movie titles\n",
    "rate_with_title = ratings.merge(movies, left_on='movieId', right_on='movieId')\n",
    "rate_with_title = rate_with_title[['userId', 'movieId', 'title', 'year', 'rating']]\n",
    "rate_with_title.head()"
   ]
  },
  {
   "cell_type": "markdown",
   "metadata": {},
   "source": [
    "## Surprise"
   ]
  },
  {
   "cell_type": "code",
   "execution_count": 19,
   "metadata": {},
   "outputs": [],
   "source": [
    "from surprise import SVD, SVDpp, KNNBaseline, KNNBasic, KNNWithMeans\n",
    "from surprise import Dataset\n",
    "from surprise import Reader\n",
    "from surprise.model_selection import cross_validate\n",
    "\n",
    "reader = Reader()\n",
    "\n",
    "data = Dataset.load_from_df(ratings[['userId', 'movieId', 'rating']][:100000], reader) # subset for now"
   ]
  },
  {
   "cell_type": "code",
   "execution_count": null,
   "metadata": {},
   "outputs": [
    {
     "name": "stdout",
     "output_type": "stream",
     "text": [
      "Estimating biases using als...\n"
     ]
    }
   ],
   "source": [
    "reference = []\n",
    "for predictor in [SVD(), SVDpp(), KNNBaseline(), KNNBasic(), KNNWithMeans()]:\n",
    "    results = cross_validate(predictor, data, measures=['RMSE'], cv=3)\n",
    "    tmp = pd.DataFrame.from_dict(results).mean(axis=0)\n",
    "    tmp = tmp.append(pd.Series([str(predictor).split(' ')[0].split('.')[-1]], index=['Predictor']))\n",
    "    reference.append(tmp)\n",
    "    \n",
    "pd.DataFrame(reference).set_index('Predictor').sort_values('test_rmse')"
   ]
  },
  {
   "cell_type": "markdown",
   "metadata": {},
   "source": [
    "* SVDpp performed the best among its peers according to its test rmse shown above, but it also took much time to run. SVD is a close runner-up indicated by its similar test rmse and takes significantly less time, therefore SVD will be used."
   ]
  },
  {
   "cell_type": "code",
   "execution_count": 20,
   "metadata": {},
   "outputs": [
    {
     "data": {
      "text/plain": [
       "{'test_rmse': array([1.05343954, 1.05001665, 1.04649881]),\n",
       " 'test_mae': array([0.83942605, 0.83829436, 0.83073187]),\n",
       " 'fit_time': (4.038244962692261, 3.9881651401519775, 4.3971312046051025),\n",
       " 'test_time': (0.2902710437774658, 0.25452613830566406, 0.20362091064453125)}"
      ]
     },
     "execution_count": 20,
     "metadata": {},
     "output_type": "execute_result"
    }
   ],
   "source": [
    "svd = SVD()\n",
    "cross_validate(svd, data, measures=['RMSE', 'MAE'], cv=3)"
   ]
  },
  {
   "cell_type": "code",
   "execution_count": 42,
   "metadata": {},
   "outputs": [
    {
     "data": {
      "text/plain": [
       "movieId\n",
       "1     547\n",
       "2     145\n",
       "3    2012\n",
       "4     142\n",
       "5    1140\n",
       "dtype: int64"
      ]
     },
     "execution_count": 42,
     "metadata": {},
     "output_type": "execute_result"
    }
   ],
   "source": [
    "movie_size = ratings.groupby('movieId').size()\n",
    "movie_size.head()"
   ]
  },
  {
   "cell_type": "code",
   "execution_count": 43,
   "metadata": {},
   "outputs": [
    {
     "data": {
      "text/plain": [
       "movieId\n",
       "858        552\n",
       "4134       553\n",
       "3289       553\n",
       "339        553\n",
       "2977       555\n",
       "         ...  \n",
       "571     154832\n",
       "4432    156183\n",
       "3860    160454\n",
       "2152    162597\n",
       "1905    193941\n",
       "Length: 2250, dtype: int64"
      ]
     },
     "execution_count": 43,
     "metadata": {},
     "output_type": "execute_result"
    }
   ],
   "source": [
    "# view of the top 50% most rated movies\n",
    "movie_size.sort_values()[2249:]  # 4499 * .5 = 2249"
   ]
  },
  {
   "cell_type": "markdown",
   "metadata": {},
   "source": [
    "Unpopular movies will be removed to reduce dimensionality, take up less RAM, and improve computation (since they hold the same weight as popular movies in the matrix)."
   ]
  },
  {
   "cell_type": "code",
   "execution_count": 46,
   "metadata": {},
   "outputs": [
    {
     "data": {
      "text/plain": [
       "Int64Index([   3,    5,    6,    8,   16,   17,   18,   23,   24,   25,\n",
       "            ...\n",
       "            4484, 4485, 4488, 4489, 4490, 4492, 4493, 4495, 4496, 4497],\n",
       "           dtype='int64', name='movieId', length=2246)"
      ]
     },
     "execution_count": 46,
     "metadata": {},
     "output_type": "execute_result"
    }
   ],
   "source": [
    "# Getting the top 50% most rated movies\n",
    "row_num = len(movie_size) * .50\n",
    "min_size = movie_size.sort_values()[round(row_num):].values.item(0)\n",
    "most_rated_movies = movie_size[movie_size > min_size].index\n",
    "most_rated_movies"
   ]
  },
  {
   "cell_type": "code",
   "execution_count": 47,
   "metadata": {},
   "outputs": [
    {
     "data": {
      "text/plain": [
       "True"
      ]
     },
     "execution_count": 47,
     "metadata": {},
     "output_type": "execute_result"
    }
   ],
   "source": [
    "# sanity check\n",
    "1905 in most_rated_movies"
   ]
  },
  {
   "cell_type": "code",
   "execution_count": 49,
   "metadata": {},
   "outputs": [
    {
     "data": {
      "text/plain": [
       "(23536575, 3)"
      ]
     },
     "execution_count": 49,
     "metadata": {},
     "output_type": "execute_result"
    }
   ],
   "source": [
    "# Removing half of the amount of movies (those that were rated the least)\n",
    "low_rates_removed = ratings.copy()\n",
    "low_rates_removed = low_rates_removed[low_rates_removed['movieId'].isin(most_rated_movies)]\n",
    "low_rates_removed.shape"
   ]
  },
  {
   "cell_type": "code",
   "execution_count": 50,
   "metadata": {},
   "outputs": [
    {
     "data": {
      "text/plain": [
       "(24053764, 3)"
      ]
     },
     "execution_count": 50,
     "metadata": {},
     "output_type": "execute_result"
    }
   ],
   "source": [
    "ratings.shape"
   ]
  },
  {
   "cell_type": "code",
   "execution_count": 51,
   "metadata": {},
   "outputs": [
    {
     "name": "stdout",
     "output_type": "stream",
     "text": [
      "517189 ratings were removed.\n"
     ]
    }
   ],
   "source": [
    "print(ratings.shape[0] - low_rates_removed.shape[0], \"ratings were removed.\")"
   ]
  },
  {
   "cell_type": "markdown",
   "metadata": {},
   "source": [
    "* There are still 23.5 million rows. More unpopular movies can be removed."
   ]
  },
  {
   "cell_type": "code",
   "execution_count": 52,
   "metadata": {},
   "outputs": [
    {
     "data": {
      "text/plain": [
       "(22626287, 3)"
      ]
     },
     "execution_count": 52,
     "metadata": {},
     "output_type": "execute_result"
    }
   ],
   "source": [
    "# Getting the top 30% most rated movies instead\n",
    "row_num = len(movie_size) * .70\n",
    "min_size = movie_size.sort_values()[round(row_num):].values.item(0)\n",
    "most_rated_movies = movie_size[movie_size > min_size].index\n",
    "\n",
    "# Removing 70% of the amount of movies, not 70% of ratings (those that were rated the least)\n",
    "low_rates_removed = ratings.copy()\n",
    "low_rates_removed = low_rates_removed[low_rates_removed['movieId'].isin(most_rated_movies)]\n",
    "low_rates_removed.shape"
   ]
  },
  {
   "cell_type": "markdown",
   "metadata": {},
   "source": [
    "* Now there are 22.6 million rows. Around 1.5 million ratings have been removed."
   ]
  },
  {
   "cell_type": "markdown",
   "metadata": {},
   "source": [
    "In addition, inactive users will be removed for the same reasons as there are still about 22.6 million rows. Inactive users will be defined by the amount of times they have rated movies."
   ]
  },
  {
   "cell_type": "code",
   "execution_count": 53,
   "metadata": {},
   "outputs": [
    {
     "data": {
      "text/plain": [
       "userId\n",
       "1180883       1\n",
       "1587905       1\n",
       "1977198       1\n",
       "1083969       1\n",
       "1206129       1\n",
       "           ... \n",
       "2118461    3769\n",
       "1664010    4019\n",
       "2439493    4195\n",
       "387418     4422\n",
       "305344     4467\n",
       "Length: 470758, dtype: int64"
      ]
     },
     "execution_count": 53,
     "metadata": {},
     "output_type": "execute_result"
    }
   ],
   "source": [
    "# users ordered by number of ratings\n",
    "user_size = ratings.groupby('userId').size()\n",
    "user_size.sort_values()"
   ]
  },
  {
   "cell_type": "code",
   "execution_count": 54,
   "metadata": {},
   "outputs": [
    {
     "data": {
      "text/plain": [
       "(18335431, 3)"
      ]
     },
     "execution_count": 54,
     "metadata": {},
     "output_type": "execute_result"
    }
   ],
   "source": [
    "# Getting the top 30% most active users\n",
    "row_num = len(user_size) * .70\n",
    "min_size = user_size.sort_values()[round(row_num):].values.item(0)\n",
    "most_active_users = user_size[user_size > min_size].index\n",
    "\n",
    "# Removing 70% of users due to inactivity\n",
    "inactive_users_removed = ratings.copy()\n",
    "inactive_users_removed = inactive_users_removed[inactive_users_removed['userId'].isin(most_active_users)]\n",
    "inactive_users_removed.shape"
   ]
  },
  {
   "cell_type": "markdown",
   "metadata": {},
   "source": [
    "* When removing the least active 70% of users, 4.3 million ratings have been removed, leaving the dataframe at 18.3 million ratings."
   ]
  },
  {
   "cell_type": "code",
   "execution_count": 55,
   "metadata": {},
   "outputs": [],
   "source": [
    "# Renaming for clarity\n",
    "cleaned_ratings = inactive_users_removed.copy()"
   ]
  },
  {
   "cell_type": "code",
   "execution_count": 56,
   "metadata": {},
   "outputs": [
    {
     "data": {
      "text/plain": [
       "<surprise.prediction_algorithms.matrix_factorization.SVD at 0x10e3b3dd8>"
      ]
     },
     "execution_count": 56,
     "metadata": {},
     "output_type": "execute_result"
    }
   ],
   "source": [
    "# Model\n",
    "data = Dataset.load_from_df(cleaned_ratings[['userId', 'movieId', 'rating']], reader)\n",
    "train = data.build_full_trainset()\n",
    "svd.fit(train)"
   ]
  },
  {
   "cell_type": "code",
   "execution_count": 57,
   "metadata": {},
   "outputs": [
    {
     "data": {
      "text/plain": [
       "userId\n",
       "305344     4467\n",
       "387418     4422\n",
       "2439493    4195\n",
       "1664010    4019\n",
       "2118461    3769\n",
       "dtype: int64"
      ]
     },
     "execution_count": 57,
     "metadata": {},
     "output_type": "execute_result"
    }
   ],
   "source": [
    "# Counts of ratings per user\n",
    "user_rating_counts = cleaned_ratings.groupby('userId').size()\n",
    "user_rating_counts.sort_values(ascending=False).head()"
   ]
  },
  {
   "cell_type": "markdown",
   "metadata": {},
   "source": [
    "* User 305344 has rated the most movies. That user will be used first."
   ]
  },
  {
   "cell_type": "code",
   "execution_count": 61,
   "metadata": {},
   "outputs": [
    {
     "name": "stderr",
     "output_type": "stream",
     "text": [
      "/anaconda3/lib/python3.6/site-packages/ipykernel_launcher.py:2: UserWarning: Boolean Series key will be reindexed to match DataFrame index.\n",
      "  \n"
     ]
    },
    {
     "data": {
      "text/html": [
       "<div>\n",
       "<style scoped>\n",
       "    .dataframe tbody tr th:only-of-type {\n",
       "        vertical-align: middle;\n",
       "    }\n",
       "\n",
       "    .dataframe tbody tr th {\n",
       "        vertical-align: top;\n",
       "    }\n",
       "\n",
       "    .dataframe thead th {\n",
       "        text-align: right;\n",
       "    }\n",
       "</style>\n",
       "<table border=\"1\" class=\"dataframe\">\n",
       "  <thead>\n",
       "    <tr style=\"text-align: right;\">\n",
       "      <th></th>\n",
       "      <th>userId</th>\n",
       "      <th>movieId</th>\n",
       "      <th>rating</th>\n",
       "      <th>year</th>\n",
       "      <th>title</th>\n",
       "    </tr>\n",
       "  </thead>\n",
       "  <tbody>\n",
       "    <tr>\n",
       "      <th>0</th>\n",
       "      <td>305344</td>\n",
       "      <td>15</td>\n",
       "      <td>5.0</td>\n",
       "      <td>1988.0</td>\n",
       "      <td>Neil Diamond: Greatest Hits Live</td>\n",
       "    </tr>\n",
       "    <tr>\n",
       "      <th>1</th>\n",
       "      <td>305344</td>\n",
       "      <td>83</td>\n",
       "      <td>5.0</td>\n",
       "      <td>1983.0</td>\n",
       "      <td>Silkwood</td>\n",
       "    </tr>\n",
       "    <tr>\n",
       "      <th>2</th>\n",
       "      <td>305344</td>\n",
       "      <td>199</td>\n",
       "      <td>5.0</td>\n",
       "      <td>1978.0</td>\n",
       "      <td>The Deer Hunter</td>\n",
       "    </tr>\n",
       "    <tr>\n",
       "      <th>3</th>\n",
       "      <td>305344</td>\n",
       "      <td>203</td>\n",
       "      <td>5.0</td>\n",
       "      <td>1997.0</td>\n",
       "      <td>Sports Illustrated Swimsuit Edition: 1997</td>\n",
       "    </tr>\n",
       "    <tr>\n",
       "      <th>4</th>\n",
       "      <td>305344</td>\n",
       "      <td>208</td>\n",
       "      <td>5.0</td>\n",
       "      <td>1947.0</td>\n",
       "      <td>The Three Stooges: Sing a Song of Six Pants</td>\n",
       "    </tr>\n",
       "    <tr>\n",
       "      <th>...</th>\n",
       "      <td>...</td>\n",
       "      <td>...</td>\n",
       "      <td>...</td>\n",
       "      <td>...</td>\n",
       "      <td>...</td>\n",
       "    </tr>\n",
       "    <tr>\n",
       "      <th>161</th>\n",
       "      <td>305344</td>\n",
       "      <td>4386</td>\n",
       "      <td>5.0</td>\n",
       "      <td>1985.0</td>\n",
       "      <td>The Return of the Living Dead</td>\n",
       "    </tr>\n",
       "    <tr>\n",
       "      <th>162</th>\n",
       "      <td>305344</td>\n",
       "      <td>4388</td>\n",
       "      <td>5.0</td>\n",
       "      <td>NaN</td>\n",
       "      <td>Ancient Civilizations: Rome and Pompeii</td>\n",
       "    </tr>\n",
       "    <tr>\n",
       "      <th>163</th>\n",
       "      <td>305344</td>\n",
       "      <td>4424</td>\n",
       "      <td>5.0</td>\n",
       "      <td>1992.0</td>\n",
       "      <td>Elton John: Live in Barcelona</td>\n",
       "    </tr>\n",
       "    <tr>\n",
       "      <th>164</th>\n",
       "      <td>305344</td>\n",
       "      <td>4432</td>\n",
       "      <td>5.0</td>\n",
       "      <td>2003.0</td>\n",
       "      <td>The Italian Job</td>\n",
       "    </tr>\n",
       "    <tr>\n",
       "      <th>165</th>\n",
       "      <td>305344</td>\n",
       "      <td>4467</td>\n",
       "      <td>5.0</td>\n",
       "      <td>2000.0</td>\n",
       "      <td>The Best of Tina Turner: Celebrate!</td>\n",
       "    </tr>\n",
       "  </tbody>\n",
       "</table>\n",
       "<p>166 rows × 5 columns</p>\n",
       "</div>"
      ],
      "text/plain": [
       "     userId  movieId  rating    year  \\\n",
       "0    305344       15     5.0  1988.0   \n",
       "1    305344       83     5.0  1983.0   \n",
       "2    305344      199     5.0  1978.0   \n",
       "3    305344      203     5.0  1997.0   \n",
       "4    305344      208     5.0  1947.0   \n",
       "..      ...      ...     ...     ...   \n",
       "161  305344     4386     5.0  1985.0   \n",
       "162  305344     4388     5.0     NaN   \n",
       "163  305344     4424     5.0  1992.0   \n",
       "164  305344     4432     5.0  2003.0   \n",
       "165  305344     4467     5.0  2000.0   \n",
       "\n",
       "                                           title  \n",
       "0               Neil Diamond: Greatest Hits Live  \n",
       "1                                       Silkwood  \n",
       "2                                The Deer Hunter  \n",
       "3      Sports Illustrated Swimsuit Edition: 1997  \n",
       "4    The Three Stooges: Sing a Song of Six Pants  \n",
       "..                                           ...  \n",
       "161                The Return of the Living Dead  \n",
       "162      Ancient Civilizations: Rome and Pompeii  \n",
       "163                Elton John: Live in Barcelona  \n",
       "164                              The Italian Job  \n",
       "165          The Best of Tina Turner: Celebrate!  \n",
       "\n",
       "[166 rows x 5 columns]"
      ]
     },
     "execution_count": 61,
     "metadata": {},
     "output_type": "execute_result"
    }
   ],
   "source": [
    "# A view of that user's most liked movies\n",
    "liked_movies_305344 = cleaned_ratings[(cleaned_ratings['userId']==305344) & (ratings['rating']==5)]\n",
    "liked_movies_305344.merge(movies, how='left', left_on='movieId', right_on='movieId')"
   ]
  },
  {
   "cell_type": "code",
   "execution_count": 81,
   "metadata": {},
   "outputs": [
    {
     "data": {
      "text/html": [
       "<div>\n",
       "<style scoped>\n",
       "    .dataframe tbody tr th:only-of-type {\n",
       "        vertical-align: middle;\n",
       "    }\n",
       "\n",
       "    .dataframe tbody tr th {\n",
       "        vertical-align: top;\n",
       "    }\n",
       "\n",
       "    .dataframe thead th {\n",
       "        text-align: right;\n",
       "    }\n",
       "</style>\n",
       "<table border=\"1\" class=\"dataframe\">\n",
       "  <thead>\n",
       "    <tr style=\"text-align: right;\">\n",
       "      <th></th>\n",
       "      <th>movieId</th>\n",
       "      <th>year</th>\n",
       "      <th>title</th>\n",
       "      <th>predicted rating</th>\n",
       "    </tr>\n",
       "  </thead>\n",
       "  <tbody>\n",
       "    <tr>\n",
       "      <th>2</th>\n",
       "      <td>3</td>\n",
       "      <td>1997.0</td>\n",
       "      <td>Character</td>\n",
       "      <td>1.550563</td>\n",
       "    </tr>\n",
       "    <tr>\n",
       "      <th>7</th>\n",
       "      <td>8</td>\n",
       "      <td>2004.0</td>\n",
       "      <td>What the #$*! Do We Know!?</td>\n",
       "      <td>1.000000</td>\n",
       "    </tr>\n",
       "    <tr>\n",
       "      <th>15</th>\n",
       "      <td>16</td>\n",
       "      <td>1996.0</td>\n",
       "      <td>Screamers</td>\n",
       "      <td>1.771831</td>\n",
       "    </tr>\n",
       "    <tr>\n",
       "      <th>16</th>\n",
       "      <td>17</td>\n",
       "      <td>2005.0</td>\n",
       "      <td>7 Seconds</td>\n",
       "      <td>1.521485</td>\n",
       "    </tr>\n",
       "    <tr>\n",
       "      <th>17</th>\n",
       "      <td>18</td>\n",
       "      <td>1994.0</td>\n",
       "      <td>Immortal Beloved</td>\n",
       "      <td>2.025707</td>\n",
       "    </tr>\n",
       "  </tbody>\n",
       "</table>\n",
       "</div>"
      ],
      "text/plain": [
       "    movieId    year                       title  predicted rating\n",
       "2         3  1997.0                   Character          1.550563\n",
       "7         8  2004.0  What the #$*! Do We Know!?          1.000000\n",
       "15       16  1996.0                   Screamers          1.771831\n",
       "16       17  2005.0                   7 Seconds          1.521485\n",
       "17       18  1994.0            Immortal Beloved          2.025707"
      ]
     },
     "execution_count": 81,
     "metadata": {},
     "output_type": "execute_result"
    }
   ],
   "source": [
    "# removing unpopular movies\n",
    "user_305344 = movies.copy()\n",
    "user_305344 = user_305344[user_305344['movieId'].isin(most_rated_movies)]\n",
    "\n",
    "# predicting ratings for this user\n",
    "user_305344['predicted rating'] = user_305344['movieId'].apply(lambda x: svd.predict(305344, x).est)\n",
    "user_305344.head()"
   ]
  },
  {
   "cell_type": "code",
   "execution_count": 82,
   "metadata": {},
   "outputs": [
    {
     "data": {
      "text/html": [
       "<div>\n",
       "<style scoped>\n",
       "    .dataframe tbody tr th:only-of-type {\n",
       "        vertical-align: middle;\n",
       "    }\n",
       "\n",
       "    .dataframe tbody tr th {\n",
       "        vertical-align: top;\n",
       "    }\n",
       "\n",
       "    .dataframe thead th {\n",
       "        text-align: right;\n",
       "    }\n",
       "</style>\n",
       "<table border=\"1\" class=\"dataframe\">\n",
       "  <thead>\n",
       "    <tr style=\"text-align: right;\">\n",
       "      <th></th>\n",
       "      <th>movieId</th>\n",
       "      <th>year</th>\n",
       "      <th>title</th>\n",
       "      <th>predicted rating</th>\n",
       "    </tr>\n",
       "  </thead>\n",
       "  <tbody>\n",
       "    <tr>\n",
       "      <th>2477</th>\n",
       "      <td>2478</td>\n",
       "      <td>1968.0</td>\n",
       "      <td>The Thomas Crown Affair</td>\n",
       "      <td>4.317518</td>\n",
       "    </tr>\n",
       "    <tr>\n",
       "      <th>3105</th>\n",
       "      <td>3106</td>\n",
       "      <td>1990.0</td>\n",
       "      <td>Ghost</td>\n",
       "      <td>4.158558</td>\n",
       "    </tr>\n",
       "    <tr>\n",
       "      <th>3604</th>\n",
       "      <td>3605</td>\n",
       "      <td>1939.0</td>\n",
       "      <td>The Wizard of Oz: Collector's Edition</td>\n",
       "      <td>3.911537</td>\n",
       "    </tr>\n",
       "    <tr>\n",
       "      <th>3002</th>\n",
       "      <td>3003</td>\n",
       "      <td>1951.0</td>\n",
       "      <td>The Three Stooges: Merry Mavericks</td>\n",
       "      <td>3.878010</td>\n",
       "    </tr>\n",
       "    <tr>\n",
       "      <th>207</th>\n",
       "      <td>208</td>\n",
       "      <td>1947.0</td>\n",
       "      <td>The Three Stooges: Sing a Song of Six Pants</td>\n",
       "      <td>3.867048</td>\n",
       "    </tr>\n",
       "  </tbody>\n",
       "</table>\n",
       "</div>"
      ],
      "text/plain": [
       "      movieId    year                                        title  \\\n",
       "2477     2478  1968.0                      The Thomas Crown Affair   \n",
       "3105     3106  1990.0                                        Ghost   \n",
       "3604     3605  1939.0        The Wizard of Oz: Collector's Edition   \n",
       "3002     3003  1951.0           The Three Stooges: Merry Mavericks   \n",
       "207       208  1947.0  The Three Stooges: Sing a Song of Six Pants   \n",
       "\n",
       "      predicted rating  \n",
       "2477          4.317518  \n",
       "3105          4.158558  \n",
       "3604          3.911537  \n",
       "3002          3.878010  \n",
       "207           3.867048  "
      ]
     },
     "execution_count": 82,
     "metadata": {},
     "output_type": "execute_result"
    }
   ],
   "source": [
    "# highest predicted ratings\n",
    "user_305344.sort_values('predicted rating', ascending=False).head()"
   ]
  },
  {
   "cell_type": "code",
   "execution_count": 130,
   "metadata": {},
   "outputs": [],
   "source": [
    "def suggested_movies(userId, num_movies=1):\n",
    "    \"\"\"Returns the recommended movie(s) and their years (to account for identical movie names).\"\"\"\n",
    "    user = movies.copy()\n",
    "    user = user[user['movieId'].isin(most_rated_movies)]\n",
    "    user['predicted rating'] = user['movieId'].apply(lambda x: svd.predict(userId, x).est)\n",
    "    sorted_ratings = user.sort_values('predicted rating', ascending=False)\n",
    "    movie_titles = sorted_ratings['title'][:num_movies].values\n",
    "    years = sorted_ratings['year'][:num_movies].values\n",
    "    result = []\n",
    "    for i in range(len(years)):\n",
    "        result.append([movie_titles[i], int(years[i])])\n",
    "    return result"
   ]
  },
  {
   "cell_type": "code",
   "execution_count": 138,
   "metadata": {},
   "outputs": [
    {
     "data": {
      "text/plain": [
       "[['Braveheart', 1995],\n",
       " ['Lethal Weapon', 1987],\n",
       " ['The Matrix: Reloaded', 2003],\n",
       " ['Terminator 2: Extreme Edition: Bonus Material', 1991],\n",
       " [\"Alien: Collector's Edition\", 1979]]"
      ]
     },
     "execution_count": 138,
     "metadata": {},
     "output_type": "execute_result"
    }
   ],
   "source": [
    "suggested_movies(1488844, 5)"
   ]
  },
  {
   "cell_type": "code",
   "execution_count": 145,
   "metadata": {},
   "outputs": [
    {
     "name": "stderr",
     "output_type": "stream",
     "text": [
      "/anaconda3/lib/python3.6/site-packages/ipykernel_launcher.py:2: UserWarning: Boolean Series key will be reindexed to match DataFrame index.\n",
      "  \n"
     ]
    },
    {
     "data": {
      "text/html": [
       "<div>\n",
       "<style scoped>\n",
       "    .dataframe tbody tr th:only-of-type {\n",
       "        vertical-align: middle;\n",
       "    }\n",
       "\n",
       "    .dataframe tbody tr th {\n",
       "        vertical-align: top;\n",
       "    }\n",
       "\n",
       "    .dataframe thead th {\n",
       "        text-align: right;\n",
       "    }\n",
       "</style>\n",
       "<table border=\"1\" class=\"dataframe\">\n",
       "  <thead>\n",
       "    <tr style=\"text-align: right;\">\n",
       "      <th></th>\n",
       "      <th>userId</th>\n",
       "      <th>movieId</th>\n",
       "      <th>rating</th>\n",
       "      <th>year</th>\n",
       "      <th>title</th>\n",
       "    </tr>\n",
       "  </thead>\n",
       "  <tbody>\n",
       "    <tr>\n",
       "      <th>0</th>\n",
       "      <td>1488844</td>\n",
       "      <td>58</td>\n",
       "      <td>5.0</td>\n",
       "      <td>1996.0</td>\n",
       "      <td>Dragonheart</td>\n",
       "    </tr>\n",
       "    <tr>\n",
       "      <th>1</th>\n",
       "      <td>1488844</td>\n",
       "      <td>143</td>\n",
       "      <td>5.0</td>\n",
       "      <td>1997.0</td>\n",
       "      <td>The Game</td>\n",
       "    </tr>\n",
       "    <tr>\n",
       "      <th>2</th>\n",
       "      <td>1488844</td>\n",
       "      <td>191</td>\n",
       "      <td>5.0</td>\n",
       "      <td>2003.0</td>\n",
       "      <td>X2: X-Men United</td>\n",
       "    </tr>\n",
       "    <tr>\n",
       "      <th>3</th>\n",
       "      <td>1488844</td>\n",
       "      <td>468</td>\n",
       "      <td>5.0</td>\n",
       "      <td>2003.0</td>\n",
       "      <td>The Matrix: Revolutions</td>\n",
       "    </tr>\n",
       "    <tr>\n",
       "      <th>4</th>\n",
       "      <td>1488844</td>\n",
       "      <td>571</td>\n",
       "      <td>5.0</td>\n",
       "      <td>1999.0</td>\n",
       "      <td>American Beauty</td>\n",
       "    </tr>\n",
       "  </tbody>\n",
       "</table>\n",
       "</div>"
      ],
      "text/plain": [
       "    userId  movieId  rating    year                    title\n",
       "0  1488844       58     5.0  1996.0              Dragonheart\n",
       "1  1488844      143     5.0  1997.0                 The Game\n",
       "2  1488844      191     5.0  2003.0         X2: X-Men United\n",
       "3  1488844      468     5.0  2003.0  The Matrix: Revolutions\n",
       "4  1488844      571     5.0  1999.0          American Beauty"
      ]
     },
     "execution_count": 145,
     "metadata": {},
     "output_type": "execute_result"
    }
   ],
   "source": [
    "# Looking at this user's history\n",
    "cleaned_ratings[cleaned_ratings['userId']==1488844][cleaned_ratings['rating']>4].merge(movies, left_on='movieId', right_on='movieId').head()"
   ]
  }
 ],
 "metadata": {
  "kernelspec": {
   "display_name": "Python 3",
   "language": "python",
   "name": "python3"
  },
  "language_info": {
   "codemirror_mode": {
    "name": "ipython",
    "version": 3
   },
   "file_extension": ".py",
   "mimetype": "text/x-python",
   "name": "python",
   "nbconvert_exporter": "python",
   "pygments_lexer": "ipython3",
   "version": "3.6.10"
  }
 },
 "nbformat": 4,
 "nbformat_minor": 4
}
